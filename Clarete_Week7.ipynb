{
  "cells": [
    {
      "cell_type": "markdown",
      "metadata": {
        "id": "view-in-github",
        "colab_type": "text"
      },
      "source": [
        "<a href=\"https://colab.research.google.com/github/lclarete/DHUM72500-FINAL-PORTFOLIO/blob/main/Clarete_Week7.ipynb\" target=\"_parent\"><img src=\"https://colab.research.google.com/assets/colab-badge.svg\" alt=\"Open In Colab\"/></a>"
      ]
    },
    {
      "cell_type": "markdown",
      "metadata": {
        "id": "vAkti4G4I1dy"
      },
      "source": [
        "# Week 7: Jupyter Notebook Assignment - Working with Data\n",
        "* Student Name: Livia Clarete\n",
        "* Date: March 29 2023\n",
        "* Assignment Due: March 2023\n",
        "* Instructor: Lisa Rhody\n",
        "* Methods of Text Analysis, Spring 2023"
      ]
    },
    {
      "cell_type": "markdown",
      "metadata": {
        "id": "kbVLjq4pI1d0"
      },
      "source": [
        "Fill out the cell below with your information. "
      ]
    },
    {
      "cell_type": "markdown",
      "metadata": {
        "id": "kdnDlnxFI1d0"
      },
      "source": []
    },
    {
      "cell_type": "markdown",
      "metadata": {
        "id": "ncgW8rT_I1d0"
      },
      "source": [
        "## Objectives\n",
        "The purpose of this notebook is to get some hands-on experience putting what you've seen in tutorials about importing and working with text in Python into practice. You'll also be asked to put the reading you've been doing all semester into conversation with the process of importing, cleaning, and preparing data. \n",
        "\n",
        "The object of the notebooks this week is: \n",
        "* To practice several ways of importing text into your Python environment to study; \n",
        "* To become more familiar with various pipelines for cleaning and preparing data for text analysis; \n",
        "* To consider the challenges that the availability and scarcity of data presents to the literary scholar (and to consider how other kinds of research might also need to address similar issues); \n",
        "* To connect examples of real-world text analysis projects with the practical process of cleaning and preparing data. "
      ]
    },
    {
      "cell_type": "markdown",
      "source": [
        "# Getting Started\n",
        "We're going to start by importing some important libraries for working with text data. "
      ],
      "metadata": {
        "id": "egrAMMlOMIBS"
      }
    },
    {
      "cell_type": "code",
      "source": [
        "import nltk\n",
        "import numpy as np\n",
        "import pandas as pd\n",
        "import urllib\n",
        "import pprint"
      ],
      "metadata": {
        "id": "yC6MGOIjJo9s"
      },
      "execution_count": null,
      "outputs": []
    },
    {
      "cell_type": "markdown",
      "metadata": {
        "id": "FtTLIs5OI1d0"
      },
      "source": [
        "# Importing Data\n",
        "So far, we have worked with data during the Datacamp exercises, but that was a much more controlled environment. When you are actually doing your own text analysis project, you will have a much messier process. During this week's reading, you will have read several pieces about what cleaning takes place and some of the challenges that data presents when working with text. In particular, we're looking at text analysis from a humanities / litereary perspective; however, one might argue that these challenges are more similar to the text analysis one might perform in the social sciences or with non-fiction work than might appear to be the case on the surface. \n",
        "\n",
        "In this lesson, we'll practice importing data: \n",
        "* from a file already on your computer (using a directory path); \n",
        "* from a file on the web using a URL request \n",
        "* from a file on the web using Beautiful Soup. \n"
      ]
    },
    {
      "cell_type": "markdown",
      "metadata": {
        "id": "l8X-8rGZI1d1"
      },
      "source": [
        "### Loading data from a flat file on your local computer\n",
        "Before you get started, be sure to download this file onto your local computer and save it as herland.txt. \n",
        "\n",
        "Next, we're going to import `herland.txt` using an upload function that is part of the google.colab Python package. This function will open a button under the cell that you can use to \"Choose Files\" from your local computer. Choose the `herland.txt` file and then upload it. The for loop below will print out what the name of the file is that you are saving to the Google Colab content folder. "
      ]
    },
    {
      "cell_type": "code",
      "source": [
        "from google.colab import files\n",
        "\n",
        "uploaded = files.upload()\n",
        "\n",
        "for fn in uploaded.keys():\n",
        "  print(\"User uploaded file '{name} with length {length} bytes\".format(\n",
        "      name=fn, length=len(uploaded[fn])))"
      ],
      "metadata": {
        "id": "437GlwvvJsnT",
        "colab": {
          "base_uri": "https://localhost:8080/",
          "height": 90
        },
        "outputId": "6776590a-7244-4466-ce74-4f739d654b5f"
      },
      "execution_count": null,
      "outputs": [
        {
          "output_type": "display_data",
          "data": {
            "text/plain": [
              "<IPython.core.display.HTML object>"
            ],
            "text/html": [
              "\n",
              "     <input type=\"file\" id=\"files-def8758f-3859-4170-8638-f60a6d9ea487\" name=\"files[]\" multiple disabled\n",
              "        style=\"border:none\" />\n",
              "     <output id=\"result-def8758f-3859-4170-8638-f60a6d9ea487\">\n",
              "      Upload widget is only available when the cell has been executed in the\n",
              "      current browser session. Please rerun this cell to enable.\n",
              "      </output>\n",
              "      <script>// Copyright 2017 Google LLC\n",
              "//\n",
              "// Licensed under the Apache License, Version 2.0 (the \"License\");\n",
              "// you may not use this file except in compliance with the License.\n",
              "// You may obtain a copy of the License at\n",
              "//\n",
              "//      http://www.apache.org/licenses/LICENSE-2.0\n",
              "//\n",
              "// Unless required by applicable law or agreed to in writing, software\n",
              "// distributed under the License is distributed on an \"AS IS\" BASIS,\n",
              "// WITHOUT WARRANTIES OR CONDITIONS OF ANY KIND, either express or implied.\n",
              "// See the License for the specific language governing permissions and\n",
              "// limitations under the License.\n",
              "\n",
              "/**\n",
              " * @fileoverview Helpers for google.colab Python module.\n",
              " */\n",
              "(function(scope) {\n",
              "function span(text, styleAttributes = {}) {\n",
              "  const element = document.createElement('span');\n",
              "  element.textContent = text;\n",
              "  for (const key of Object.keys(styleAttributes)) {\n",
              "    element.style[key] = styleAttributes[key];\n",
              "  }\n",
              "  return element;\n",
              "}\n",
              "\n",
              "// Max number of bytes which will be uploaded at a time.\n",
              "const MAX_PAYLOAD_SIZE = 100 * 1024;\n",
              "\n",
              "function _uploadFiles(inputId, outputId) {\n",
              "  const steps = uploadFilesStep(inputId, outputId);\n",
              "  const outputElement = document.getElementById(outputId);\n",
              "  // Cache steps on the outputElement to make it available for the next call\n",
              "  // to uploadFilesContinue from Python.\n",
              "  outputElement.steps = steps;\n",
              "\n",
              "  return _uploadFilesContinue(outputId);\n",
              "}\n",
              "\n",
              "// This is roughly an async generator (not supported in the browser yet),\n",
              "// where there are multiple asynchronous steps and the Python side is going\n",
              "// to poll for completion of each step.\n",
              "// This uses a Promise to block the python side on completion of each step,\n",
              "// then passes the result of the previous step as the input to the next step.\n",
              "function _uploadFilesContinue(outputId) {\n",
              "  const outputElement = document.getElementById(outputId);\n",
              "  const steps = outputElement.steps;\n",
              "\n",
              "  const next = steps.next(outputElement.lastPromiseValue);\n",
              "  return Promise.resolve(next.value.promise).then((value) => {\n",
              "    // Cache the last promise value to make it available to the next\n",
              "    // step of the generator.\n",
              "    outputElement.lastPromiseValue = value;\n",
              "    return next.value.response;\n",
              "  });\n",
              "}\n",
              "\n",
              "/**\n",
              " * Generator function which is called between each async step of the upload\n",
              " * process.\n",
              " * @param {string} inputId Element ID of the input file picker element.\n",
              " * @param {string} outputId Element ID of the output display.\n",
              " * @return {!Iterable<!Object>} Iterable of next steps.\n",
              " */\n",
              "function* uploadFilesStep(inputId, outputId) {\n",
              "  const inputElement = document.getElementById(inputId);\n",
              "  inputElement.disabled = false;\n",
              "\n",
              "  const outputElement = document.getElementById(outputId);\n",
              "  outputElement.innerHTML = '';\n",
              "\n",
              "  const pickedPromise = new Promise((resolve) => {\n",
              "    inputElement.addEventListener('change', (e) => {\n",
              "      resolve(e.target.files);\n",
              "    });\n",
              "  });\n",
              "\n",
              "  const cancel = document.createElement('button');\n",
              "  inputElement.parentElement.appendChild(cancel);\n",
              "  cancel.textContent = 'Cancel upload';\n",
              "  const cancelPromise = new Promise((resolve) => {\n",
              "    cancel.onclick = () => {\n",
              "      resolve(null);\n",
              "    };\n",
              "  });\n",
              "\n",
              "  // Wait for the user to pick the files.\n",
              "  const files = yield {\n",
              "    promise: Promise.race([pickedPromise, cancelPromise]),\n",
              "    response: {\n",
              "      action: 'starting',\n",
              "    }\n",
              "  };\n",
              "\n",
              "  cancel.remove();\n",
              "\n",
              "  // Disable the input element since further picks are not allowed.\n",
              "  inputElement.disabled = true;\n",
              "\n",
              "  if (!files) {\n",
              "    return {\n",
              "      response: {\n",
              "        action: 'complete',\n",
              "      }\n",
              "    };\n",
              "  }\n",
              "\n",
              "  for (const file of files) {\n",
              "    const li = document.createElement('li');\n",
              "    li.append(span(file.name, {fontWeight: 'bold'}));\n",
              "    li.append(span(\n",
              "        `(${file.type || 'n/a'}) - ${file.size} bytes, ` +\n",
              "        `last modified: ${\n",
              "            file.lastModifiedDate ? file.lastModifiedDate.toLocaleDateString() :\n",
              "                                    'n/a'} - `));\n",
              "    const percent = span('0% done');\n",
              "    li.appendChild(percent);\n",
              "\n",
              "    outputElement.appendChild(li);\n",
              "\n",
              "    const fileDataPromise = new Promise((resolve) => {\n",
              "      const reader = new FileReader();\n",
              "      reader.onload = (e) => {\n",
              "        resolve(e.target.result);\n",
              "      };\n",
              "      reader.readAsArrayBuffer(file);\n",
              "    });\n",
              "    // Wait for the data to be ready.\n",
              "    let fileData = yield {\n",
              "      promise: fileDataPromise,\n",
              "      response: {\n",
              "        action: 'continue',\n",
              "      }\n",
              "    };\n",
              "\n",
              "    // Use a chunked sending to avoid message size limits. See b/62115660.\n",
              "    let position = 0;\n",
              "    do {\n",
              "      const length = Math.min(fileData.byteLength - position, MAX_PAYLOAD_SIZE);\n",
              "      const chunk = new Uint8Array(fileData, position, length);\n",
              "      position += length;\n",
              "\n",
              "      const base64 = btoa(String.fromCharCode.apply(null, chunk));\n",
              "      yield {\n",
              "        response: {\n",
              "          action: 'append',\n",
              "          file: file.name,\n",
              "          data: base64,\n",
              "        },\n",
              "      };\n",
              "\n",
              "      let percentDone = fileData.byteLength === 0 ?\n",
              "          100 :\n",
              "          Math.round((position / fileData.byteLength) * 100);\n",
              "      percent.textContent = `${percentDone}% done`;\n",
              "\n",
              "    } while (position < fileData.byteLength);\n",
              "  }\n",
              "\n",
              "  // All done.\n",
              "  yield {\n",
              "    response: {\n",
              "      action: 'complete',\n",
              "    }\n",
              "  };\n",
              "}\n",
              "\n",
              "scope.google = scope.google || {};\n",
              "scope.google.colab = scope.google.colab || {};\n",
              "scope.google.colab._files = {\n",
              "  _uploadFiles,\n",
              "  _uploadFilesContinue,\n",
              "};\n",
              "})(self);\n",
              "</script> "
            ]
          },
          "metadata": {}
        },
        {
          "output_type": "stream",
          "name": "stdout",
          "text": [
            "Saving herland.txt to herland.txt\n",
            "User uploaded file 'herland.txt with length 88 bytes\n"
          ]
        }
      ]
    },
    {
      "cell_type": "markdown",
      "source": [
        "To find the file you just uploaded, look to the left side of this browser window. Click on the icon of a file folder. A directory structure should open. Click on the arrow next to `content` and you should see your uploaded file appear inside. "
      ],
      "metadata": {
        "id": "OlKkEPMIOO6j"
      }
    },
    {
      "cell_type": "markdown",
      "source": [
        "Then we're going to use a Python function `open()`. We'll use a `for` loop, which simply means that we'll do an action that repeats until we tell it to stop. The following code says that we want to `open` the file `herland.txt` so we can read it (argument `mode='r'`). Then we're going to close the file. When we do this, we're going to assign a variable name to the resulting data, which is now a string called `file`.\n"
      ],
      "metadata": {
        "id": "CoGcEOF_NTO1"
      }
    },
    {
      "cell_type": "code",
      "execution_count": null,
      "metadata": {
        "id": "8C498LV7I1d1"
      },
      "outputs": [],
      "source": [
        "filename = 'herland.txt'\n",
        "herland = open(filename, mode='r')\n",
        "hertext = herland.read()\n",
        "herland.close()"
      ]
    },
    {
      "cell_type": "markdown",
      "source": [
        "Another way to read the text from a file into Python is to use a \"context manager.\" The following tells python that with the `herland.txt` file open, read in the text and create a variable called `file` to store the data. Then, the next line tells Python to print the new variable `file`. When you run the next cell, it is going to print out the entire text of *Herland*. That's a lot of text, so once you've done it, you can clear the cell's output and move on to the next cell. "
      ],
      "metadata": {
        "id": "2j__79ZoL6TK"
      }
    },
    {
      "cell_type": "code",
      "execution_count": null,
      "metadata": {
        "id": "gIaGplApI1d2",
        "colab": {
          "base_uri": "https://localhost:8080/"
        },
        "outputId": "e08f7f3c-bbf4-4ab6-c8de-bb1aa28c2418"
      },
      "outputs": [
        {
          "output_type": "stream",
          "name": "stdout",
          "text": [
            "langchain\n",
            "openai\n",
            "flask\n",
            "flask_cors\n",
            "transformers\n",
            "flask_session\n",
            "flask_socketio\n",
            "PyPDF2<3.0\n",
            "\n",
            "\n"
          ]
        }
      ],
      "source": [
        "# Here is how you print a string from a file without having to close the file using a context manager\n",
        "\n",
        "with open('herland.txt','r') as file:\n",
        "    print(file.read())"
      ]
    },
    {
      "cell_type": "code",
      "execution_count": null,
      "metadata": {
        "id": "jWCXVgjYI1d2",
        "colab": {
          "base_uri": "https://localhost:8080/"
        },
        "outputId": "28fb0142-a4a2-4b6b-fbd8-65d0e1f131b9"
      },
      "outputs": [
        {
          "output_type": "stream",
          "name": "stdout",
          "text": [
            "langchain\n",
            "\n",
            "openai\n",
            "\n",
            "flask\n",
            "\n"
          ]
        }
      ],
      "source": [
        "# If you don't want to save the text of the file, but just want to peek into it to see what's there, you could use this method. \n",
        "\n",
        "with open('herland.txt') as file:\n",
        "    print(file.readline())\n",
        "    print(file.readline())\n",
        "    print(file.readline())"
      ]
    },
    {
      "cell_type": "markdown",
      "metadata": {
        "id": "8AE2MisyI1d3"
      },
      "source": [
        "### What happens when you import a flat file? \n",
        "\n",
        "The python function `type()` will return to you output that explains the data type you are working with. When you pass the new text object `herland` through the `type()` function below, what response do you get? The response will look different from other data types that you've used before. In this case, it is read in as a \"file object.\" Remember that Python won't know how to handle data unless it fits a particular data type that the computer expects when passing a function to it. In the next input, we ask Python for the length of the file. This will throw an error. Why do you think that is? "
      ]
    },
    {
      "cell_type": "code",
      "execution_count": null,
      "metadata": {
        "id": "dv-e2lDBI1d3",
        "colab": {
          "base_uri": "https://localhost:8080/"
        },
        "outputId": "5d342ce9-e2b5-4458-9063-790124f5cb43"
      },
      "outputs": [
        {
          "output_type": "execute_result",
          "data": {
            "text/plain": [
              "_io.TextIOWrapper"
            ]
          },
          "metadata": {},
          "execution_count": 8
        }
      ],
      "source": [
        "# herland is a file object, not a string. \n",
        "type(herland)"
      ]
    },
    {
      "cell_type": "code",
      "execution_count": null,
      "metadata": {
        "scrolled": true,
        "id": "XZ5wcOL1I1d3",
        "colab": {
          "base_uri": "https://localhost:8080/",
          "height": 183
        },
        "outputId": "dda7fa7f-1a2a-4482-c1f4-dfa6fbb16a65"
      },
      "outputs": [
        {
          "output_type": "error",
          "ename": "TypeError",
          "evalue": "ignored",
          "traceback": [
            "\u001b[0;31m---------------------------------------------------------------------------\u001b[0m",
            "\u001b[0;31mTypeError\u001b[0m                                 Traceback (most recent call last)",
            "\u001b[0;32m<ipython-input-9-4105b81e8a20>\u001b[0m in \u001b[0;36m<module>\u001b[0;34m\u001b[0m\n\u001b[1;32m      1\u001b[0m \u001b[0;31m# since herland is a file object and not a string, you can't find the length of it.\u001b[0m\u001b[0;34m\u001b[0m\u001b[0;34m\u001b[0m\u001b[0m\n\u001b[0;32m----> 2\u001b[0;31m \u001b[0mlen\u001b[0m\u001b[0;34m(\u001b[0m\u001b[0mherland\u001b[0m\u001b[0;34m)\u001b[0m\u001b[0;34m\u001b[0m\u001b[0;34m\u001b[0m\u001b[0m\n\u001b[0m",
            "\u001b[0;31mTypeError\u001b[0m: object of type '_io.TextIOWrapper' has no len()"
          ]
        }
      ],
      "source": [
        "# since herland is a file object and not a string, you can't find the length of it.\n",
        "len(herland)"
      ]
    },
    {
      "cell_type": "markdown",
      "metadata": {
        "id": "gNMI0VRCI1d3"
      },
      "source": [
        "#### Response here: "
      ]
    },
    {
      "cell_type": "markdown",
      "metadata": {
        "id": "W-GfT0Q9I1d3"
      },
      "source": [
        "We had to go through a process to convert the file object to a string. \n",
        "\n",
        "Looking at the cells below, which variable should return `type()` as a string? (The answer is in the cell below.) "
      ]
    },
    {
      "cell_type": "code",
      "execution_count": null,
      "metadata": {
        "id": "VLjQ9TP2I1d3",
        "colab": {
          "base_uri": "https://localhost:8080/"
        },
        "outputId": "d5aebbe5-1c78-4aeb-8815-5ab72b744e89"
      },
      "outputs": [
        {
          "output_type": "execute_result",
          "data": {
            "text/plain": [
              "str"
            ]
          },
          "metadata": {},
          "execution_count": 10
        }
      ],
      "source": [
        "# but hertext is a different datatype. How would you check? \n",
        "type(hertext)"
      ]
    },
    {
      "cell_type": "markdown",
      "metadata": {
        "id": "LBDiIVyKI1d4"
      },
      "source": [
        "Once you have a string, there are a number of functions that you can make use of. One of those is the `len()` command, which you can run below. "
      ]
    },
    {
      "cell_type": "code",
      "execution_count": null,
      "metadata": {
        "id": "u6v1YjKYI1d4",
        "colab": {
          "base_uri": "https://localhost:8080/"
        },
        "outputId": "4139a5ad-67d3-4bc3-e741-84fd4e8e0e0d"
      },
      "outputs": [
        {
          "output_type": "execute_result",
          "data": {
            "text/plain": [
              "88"
            ]
          },
          "metadata": {},
          "execution_count": 11
        }
      ],
      "source": [
        "# How many characters are in the hertext string? \n",
        "len(hertext)"
      ]
    },
    {
      "cell_type": "markdown",
      "metadata": {
        "id": "EqfZqn1rI1d4"
      },
      "source": [
        "Once an object is recognized as a string, you can begin manipulating it. For example, you could count the number of times the sequence of characters \"her\" appear within the entire text of _Herland_."
      ]
    },
    {
      "cell_type": "code",
      "execution_count": null,
      "metadata": {
        "id": "4vFsxjeLI1d4",
        "colab": {
          "base_uri": "https://localhost:8080/"
        },
        "outputId": "47e9b259-ec4a-4db1-8180-5bd9de30117b"
      },
      "outputs": [
        {
          "output_type": "execute_result",
          "data": {
            "text/plain": [
              "0"
            ]
          },
          "metadata": {},
          "execution_count": 12
        }
      ],
      "source": [
        "hertext.count('her', 0, -1)"
      ]
    },
    {
      "cell_type": "markdown",
      "metadata": {
        "id": "RSohRXHiI1d4"
      },
      "source": [
        "The ability to count characters, words, n-grams, etc. means that we can also more easily target specific sections of the text. For example, when you print to your screen the opening of the herland file, you notice that it is accompanied with metadata. For the purposes of text analysis, what would be the advantages or disadvantages of removing the metadata associated with _Herland_?"
      ]
    },
    {
      "cell_type": "code",
      "execution_count": null,
      "metadata": {
        "id": "OgBINGAqI1d4",
        "colab": {
          "base_uri": "https://localhost:8080/"
        },
        "outputId": "9260d1da-7445-40a8-d17d-7f05393a818b"
      },
      "outputs": [
        {
          "output_type": "stream",
          "name": "stdout",
          "text": [
            "langchain\n",
            "openai\n",
            "flask\n",
            "flask_cors\n",
            "transformers\n",
            "flask_session\n",
            "flask_socketio\n",
            "PyPDF2<3.0\n",
            "\n",
            "\n"
          ]
        }
      ],
      "source": [
        "# What is happening at the beginning of the herland.txt file, though? We can check to see by using an index. \n",
        "print(hertext[:660])"
      ]
    },
    {
      "cell_type": "markdown",
      "metadata": {
        "id": "79eRBN2mI1d5"
      },
      "source": [
        "Working with a string is *more* helpful than simply working with a text object, but there are other things that we can do to the text to make it more easily manipulated in Python and NLTK. For example, when you're working with a string, it's not easy to count whole words. The NLTK word tokenizer function, however, will take a string and turn it into \"tokens\"--discrete segments of characters. Tokenized strings become a new data type--a list. "
      ]
    },
    {
      "cell_type": "code",
      "source": [
        "import nltk\n",
        "nltk.download('punkt')"
      ],
      "metadata": {
        "colab": {
          "base_uri": "https://localhost:8080/"
        },
        "id": "16y3ykp_vRC4",
        "outputId": "07da29e1-ec09-4c48-ee2b-412674a24d20"
      },
      "execution_count": null,
      "outputs": [
        {
          "output_type": "stream",
          "name": "stderr",
          "text": [
            "[nltk_data] Downloading package punkt to /root/nltk_data...\n",
            "[nltk_data]   Unzipping tokenizers/punkt.zip.\n"
          ]
        },
        {
          "output_type": "execute_result",
          "data": {
            "text/plain": [
              "True"
            ]
          },
          "metadata": {},
          "execution_count": 17
        }
      ]
    },
    {
      "cell_type": "code",
      "execution_count": null,
      "metadata": {
        "id": "KZDfyI-mI1d5",
        "colab": {
          "base_uri": "https://localhost:8080/"
        },
        "outputId": "6df4cac5-60fc-4718-cbb7-5822c50c8827"
      },
      "outputs": [
        {
          "output_type": "execute_result",
          "data": {
            "text/plain": [
              "list"
            ]
          },
          "metadata": {},
          "execution_count": 18
        }
      ],
      "source": [
        "hertokens = nltk.word_tokenize(hertext)\n",
        "type(hertokens)"
      ]
    },
    {
      "cell_type": "markdown",
      "metadata": {
        "id": "mV2LRs2lI1d5"
      },
      "source": [
        "A tokenized list can be called, acted upon, and manipulated differently than a string. If we call just the tokens that are in index positions 0-15, here is what you would get:"
      ]
    },
    {
      "cell_type": "code",
      "execution_count": null,
      "metadata": {
        "id": "xvB1XxkbI1d5",
        "colab": {
          "base_uri": "https://localhost:8080/"
        },
        "outputId": "eaa52a27-9aa7-44e3-a6eb-5ec38bbe28aa"
      },
      "outputs": [
        {
          "output_type": "execute_result",
          "data": {
            "text/plain": [
              "['langchain',\n",
              " 'openai',\n",
              " 'flask',\n",
              " 'flask_cors',\n",
              " 'transformers',\n",
              " 'flask_session',\n",
              " 'flask_socketio',\n",
              " 'PyPDF2',\n",
              " '<',\n",
              " '3.0']"
            ]
          },
          "metadata": {},
          "execution_count": 19
        }
      ],
      "source": [
        "hertokens[:15]"
      ]
    },
    {
      "cell_type": "code",
      "execution_count": null,
      "metadata": {
        "id": "s4ySkAL5I1d5"
      },
      "outputs": [],
      "source": [
        "text1 = nltk.Text(hertokens)"
      ]
    },
    {
      "cell_type": "code",
      "execution_count": null,
      "metadata": {
        "id": "_bPbpcdTI1d5",
        "colab": {
          "base_uri": "https://localhost:8080/"
        },
        "outputId": "14e06754-8ab8-4070-fe12-89895b0f3dd4"
      },
      "outputs": [
        {
          "output_type": "execute_result",
          "data": {
            "text/plain": [
              "nltk.text.Text"
            ]
          },
          "metadata": {},
          "execution_count": 21
        }
      ],
      "source": [
        "type(text1)"
      ]
    },
    {
      "cell_type": "code",
      "execution_count": null,
      "metadata": {
        "id": "j97hxS_pI1d6",
        "colab": {
          "base_uri": "https://localhost:8080/"
        },
        "outputId": "83ecd1c6-2c90-4c58-e090-a89dfd277a83"
      },
      "outputs": [
        {
          "output_type": "execute_result",
          "data": {
            "text/plain": [
              "10"
            ]
          },
          "metadata": {},
          "execution_count": 22
        }
      ],
      "source": [
        "len(text1)"
      ]
    },
    {
      "cell_type": "code",
      "execution_count": null,
      "metadata": {
        "id": "6N5_2fkQI1d6",
        "colab": {
          "base_uri": "https://localhost:8080/"
        },
        "outputId": "63ab1202-0a2e-47f5-f1c0-d3509a328357"
      },
      "outputs": [
        {
          "output_type": "execute_result",
          "data": {
            "text/plain": [
              "['flask_session', 'flask_socketio', 'PyPDF2', '<', '3.0']"
            ]
          },
          "metadata": {},
          "execution_count": 25
        }
      ],
      "source": [
        "text1[5:10]"
      ]
    },
    {
      "cell_type": "markdown",
      "metadata": {
        "id": "5A7OVaudI1d6"
      },
      "source": [
        "### Review\n",
        "When you import text from a flat file that is saved on your local computer, what will you need to do in order to select parts of the text using an index? "
      ]
    },
    {
      "cell_type": "markdown",
      "source": [
        "## Answer \n",
        "After importing text from a flat file (such as a text file), it's possible to use Python's built-in functions to open the file and read its contents into a string variable. Once the text is in a string variable, it's possible select parts of the text using indexing or slicing, just like you would with any other string.\n",
        "\n",
        "Here's an example code snippet that demonstrates how to open a file, read its contents into a string variable, and select parts of the text using indexing:\n",
        "\n",
        "\n",
        "```\n",
        "# Open the file for reading\n",
        "with open('filename.txt', 'r') as file:\n",
        "    # Read the entire file into a string variable\n",
        "    text = file.read()\n",
        "\n",
        "# Select the first 10 characters of the text using indexing\n",
        "first_10_chars = text[0:10]\n",
        "\n",
        "# Select the next 10 characters of the text using indexing\n",
        "next_10_chars = text[10:20]\n",
        "\n",
        "# Print the selected parts of the text\n",
        "print(first_10_chars)\n",
        "print(next_10_chars)\n",
        "```\n",
        "\n"
      ],
      "metadata": {
        "id": "_NfwsmkkvvEy"
      }
    },
    {
      "cell_type": "markdown",
      "metadata": {
        "id": "3UAirNZpI1d6"
      },
      "source": [
        "## Ingesting data from a URL\n",
        "\n",
        "Next, we're going to retrieve text directly from a URL with the `urlllib` package\n",
        "To do this, we're going to call the package `urllib` and specifically from that we're going to use `urlretrieve.` Next, we need to assign the text in the file to a variable. In this case, that variable is `url`. We're going to run `urlretrieve` with two parameters, the name of the URL you want to import (which you assigned to the variable `url` above, and the file name and extension. Here that is `203-0.txt.` If you pay attention to the output, you'll realize that you've imported the file as an object. "
      ]
    },
    {
      "cell_type": "code",
      "source": [
        "import urllib.request"
      ],
      "metadata": {
        "id": "-34iqZqeSJXF"
      },
      "execution_count": null,
      "outputs": []
    },
    {
      "cell_type": "code",
      "execution_count": null,
      "metadata": {
        "id": "eMA8f984I1d6"
      },
      "outputs": [],
      "source": [
        "from urllib.request import urlopen\n",
        "from urllib.request import Request\n",
        "url = 'https://www.gutenberg.org/files/203/203-0.txt'\n",
        "uncletom = urlopen(url)"
      ]
    },
    {
      "cell_type": "markdown",
      "metadata": {
        "id": "1gQplVwFI1d6"
      },
      "source": [
        "### Question:\n",
        "Using what you've learned so far, how would you figure out what data type the file `uncletom` is? Add a cell below and show how you would find the answer. "
      ]
    },
    {
      "cell_type": "code",
      "source": [
        "type(uncletom)"
      ],
      "metadata": {
        "id": "iedWrfJhTTRO",
        "colab": {
          "base_uri": "https://localhost:8080/"
        },
        "outputId": "8b53c6d0-af4c-4bed-c3cc-a67fefb15ae5"
      },
      "execution_count": null,
      "outputs": [
        {
          "output_type": "execute_result",
          "data": {
            "text/plain": [
              "http.client.HTTPResponse"
            ]
          },
          "metadata": {},
          "execution_count": 28
        }
      ]
    },
    {
      "cell_type": "markdown",
      "source": [
        "Next, we're going to turn the text of Uncle Tom's Cabin into a list. A list is a mutable, ordered sequence of items. It can be indexed, sliced, and changed. Items in the list can be accessed through it's indexical placement. "
      ],
      "metadata": {
        "id": "kNo4vVZKUht1"
      }
    },
    {
      "cell_type": "code",
      "source": [
        "dir(uncletom.read())"
      ],
      "metadata": {
        "id": "67zgwEYgTgg4",
        "colab": {
          "base_uri": "https://localhost:8080/"
        },
        "outputId": "6665a4ed-1c7c-4610-8014-9da62a91512b"
      },
      "execution_count": null,
      "outputs": [
        {
          "output_type": "execute_result",
          "data": {
            "text/plain": [
              "['__add__',\n",
              " '__class__',\n",
              " '__contains__',\n",
              " '__delattr__',\n",
              " '__dir__',\n",
              " '__doc__',\n",
              " '__eq__',\n",
              " '__format__',\n",
              " '__ge__',\n",
              " '__getattribute__',\n",
              " '__getitem__',\n",
              " '__getnewargs__',\n",
              " '__gt__',\n",
              " '__hash__',\n",
              " '__init__',\n",
              " '__init_subclass__',\n",
              " '__iter__',\n",
              " '__le__',\n",
              " '__len__',\n",
              " '__lt__',\n",
              " '__mod__',\n",
              " '__mul__',\n",
              " '__ne__',\n",
              " '__new__',\n",
              " '__reduce__',\n",
              " '__reduce_ex__',\n",
              " '__repr__',\n",
              " '__rmod__',\n",
              " '__rmul__',\n",
              " '__setattr__',\n",
              " '__sizeof__',\n",
              " '__str__',\n",
              " '__subclasshook__',\n",
              " 'capitalize',\n",
              " 'center',\n",
              " 'count',\n",
              " 'decode',\n",
              " 'endswith',\n",
              " 'expandtabs',\n",
              " 'find',\n",
              " 'fromhex',\n",
              " 'hex',\n",
              " 'index',\n",
              " 'isalnum',\n",
              " 'isalpha',\n",
              " 'isascii',\n",
              " 'isdigit',\n",
              " 'islower',\n",
              " 'isspace',\n",
              " 'istitle',\n",
              " 'isupper',\n",
              " 'join',\n",
              " 'ljust',\n",
              " 'lower',\n",
              " 'lstrip',\n",
              " 'maketrans',\n",
              " 'partition',\n",
              " 'removeprefix',\n",
              " 'removesuffix',\n",
              " 'replace',\n",
              " 'rfind',\n",
              " 'rindex',\n",
              " 'rjust',\n",
              " 'rpartition',\n",
              " 'rsplit',\n",
              " 'rstrip',\n",
              " 'split',\n",
              " 'splitlines',\n",
              " 'startswith',\n",
              " 'strip',\n",
              " 'swapcase',\n",
              " 'title',\n",
              " 'translate',\n",
              " 'upper',\n",
              " 'zfill']"
            ]
          },
          "metadata": {},
          "execution_count": 29
        }
      ]
    },
    {
      "cell_type": "code",
      "source": [
        "words = uncletom.read().decode().split()"
      ],
      "metadata": {
        "id": "GbrWDSiHUOiH"
      },
      "execution_count": null,
      "outputs": []
    },
    {
      "cell_type": "code",
      "source": [
        "print(type(words))"
      ],
      "metadata": {
        "id": "LZtxrM6OUZ6d",
        "colab": {
          "base_uri": "https://localhost:8080/"
        },
        "outputId": "0a0728e2-eeb9-49a7-86ba-ba40311945ce"
      },
      "execution_count": null,
      "outputs": [
        {
          "output_type": "stream",
          "name": "stdout",
          "text": [
            "<class 'list'>\n"
          ]
        }
      ]
    },
    {
      "cell_type": "markdown",
      "source": [
        "Let's practice those steps again, but with a new file this time. "
      ],
      "metadata": {
        "id": "85Y-w18bVQuo"
      }
    },
    {
      "cell_type": "code",
      "source": [
        "from urllib.request import urlopen\n",
        "\n",
        "shakespeare = 'http://composingprograms.com/shakespeare.txt'\n",
        "\n",
        "print( type(shakespeare) )"
      ],
      "metadata": {
        "id": "iXxWF3eMVi4M",
        "colab": {
          "base_uri": "https://localhost:8080/"
        },
        "outputId": "e6706220-4398-4099-fa3b-373dc843351d"
      },
      "execution_count": null,
      "outputs": [
        {
          "output_type": "stream",
          "name": "stdout",
          "text": [
            "<class 'str'>\n"
          ]
        }
      ]
    },
    {
      "cell_type": "code",
      "source": [
        "shakespeare = 'http://composingprograms.com/shakespeare.txt'\n",
        "shakespeare = urlopen('http://composingprograms.com/shakespeare.txt')\n",
        "print(type(shakespeare))"
      ],
      "metadata": {
        "id": "pSUtnSJhWAgH",
        "colab": {
          "base_uri": "https://localhost:8080/"
        },
        "outputId": "37bcfe93-6b32-4f87-e947-f2154352fb14"
      },
      "execution_count": null,
      "outputs": [
        {
          "output_type": "stream",
          "name": "stdout",
          "text": [
            "<class 'http.client.HTTPResponse'>\n"
          ]
        }
      ]
    },
    {
      "cell_type": "code",
      "source": [
        "dir(shakespeare)"
      ],
      "metadata": {
        "id": "5XE2QAmWWYh2",
        "colab": {
          "base_uri": "https://localhost:8080/"
        },
        "outputId": "049d029b-aab9-41e7-a64c-a0f10330522a"
      },
      "execution_count": null,
      "outputs": [
        {
          "output_type": "execute_result",
          "data": {
            "text/plain": [
              "['__abstractmethods__',\n",
              " '__class__',\n",
              " '__del__',\n",
              " '__delattr__',\n",
              " '__dict__',\n",
              " '__dir__',\n",
              " '__doc__',\n",
              " '__enter__',\n",
              " '__eq__',\n",
              " '__exit__',\n",
              " '__format__',\n",
              " '__ge__',\n",
              " '__getattribute__',\n",
              " '__gt__',\n",
              " '__hash__',\n",
              " '__init__',\n",
              " '__init_subclass__',\n",
              " '__iter__',\n",
              " '__le__',\n",
              " '__lt__',\n",
              " '__module__',\n",
              " '__ne__',\n",
              " '__new__',\n",
              " '__next__',\n",
              " '__reduce__',\n",
              " '__reduce_ex__',\n",
              " '__repr__',\n",
              " '__setattr__',\n",
              " '__sizeof__',\n",
              " '__str__',\n",
              " '__subclasshook__',\n",
              " '_abc_impl',\n",
              " '_checkClosed',\n",
              " '_checkReadable',\n",
              " '_checkSeekable',\n",
              " '_checkWritable',\n",
              " '_check_close',\n",
              " '_close_conn',\n",
              " '_get_chunk_left',\n",
              " '_method',\n",
              " '_peek_chunked',\n",
              " '_read1_chunked',\n",
              " '_read_and_discard_trailer',\n",
              " '_read_next_chunk_size',\n",
              " '_read_status',\n",
              " '_readall_chunked',\n",
              " '_readinto_chunked',\n",
              " '_safe_read',\n",
              " '_safe_readinto',\n",
              " 'begin',\n",
              " 'chunk_left',\n",
              " 'chunked',\n",
              " 'close',\n",
              " 'closed',\n",
              " 'code',\n",
              " 'debuglevel',\n",
              " 'detach',\n",
              " 'fileno',\n",
              " 'flush',\n",
              " 'fp',\n",
              " 'getcode',\n",
              " 'getheader',\n",
              " 'getheaders',\n",
              " 'geturl',\n",
              " 'headers',\n",
              " 'info',\n",
              " 'isatty',\n",
              " 'isclosed',\n",
              " 'length',\n",
              " 'msg',\n",
              " 'peek',\n",
              " 'read',\n",
              " 'read1',\n",
              " 'readable',\n",
              " 'readinto',\n",
              " 'readinto1',\n",
              " 'readline',\n",
              " 'readlines',\n",
              " 'reason',\n",
              " 'seek',\n",
              " 'seekable',\n",
              " 'status',\n",
              " 'tell',\n",
              " 'truncate',\n",
              " 'url',\n",
              " 'version',\n",
              " 'will_close',\n",
              " 'writable',\n",
              " 'write',\n",
              " 'writelines']"
            ]
          },
          "metadata": {},
          "execution_count": 34
        }
      ]
    },
    {
      "cell_type": "code",
      "source": [
        "words = shakespeare.read().decode().split()"
      ],
      "metadata": {
        "id": "5dv-DfiLWdI_"
      },
      "execution_count": null,
      "outputs": []
    },
    {
      "cell_type": "code",
      "source": [
        "print(type(words))"
      ],
      "metadata": {
        "id": "6bVdrVC3WjrW",
        "colab": {
          "base_uri": "https://localhost:8080/"
        },
        "outputId": "640d8a91-8fce-455a-aa2e-4f9e7500f539"
      },
      "execution_count": null,
      "outputs": [
        {
          "output_type": "stream",
          "name": "stdout",
          "text": [
            "<class 'list'>\n"
          ]
        }
      ]
    },
    {
      "cell_type": "code",
      "source": [
        "title = words[0:3]"
      ],
      "metadata": {
        "id": "JLNGe1QyXPQA"
      },
      "execution_count": null,
      "outputs": []
    },
    {
      "cell_type": "code",
      "source": [
        "body = words[3:]"
      ],
      "metadata": {
        "id": "_tD1S3TWXSxU"
      },
      "execution_count": null,
      "outputs": []
    },
    {
      "cell_type": "code",
      "source": [
        "print(body[:10])"
      ],
      "metadata": {
        "id": "5ECbMdt8XW8G",
        "colab": {
          "base_uri": "https://localhost:8080/"
        },
        "outputId": "672a258c-6467-4750-b477-e17fd3cf8326"
      },
      "execution_count": null,
      "outputs": [
        {
          "output_type": "stream",
          "name": "stdout",
          "text": [
            "['Now', ',', 'fair', 'Hippolyta', ',', 'our', 'nuptial', 'hour', 'Draws', 'on']\n"
          ]
        }
      ]
    },
    {
      "cell_type": "markdown",
      "source": [
        "\n",
        "__Indexing Operator__\n",
        "\n",
        "Indexing operator ([ ]) selects one or more elements from a sequence. Each element of a sequence is assigned a number - its position or index. Index must be an integer value and is called inside a pair of square brackets. \n",
        "\n",
        "The operation that extracts a subsequence is called __slicing__. When selecting more than one element __\": operator\"__ is used with integer before and after it to indicate where to start and where to stop the index, respectively.\n",
        "\n",
        "Python indexing starts at 0 and ends at (n-1), where n refers to the number of items in the sequence. The function \"len\" can be used to get the number of items in a list. \n",
        "\n",
        "Negative indexing is also supported by Python. It can be done by adding \"-\" operator before the integer value."
      ],
      "metadata": {
        "id": "--ANoBskW4_l"
      }
    },
    {
      "cell_type": "code",
      "source": [
        "n_words = len(body)\n",
        "print( n_words )"
      ],
      "metadata": {
        "id": "b5-zzKQkWnTd",
        "colab": {
          "base_uri": "https://localhost:8080/"
        },
        "outputId": "7e05aab2-658a-4570-dbd1-dc88538c25b9"
      },
      "execution_count": null,
      "outputs": [
        {
          "output_type": "stream",
          "name": "stdout",
          "text": [
            "980634\n"
          ]
        }
      ]
    },
    {
      "cell_type": "code",
      "source": [
        "print( body[980634])"
      ],
      "metadata": {
        "id": "4EBY3CBPXbkz",
        "colab": {
          "base_uri": "https://localhost:8080/",
          "height": 165
        },
        "outputId": "bffc3d10-007f-45d1-d8a6-03d5a4f2a3cc"
      },
      "execution_count": null,
      "outputs": [
        {
          "output_type": "error",
          "ename": "IndexError",
          "evalue": "ignored",
          "traceback": [
            "\u001b[0;31m---------------------------------------------------------------------------\u001b[0m",
            "\u001b[0;31mIndexError\u001b[0m                                Traceback (most recent call last)",
            "\u001b[0;32m<ipython-input-41-92d037a2deff>\u001b[0m in \u001b[0;36m<module>\u001b[0;34m\u001b[0m\n\u001b[0;32m----> 1\u001b[0;31m \u001b[0mprint\u001b[0m\u001b[0;34m(\u001b[0m \u001b[0mbody\u001b[0m\u001b[0;34m[\u001b[0m\u001b[0;36m980634\u001b[0m\u001b[0;34m]\u001b[0m\u001b[0;34m)\u001b[0m\u001b[0;34m\u001b[0m\u001b[0;34m\u001b[0m\u001b[0m\n\u001b[0m",
            "\u001b[0;31mIndexError\u001b[0m: list index out of range"
          ]
        }
      ]
    },
    {
      "cell_type": "code",
      "source": [
        "print( body[980633])"
      ],
      "metadata": {
        "id": "44vtxFDXXnYg",
        "colab": {
          "base_uri": "https://localhost:8080/"
        },
        "outputId": "4e59b255-dec9-49af-ec22-10097ed0aa46"
      },
      "execution_count": null,
      "outputs": [
        {
          "output_type": "stream",
          "name": "stdout",
          "text": [
            ".\n"
          ]
        }
      ]
    },
    {
      "cell_type": "code",
      "source": [
        "sub_body = body[:10]\n",
        "print( sub_body)"
      ],
      "metadata": {
        "id": "h6vTMIntXrwS",
        "colab": {
          "base_uri": "https://localhost:8080/"
        },
        "outputId": "f23b6991-8894-4f9b-9d45-5669971617ae"
      },
      "execution_count": null,
      "outputs": [
        {
          "output_type": "stream",
          "name": "stdout",
          "text": [
            "['Now', ',', 'fair', 'Hippolyta', ',', 'our', 'nuptial', 'hour', 'Draws', 'on']\n"
          ]
        }
      ]
    },
    {
      "cell_type": "code",
      "source": [
        "print( sub_body[:-2])"
      ],
      "metadata": {
        "id": "z_Wx7eRzXwIU",
        "colab": {
          "base_uri": "https://localhost:8080/"
        },
        "outputId": "12946002-9c76-4a4a-af25-bf7d67926b5a"
      },
      "execution_count": null,
      "outputs": [
        {
          "output_type": "stream",
          "name": "stdout",
          "text": [
            "['Now', ',', 'fair', 'Hippolyta', ',', 'our', 'nuptial', 'hour']\n"
          ]
        }
      ]
    },
    {
      "cell_type": "code",
      "source": [
        "print( sub_body[::2])    # gives every 2nd element"
      ],
      "metadata": {
        "id": "IoQu8aM1Xzgi",
        "colab": {
          "base_uri": "https://localhost:8080/"
        },
        "outputId": "0c1eecab-395a-459f-e3ad-a2ce52d14d07"
      },
      "execution_count": null,
      "outputs": [
        {
          "output_type": "stream",
          "name": "stdout",
          "text": [
            "['Now', 'fair', ',', 'nuptial', 'Draws']\n"
          ]
        }
      ]
    },
    {
      "cell_type": "markdown",
      "source": [
        "__Python Syntax__\n",
        "\n",
        "Syntax refers to the structure of the language. \n",
        "\n",
        "The end of the statement does not require semicolon or other symbol. After a statement is complete, the code is considered completed. However, using semicolon can allow you to execute two separate codes from the same line. \n",
        "\n",
        "Indentation i.e. the whitespace matters in Python. A block of code is a set of statements that should be treated as a unit even when written in a new line. A code block in python are denoted by indentation. For example, in compound statements such as loops and conditionals, after the colon we must enter into a new line and add exactly four spaces to continue further. Whitespaces __within__ the same line does not matter however.  \n",
        "\n",
        "Comments about codes can be made using hashtag #. anything written after # is ignored by the interpreter. Python does not have any syntax for multi-line comments. "
      ],
      "metadata": {
        "id": "y2JrMe2UYHbL"
      }
    },
    {
      "cell_type": "code",
      "source": [
        "sub_body_lowercase = []\n",
        "for word in sub_body:\n",
        "  sub_body_lowercase.append(word.lower())\n",
        "  #print(sub_body_lowercase)\n",
        "#print(sub_body_lowercase)\n",
        "sub_body_lowercase"
      ],
      "metadata": {
        "id": "5TK22YcjYPsO",
        "colab": {
          "base_uri": "https://localhost:8080/"
        },
        "outputId": "7df7c11b-eaf7-4dbe-c2e4-3b711adab001"
      },
      "execution_count": null,
      "outputs": [
        {
          "output_type": "execute_result",
          "data": {
            "text/plain": [
              "['now', ',', 'fair', 'hippolyta', ',', 'our', 'nuptial', 'hour', 'draws', 'on']"
            ]
          },
          "metadata": {},
          "execution_count": 46
        }
      ]
    },
    {
      "cell_type": "markdown",
      "metadata": {
        "id": "ksKMYa0vI1d7"
      },
      "source": [
        "## Importing an HTML file using an http: request\n",
        "The previous two files that we imported were _plain text_ files. In other words, there is little to no descriptive encoding. However, we can also use another module from the URLLIB package that is designed to import an .html file directly from the web. We can actually do this with just a few lines of code. First, we import the URLLIB package, and specifically the `request` module. We assign the URL we want to manipulate by assigning the URL to a variable. Next, we pass the URL through the urlopen.request function from the URLLIB package, and also at the same time \"read\" the file. The output of that string becomes the variable `html`. When we print the variable html, we discover that all of the HTML from the page has been pulled into the variable name. Unfortuantely, it doesn't look very clean. "
      ]
    },
    {
      "cell_type": "code",
      "execution_count": null,
      "metadata": {
        "id": "xknGfuL7I1d7"
      },
      "outputs": [],
      "source": [
        "# Now import the bibliography page from Colored Conventions in HTML\n",
        "import urllib.request\n",
        "anotherurl='http://coloredconventions.org/exhibits/show/bishophmturner'"
      ]
    },
    {
      "cell_type": "code",
      "execution_count": null,
      "metadata": {
        "id": "SufMVoVhI1d7",
        "colab": {
          "base_uri": "https://localhost:8080/"
        },
        "outputId": "3f9975c9-7a1f-42e4-831e-f844ccb3884f"
      },
      "outputs": [
        {
          "output_type": "stream",
          "name": "stdout",
          "text": [
            "b'<!DOCTYPE html>\\n<!--[if IE 6]>\\n<html id=\"ie6\" lang=\"en-US\" xmlns:fb=\"https://www.facebook.com/2008/fbml\" xmlns:addthis=\"https://www.addthis.com/help/api-spec\" >\\n<![endif]-->\\n<!--[if IE 7]>\\n<html id=\"ie7\" lang=\"en-US\" xmlns:fb=\"https://www.facebook.com/2008/fbml\" xmlns:addthis=\"https://www.addthis.com/help/api-spec\" >\\n<![endif]-->\\n<!--[if IE 8]>\\n<html id=\"ie8\" lang=\"en-US\" xmlns:fb=\"https://www.facebook.com/2008/fbml\" xmlns:addthis=\"https://www.addthis.com/help/api-spec\" >\\n<![endif]-->\\n<!--[if !(IE 6) | !(IE 7) | !(IE 8)  ]><!-->\\n<html lang=\"en-US\" xmlns:fb=\"https://www.facebook.com/2008/fbml\" xmlns:addthis=\"https://www.addthis.com/help/api-spec\" >\\n<!--<![endif]-->\\n<head><meta http-equiv=\"Content-Type\" content=\"text/html; charset=utf-8\">\\n\\t\\t\\t\\n\\t<meta http-equiv=\"X-UA-Compatible\" content=\"IE=edge\">\\n\\t<link rel=\"pingback\" href=\"https://coloredconventions.org/before-garvey-mcneal-turner/xmlrpc.php\" />\\n\\n\\t\\t<!--[if lt IE 9]>\\n\\t<script src=\"https://coloredconventions.org/before-garvey-mcneal-turner/wp-content/themes/Divi/js/html5.js\" type=\"text/javascript\"></script>\\n\\t<![endif]-->\\n\\n\\t<script type=\"text/javascript\">\\n\\t\\tdocument.documentElement.className = \\'js\\';\\n\\t</script>\\n\\n\\t<link rel=\"preconnect\" href=\"https://fonts.gstatic.com\" crossorigin /><style id=\"et-builder-googlefonts-cached-inline\">/* Original: https://fonts.googleapis.com/css?family=Oswald:200,300,regular,500,600,700|Open+Sans:300,regular,500,600,700,800,300italic,italic,500italic,600italic,700italic,800italic|PT+Sans:regular,italic,700,700italic&#038;subset=latin,latin-ext&#038;display=swap *//* User Agent: Mozilla/5.0 (Unknown; Linux x86_64) AppleWebKit/538.1 (KHTML, like Gecko) Safari/538.1 Daum/4.1 */@font-face {font-family: \\'Open Sans\\';font-style: italic;font-weight: 300;font-stretch: normal;font-display: swap;src: url(https://fonts.gstatic.com/s/opensans/v34/memQYaGs126MiZpBA-UFUIcVXSCEkx2cmqvXlWq8tWZ0Pw86hd0Rk5hkWV4exQ.ttf) format(\\'truetype\\');}@font-face {font-family: \\'Open Sans\\';font-style: italic;font-weight: 400;font-stretch: normal;font-display: swap;src: url(https://fonts.gstatic.com/s/opensans/v34/memQYaGs126MiZpBA-UFUIcVXSCEkx2cmqvXlWq8tWZ0Pw86hd0Rk8ZkWV4exQ.ttf) format(\\'truetype\\');}@font-face {font-family: \\'Open Sans\\';font-style: italic;font-weight: 500;font-stretch: normal;font-display: swap;src: url(https://fonts.gstatic.com/s/opensans/v34/memQYaGs126MiZpBA-UFUIcVXSCEkx2cmqvXlWq8tWZ0Pw86hd0Rk_RkWV4exQ.ttf) format(\\'truetype\\');}@font-face {font-family: \\'Open Sans\\';font-style: italic;font-weight: 600;font-stretch: normal;font-display: swap;src: url(https://fonts.gstatic.com/s/opensans/v34/memQYaGs126MiZpBA-UFUIcVXSCEkx2cmqvXlWq8tWZ0Pw86hd0RkxhjWV4exQ.ttf) format(\\'truetype\\');}@font-face {font-family: \\'Open Sans\\';font-style: italic;font-weight: 700;font-stretch: normal;font-display: swap;src: url(https://fonts.gstatic.com/s/opensans/v34/memQYaGs126MiZpBA-UFUIcVXSCEkx2cmqvXlWq8tWZ0Pw86hd0RkyFjWV4exQ.ttf) format(\\'truetype\\');}@font-face {font-family: \\'Open Sans\\';font-style: italic;font-weight: 800;font-stretch: normal;font-display: swap;src: url(https://fonts.gstatic.com/s/opensans/v34/memQYaGs126MiZpBA-UFUIcVXSCEkx2cmqvXlWq8tWZ0Pw86hd0Rk0ZjWV4exQ.ttf) format(\\'truetype\\');}@font-face {font-family: \\'Open Sans\\';font-style: normal;font-weight: 300;font-stretch: normal;font-display: swap;src: url(https://fonts.gstatic.com/s/opensans/v34/memSYaGs126MiZpBA-UvWbX2vVnXBbObj2OVZyOOSr4dVJWUgsiH0B4uaVc.ttf) format(\\'truetype\\');}@font-face {font-family: \\'Open Sans\\';font-style: normal;font-weight: 400;font-stretch: normal;font-display: swap;src: url(https://fonts.gstatic.com/s/opensans/v34/memSYaGs126MiZpBA-UvWbX2vVnXBbObj2OVZyOOSr4dVJWUgsjZ0B4uaVc.ttf) format(\\'truetype\\');}@font-face {font-family: \\'Open Sans\\';font-style: normal;font-weight: 500;font-stretch: normal;font-display: swap;src: url(https://fonts.gstatic.com/s/opensans/v34/memSYaGs126MiZpBA-UvWbX2vVnXBbObj2OVZyOOSr4dVJWUgsjr0B4uaVc.ttf) format(\\'truetype\\');}@font-face {font-family: \\'Open Sans\\';font-style: normal;font-weight: 600;font-stretch: normal;font-display: swap;src: url(https://fonts.gstatic.com/s/opensans/v34/memSYaGs126MiZpBA-UvWbX2vVnXBbObj2OVZyOOSr4dVJWUgsgH1x4uaVc.ttf) format(\\'truetype\\');}@font-face {font-family: \\'Open Sans\\';font-style: normal;font-weight: 700;font-stretch: normal;font-display: swap;src: url(https://fonts.gstatic.com/s/opensans/v34/memSYaGs126MiZpBA-UvWbX2vVnXBbObj2OVZyOOSr4dVJWUgsg-1x4uaVc.ttf) format(\\'truetype\\');}@font-face {font-family: \\'Open Sans\\';font-style: normal;font-weight: 800;font-stretch: normal;font-display: swap;src: url(https://fonts.gstatic.com/s/opensans/v34/memSYaGs126MiZpBA-UvWbX2vVnXBbObj2OVZyOOSr4dVJWUgshZ1x4uaVc.ttf) format(\\'truetype\\');}@font-face {font-family: \\'Oswald\\';font-style: normal;font-weight: 200;font-display: swap;src: url(https://fonts.gstatic.com/s/oswald/v49/TK3_WkUHHAIjg75cFRf3bXL8LICs13FvsUhiYA.ttf) format(\\'truetype\\');}@font-face {font-family: \\'Oswald\\';font-style: normal;font-weight: 300;font-display: swap;src: url(https://fonts.gstatic.com/s/oswald/v49/TK3_WkUHHAIjg75cFRf3bXL8LICs169vsUhiYA.ttf) format(\\'truetype\\');}@font-face {font-family: \\'Oswald\\';font-style: normal;font-weight: 400;font-display: swap;src: url(https://fonts.gstatic.com/s/oswald/v49/TK3_WkUHHAIjg75cFRf3bXL8LICs1_FvsUhiYA.ttf) format(\\'truetype\\');}@font-face {font-family: \\'Oswald\\';font-style: normal;font-weight: 500;font-display: swap;src: url(https://fonts.gstatic.com/s/oswald/v49/TK3_WkUHHAIjg75cFRf3bXL8LICs18NvsUhiYA.ttf) format(\\'truetype\\');}@font-face {font-family: \\'Oswald\\';font-style: normal;font-weight: 600;font-display: swap;src: url(https://fonts.gstatic.com/s/oswald/v49/TK3_WkUHHAIjg75cFRf3bXL8LICs1y9osUhiYA.ttf) format(\\'truetype\\');}@font-face {font-family: \\'Oswald\\';font-style: normal;font-weight: 700;font-display: swap;src: url(https://fonts.gstatic.com/s/oswald/v49/TK3_WkUHHAIjg75cFRf3bXL8LICs1xZosUhiYA.ttf) format(\\'truetype\\');}@font-face {font-family: \\'PT Sans\\';font-style: italic;font-weight: 400;font-display: swap;src: url(https://fonts.gstatic.com/s/ptsans/v17/jizYRExUiTo99u79D0e0ycmN.ttf) format(\\'truetype\\');}@font-face {font-family: \\'PT Sans\\';font-style: italic;font-weight: 700;font-display: swap;src: url(https://fonts.gstatic.com/s/ptsans/v17/jizdRExUiTo99u79D0e8fOydIRUY.ttf) format(\\'truetype\\');}@font-face {font-family: \\'PT Sans\\';font-style: normal;font-weight: 400;font-display: swap;src: url(https://fonts.gstatic.com/s/ptsans/v17/jizaRExUiTo99u79D0yEwA.ttf) format(\\'truetype\\');}@font-face {font-family: \\'PT Sans\\';font-style: normal;font-weight: 700;font-display: swap;src: url(https://fonts.gstatic.com/s/ptsans/v17/jizfRExUiTo99u79B_mh0OCtKA.ttf) format(\\'truetype\\');}/* User Agent: Mozilla/5.0 (Windows NT 6.1; WOW64; rv:27.0) Gecko/20100101 Firefox/27.0 */@font-face {font-family: \\'Open Sans\\';font-style: italic;font-weight: 300;font-stretch: normal;font-display: swap;src: url(https://fonts.gstatic.com/s/opensans/v34/memQYaGs126MiZpBA-UFUIcVXSCEkx2cmqvXlWq8tWZ0Pw86hd0Rk5hkWV4exg.woff) format(\\'woff\\');}@font-face {font-family: \\'Open Sans\\';font-style: italic;font-weight: 400;font-stretch: normal;font-display: swap;src: url(https://fonts.gstatic.com/s/opensans/v34/memQYaGs126MiZpBA-UFUIcVXSCEkx2cmqvXlWq8tWZ0Pw86hd0Rk8ZkWV4exg.woff) format(\\'woff\\');}@font-face {font-family: \\'Open Sans\\';font-style: italic;font-weight: 500;font-stretch: normal;font-display: swap;src: url(https://fonts.gstatic.com/s/opensans/v34/memQYaGs126MiZpBA-UFUIcVXSCEkx2cmqvXlWq8tWZ0Pw86hd0Rk_RkWV4exg.woff) format(\\'woff\\');}@font-face {font-family: \\'Open Sans\\';font-style: italic;font-weight: 600;font-stretch: normal;font-display: swap;src: url(https://fonts.gstatic.com/s/opensans/v34/memQYaGs126MiZpBA-UFUIcVXSCEkx2cmqvXlWq8tWZ0Pw86hd0RkxhjWV4exg.woff) format(\\'woff\\');}@font-face {font-family: \\'Open Sans\\';font-style: italic;font-weight: 700;font-stretch: normal;font-display: swap;src: url(https://fonts.gstatic.com/s/opensans/v34/memQYaGs126MiZpBA-UFUIcVXSCEkx2cmqvXlWq8tWZ0Pw86hd0RkyFjWV4exg.woff) format(\\'woff\\');}@font-face {font-family: \\'Open Sans\\';font-style: italic;font-weight: 800;font-stretch: normal;font-display: swap;src: url(https://fonts.gstatic.com/s/opensans/v34/memQYaGs126MiZpBA-UFUIcVXSCEkx2cmqvXlWq8tWZ0Pw86hd0Rk0ZjWV4exg.woff) format(\\'woff\\');}@font-face {font-family: \\'Open Sans\\';font-style: normal;font-weight: 300;font-stretch: normal;font-display: swap;src: url(https://fonts.gstatic.com/s/opensans/v34/memSYaGs126MiZpBA-UvWbX2vVnXBbObj2OVZyOOSr4dVJWUgsiH0B4uaVQ.woff) format(\\'woff\\');}@font-face {font-family: \\'Open Sans\\';font-style: normal;font-weight: 400;font-stretch: normal;font-display: swap;src: url(https://fonts.gstatic.com/s/opensans/v34/memSYaGs126MiZpBA-UvWbX2vVnXBbObj2OVZyOOSr4dVJWUgsjZ0B4uaVQ.woff) format(\\'woff\\');}@font-face {font-family: \\'Open Sans\\';font-style: normal;font-weight: 500;font-stretch: normal;font-display: swap;src: url(https://fonts.gstatic.com/s/opensans/v34/memSYaGs126MiZpBA-UvWbX2vVnXBbObj2OVZyOOSr4dVJWUgsjr0B4uaVQ.woff) format(\\'woff\\');}@font-face {font-family: \\'Open Sans\\';font-style: normal;font-weight: 600;font-stretch: normal;font-display: swap;src: url(https://fonts.gstatic.com/s/opensans/v34/memSYaGs126MiZpBA-UvWbX2vVnXBbObj2OVZyOOSr4dVJWUgsgH1x4uaVQ.woff) format(\\'woff\\');}@font-face {font-family: \\'Open Sans\\';font-style: normal;font-weight: 700;font-stretch: normal;font-display: swap;src: url(https://fonts.gstatic.com/s/opensans/v34/memSYaGs126MiZpBA-UvWbX2vVnXBbObj2OVZyOOSr4dVJWUgsg-1x4uaVQ.woff) format(\\'woff\\');}@font-face {font-family: \\'Open Sans\\';font-style: normal;font-weight: 800;font-stretch: normal;font-display: swap;src: url(https://fonts.gstatic.com/s/opensans/v34/memSYaGs126MiZpBA-UvWbX2vVnXBbObj2OVZyOOSr4dVJWUgshZ1x4uaVQ.woff) format(\\'woff\\');}@font-face {font-family: \\'Oswald\\';font-style: normal;font-weight: 200;font-display: swap;src: url(https://fonts.gstatic.com/s/oswald/v49/TK3_WkUHHAIjg75cFRf3bXL8LICs13FvsUhiYw.woff) format(\\'woff\\');}@font-face {font-family: \\'Oswald\\';font-style: normal;font-weight: 300;font-display: swap;src: url(https://fonts.gstatic.com/s/oswald/v49/TK3_WkUHHAIjg75cFRf3bXL8LICs169vsUhiYw.woff) format(\\'woff\\');}@font-face {font-family: \\'Oswald\\';font-style: normal;font-weight: 400;font-display: swap;src: url(https://fonts.gstatic.com/s/oswald/v49/TK3_WkUHHAIjg75cFRf3bXL8LICs1_FvsUhiYw.woff) format(\\'woff\\');}@font-face {font-family: \\'Oswald\\';font-style: normal;font-weight: 500;font-display: swap;src: url(https://fonts.gstatic.com/s/oswald/v49/TK3_WkUHHAIjg75cFRf3bXL8LICs18NvsUhiYw.woff) format(\\'woff\\');}@font-face {font-family: \\'Oswald\\';font-style: normal;font-weight: 600;font-display: swap;src: url(https://fonts.gstatic.com/s/oswald/v49/TK3_WkUHHAIjg75cFRf3bXL8LICs1y9osUhiYw.woff) format(\\'woff\\');}@font-face {font-family: \\'Oswald\\';font-style: normal;font-weight: 700;font-display: swap;src: url(https://fonts.gstatic.com/s/oswald/v49/TK3_WkUHHAIjg75cFRf3bXL8LICs1xZosUhiYw.woff) format(\\'woff\\');}@font-face {font-family: \\'PT Sans\\';font-style: italic;font-weight: 400;font-display: swap;src: url(https://fonts.gstatic.com/s/ptsans/v17/jizYRExUiTo99u79D0e0ycmO.woff) format(\\'woff\\');}@font-face {font-family: \\'PT Sans\\';font-style: italic;font-weight: 700;font-display: swap;src: url(https://fonts.gstatic.com/s/ptsans/v17/jizdRExUiTo99u79D0e8fOydIRUb.woff) format(\\'woff\\');}@font-face {font-family: \\'PT Sans\\';font-style: normal;font-weight: 400;font-display: swap;src: url(https://fonts.gstatic.com/s/ptsans/v17/jizaRExUiTo99u79D0yEww.woff) format(\\'woff\\');}@font-face {font-family: \\'PT Sans\\';font-style: normal;font-weight: 700;font-display: swap;src: url(https://fonts.gstatic.com/s/ptsans/v17/jizfRExUiTo99u79B_mh0OCtKw.woff) format(\\'woff\\');}/* User Agent: Mozilla/5.0 (Windows NT 6.3; rv:39.0) Gecko/20100101 Firefox/39.0 */@font-face {font-family: \\'Open Sans\\';font-style: italic;font-weight: 300;font-stretch: normal;font-display: swap;src: url(https://fonts.gstatic.com/s/opensans/v34/memQYaGs126MiZpBA-UFUIcVXSCEkx2cmqvXlWq8tWZ0Pw86hd0Rk5hkWV4ewA.woff2) format(\\'woff2\\');}@font-face {font-family: \\'Open Sans\\';font-style: italic;font-weight: 400;font-stretch: normal;font-display: swap;src: url(https://fonts.gstatic.com/s/opensans/v34/memQYaGs126MiZpBA-UFUIcVXSCEkx2cmqvXlWq8tWZ0Pw86hd0Rk8ZkWV4ewA.woff2) format(\\'woff2\\');}@font-face {font-family: \\'Open Sans\\';font-style: italic;font-weight: 500;font-stretch: normal;font-display: swap;src: url(https://fonts.gstatic.com/s/opensans/v34/memQYaGs126MiZpBA-UFUIcVXSCEkx2cmqvXlWq8tWZ0Pw86hd0Rk_RkWV4ewA.woff2) format(\\'woff2\\');}@font-face {font-family: \\'Open Sans\\';font-style: italic;font-weight: 600;font-stretch: normal;font-display: swap;src: url(https://fonts.gstatic.com/s/opensans/v34/memQYaGs126MiZpBA-UFUIcVXSCEkx2cmqvXlWq8tWZ0Pw86hd0RkxhjWV4ewA.woff2) format(\\'woff2\\');}@font-face {font-family: \\'Open Sans\\';font-style: italic;font-weight: 700;font-stretch: normal;font-display: swap;src: url(https://fonts.gstatic.com/s/opensans/v34/memQYaGs126MiZpBA-UFUIcVXSCEkx2cmqvXlWq8tWZ0Pw86hd0RkyFjWV4ewA.woff2) format(\\'woff2\\');}@font-face {font-family: \\'Open Sans\\';font-style: italic;font-weight: 800;font-stretch: normal;font-display: swap;src: url(https://fonts.gstatic.com/s/opensans/v34/memQYaGs126MiZpBA-UFUIcVXSCEkx2cmqvXlWq8tWZ0Pw86hd0Rk0ZjWV4ewA.woff2) format(\\'woff2\\');}@font-face {font-family: \\'Open Sans\\';font-style: normal;font-weight: 300;font-stretch: normal;font-display: swap;src: url(https://fonts.gstatic.com/s/opensans/v34/memSYaGs126MiZpBA-UvWbX2vVnXBbObj2OVZyOOSr4dVJWUgsiH0B4uaVI.woff2) format(\\'woff2\\');}@font-face {font-family: \\'Open Sans\\';font-style: normal;font-weight: 400;font-stretch: normal;font-display: swap;src: url(https://fonts.gstatic.com/s/opensans/v34/memSYaGs126MiZpBA-UvWbX2vVnXBbObj2OVZyOOSr4dVJWUgsjZ0B4uaVI.woff2) format(\\'woff2\\');}@font-face {font-family: \\'Open Sans\\';font-style: normal;font-weight: 500;font-stretch: normal;font-display: swap;src: url(https://fonts.gstatic.com/s/opensans/v34/memSYaGs126MiZpBA-UvWbX2vVnXBbObj2OVZyOOSr4dVJWUgsjr0B4uaVI.woff2) format(\\'woff2\\');}@font-face {font-family: \\'Open Sans\\';font-style: normal;font-weight: 600;font-stretch: normal;font-display: swap;src: url(https://fonts.gstatic.com/s/opensans/v34/memSYaGs126MiZpBA-UvWbX2vVnXBbObj2OVZyOOSr4dVJWUgsgH1x4uaVI.woff2) format(\\'woff2\\');}@font-face {font-family: \\'Open Sans\\';font-style: normal;font-weight: 700;font-stretch: normal;font-display: swap;src: url(https://fonts.gstatic.com/s/opensans/v34/memSYaGs126MiZpBA-UvWbX2vVnXBbObj2OVZyOOSr4dVJWUgsg-1x4uaVI.woff2) format(\\'woff2\\');}@font-face {font-family: \\'Open Sans\\';font-style: normal;font-weight: 800;font-stretch: normal;font-display: swap;src: url(https://fonts.gstatic.com/s/opensans/v34/memSYaGs126MiZpBA-UvWbX2vVnXBbObj2OVZyOOSr4dVJWUgshZ1x4uaVI.woff2) format(\\'woff2\\');}@font-face {font-family: \\'Oswald\\';font-style: normal;font-weight: 200;font-display: swap;src: url(https://fonts.gstatic.com/s/oswald/v49/TK3_WkUHHAIjg75cFRf3bXL8LICs13FvsUhiZQ.woff2) format(\\'woff2\\');}@font-face {font-family: \\'Oswald\\';font-style: normal;font-weight: 300;font-display: swap;src: url(https://fonts.gstatic.com/s/oswald/v49/TK3_WkUHHAIjg75cFRf3bXL8LICs169vsUhiZQ.woff2) format(\\'woff2\\');}@font-face {font-family: \\'Oswald\\';font-style: normal;font-weight: 400;font-display: swap;src: url(https://fonts.gstatic.com/s/oswald/v49/TK3_WkUHHAIjg75cFRf3bXL8LICs1_FvsUhiZQ.woff2) format(\\'woff2\\');}@font-face {font-family: \\'Oswald\\';font-style: normal;font-weight: 500;font-display: swap;src: url(https://fonts.gstatic.com/s/oswald/v49/TK3_WkUHHAIjg75cFRf3bXL8LICs18NvsUhiZQ.woff2) format(\\'woff2\\');}@font-face {font-family: \\'Oswald\\';font-style: normal;font-weight: 600;font-display: swap;src: url(https://fonts.gstatic.com/s/oswald/v49/TK3_WkUHHAIjg75cFRf3bXL8LICs1y9osUhiZQ.woff2) format(\\'woff2\\');}@font-face {font-family: \\'Oswald\\';font-style: normal;font-weight: 700;font-display: swap;src: url(https://fonts.gstatic.com/s/oswald/v49/TK3_WkUHHAIjg75cFRf3bXL8LICs1xZosUhiZQ.woff2) format(\\'woff2\\');}@font-face {font-family: \\'PT Sans\\';font-style: italic;font-weight: 400;font-display: swap;src: url(https://fonts.gstatic.com/s/ptsans/v17/jizYRExUiTo99u79D0e0ycmI.woff2) format(\\'woff2\\');}@font-face {font-family: \\'PT Sans\\';font-style: italic;font-weight: 700;font-display: swap;src: url(https://fonts.gstatic.com/s/ptsans/v17/jizdRExUiTo99u79D0e8fOydIRUd.woff2) format(\\'woff2\\');}@font-face {font-family: \\'PT Sans\\';font-style: normal;font-weight: 400;font-display: swap;src: url(https://fonts.gstatic.com/s/ptsans/v17/jizaRExUiTo99u79D0yExQ.woff2) format(\\'woff2\\');}@font-face {font-family: \\'PT Sans\\';font-style: normal;font-weight: 700;font-display: swap;src: url(https://fonts.gstatic.com/s/ptsans/v17/jizfRExUiTo99u79B_mh0OCtLQ.woff2) format(\\'woff2\\');}</style><meta name=\\'robots\\' content=\\'index, follow, max-image-preview:large, max-snippet:-1, max-video-preview:-1\\' />\\n<script type=\"text/javascript\">\\n\\t\\t\\tlet jqueryParams=[],jQuery=function(r){return jqueryParams=[...jqueryParams,r],jQuery},$=function(r){return jqueryParams=[...jqueryParams,r],$};window.jQuery=jQuery,window.$=jQuery;let customHeadScripts=!1;jQuery.fn=jQuery.prototype={},$.fn=jQuery.prototype={},jQuery.noConflict=function(r){if(window.jQuery)return jQuery=window.jQuery,$=window.jQuery,customHeadScripts=!0,jQuery.noConflict},jQuery.ready=function(r){jqueryParams=[...jqueryParams,r]},$.ready=function(r){jqueryParams=[...jqueryParams,r]},jQuery.load=function(r){jqueryParams=[...jqueryParams,r]},$.load=function(r){jqueryParams=[...jqueryParams,r]},jQuery.fn.ready=function(r){jqueryParams=[...jqueryParams,r]},$.fn.ready=function(r){jqueryParams=[...jqueryParams,r]};</script>\\n\\t<!-- This site is optimized with the Yoast SEO plugin v20.4 - https://yoast.com/wordpress/plugins/seo/ -->\\n\\t<title>Home - Before Garvey! Henry McNeal Turner and the Fight for Reparations, Emmigration and Black Rights</title>\\n\\t<link rel=\"canonical\" href=\"https://coloredconventions.org/before-garvey-mcneal-turner/\" />\\n\\t<meta property=\"og:locale\" content=\"en_US\" />\\n\\t<meta property=\"og:type\" content=\"website\" />\\n\\t<meta property=\"og:title\" content=\"Home - Before Garvey! Henry McNeal Turner and the Fight for Reparations, Emmigration and Black Rights\" />\\n\\t<meta property=\"og:url\" content=\"https://coloredconventions.org/before-garvey-mcneal-turner/\" />\\n\\t<meta property=\"og:site_name\" content=\"Before Garvey! Henry McNeal Turner and the Fight for Reparations, Emmigration and Black Rights\" />\\n\\t<meta property=\"article:modified_time\" content=\"2021-08-26T22:44:27+00:00\" />\\n\\t<meta property=\"og:image\" content=\"https://i1.wp.com/coloredconventions.org/before-garvey-mcneal-turner/wp-content/uploads/sites/16/2021/02/banner_exhibits_before-garvey.png?fit=1200%2C675&ssl=1\" />\\n\\t<meta property=\"og:image:width\" content=\"1200\" />\\n\\t<meta property=\"og:image:height\" content=\"675\" />\\n\\t<meta property=\"og:image:type\" content=\"image/png\" />\\n\\t<meta name=\"twitter:card\" content=\"summary_large_image\" />\\n\\t<meta name=\"twitter:image\" content=\"https://i0.wp.com/coloredconventions.org/before-garvey-mcneal-turner/wp-content/uploads/sites/16/2021/02/banner_exhibits_before-garvey.png?fit=1200%2C675&ssl=1\" />\\n\\t<meta name=\"twitter:label1\" content=\"Est. reading time\" />\\n\\t<meta name=\"twitter:data1\" content=\"7 minutes\" />\\n\\t<script type=\"application/ld+json\" class=\"yoast-schema-graph\">{\"@context\":\"https://schema.org\",\"@graph\":[{\"@type\":\"WebPage\",\"@id\":\"https://coloredconventions.org/before-garvey-mcneal-turner/\",\"url\":\"https://coloredconventions.org/before-garvey-mcneal-turner/\",\"name\":\"Home - Before Garvey! Henry McNeal Turner and the Fight for Reparations, Emmigration and Black Rights\",\"isPartOf\":{\"@id\":\"https://coloredconventions.org/before-garvey-mcneal-turner/#website\"},\"primaryImageOfPage\":{\"@id\":\"https://coloredconventions.org/before-garvey-mcneal-turner/#primaryimage\"},\"image\":{\"@id\":\"https://coloredconventions.org/before-garvey-mcneal-turner/#primaryimage\"},\"thumbnailUrl\":\"https://i0.wp.com/coloredconventions.org/before-garvey-mcneal-turner/wp-content/uploads/sites/16/2021/02/banner_exhibits_before-garvey.png?fit=1200%2C675&ssl=1\",\"datePublished\":\"2018-04-09T19:00:48+00:00\",\"dateModified\":\"2021-08-26T22:44:27+00:00\",\"breadcrumb\":{\"@id\":\"https://coloredconventions.org/before-garvey-mcneal-turner/#breadcrumb\"},\"inLanguage\":\"en-US\",\"potentialAction\":[{\"@type\":\"ReadAction\",\"target\":[\"https://coloredconventions.org/before-garvey-mcneal-turner/\"]}]},{\"@type\":\"ImageObject\",\"inLanguage\":\"en-US\",\"@id\":\"https://coloredconventions.org/before-garvey-mcneal-turner/#primaryimage\",\"url\":\"https://i0.wp.com/coloredconventions.org/before-garvey-mcneal-turner/wp-content/uploads/sites/16/2021/02/banner_exhibits_before-garvey.png?fit=1200%2C675&ssl=1\",\"contentUrl\":\"https://i0.wp.com/coloredconventions.org/before-garvey-mcneal-turner/wp-content/uploads/sites/16/2021/02/banner_exhibits_before-garvey.png?fit=1200%2C675&ssl=1\",\"width\":1200,\"height\":675},{\"@type\":\"BreadcrumbList\",\"@id\":\"https://coloredconventions.org/before-garvey-mcneal-turner/#breadcrumb\",\"itemListElement\":[{\"@type\":\"ListItem\",\"position\":1,\"name\":\"Home\"}]},{\"@type\":\"WebSite\",\"@id\":\"https://coloredconventions.org/before-garvey-mcneal-turner/#website\",\"url\":\"https://coloredconventions.org/before-garvey-mcneal-turner/\",\"name\":\"Before Garvey! Henry McNeal Turner and the Fight for Reparations, Emmigration and Black Rights\",\"description\":\"An exhibit in the collection of the Colored Conventions Project\",\"potentialAction\":[{\"@type\":\"SearchAction\",\"target\":{\"@type\":\"EntryPoint\",\"urlTemplate\":\"https://coloredconventions.org/before-garvey-mcneal-turner/?s={search_term_string}\"},\"query-input\":\"required name=search_term_string\"}],\"inLanguage\":\"en-US\"}]}</script>\\n\\t<!-- / Yoast SEO plugin. -->\\n\\n\\n<link rel=\\'dns-prefetch\\' href=\\'//s7.addthis.com\\' />\\n<link rel=\\'dns-prefetch\\' href=\\'//i0.wp.com\\' />\\n<link rel=\"alternate\" type=\"application/rss+xml\" title=\"Before Garvey! Henry McNeal Turner and the Fight for Reparations, Emmigration and Black Rights &raquo; Feed\" href=\"https://coloredconventions.org/before-garvey-mcneal-turner/feed/\" />\\n<link rel=\"alternate\" type=\"application/rss+xml\" title=\"Before Garvey! Henry McNeal Turner and the Fight for Reparations, Emmigration and Black Rights &raquo; Comments Feed\" href=\"https://coloredconventions.org/before-garvey-mcneal-turner/comments/feed/\" />\\n<link rel=\"alternate\" type=\"application/rss+xml\" title=\"Before Garvey! Henry McNeal Turner and the Fight for Reparations, Emmigration and Black Rights &raquo; Home Comments Feed\" href=\"https://coloredconventions.org/before-garvey-mcneal-turner/sample-page/feed/\" />\\n<meta content=\"Divi Child v.1.0.0\" name=\"generator\"/><style id=\\'wp-block-library-theme-inline-css\\' type=\\'text/css\\'>\\n.wp-block-audio figcaption{color:#555;font-size:13px;text-align:center}.is-dark-theme .wp-block-audio figcaption{color:hsla(0,0%,100%,.65)}.wp-block-audio{margin:0 0 1em}.wp-block-code{border:1px solid #ccc;border-radius:4px;font-family:Menlo,Consolas,monaco,monospace;padding:.8em 1em}.wp-block-embed figcaption{color:#555;font-size:13px;text-align:center}.is-dark-theme .wp-block-embed figcaption{color:hsla(0,0%,100%,.65)}.wp-block-embed{margin:0 0 1em}.blocks-gallery-caption{color:#555;font-size:13px;text-align:center}.is-dark-theme .blocks-gallery-caption{color:hsla(0,0%,100%,.65)}.wp-block-image figcaption{color:#555;font-size:13px;text-align:center}.is-dark-theme .wp-block-image figcaption{color:hsla(0,0%,100%,.65)}.wp-block-image{margin:0 0 1em}.wp-block-pullquote{border-top:4px solid;border-bottom:4px solid;margin-bottom:1.75em;color:currentColor}.wp-block-pullquote__citation,.wp-block-pullquote cite,.wp-block-pullquote footer{color:currentColor;text-transform:uppercase;font-size:.8125em;font-style:normal}.wp-block-quote{border-left:.25em solid;margin:0 0 1.75em;padding-left:1em}.wp-block-quote cite,.wp-block-quote footer{color:currentColor;font-size:.8125em;position:relative;font-style:normal}.wp-block-quote.has-text-align-right{border-left:none;border-right:.25em solid;padding-left:0;padding-right:1em}.wp-block-quote.has-text-align-center{border:none;padding-left:0}.wp-block-quote.is-large,.wp-block-quote.is-style-large,.wp-block-quote.is-style-plain{border:none}.wp-block-search .wp-block-search__label{font-weight:700}.wp-block-search__button{border:1px solid #ccc;padding:.375em .625em}:where(.wp-block-group.has-background){padding:1.25em 2.375em}.wp-block-separator.has-css-opacity{opacity:.4}.wp-block-separator{border:none;border-bottom:2px solid;margin-left:auto;margin-right:auto}.wp-block-separator.has-alpha-channel-opacity{opacity:1}.wp-block-separator:not(.is-style-wide):not(.is-style-dots){width:100px}.wp-block-separator.has-background:not(.is-style-dots){border-bottom:none;height:1px}.wp-block-separator.has-background:not(.is-style-wide):not(.is-style-dots){height:2px}.wp-block-table{margin:\"0 0 1em 0\"}.wp-block-table thead{border-bottom:3px solid}.wp-block-table tfoot{border-top:3px solid}.wp-block-table td,.wp-block-table th{word-break:normal}.wp-block-table figcaption{color:#555;font-size:13px;text-align:center}.is-dark-theme .wp-block-table figcaption{color:hsla(0,0%,100%,.65)}.wp-block-video figcaption{color:#555;font-size:13px;text-align:center}.is-dark-theme .wp-block-video figcaption{color:hsla(0,0%,100%,.65)}.wp-block-video{margin:0 0 1em}.wp-block-template-part.has-background{padding:1.25em 2.375em;margin-top:0;margin-bottom:0}\\n</style>\\n<link rel=\\'stylesheet\\' id=\\'mediaelement-css\\' href=\\'https://coloredconventions.org/before-garvey-mcneal-turner/wp-includes/js/mediaelement/mediaelementplayer-legacy.min.css?ver=4.2.17\\' type=\\'text/css\\' media=\\'all\\' />\\n<link rel=\\'stylesheet\\' id=\\'wp-mediaelement-css\\' href=\\'https://coloredconventions.org/before-garvey-mcneal-turner/wp-includes/js/mediaelement/wp-mediaelement.min.css?ver=6.1.1\\' type=\\'text/css\\' media=\\'all\\' />\\n<style id=\\'global-styles-inline-css\\' type=\\'text/css\\'>\\nbody{--wp--preset--color--black: #000000;--wp--preset--color--cyan-bluish-gray: #abb8c3;--wp--preset--color--white: #ffffff;--wp--preset--color--pale-pink: #f78da7;--wp--preset--color--vivid-red: #cf2e2e;--wp--preset--color--luminous-vivid-orange: #ff6900;--wp--preset--color--luminous-vivid-amber: #fcb900;--wp--preset--color--light-green-cyan: #7bdcb5;--wp--preset--color--vivid-green-cyan: #00d084;--wp--preset--color--pale-cyan-blue: #8ed1fc;--wp--preset--color--vivid-cyan-blue: #0693e3;--wp--preset--color--vivid-purple: #9b51e0;--wp--preset--gradient--vivid-cyan-blue-to-vivid-purple: linear-gradient(135deg,rgba(6,147,227,1) 0%,rgb(155,81,224) 100%);--wp--preset--gradient--light-green-cyan-to-vivid-green-cyan: linear-gradient(135deg,rgb(122,220,180) 0%,rgb(0,208,130) 100%);--wp--preset--gradient--luminous-vivid-amber-to-luminous-vivid-orange: linear-gradient(135deg,rgba(252,185,0,1) 0%,rgba(255,105,0,1) 100%);--wp--preset--gradient--luminous-vivid-orange-to-vivid-red: linear-gradient(135deg,rgba(255,105,0,1) 0%,rgb(207,46,46) 100%);--wp--preset--gradient--very-light-gray-to-cyan-bluish-gray: linear-gradient(135deg,rgb(238,238,238) 0%,rgb(169,184,195) 100%);--wp--preset--gradient--cool-to-warm-spectrum: linear-gradient(135deg,rgb(74,234,220) 0%,rgb(151,120,209) 20%,rgb(207,42,186) 40%,rgb(238,44,130) 60%,rgb(251,105,98) 80%,rgb(254,248,76) 100%);--wp--preset--gradient--blush-light-purple: linear-gradient(135deg,rgb(255,206,236) 0%,rgb(152,150,240) 100%);--wp--preset--gradient--blush-bordeaux: linear-gradient(135deg,rgb(254,205,165) 0%,rgb(254,45,45) 50%,rgb(107,0,62) 100%);--wp--preset--gradient--luminous-dusk: linear-gradient(135deg,rgb(255,203,112) 0%,rgb(199,81,192) 50%,rgb(65,88,208) 100%);--wp--preset--gradient--pale-ocean: linear-gradient(135deg,rgb(255,245,203) 0%,rgb(182,227,212) 50%,rgb(51,167,181) 100%);--wp--preset--gradient--electric-grass: linear-gradient(135deg,rgb(202,248,128) 0%,rgb(113,206,126) 100%);--wp--preset--gradient--midnight: linear-gradient(135deg,rgb(2,3,129) 0%,rgb(40,116,252) 100%);--wp--preset--duotone--dark-grayscale: url(\\'#wp-duotone-dark-grayscale\\');--wp--preset--duotone--grayscale: url(\\'#wp-duotone-grayscale\\');--wp--preset--duotone--purple-yellow: url(\\'#wp-duotone-purple-yellow\\');--wp--preset--duotone--blue-red: url(\\'#wp-duotone-blue-red\\');--wp--preset--duotone--midnight: url(\\'#wp-duotone-midnight\\');--wp--preset--duotone--magenta-yellow: url(\\'#wp-duotone-magenta-yellow\\');--wp--preset--duotone--purple-green: url(\\'#wp-duotone-purple-green\\');--wp--preset--duotone--blue-orange: url(\\'#wp-duotone-blue-orange\\');--wp--preset--font-size--small: 13px;--wp--preset--font-size--medium: 20px;--wp--preset--font-size--large: 36px;--wp--preset--font-size--x-large: 42px;}body { margin: 0; }.wp-site-blocks > .alignleft { float: left; margin-right: 2em; }.wp-site-blocks > .alignright { float: right; margin-left: 2em; }.wp-site-blocks > .aligncenter { justify-content: center; margin-left: auto; margin-right: auto; }.has-black-color{color: var(--wp--preset--color--black) !important;}.has-cyan-bluish-gray-color{color: var(--wp--preset--color--cyan-bluish-gray) !important;}.has-white-color{color: var(--wp--preset--color--white) !important;}.has-pale-pink-color{color: var(--wp--preset--color--pale-pink) !important;}.has-vivid-red-color{color: var(--wp--preset--color--vivid-red) !important;}.has-luminous-vivid-orange-color{color: var(--wp--preset--color--luminous-vivid-orange) !important;}.has-luminous-vivid-amber-color{color: var(--wp--preset--color--luminous-vivid-amber) !important;}.has-light-green-cyan-color{color: var(--wp--preset--color--light-green-cyan) !important;}.has-vivid-green-cyan-color{color: var(--wp--preset--color--vivid-green-cyan) !important;}.has-pale-cyan-blue-color{color: var(--wp--preset--color--pale-cyan-blue) !important;}.has-vivid-cyan-blue-color{color: var(--wp--preset--color--vivid-cyan-blue) !important;}.has-vivid-purple-color{color: var(--wp--preset--color--vivid-purple) !important;}.has-black-background-color{background-color: var(--wp--preset--color--black) !important;}.has-cyan-bluish-gray-background-color{background-color: var(--wp--preset--color--cyan-bluish-gray) !important;}.has-white-background-color{background-color: var(--wp--preset--color--white) !important;}.has-pale-pink-background-color{background-color: var(--wp--preset--color--pale-pink) !important;}.has-vivid-red-background-color{background-color: var(--wp--preset--color--vivid-red) !important;}.has-luminous-vivid-orange-background-color{background-color: var(--wp--preset--color--luminous-vivid-orange) !important;}.has-luminous-vivid-amber-background-color{background-color: var(--wp--preset--color--luminous-vivid-amber) !important;}.has-light-green-cyan-background-color{background-color: var(--wp--preset--color--light-green-cyan) !important;}.has-vivid-green-cyan-background-color{background-color: var(--wp--preset--color--vivid-green-cyan) !important;}.has-pale-cyan-blue-background-color{background-color: var(--wp--preset--color--pale-cyan-blue) !important;}.has-vivid-cyan-blue-background-color{background-color: var(--wp--preset--color--vivid-cyan-blue) !important;}.has-vivid-purple-background-color{background-color: var(--wp--preset--color--vivid-purple) !important;}.has-black-border-color{border-color: var(--wp--preset--color--black) !important;}.has-cyan-bluish-gray-border-color{border-color: var(--wp--preset--color--cyan-bluish-gray) !important;}.has-white-border-color{border-color: var(--wp--preset--color--white) !important;}.has-pale-pink-border-color{border-color: var(--wp--preset--color--pale-pink) !important;}.has-vivid-red-border-color{border-color: var(--wp--preset--color--vivid-red) !important;}.has-luminous-vivid-orange-border-color{border-color: var(--wp--preset--color--luminous-vivid-orange) !important;}.has-luminous-vivid-amber-border-color{border-color: var(--wp--preset--color--luminous-vivid-amber) !important;}.has-light-green-cyan-border-color{border-color: var(--wp--preset--color--light-green-cyan) !important;}.has-vivid-green-cyan-border-color{border-color: var(--wp--preset--color--vivid-green-cyan) !important;}.has-pale-cyan-blue-border-color{border-color: var(--wp--preset--color--pale-cyan-blue) !important;}.has-vivid-cyan-blue-border-color{border-color: var(--wp--preset--color--vivid-cyan-blue) !important;}.has-vivid-purple-border-color{border-color: var(--wp--preset--color--vivid-purple) !important;}.has-vivid-cyan-blue-to-vivid-purple-gradient-background{background: var(--wp--preset--gradient--vivid-cyan-blue-to-vivid-purple) !important;}.has-light-green-cyan-to-vivid-green-cyan-gradient-background{background: var(--wp--preset--gradient--light-green-cyan-to-vivid-green-cyan) !important;}.has-luminous-vivid-amber-to-luminous-vivid-orange-gradient-background{background: var(--wp--preset--gradient--luminous-vivid-amber-to-luminous-vivid-orange) !important;}.has-luminous-vivid-orange-to-vivid-red-gradient-background{background: var(--wp--preset--gradient--luminous-vivid-orange-to-vivid-red) !important;}.has-very-light-gray-to-cyan-bluish-gray-gradient-background{background: var(--wp--preset--gradient--very-light-gray-to-cyan-bluish-gray) !important;}.has-cool-to-warm-spectrum-gradient-background{background: var(--wp--preset--gradient--cool-to-warm-spectrum) !important;}.has-blush-light-purple-gradient-background{background: var(--wp--preset--gradient--blush-light-purple) !important;}.has-blush-bordeaux-gradient-background{background: var(--wp--preset--gradient--blush-bordeaux) !important;}.has-luminous-dusk-gradient-background{background: var(--wp--preset--gradient--luminous-dusk) !important;}.has-pale-ocean-gradient-background{background: var(--wp--preset--gradient--pale-ocean) !important;}.has-electric-grass-gradient-background{background: var(--wp--preset--gradient--electric-grass) !important;}.has-midnight-gradient-background{background: var(--wp--preset--gradient--midnight) !important;}.has-small-font-size{font-size: var(--wp--preset--font-size--small) !important;}.has-medium-font-size{font-size: var(--wp--preset--font-size--medium) !important;}.has-large-font-size{font-size: var(--wp--preset--font-size--large) !important;}.has-x-large-font-size{font-size: var(--wp--preset--font-size--x-large) !important;}\\n.wp-block-navigation a:where(:not(.wp-element-button)){color: inherit;}\\n:where(.wp-block-columns.is-layout-flex){gap: 2em;}\\n.wp-block-pullquote{font-size: 1.5em;line-height: 1.6;}\\n</style>\\n<link rel=\\'stylesheet\\' id=\\'aw_style-css\\' href=\\'https://coloredconventions.org/before-garvey-mcneal-turner/wp-content/plugins/aw-divi-image-overlay/css/style.css?ver=6.1.1\\' type=\\'text/css\\' media=\\'all\\' />\\n<style id=\\'divi-style-parent-inline-inline-css\\' type=\\'text/css\\'>\\n/*!\\nTheme Name: Divi\\nTheme URI: http://www.elegantthemes.com/gallery/divi/\\nVersion: 4.20.2\\nDescription: Smart. Flexible. Beautiful. Divi is the most powerful theme in our collection.\\nAuthor: Elegant Themes\\nAuthor URI: http://www.elegantthemes.com\\nLicense: GNU General Public License v2\\nLicense URI: http://www.gnu.org/licenses/gpl-2.0.html\\n*/\\n\\na,abbr,acronym,address,applet,b,big,blockquote,body,center,cite,code,dd,del,dfn,div,dl,dt,em,fieldset,font,form,h1,h2,h3,h4,h5,h6,html,i,iframe,img,ins,kbd,label,legend,li,object,ol,p,pre,q,s,samp,small,span,strike,strong,sub,sup,tt,u,ul,var{margin:0;padding:0;border:0;outline:0;font-size:100%;-ms-text-size-adjust:100%;-webkit-text-size-adjust:100%;vertical-align:baseline;background:transparent}body{line-height:1}ol,ul{list-style:none}blockquote,q{quotes:none}blockquote:after,blockquote:before,q:after,q:before{content:\"\";content:none}blockquote{margin:20px 0 30px;border-left:5px solid;padding-left:20px}:focus{outline:0}del{text-decoration:line-through}pre{overflow:auto;padding:10px}figure{margin:0}table{border-collapse:collapse;border-spacing:0}article,aside,footer,header,hgroup,nav,section{display:block}body{font-family:Open Sans,Arial,sans-serif;font-size:14px;color:#666;background-color:#fff;line-height:1.7em;font-weight:500;-webkit-font-smoothing:antialiased;-moz-osx-font-smoothing:grayscale}body.page-template-page-template-blank-php #page-container{padding-top:0!important}body.et_cover_background{background-size:cover!important;background-position:top!important;background-repeat:no-repeat!important;background-attachment:fixed}a{color:#2ea3f2}a,a:hover{text-decoration:none}p{padding-bottom:1em}p:not(.has-background):last-of-type{padding-bottom:0}p.et_normal_padding{padding-bottom:1em}strong{font-weight:700}cite,em,i{font-style:italic}code,pre{font-family:Courier New,monospace;margin-bottom:10px}ins{text-decoration:none}sub,sup{height:0;line-height:1;position:relative;vertical-align:baseline}sup{bottom:.8em}sub{top:.3em}dl{margin:0 0 1.5em}dl dt{font-weight:700}dd{margin-left:1.5em}blockquote p{padding-bottom:0}embed,iframe,object,video{max-width:100%}h1,h2,h3,h4,h5,h6{color:#333;padding-bottom:10px;line-height:1em;font-weight:500}h1 a,h2 a,h3 a,h4 a,h5 a,h6 a{color:inherit}h1{font-size:30px}h2{font-size:26px}h3{font-size:22px}h4{font-size:18px}h5{font-size:16px}h6{font-size:14px}input{-webkit-appearance:none}input[type=checkbox]{-webkit-appearance:checkbox}input[type=radio]{-webkit-appearance:radio}input.text,input.title,input[type=email],input[type=password],input[type=tel],input[type=text],select,textarea{background-color:#fff;border:1px solid #bbb;padding:2px;color:#4e4e4e}input.text:focus,input.title:focus,input[type=text]:focus,select:focus,textarea:focus{border-color:#2d3940;color:#3e3e3e}input.text,input.title,input[type=text],select,textarea{margin:0}textarea{padding:4px}button,input,select,textarea{font-family:inherit}img{max-width:100%;height:auto}.clear{clear:both}br.clear{margin:0;padding:0}.pagination{clear:both}#et_search_icon:hover,.et-social-icon a:hover,.et_password_protected_form .et_submit_button,.form-submit .et_pb_buttontton.alt.disabled,.nav-single a,.posted_in a{color:#2ea3f2}.et-search-form,blockquote{border-color:#2ea3f2}#main-content{background-color:#fff}.container{width:80%;max-width:1080px;margin:auto;position:relative}body:not(.et-tb) #main-content .container,body:not(.et-tb-has-header) #main-content .container{padding-top:58px}.et_full_width_page #main-content .container:before{display:none}.main_title{margin-bottom:20px}.et_password_protected_form .et_submit_button:hover,.form-submit .et_pb_button:hover{background:rgba(0,0,0,.05)}.et_button_icon_visible .et_pb_button{padding-right:2em;padding-left:.7em}.et_button_icon_visible .et_pb_button:after{opacity:1;margin-left:0}.et_button_left .et_pb_button:hover:after{left:.15em}.et_button_left .et_pb_button:after{margin-left:0;left:1em}.et_button_icon_visible.et_button_left .et_pb_button,.et_button_left .et_pb_button:hover,.et_button_left .et_pb_module .et_pb_button:hover{padding-left:2em;padding-right:.7em}.et_button_icon_visible.et_button_left .et_pb_button:after,.et_button_left .et_pb_button:hover:after{left:.15em}.et_password_protected_form .et_submit_button:hover,.form-submit .et_pb_button:hover{padding:.3em 1em}.et_button_no_icon .et_pb_button:after{display:none}.et_button_no_icon.et_button_icon_visible.et_button_left .et_pb_button,.et_button_no_icon.et_button_left .et_pb_button:hover,.et_button_no_icon .et_pb_button,.et_button_no_icon .et_pb_button:hover{padding:.3em 1em!important}.et_button_custom_icon .et_pb_button:after{line-height:1.7em}.et_button_custom_icon.et_button_icon_visible .et_pb_button:after,.et_button_custom_icon .et_pb_button:hover:after{margin-left:.3em}#left-area .post_format-post-format-gallery .wp-block-gallery:first-of-type{padding:0;margin-bottom:-16px}.entry-content table:not(.variations){border:1px solid #eee;margin:0 0 15px;text-align:left;width:100%}.entry-content thead th,.entry-content tr th{color:#555;font-weight:700;padding:9px 24px}.entry-content tr td{border-top:1px solid #eee;padding:6px 24px}#left-area ul,.entry-content ul,.et-l--body ul,.et-l--footer ul,.et-l--header ul{list-style-type:disc;padding:0 0 23px 1em;line-height:26px}#left-area ol,.entry-content ol,.et-l--body ol,.et-l--footer ol,.et-l--header ol{list-style-type:decimal;list-style-position:inside;padding:0 0 23px;line-height:26px}#left-area ul li ul,.entry-content ul li ol{padding:2px 0 2px 20px}#left-area ol li ul,.entry-content ol li ol,.et-l--body ol li ol,.et-l--footer ol li ol,.et-l--header ol li ol{padding:2px 0 2px 35px}#left-area ul.wp-block-gallery{display:-webkit-box;display:-ms-flexbox;display:flex;-ms-flex-wrap:wrap;flex-wrap:wrap;list-style-type:none;padding:0}#left-area ul.products{padding:0!important;line-height:1.7!important;list-style:none!important}.gallery-item a{display:block}.gallery-caption,.gallery-item a{width:90%}#wpadminbar{z-index:100001}#left-area .post-meta{font-size:14px;padding-bottom:15px}#left-area .post-meta a{text-decoration:none;color:#666}#left-area .et_featured_image{padding-bottom:7px}.single .post{padding-bottom:25px}body.single .et_audio_content{margin-bottom:-6px}.nav-single a{text-decoration:none;color:#2ea3f2;font-size:14px;font-weight:400}.nav-previous{float:left}.nav-next{float:right}.et_password_protected_form p input{background-color:#eee;border:none!important;width:100%!important;border-radius:0!important;font-size:14px;color:#999!important;padding:16px!important;-webkit-box-sizing:border-box;box-sizing:border-box}.et_password_protected_form label{display:none}.et_password_protected_form .et_submit_button{font-family:inherit;display:block;float:right;margin:8px auto 0;cursor:pointer}.post-password-required p.nocomments.container{max-width:100%}.post-password-required p.nocomments.container:before{display:none}.aligncenter,div.post .new-post .aligncenter{display:block;margin-left:auto;margin-right:auto}.wp-caption{border:1px solid #ddd;text-align:center;background-color:#f3f3f3;margin-bottom:10px;max-width:96%;padding:8px}.wp-caption.alignleft{margin:0 30px 20px 0}.wp-caption.alignright{margin:0 0 20px 30px}.wp-caption img{margin:0;padding:0;border:0}.wp-caption p.wp-caption-text{font-size:12px;padding:0 4px 5px;margin:0}.alignright{float:right}.alignleft{float:left}img.alignleft{display:inline;float:left;margin-right:15px}img.alignright{display:inline;float:right;margin-left:15px}.page.et_pb_pagebuilder_layout #main-content{background-color:transparent}body #main-content .et_builder_inner_content>h1,body #main-content .et_builder_inner_content>h2,body #main-content .et_builder_inner_content>h3,body #main-content .et_builder_inner_content>h4,body #main-content .et_builder_inner_content>h5,body #main-content .et_builder_inner_content>h6{line-height:1.4em}body #main-content .et_builder_inner_content>p{line-height:1.7em}.wp-block-pullquote{margin:20px 0 30px}.wp-block-pullquote.has-background blockquote{border-left:none}.wp-block-group.has-background{padding:1.5em 1.5em .5em}@media (min-width:981px){#left-area{width:79.125%;padding-bottom:23px}#main-content .container:before{content:\"\";position:absolute;top:0;height:100%;width:1px;background-color:#e2e2e2}.et_full_width_page #left-area,.et_no_sidebar #left-area{float:none;width:100%!important}.et_full_width_page #left-area{padding-bottom:0}.et_no_sidebar #main-content .container:before{display:none}}@media (max-width:980px){#page-container{padding-top:80px}.et-tb #page-container,.et-tb-has-header #page-container{padding-top:0!important}#left-area,#sidebar{width:100%!important}#main-content .container:before{display:none!important}.et_full_width_page .et_gallery_item:nth-child(4n+1){clear:none}}@media print{#page-container{padding-top:0!important}}#wp-admin-bar-et-use-visual-builder a:before{font-family:ETmodules!important;content:\"\\\\e625\";font-size:30px!important;width:28px;margin-top:-3px;color:#974df3!important}#wp-admin-bar-et-use-visual-builder:hover a:before{color:#fff!important}#wp-admin-bar-et-use-visual-builder:hover a,#wp-admin-bar-et-use-visual-builder a:hover{transition:background-color .5s ease;-webkit-transition:background-color .5s ease;-moz-transition:background-color .5s ease;background-color:#7e3bd0!important;color:#fff!important}* html .clearfix,:first-child+html .clearfix{zoom:1}.iphone .et_pb_section_video_bg video::-webkit-media-controls-start-playback-button{display:none!important;-webkit-appearance:none}.et_mobile_device .et_pb_section_parallax .et_pb_parallax_css{background-attachment:scroll}.et-social-facebook a.icon:before{content:\"\\\\e093\"}.et-social-twitter a.icon:before{content:\"\\\\e094\"}.et-social-google-plus a.icon:before{content:\"\\\\e096\"}.et-social-instagram a.icon:before{content:\"\\\\e09a\"}.et-social-rss a.icon:before{content:\"\\\\e09e\"}.ai1ec-single-event:after{content:\" \";display:table;clear:both}.evcal_event_details .evcal_evdata_cell .eventon_details_shading_bot.eventon_details_shading_bot{z-index:3}.wp-block-divi-layout{margin-bottom:1em}*{-webkit-box-sizing:border-box;box-sizing:border-box}#et-info-email:before,#et-info-phone:before,#et_search_icon:before,.comment-reply-link:after,.et-cart-info span:before,.et-pb-arrow-next:before,.et-pb-arrow-prev:before,.et-social-icon a:before,.et_audio_container .mejs-playpause-button button:before,.et_audio_container .mejs-volume-button button:before,.et_overlay:before,.et_password_protected_form .et_submit_button:after,.et_pb_button:after,.et_pb_contact_reset:after,.et_pb_contact_submit:after,.et_pb_font_icon:before,.et_pb_newsletter_button:after,.et_pb_pricing_table_button:after,.et_pb_promo_button:after,.et_pb_testimonial:before,.et_pb_toggle_title:before,.form-submit .et_pb_button:after,.mobile_menu_bar:before,a.et_pb_more_button:after{font-family:ETmodules!important;speak:none;font-style:normal;font-weight:400;-webkit-font-feature-settings:normal;font-feature-settings:normal;font-variant:normal;text-transform:none;line-height:1;-webkit-font-smoothing:antialiased;-moz-osx-font-smoothing:grayscale;text-shadow:0 0;direction:ltr}.et-pb-icon,.et_pb_custom_button_icon.et_pb_button:after,.et_pb_login .et_pb_custom_button_icon.et_pb_button:after,.et_pb_woo_custom_button_icon .button.et_pb_custom_button_icon.et_pb_button:after,.et_pb_woo_custom_button_icon .button.et_pb_custom_button_icon.et_pb_button:hover:after{content:attr(data-icon)}.et-pb-icon{font-family:ETmodules;speak:none;font-weight:400;-webkit-font-feature-settings:normal;font-feature-settings:normal;font-variant:normal;text-transform:none;line-height:1;-webkit-font-smoothing:antialiased;font-size:96px;font-style:normal;display:inline-block;-webkit-box-sizing:border-box;box-sizing:border-box;direction:ltr}#et-ajax-saving{display:none;-webkit-transition:background .3s,-webkit-box-shadow .3s;transition:background .3s,-webkit-box-shadow .3s;transition:background .3s,box-shadow .3s;transition:background .3s,box-shadow .3s,-webkit-box-shadow .3s;-webkit-box-shadow:rgba(0,139,219,.247059) 0 0 60px;box-shadow:0 0 60px rgba(0,139,219,.247059);position:fixed;top:50%;left:50%;width:50px;height:50px;background:#fff;border-radius:50px;margin:-25px 0 0 -25px;z-index:999999;text-align:center}#et-ajax-saving img{margin:9px}.et-safe-mode-indicator,.et-safe-mode-indicator:focus,.et-safe-mode-indicator:hover{-webkit-box-shadow:0 5px 10px rgba(41,196,169,.15);box-shadow:0 5px 10px rgba(41,196,169,.15);background:#29c4a9;color:#fff;font-size:14px;font-weight:600;padding:12px;line-height:16px;border-radius:3px;position:fixed;bottom:30px;right:30px;z-index:999999;text-decoration:none;font-family:Open Sans,sans-serif;-webkit-font-smoothing:antialiased;-moz-osx-font-smoothing:grayscale}.et_pb_button{font-size:20px;font-weight:500;padding:.3em 1em;line-height:1.7em!important;background-color:transparent;background-size:cover;background-position:50%;background-repeat:no-repeat;border:2px solid;border-radius:3px;-webkit-transition-duration:.2s;transition-duration:.2s;-webkit-transition-property:all!important;transition-property:all!important}.et_pb_button,.et_pb_button_inner{position:relative}.et_pb_button:hover,.et_pb_module .et_pb_button:hover{border:2px solid transparent;padding:.3em 2em .3em .7em}.et_pb_button:hover{background-color:hsla(0,0%,100%,.2)}.et_pb_bg_layout_light.et_pb_button:hover,.et_pb_bg_layout_light .et_pb_button:hover{background-color:rgba(0,0,0,.05)}.et_pb_button:after,.et_pb_button:before{font-size:32px;line-height:1em;content:\"\\\\35\";opacity:0;position:absolute;margin-left:-1em;-webkit-transition:all .2s;transition:all .2s;text-transform:none;-webkit-font-feature-settings:\"kern\" off;font-feature-settings:\"kern\" off;font-variant:none;font-style:normal;font-weight:400;text-shadow:none}.et_pb_button.et_hover_enabled:hover:after,.et_pb_button.et_pb_hovered:hover:after{-webkit-transition:none!important;transition:none!important}.et_pb_button:before{display:none}.et_pb_button:hover:after{opacity:1;margin-left:0}.et_pb_column_1_3 h1,.et_pb_column_1_4 h1,.et_pb_column_1_5 h1,.et_pb_column_1_6 h1,.et_pb_column_2_5 h1{font-size:26px}.et_pb_column_1_3 h2,.et_pb_column_1_4 h2,.et_pb_column_1_5 h2,.et_pb_column_1_6 h2,.et_pb_column_2_5 h2{font-size:23px}.et_pb_column_1_3 h3,.et_pb_column_1_4 h3,.et_pb_column_1_5 h3,.et_pb_column_1_6 h3,.et_pb_column_2_5 h3{font-size:20px}.et_pb_column_1_3 h4,.et_pb_column_1_4 h4,.et_pb_column_1_5 h4,.et_pb_column_1_6 h4,.et_pb_column_2_5 h4{font-size:18px}.et_pb_column_1_3 h5,.et_pb_column_1_4 h5,.et_pb_column_1_5 h5,.et_pb_column_1_6 h5,.et_pb_column_2_5 h5{font-size:16px}.et_pb_column_1_3 h6,.et_pb_column_1_4 h6,.et_pb_column_1_5 h6,.et_pb_column_1_6 h6,.et_pb_column_2_5 h6{font-size:15px}.et_pb_bg_layout_dark,.et_pb_bg_layout_dark h1,.et_pb_bg_layout_dark h2,.et_pb_bg_layout_dark h3,.et_pb_bg_layout_dark h4,.et_pb_bg_layout_dark h5,.et_pb_bg_layout_dark h6{color:#fff!important}.et_pb_module.et_pb_text_align_left{text-align:left}.et_pb_module.et_pb_text_align_center{text-align:center}.et_pb_module.et_pb_text_align_right{text-align:right}.et_pb_module.et_pb_text_align_justified{text-align:justify}.clearfix:after{visibility:hidden;display:block;font-size:0;content:\" \";clear:both;height:0}.et_pb_bg_layout_light .et_pb_more_button{color:#2ea3f2}.et_builder_inner_content{position:relative;z-index:1}header .et_builder_inner_content{z-index:2}.et_pb_css_mix_blend_mode_passthrough{mix-blend-mode:unset!important}.et_pb_image_container{margin:-20px -20px 29px}.et_pb_module_inner{position:relative}.et_hover_enabled_preview{z-index:2}.et_hover_enabled:hover{position:relative;z-index:2}.et_pb_all_tabs,.et_pb_module,.et_pb_posts_nav a,.et_pb_tab,.et_pb_with_background{position:relative;background-size:cover;background-position:50%;background-repeat:no-repeat}.et_pb_background_mask,.et_pb_background_pattern{bottom:0;left:0;position:absolute;right:0;top:0}.et_pb_background_mask{background-size:calc(100% + 2px) calc(100% + 2px);background-repeat:no-repeat;background-position:50%;overflow:hidden}.et_pb_background_pattern{background-position:0 0;background-repeat:repeat}.et_pb_with_border{position:relative;border:0 solid #333}.post-password-required .et_pb_row{padding:0;width:100%}.post-password-required .et_password_protected_form{min-height:0}body.et_pb_pagebuilder_layout.et_pb_show_title .post-password-required .et_password_protected_form h1,body:not(.et_pb_pagebuilder_layout) .post-password-required .et_password_protected_form h1{display:none}.et_pb_no_bg{padding:0!important}.et_overlay.et_pb_inline_icon:before,.et_pb_inline_icon:before{content:attr(data-icon)}.et_pb_more_button{color:inherit;text-shadow:none;text-decoration:none;display:inline-block;margin-top:20px}.et_parallax_bg_wrap{overflow:hidden;position:absolute;top:0;right:0;bottom:0;left:0}.et_parallax_bg{background-repeat:no-repeat;background-position:top;background-size:cover;position:absolute;bottom:0;left:0;width:100%;height:100%;display:block}.et_parallax_bg.et_parallax_bg__hover,.et_parallax_bg.et_parallax_bg_phone,.et_parallax_bg.et_parallax_bg_tablet,.et_parallax_gradient.et_parallax_gradient__hover,.et_parallax_gradient.et_parallax_gradient_phone,.et_parallax_gradient.et_parallax_gradient_tablet,.et_pb_section_parallax_hover:hover .et_parallax_bg:not(.et_parallax_bg__hover),.et_pb_section_parallax_hover:hover .et_parallax_gradient:not(.et_parallax_gradient__hover){display:none}.et_pb_section_parallax_hover:hover .et_parallax_bg.et_parallax_bg__hover,.et_pb_section_parallax_hover:hover .et_parallax_gradient.et_parallax_gradient__hover{display:block}.et_parallax_gradient{bottom:0;display:block;left:0;position:absolute;right:0;top:0}.et_pb_module.et_pb_section_parallax,.et_pb_posts_nav a.et_pb_section_parallax,.et_pb_tab.et_pb_section_parallax{position:relative}.et_pb_section_parallax .et_pb_parallax_css,.et_pb_slides .et_parallax_bg.et_pb_parallax_css{background-attachment:fixed}body.et-bfb .et_pb_section_parallax .et_pb_parallax_css,body.et-bfb .et_pb_slides .et_parallax_bg.et_pb_parallax_css{background-attachment:scroll;bottom:auto}.et_pb_section_parallax.et_pb_column .et_pb_module,.et_pb_section_parallax.et_pb_row .et_pb_column,.et_pb_section_parallax.et_pb_row .et_pb_module{z-index:9;position:relative}.et_pb_more_button:hover:after{opacity:1;margin-left:0}.et_pb_preload .et_pb_section_video_bg,.et_pb_preload>div{visibility:hidden}.et_pb_preload,.et_pb_section.et_pb_section_video.et_pb_preload{position:relative;background:#464646!important}.et_pb_preload:before{content:\"\";position:absolute;top:50%;left:50%;background:url(https://coloredconventions.org/before-garvey-mcneal-turner/wp-content/themes/Divi/includes/builder/styles/images/preloader.gif) no-repeat;border-radius:32px;width:32px;height:32px;margin:-16px 0 0 -16px}.box-shadow-overlay{position:absolute;top:0;left:0;width:100%;height:100%;z-index:10;pointer-events:none}.et_pb_section>.box-shadow-overlay~.et_pb_row{z-index:11}body.safari .section_has_divider{will-change:transform}.et_pb_row>.box-shadow-overlay{z-index:8}.has-box-shadow-overlay{position:relative}.et_clickable{cursor:pointer}.screen-reader-text{border:0;clip:rect(1px,1px,1px,1px);-webkit-clip-path:inset(50%);clip-path:inset(50%);height:1px;margin:-1px;overflow:hidden;padding:0;position:absolute!important;width:1px;word-wrap:normal!important}.et_multi_view_hidden,.et_multi_view_hidden_image{display:none!important}@keyframes multi-view-image-fade{0%{opacity:0}10%{opacity:.1}20%{opacity:.2}30%{opacity:.3}40%{opacity:.4}50%{opacity:.5}60%{opacity:.6}70%{opacity:.7}80%{opacity:.8}90%{opacity:.9}to{opacity:1}}.et_multi_view_image__loading{visibility:hidden}.et_multi_view_image__loaded{-webkit-animation:multi-view-image-fade .5s;animation:multi-view-image-fade .5s}#et-pb-motion-effects-offset-tracker{visibility:hidden!important;opacity:0;position:absolute;top:0;left:0}.et-pb-before-scroll-animation{opacity:0}header.et-l.et-l--header:after{clear:both;display:block;content:\"\"}.et_pb_module{-webkit-animation-timing-function:linear;animation-timing-function:linear;-webkit-animation-duration:.2s;animation-duration:.2s}@-webkit-keyframes fadeBottom{0%{opacity:0;-webkit-transform:translateY(10%);transform:translateY(10%)}to{opacity:1;-webkit-transform:translateY(0);transform:translateY(0)}}@keyframes fadeBottom{0%{opacity:0;-webkit-transform:translateY(10%);transform:translateY(10%)}to{opacity:1;-webkit-transform:translateY(0);transform:translateY(0)}}@-webkit-keyframes fadeLeft{0%{opacity:0;-webkit-transform:translateX(-10%);transform:translateX(-10%)}to{opacity:1;-webkit-transform:translateX(0);transform:translateX(0)}}@keyframes fadeLeft{0%{opacity:0;-webkit-transform:translateX(-10%);transform:translateX(-10%)}to{opacity:1;-webkit-transform:translateX(0);transform:translateX(0)}}@-webkit-keyframes fadeRight{0%{opacity:0;-webkit-transform:translateX(10%);transform:translateX(10%)}to{opacity:1;-webkit-transform:translateX(0);transform:translateX(0)}}@keyframes fadeRight{0%{opacity:0;-webkit-transform:translateX(10%);transform:translateX(10%)}to{opacity:1;-webkit-transform:translateX(0);transform:translateX(0)}}@-webkit-keyframes fadeTop{0%{opacity:0;-webkit-transform:translateY(-10%);transform:translateY(-10%)}to{opacity:1;-webkit-transform:translateX(0);transform:translateX(0)}}@keyframes fadeTop{0%{opacity:0;-webkit-transform:translateY(-10%);transform:translateY(-10%)}to{opacity:1;-webkit-transform:translateX(0);transform:translateX(0)}}@-webkit-keyframes fadeIn{0%{opacity:0}to{opacity:1}}@keyframes fadeIn{0%{opacity:0}to{opacity:1}}.et-waypoint:not(.et_pb_counters){opacity:0}@media (min-width:981px){.et_pb_section.et_section_specialty div.et_pb_row .et_pb_column .et_pb_column .et_pb_module.et-last-child,.et_pb_section.et_section_specialty div.et_pb_row .et_pb_column .et_pb_column .et_pb_module:last-child,.et_pb_section.et_section_specialty div.et_pb_row .et_pb_column .et_pb_row_inner .et_pb_column .et_pb_module.et-last-child,.et_pb_section.et_section_specialty div.et_pb_row .et_pb_column .et_pb_row_inner .et_pb_column .et_pb_module:last-child,.et_pb_section div.et_pb_row .et_pb_column .et_pb_module.et-last-child,.et_pb_section div.et_pb_row .et_pb_column .et_pb_module:last-child{margin-bottom:0}}@media (max-width:980px){.et_overlay.et_pb_inline_icon_tablet:before,.et_pb_inline_icon_tablet:before{content:attr(data-icon-tablet)}.et_parallax_bg.et_parallax_bg_tablet_exist,.et_parallax_gradient.et_parallax_gradient_tablet_exist{display:none}.et_parallax_bg.et_parallax_bg_tablet,.et_parallax_gradient.et_parallax_gradient_tablet{display:block}.et_pb_column .et_pb_module{margin-bottom:30px}.et_pb_row .et_pb_column .et_pb_module.et-last-child,.et_pb_row .et_pb_column .et_pb_module:last-child,.et_section_specialty .et_pb_row .et_pb_column .et_pb_module.et-last-child,.et_section_specialty .et_pb_row .et_pb_column .et_pb_module:last-child{margin-bottom:0}.et_pb_more_button{display:inline-block!important}.et_pb_bg_layout_light_tablet.et_pb_button,.et_pb_bg_layout_light_tablet.et_pb_module.et_pb_button,.et_pb_bg_layout_light_tablet .et_pb_more_button{color:#2ea3f2}.et_pb_bg_layout_light_tablet .et_pb_forgot_password a{color:#666}.et_pb_bg_layout_light_tablet h1,.et_pb_bg_layout_light_tablet h2,.et_pb_bg_layout_light_tablet h3,.et_pb_bg_layout_light_tablet h4,.et_pb_bg_layout_light_tablet h5,.et_pb_bg_layout_light_tablet h6{color:#333!important}.et_pb_module .et_pb_bg_layout_light_tablet.et_pb_button{color:#2ea3f2!important}.et_pb_bg_layout_light_tablet{color:#666!important}.et_pb_bg_layout_dark_tablet,.et_pb_bg_layout_dark_tablet h1,.et_pb_bg_layout_dark_tablet h2,.et_pb_bg_layout_dark_tablet h3,.et_pb_bg_layout_dark_tablet h4,.et_pb_bg_layout_dark_tablet h5,.et_pb_bg_layout_dark_tablet h6{color:#fff!important}.et_pb_bg_layout_dark_tablet.et_pb_button,.et_pb_bg_layout_dark_tablet.et_pb_module.et_pb_button,.et_pb_bg_layout_dark_tablet .et_pb_more_button{color:inherit}.et_pb_bg_layout_dark_tablet .et_pb_forgot_password a{color:#fff}.et_pb_module.et_pb_text_align_left-tablet{text-align:left}.et_pb_module.et_pb_text_align_center-tablet{text-align:center}.et_pb_module.et_pb_text_align_right-tablet{text-align:right}.et_pb_module.et_pb_text_align_justified-tablet{text-align:justify}}@media (max-width:767px){.et_pb_more_button{display:inline-block!important}.et_overlay.et_pb_inline_icon_phone:before,.et_pb_inline_icon_phone:before{content:attr(data-icon-phone)}.et_parallax_bg.et_parallax_bg_phone_exist,.et_parallax_gradient.et_parallax_gradient_phone_exist{display:none}.et_parallax_bg.et_parallax_bg_phone,.et_parallax_gradient.et_parallax_gradient_phone{display:block}.et-hide-mobile{display:none!important}.et_pb_bg_layout_light_phone.et_pb_button,.et_pb_bg_layout_light_phone.et_pb_module.et_pb_button,.et_pb_bg_layout_light_phone .et_pb_more_button{color:#2ea3f2}.et_pb_bg_layout_light_phone .et_pb_forgot_password a{color:#666}.et_pb_bg_layout_light_phone h1,.et_pb_bg_layout_light_phone h2,.et_pb_bg_layout_light_phone h3,.et_pb_bg_layout_light_phone h4,.et_pb_bg_layout_light_phone h5,.et_pb_bg_layout_light_phone h6{color:#333!important}.et_pb_module .et_pb_bg_layout_light_phone.et_pb_button{color:#2ea3f2!important}.et_pb_bg_layout_light_phone{color:#666!important}.et_pb_bg_layout_dark_phone,.et_pb_bg_layout_dark_phone h1,.et_pb_bg_layout_dark_phone h2,.et_pb_bg_layout_dark_phone h3,.et_pb_bg_layout_dark_phone h4,.et_pb_bg_layout_dark_phone h5,.et_pb_bg_layout_dark_phone h6{color:#fff!important}.et_pb_bg_layout_dark_phone.et_pb_button,.et_pb_bg_layout_dark_phone.et_pb_module.et_pb_button,.et_pb_bg_layout_dark_phone .et_pb_more_button{color:inherit}.et_pb_module .et_pb_bg_layout_dark_phone.et_pb_button{color:#fff!important}.et_pb_bg_layout_dark_phone .et_pb_forgot_password a{color:#fff}.et_pb_module.et_pb_text_align_left-phone{text-align:left}.et_pb_module.et_pb_text_align_center-phone{text-align:center}.et_pb_module.et_pb_text_align_right-phone{text-align:right}.et_pb_module.et_pb_text_align_justified-phone{text-align:justify}}@media (max-width:479px){a.et_pb_more_button{display:block}}@media (min-width:768px) and (max-width:980px){[data-et-multi-view-load-tablet-hidden=true]:not(.et_multi_view_swapped){display:none!important}}@media (max-width:767px){[data-et-multi-view-load-phone-hidden=true]:not(.et_multi_view_swapped){display:none!important}}.et_pb_menu.et_pb_menu--style-inline_centered_logo .et_pb_menu__menu nav ul{-webkit-box-pack:center;-ms-flex-pack:center;justify-content:center}@-webkit-keyframes multi-view-image-fade{0%{-webkit-transform:scale(1);transform:scale(1);opacity:1}50%{-webkit-transform:scale(1.01);transform:scale(1.01);opacity:1}to{-webkit-transform:scale(1);transform:scale(1);opacity:1}}\\n</style>\\n<style id=\\'divi-dynamic-critical-inline-css\\' type=\\'text/css\\'>\\n@font-face{font-family:ETmodules;font-display:block;src:url(//coloredconventions.org/before-garvey-mcneal-turner/wp-content/themes/Divi/core/admin/fonts/modules/all/modules.eot);src:url(//coloredconventions.org/before-garvey-mcneal-turner/wp-content/themes/Divi/core/admin/fonts/modules/all/modules.eot?#iefix) format(\"embedded-opentype\"),url(//coloredconventions.org/before-garvey-mcneal-turner/wp-content/themes/Divi/core/admin/fonts/modules/all/modules.woff) format(\"woff\"),url(//coloredconventions.org/before-garvey-mcneal-turner/wp-content/themes/Divi/core/admin/fonts/modules/all/modules.ttf) format(\"truetype\"),url(//coloredconventions.org/before-garvey-mcneal-turner/wp-content/themes/Divi/core/admin/fonts/modules/all/modules.svg#ETmodules) format(\"svg\");font-weight:400;font-style:normal}\\n@media (min-width:981px){.et_pb_gutters3 .et_pb_column,.et_pb_gutters3.et_pb_row .et_pb_column{margin-right:5.5%}.et_pb_gutters3 .et_pb_column_4_4,.et_pb_gutters3.et_pb_row .et_pb_column_4_4{width:100%}.et_pb_gutters3 .et_pb_column_4_4 .et_pb_module,.et_pb_gutters3.et_pb_row .et_pb_column_4_4 .et_pb_module{margin-bottom:2.75%}.et_pb_gutters3 .et_pb_column_3_4,.et_pb_gutters3.et_pb_row .et_pb_column_3_4{width:73.625%}.et_pb_gutters3 .et_pb_column_3_4 .et_pb_module,.et_pb_gutters3.et_pb_row .et_pb_column_3_4 .et_pb_module{margin-bottom:3.735%}.et_pb_gutters3 .et_pb_column_2_3,.et_pb_gutters3.et_pb_row .et_pb_column_2_3{width:64.833%}.et_pb_gutters3 .et_pb_column_2_3 .et_pb_module,.et_pb_gutters3.et_pb_row .et_pb_column_2_3 .et_pb_module{margin-bottom:4.242%}.et_pb_gutters3 .et_pb_column_3_5,.et_pb_gutters3.et_pb_row .et_pb_column_3_5{width:57.8%}.et_pb_gutters3 .et_pb_column_3_5 .et_pb_module,.et_pb_gutters3.et_pb_row .et_pb_column_3_5 .et_pb_module{margin-bottom:4.758%}.et_pb_gutters3 .et_pb_column_1_2,.et_pb_gutters3.et_pb_row .et_pb_column_1_2{width:47.25%}.et_pb_gutters3 .et_pb_column_1_2 .et_pb_module,.et_pb_gutters3.et_pb_row .et_pb_column_1_2 .et_pb_module{margin-bottom:5.82%}.et_pb_gutters3 .et_pb_column_2_5,.et_pb_gutters3.et_pb_row .et_pb_column_2_5{width:36.7%}.et_pb_gutters3 .et_pb_column_2_5 .et_pb_module,.et_pb_gutters3.et_pb_row .et_pb_column_2_5 .et_pb_module{margin-bottom:7.493%}.et_pb_gutters3 .et_pb_column_1_3,.et_pb_gutters3.et_pb_row .et_pb_column_1_3{width:29.6667%}.et_pb_gutters3 .et_pb_column_1_3 .et_pb_module,.et_pb_gutters3.et_pb_row .et_pb_column_1_3 .et_pb_module{margin-bottom:9.27%}.et_pb_gutters3 .et_pb_column_1_4,.et_pb_gutters3.et_pb_row .et_pb_column_1_4{width:20.875%}.et_pb_gutters3 .et_pb_column_1_4 .et_pb_module,.et_pb_gutters3.et_pb_row .et_pb_column_1_4 .et_pb_module{margin-bottom:13.174%}.et_pb_gutters3 .et_pb_column_1_5,.et_pb_gutters3.et_pb_row .et_pb_column_1_5{width:15.6%}.et_pb_gutters3 .et_pb_column_1_5 .et_pb_module,.et_pb_gutters3.et_pb_row .et_pb_column_1_5 .et_pb_module{margin-bottom:17.628%}.et_pb_gutters3 .et_pb_column_1_6,.et_pb_gutters3.et_pb_row .et_pb_column_1_6{width:12.0833%}.et_pb_gutters3 .et_pb_column_1_6 .et_pb_module,.et_pb_gutters3.et_pb_row .et_pb_column_1_6 .et_pb_module{margin-bottom:22.759%}.et_pb_gutters3 .et_full_width_page.woocommerce-page ul.products li.product{width:20.875%;margin-right:5.5%;margin-bottom:5.5%}.et_pb_gutters3.et_left_sidebar.woocommerce-page #main-content ul.products li.product,.et_pb_gutters3.et_right_sidebar.woocommerce-page #main-content ul.products li.product{width:28.353%;margin-right:7.47%}.et_pb_gutters3.et_left_sidebar.woocommerce-page #main-content ul.products.columns-1 li.product,.et_pb_gutters3.et_right_sidebar.woocommerce-page #main-content ul.products.columns-1 li.product{width:100%;margin-right:0}.et_pb_gutters3.et_left_sidebar.woocommerce-page #main-content ul.products.columns-2 li.product,.et_pb_gutters3.et_right_sidebar.woocommerce-page #main-content ul.products.columns-2 li.product{width:48%;margin-right:4%}.et_pb_gutters3.et_left_sidebar.woocommerce-page #main-content ul.products.columns-2 li:nth-child(2n+2),.et_pb_gutters3.et_right_sidebar.woocommerce-page #main-content ul.products.columns-2 li:nth-child(2n+2){margin-right:0}.et_pb_gutters3.et_left_sidebar.woocommerce-page #main-content ul.products.columns-2 li:nth-child(3n+1),.et_pb_gutters3.et_right_sidebar.woocommerce-page #main-content ul.products.columns-2 li:nth-child(3n+1){clear:none}}\\n@media (min-width:981px){.et_pb_gutter.et_pb_gutters1 #left-area{width:75%}.et_pb_gutter.et_pb_gutters1 #sidebar{width:25%}.et_pb_gutters1.et_right_sidebar #left-area{padding-right:0}.et_pb_gutters1.et_left_sidebar #left-area{padding-left:0}.et_pb_gutter.et_pb_gutters1.et_right_sidebar #main-content .container:before{right:25%!important}.et_pb_gutter.et_pb_gutters1.et_left_sidebar #main-content .container:before{left:25%!important}.et_pb_gutters1 .et_pb_column,.et_pb_gutters1.et_pb_row .et_pb_column{margin-right:0}.et_pb_gutters1 .et_pb_column_4_4,.et_pb_gutters1.et_pb_row .et_pb_column_4_4{width:100%}.et_pb_gutters1 .et_pb_column_4_4 .et_pb_module,.et_pb_gutters1.et_pb_row .et_pb_column_4_4 .et_pb_module{margin-bottom:0}.et_pb_gutters1 .et_pb_column_3_4,.et_pb_gutters1.et_pb_row .et_pb_column_3_4{width:75%}.et_pb_gutters1 .et_pb_column_3_4 .et_pb_module,.et_pb_gutters1.et_pb_row .et_pb_column_3_4 .et_pb_module{margin-bottom:0}.et_pb_gutters1 .et_pb_column_2_3,.et_pb_gutters1.et_pb_row .et_pb_column_2_3{width:66.667%}.et_pb_gutters1 .et_pb_column_2_3 .et_pb_module,.et_pb_gutters1.et_pb_row .et_pb_column_2_3 .et_pb_module{margin-bottom:0}.et_pb_gutters1 .et_pb_column_3_5,.et_pb_gutters1.et_pb_row .et_pb_column_3_5{width:60%}.et_pb_gutters1 .et_pb_column_3_5 .et_pb_module,.et_pb_gutters1.et_pb_row .et_pb_column_3_5 .et_pb_module{margin-bottom:0}.et_pb_gutters1 .et_pb_column_1_2,.et_pb_gutters1.et_pb_row .et_pb_column_1_2{width:50%}.et_pb_gutters1 .et_pb_column_1_2 .et_pb_module,.et_pb_gutters1.et_pb_row .et_pb_column_1_2 .et_pb_module{margin-bottom:0}.et_pb_gutters1 .et_pb_column_2_5,.et_pb_gutters1.et_pb_row .et_pb_column_2_5{width:40%}.et_pb_gutters1 .et_pb_column_2_5 .et_pb_module,.et_pb_gutters1.et_pb_row .et_pb_column_2_5 .et_pb_module{margin-bottom:0}.et_pb_gutters1 .et_pb_column_1_3,.et_pb_gutters1.et_pb_row .et_pb_column_1_3{width:33.3333%}.et_pb_gutters1 .et_pb_column_1_3 .et_pb_module,.et_pb_gutters1.et_pb_row .et_pb_column_1_3 .et_pb_module{margin-bottom:0}.et_pb_gutters1 .et_pb_column_1_4,.et_pb_gutters1.et_pb_row .et_pb_column_1_4{width:25%}.et_pb_gutters1 .et_pb_column_1_4 .et_pb_module,.et_pb_gutters1.et_pb_row .et_pb_column_1_4 .et_pb_module{margin-bottom:0}.et_pb_gutters1 .et_pb_column_1_5,.et_pb_gutters1.et_pb_row .et_pb_column_1_5{width:20%}.et_pb_gutters1 .et_pb_column_1_5 .et_pb_module,.et_pb_gutters1.et_pb_row .et_pb_column_1_5 .et_pb_module{margin-bottom:0}.et_pb_gutters1 .et_pb_column_1_6,.et_pb_gutters1.et_pb_row .et_pb_column_1_6{width:16.6667%}.et_pb_gutters1 .et_pb_column_1_6 .et_pb_module,.et_pb_gutters1.et_pb_row .et_pb_column_1_6 .et_pb_module{margin-bottom:0}.et_pb_gutters1 .et_full_width_page.woocommerce-page ul.products li.product{width:25%;margin-right:0;margin-bottom:0}.et_pb_gutters1.et_left_sidebar.woocommerce-page #main-content ul.products li.product,.et_pb_gutters1.et_right_sidebar.woocommerce-page #main-content ul.products li.product{width:33.333%;margin-right:0}}@media (max-width:980px){.et_pb_gutters1 .et_pb_column,.et_pb_gutters1 .et_pb_column .et_pb_module,.et_pb_gutters1.et_pb_row .et_pb_column,.et_pb_gutters1.et_pb_row .et_pb_column .et_pb_module{margin-bottom:0}.et_pb_gutters1 .et_pb_row_1-2_1-4_1-4>.et_pb_column.et_pb_column_1_4,.et_pb_gutters1 .et_pb_row_1-4_1-4>.et_pb_column.et_pb_column_1_4,.et_pb_gutters1 .et_pb_row_1-4_1-4_1-2>.et_pb_column.et_pb_column_1_4,.et_pb_gutters1 .et_pb_row_1-5_1-5_3-5>.et_pb_column.et_pb_column_1_5,.et_pb_gutters1 .et_pb_row_3-5_1-5_1-5>.et_pb_column.et_pb_column_1_5,.et_pb_gutters1 .et_pb_row_4col>.et_pb_column.et_pb_column_1_4,.et_pb_gutters1 .et_pb_row_5col>.et_pb_column.et_pb_column_1_5,.et_pb_gutters1.et_pb_row_1-2_1-4_1-4>.et_pb_column.et_pb_column_1_4,.et_pb_gutters1.et_pb_row_1-4_1-4>.et_pb_column.et_pb_column_1_4,.et_pb_gutters1.et_pb_row_1-4_1-4_1-2>.et_pb_column.et_pb_column_1_4,.et_pb_gutters1.et_pb_row_1-5_1-5_3-5>.et_pb_column.et_pb_column_1_5,.et_pb_gutters1.et_pb_row_3-5_1-5_1-5>.et_pb_column.et_pb_column_1_5,.et_pb_gutters1.et_pb_row_4col>.et_pb_column.et_pb_column_1_4,.et_pb_gutters1.et_pb_row_5col>.et_pb_column.et_pb_column_1_5{width:50%;margin-right:0}.et_pb_gutters1 .et_pb_row_1-2_1-6_1-6_1-6>.et_pb_column.et_pb_column_1_6,.et_pb_gutters1 .et_pb_row_1-6_1-6_1-6>.et_pb_column.et_pb_column_1_6,.et_pb_gutters1 .et_pb_row_1-6_1-6_1-6_1-2>.et_pb_column.et_pb_column_1_6,.et_pb_gutters1 .et_pb_row_6col>.et_pb_column.et_pb_column_1_6,.et_pb_gutters1.et_pb_row_1-2_1-6_1-6_1-6>.et_pb_column.et_pb_column_1_6,.et_pb_gutters1.et_pb_row_1-6_1-6_1-6>.et_pb_column.et_pb_column_1_6,.et_pb_gutters1.et_pb_row_1-6_1-6_1-6_1-2>.et_pb_column.et_pb_column_1_6,.et_pb_gutters1.et_pb_row_6col>.et_pb_column.et_pb_column_1_6{width:33.333%;margin-right:0}.et_pb_gutters1 .et_pb_row_1-6_1-6_1-6_1-6>.et_pb_column.et_pb_column_1_6,.et_pb_gutters1.et_pb_row_1-6_1-6_1-6_1-6>.et_pb_column.et_pb_column_1_6{width:50%;margin-right:0}}@media (max-width:767px){.et_pb_gutters1 .et_pb_column,.et_pb_gutters1 .et_pb_column .et_pb_module,.et_pb_gutters1.et_pb_row .et_pb_column,.et_pb_gutters1.et_pb_row .et_pb_column .et_pb_module{margin-bottom:0}}@media (max-width:479px){.et_pb_gutters1 .et_pb_column,.et_pb_gutters1.et_pb_row .et_pb_column{margin:0!important}.et_pb_gutters1 .et_pb_column .et_pb_module,.et_pb_gutters1.et_pb_row .et_pb_column .et_pb_module{margin-bottom:0}}\\n#et-secondary-menu li,#top-menu li{word-wrap:break-word}.nav li ul,.et_mobile_menu{border-color:#2EA3F2}.mobile_menu_bar:before,.mobile_menu_bar:after,#top-menu li.current-menu-ancestor>a,#top-menu li.current-menu-item>a{color:#2EA3F2}#main-header{-webkit-transition:background-color 0.4s, color 0.4s, opacity 0.4s ease-in-out, -webkit-transform 0.4s;transition:background-color 0.4s, color 0.4s, opacity 0.4s ease-in-out, -webkit-transform 0.4s;transition:background-color 0.4s, color 0.4s, transform 0.4s, opacity 0.4s ease-in-out;transition:background-color 0.4s, color 0.4s, transform 0.4s, opacity 0.4s ease-in-out, -webkit-transform 0.4s}#main-header.et-disabled-animations *{-webkit-transition-duration:0s !important;transition-duration:0s !important}.container{text-align:left;position:relative}.et_fixed_nav.et_show_nav #page-container{padding-top:80px}.et_fixed_nav.et_show_nav.et-tb #page-container,.et_fixed_nav.et_show_nav.et-tb-has-header #page-container{padding-top:0 !important}.et_fixed_nav.et_show_nav.et_secondary_nav_enabled #page-container{padding-top:111px}.et_fixed_nav.et_show_nav.et_secondary_nav_enabled.et_header_style_centered #page-container{padding-top:177px}.et_fixed_nav.et_show_nav.et_header_style_centered #page-container{padding-top:147px}.et_fixed_nav #main-header{position:fixed}.et-cloud-item-editor #page-container{padding-top:0 !important}.et_header_style_left #et-top-navigation{padding-top:33px}.et_header_style_left #et-top-navigation nav>ul>li>a{padding-bottom:33px}.et_header_style_left .logo_container{position:absolute;height:100%;width:100%}.et_header_style_left #et-top-navigation .mobile_menu_bar{padding-bottom:24px}.et_hide_search_icon #et_top_search{display:none !important}#logo{width:auto;-webkit-transition:all 0.4s ease-in-out;transition:all 0.4s ease-in-out;margin-bottom:0;max-height:54%;display:inline-block;float:none;vertical-align:middle;-webkit-transform:translate3d(0, 0, 0)}.et_pb_svg_logo #logo{height:54%}.logo_container{-webkit-transition:all 0.4s ease-in-out;transition:all 0.4s ease-in-out}span.logo_helper{display:inline-block;height:100%;vertical-align:middle;width:0}.safari .centered-inline-logo-wrap{-webkit-transform:translate3d(0, 0, 0);-webkit-transition:all 0.4s ease-in-out;transition:all 0.4s ease-in-out}#et-define-logo-wrap img{width:100%}.gecko #et-define-logo-wrap.svg-logo{position:relative !important}#top-menu-nav,#top-menu{line-height:0}#et-top-navigation{font-weight:600}.et_fixed_nav #et-top-navigation{-webkit-transition:all 0.4s ease-in-out;transition:all 0.4s ease-in-out}.et-cart-info span:before{content:\"\\\\e07a\";margin-right:10px;position:relative}nav#top-menu-nav,#top-menu,nav.et-menu-nav,.et-menu{float:left}#top-menu li{display:inline-block;font-size:14px;padding-right:22px}#top-menu>li:last-child{padding-right:0}.et_fullwidth_nav.et_non_fixed_nav.et_header_style_left #top-menu>li:last-child>ul.sub-menu{right:0}#top-menu a{color:rgba(0,0,0,0.6);text-decoration:none;display:block;position:relative;-webkit-transition:opacity 0.4s ease-in-out, background-color 0.4s ease-in-out;transition:opacity 0.4s ease-in-out, background-color 0.4s ease-in-out}#top-menu-nav>ul>li>a:hover{opacity:0.7;-webkit-transition:all 0.4s ease-in-out;transition:all 0.4s ease-in-out}#et_search_icon:before{content:\"\\\\55\";font-size:17px;left:0;position:absolute;top:-3px}#et_search_icon:hover{cursor:pointer}#et_top_search{float:right;margin:3px 0 0 22px;position:relative;display:block;width:18px}#et_top_search.et_search_opened{position:absolute;width:100%}.et-search-form{top:0;bottom:0;right:0;position:absolute;z-index:1000;width:100%}.et-search-form input{width:90%;border:none;color:#333;position:absolute;top:0;bottom:0;right:30px;margin:auto;background:transparent}.et-search-form .et-search-field::-ms-clear{width:0;height:0;display:none}.et_search_form_container{-webkit-animation:none;animation:none;-o-animation:none}.container.et_search_form_container{position:relative;opacity:0;height:1px}.container.et_search_form_container.et_pb_search_visible{z-index:999;-webkit-animation:fadeInTop 1s 1 cubic-bezier(0.77, 0, 0.175, 1);animation:fadeInTop 1s 1 cubic-bezier(0.77, 0, 0.175, 1)}.et_pb_search_visible.et_pb_no_animation{opacity:1}.et_pb_search_form_hidden{-webkit-animation:fadeOutTop 1s 1 cubic-bezier(0.77, 0, 0.175, 1);animation:fadeOutTop 1s 1 cubic-bezier(0.77, 0, 0.175, 1)}span.et_close_search_field{display:block;width:30px;height:30px;z-index:99999;position:absolute;right:0;cursor:pointer;top:0;bottom:0;margin:auto}span.et_close_search_field:after{font-family:\\'ETmodules\\';content:\\'\\\\4d\\';speak:none;font-weight:normal;font-variant:normal;text-transform:none;line-height:1;-webkit-font-smoothing:antialiased;font-size:32px;display:inline-block;-webkit-box-sizing:border-box;box-sizing:border-box}.container.et_menu_container{z-index:99}.container.et_search_form_container.et_pb_search_form_hidden{z-index:1 !important}.et_search_outer{width:100%;overflow:hidden;position:absolute;top:0}.container.et_pb_menu_hidden{z-index:-1}form.et-search-form{background:rgba(0,0,0,0) !important}input[type=\"search\"]::-webkit-search-cancel-button{-webkit-appearance:none}.et-cart-info{color:inherit}#et-top-navigation .et-cart-info{float:left;margin:-2px 0 0 22px;font-size:16px}#et-top-navigation{float:right}#top-menu li li{padding:0 20px;margin:0}#top-menu li li a{padding:6px 20px;width:200px}.nav li.et-touch-hover>ul{opacity:1;visibility:visible}#top-menu .menu-item-has-children>a:first-child:after,#et-secondary-nav .menu-item-has-children>a:first-child:after{font-family:\\'ETmodules\\';content:\"3\";font-size:16px;position:absolute;right:0;top:0;font-weight:800}#top-menu .menu-item-has-children>a:first-child,#et-secondary-nav .menu-item-has-children>a:first-child{padding-right:20px}#top-menu li .menu-item-has-children>a:first-child{padding-right:40px}#top-menu li .menu-item-has-children>a:first-child:after{right:20px;top:6px}#top-menu li.mega-menu{position:inherit}#top-menu li.mega-menu>ul{padding:30px 20px;position:absolute !important;width:100%;left:0 !important}#top-menu li.mega-menu ul li{margin:0;float:left !important;display:block !important;padding:0 !important}#top-menu li.mega-menu>ul>li:nth-of-type(4n){clear:right}#top-menu li.mega-menu>ul>li:nth-of-type(4n+1){clear:left}#top-menu li.mega-menu ul li li{width:100%}#top-menu li.mega-menu li>ul{-webkit-animation:none !important;animation:none !important;padding:0px;border:none;left:auto;top:auto;width:90% !important;position:relative;-webkit-box-shadow:none;box-shadow:none}#top-menu li.mega-menu li ul{visibility:visible;opacity:1;display:none}#top-menu li.mega-menu.et-hover li ul{display:block}#top-menu li.mega-menu.et-hover>ul{opacity:1 !important;visibility:visible !important}#top-menu li.mega-menu>ul>li>a{width:90%;padding:0 20px 10px}#top-menu li.mega-menu>ul>li>a:first-child{padding-top:0 !important;font-weight:bold;border-bottom:1px solid rgba(0,0,0,0.03)}#top-menu li.mega-menu>ul>li>a:first-child:hover{background-color:transparent !important}#top-menu li.mega-menu li>a{width:100%}#top-menu li.mega-menu.mega-menu-parent li li,#top-menu li.mega-menu.mega-menu-parent li>a{width:100% !important}#top-menu li.mega-menu.mega-menu-parent li>.sub-menu{float:left;width:100% !important}#top-menu li.mega-menu>ul>li{width:25%;margin:0}#top-menu li.mega-menu.mega-menu-parent-3>ul>li{width:33.33%}#top-menu li.mega-menu.mega-menu-parent-2>ul>li{width:50%}#top-menu li.mega-menu.mega-menu-parent-1>ul>li{width:100%}#top-menu li.mega-menu .menu-item-has-children>a:first-child:after{display:none}#top-menu li.mega-menu>ul>li>ul>li{width:100%;margin:0}#et_mobile_nav_menu{float:right;display:none}.mobile_menu_bar{position:relative;display:block;line-height:0}.mobile_menu_bar:before,.et_toggle_slide_menu:after{content:\"\\\\61\";font-size:32px;left:0;position:relative;top:0;cursor:pointer}.mobile_nav .select_page{display:none}.et_pb_menu_hidden #top-menu,.et_pb_menu_hidden #et_search_icon:before,.et_pb_menu_hidden .et-cart-info{opacity:0;-webkit-animation:fadeOutBottom 1s 1 cubic-bezier(0.77, 0, 0.175, 1);animation:fadeOutBottom 1s 1 cubic-bezier(0.77, 0, 0.175, 1)}.et_pb_menu_visible #top-menu,.et_pb_menu_visible #et_search_icon:before,.et_pb_menu_visible .et-cart-info{z-index:99;opacity:1;-webkit-animation:fadeInBottom 1s 1 cubic-bezier(0.77, 0, 0.175, 1);animation:fadeInBottom 1s 1 cubic-bezier(0.77, 0, 0.175, 1)}.et_pb_menu_hidden #top-menu,.et_pb_menu_hidden #et_search_icon:before,.et_pb_menu_hidden .mobile_menu_bar{opacity:0;-webkit-animation:fadeOutBottom 1s 1 cubic-bezier(0.77, 0, 0.175, 1);animation:fadeOutBottom 1s 1 cubic-bezier(0.77, 0, 0.175, 1)}.et_pb_menu_visible #top-menu,.et_pb_menu_visible #et_search_icon:before,.et_pb_menu_visible .mobile_menu_bar{z-index:99;opacity:1;-webkit-animation:fadeInBottom 1s 1 cubic-bezier(0.77, 0, 0.175, 1);animation:fadeInBottom 1s 1 cubic-bezier(0.77, 0, 0.175, 1)}.et_pb_no_animation #top-menu,.et_pb_no_animation #et_search_icon:before,.et_pb_no_animation .mobile_menu_bar,.et_pb_no_animation.et_search_form_container{animation:none !important;-o-animation:none !important;-webkit-animation:none !important;-moz-animation:none !important}body.admin-bar.et_fixed_nav #main-header{top:32px}body.et-wp-pre-3_8.admin-bar.et_fixed_nav #main-header{top:28px}body.et_fixed_nav.et_secondary_nav_enabled #main-header{top:30px}body.admin-bar.et_fixed_nav.et_secondary_nav_enabled #main-header{top:63px}@media all and (min-width: 981px){.et_hide_primary_logo #main-header:not(.et-fixed-header) .logo_container,.et_hide_fixed_logo #main-header.et-fixed-header .logo_container{height:0;opacity:0;-webkit-transition:all 0.4s ease-in-out;transition:all 0.4s ease-in-out}.et_hide_primary_logo #main-header:not(.et-fixed-header) .centered-inline-logo-wrap,.et_hide_fixed_logo #main-header.et-fixed-header .centered-inline-logo-wrap{height:0;opacity:0;padding:0}.et-animated-content#page-container{-webkit-transition:margin-top 0.4s ease-in-out;transition:margin-top 0.4s ease-in-out}.et_hide_nav #page-container{-webkit-transition:none;transition:none}.et_fullwidth_nav .et-search-form,.et_fullwidth_nav .et_close_search_field{right:30px}#main-header.et-fixed-header{-webkit-box-shadow:0 0 7px rgba(0,0,0,0.1) !important;box-shadow:0 0 7px rgba(0,0,0,0.1) !important}.et_header_style_left .et-fixed-header #et-top-navigation{padding-top:20px}.et_header_style_left .et-fixed-header #et-top-navigation nav>ul>li>a{padding-bottom:20px}.et_hide_nav.et_fixed_nav #main-header{opacity:0}.et_hide_nav.et_fixed_nav .et-fixed-header#main-header{-webkit-transform:translateY(0px) !important;transform:translateY(0px) !important;opacity:1}.et_hide_nav .centered-inline-logo-wrap,.et_hide_nav.et_fixed_nav #main-header,.et_hide_nav.et_fixed_nav #main-header,.et_hide_nav .centered-inline-logo-wrap{-webkit-transition-duration:.7s;transition-duration:.7s}.et_hide_nav #page-container{padding-top:0 !important}.et_primary_nav_dropdown_animation_fade #et-top-navigation ul li:hover>ul,.et_secondary_nav_dropdown_animation_fade #et-secondary-nav li:hover>ul{-webkit-transition:all .2s ease-in-out;transition:all .2s ease-in-out}.et_primary_nav_dropdown_animation_slide #et-top-navigation ul li:hover>ul,.et_secondary_nav_dropdown_animation_slide #et-secondary-nav li:hover>ul{-webkit-animation:fadeLeft .4s ease-in-out;animation:fadeLeft .4s ease-in-out}.et_primary_nav_dropdown_animation_expand #et-top-navigation ul li:hover>ul,.et_secondary_nav_dropdown_animation_expand #et-secondary-nav li:hover>ul{-webkit-transform-origin:0 0;transform-origin:0 0;-webkit-animation:Grow .4s ease-in-out;animation:Grow .4s ease-in-out;-webkit-backface-visibility:visible !important;backface-visibility:visible !important}.et_primary_nav_dropdown_animation_flip #et-top-navigation ul li ul li:hover>ul,.et_secondary_nav_dropdown_animation_flip #et-secondary-nav ul li:hover>ul{-webkit-animation:flipInX .6s ease-in-out;animation:flipInX .6s ease-in-out;-webkit-backface-visibility:visible !important;backface-visibility:visible !important}.et_primary_nav_dropdown_animation_flip #et-top-navigation ul li:hover>ul,.et_secondary_nav_dropdown_animation_flip #et-secondary-nav li:hover>ul{-webkit-animation:flipInY .6s ease-in-out;animation:flipInY .6s ease-in-out;-webkit-backface-visibility:visible !important;backface-visibility:visible !important}.et_fullwidth_nav #main-header .container{width:100%;max-width:100%;padding-right:32px;padding-left:30px}.et_non_fixed_nav.et_fullwidth_nav.et_header_style_left #main-header .container{padding-left:0}.et_non_fixed_nav.et_fullwidth_nav.et_header_style_left .logo_container{padding-left:30px}}@media all and (max-width: 980px){.et_fixed_nav.et_show_nav.et_secondary_nav_enabled #page-container,.et_fixed_nav.et_show_nav #page-container{padding-top:80px}.et_fixed_nav.et_show_nav.et-tb #page-container,.et_fixed_nav.et_show_nav.et-tb-has-header #page-container{padding-top:0 !important}.et_non_fixed_nav #page-container{padding-top:0}.et_fixed_nav.et_secondary_nav_only_menu.admin-bar #main-header{top:32px !important}.et_hide_mobile_logo #main-header .logo_container{display:none;opacity:0;-webkit-transition:all 0.4s ease-in-out;transition:all 0.4s ease-in-out}#top-menu{display:none}.et_hide_nav.et_fixed_nav #main-header{-webkit-transform:translateY(0px) !important;transform:translateY(0px) !important;opacity:1}#et-top-navigation{margin-right:0;-webkit-transition:none;transition:none}.et_fixed_nav #main-header{position:absolute}.et_header_style_left .et-fixed-header #et-top-navigation,.et_header_style_left #et-top-navigation{padding-top:24px;display:block}.et_fixed_nav #main-header{-webkit-transition:none;transition:none}.et_fixed_nav_temp #main-header{top:0 !important}#logo,.logo_container,#main-header,.container{-webkit-transition:none;transition:none}.et_header_style_left #logo{max-width:50%}#et_top_search{margin:0 35px 0 0;float:left}#et_search_icon:before{top:7px}.et_header_style_left .et-search-form{width:50% !important;max-width:50% !important}#et_mobile_nav_menu{display:block}#et-top-navigation .et-cart-info{margin-top:5px}}@media screen and (max-width: 782px){body.admin-bar.et_fixed_nav #main-header{top:46px}}@media all and (max-width: 767px){#et-top-navigation{margin-right:0}body.admin-bar.et_fixed_nav #main-header{top:46px}}@media all and (max-width: 479px){#et-top-navigation{margin-right:0}}@media print{#top-header,#main-header{position:relative !important;top:auto !important;right:auto !important;bottom:auto !important;left:auto !important}}\\n@-webkit-keyframes fadeOutTop{0%{opacity:1;-webkit-transform:translatey(0);transform:translatey(0)}to{opacity:0;-webkit-transform:translatey(-60%);transform:translatey(-60%)}}@keyframes fadeOutTop{0%{opacity:1;-webkit-transform:translatey(0);transform:translatey(0)}to{opacity:0;-webkit-transform:translatey(-60%);transform:translatey(-60%)}}@-webkit-keyframes fadeInTop{0%{opacity:0;-webkit-transform:translatey(-60%);transform:translatey(-60%)}to{opacity:1;-webkit-transform:translatey(0);transform:translatey(0)}}@keyframes fadeInTop{0%{opacity:0;-webkit-transform:translatey(-60%);transform:translatey(-60%)}to{opacity:1;-webkit-transform:translatey(0);transform:translatey(0)}}@-webkit-keyframes fadeInBottom{0%{opacity:0;-webkit-transform:translatey(60%);transform:translatey(60%)}to{opacity:1;-webkit-transform:translatey(0);transform:translatey(0)}}@keyframes fadeInBottom{0%{opacity:0;-webkit-transform:translatey(60%);transform:translatey(60%)}to{opacity:1;-webkit-transform:translatey(0);transform:translatey(0)}}@-webkit-keyframes fadeOutBottom{0%{opacity:1;-webkit-transform:translatey(0);transform:translatey(0)}to{opacity:0;-webkit-transform:translatey(60%);transform:translatey(60%)}}@keyframes fadeOutBottom{0%{opacity:1;-webkit-transform:translatey(0);transform:translatey(0)}to{opacity:0;-webkit-transform:translatey(60%);transform:translatey(60%)}}@-webkit-keyframes Grow{0%{opacity:0;-webkit-transform:scaleY(.5);transform:scaleY(.5)}to{opacity:1;-webkit-transform:scale(1);transform:scale(1)}}@keyframes Grow{0%{opacity:0;-webkit-transform:scaleY(.5);transform:scaleY(.5)}to{opacity:1;-webkit-transform:scale(1);transform:scale(1)}}/*!\\n\\t  * Animate.css - http://daneden.me/animate\\n\\t  * Licensed under the MIT license - http://opensource.org/licenses/MIT\\n\\t  * Copyright (c) 2015 Daniel Eden\\n\\t */@-webkit-keyframes flipInX{0%{-webkit-transform:perspective(400px) rotateX(90deg);transform:perspective(400px) rotateX(90deg);-webkit-animation-timing-function:ease-in;animation-timing-function:ease-in;opacity:0}40%{-webkit-transform:perspective(400px) rotateX(-20deg);transform:perspective(400px) rotateX(-20deg);-webkit-animation-timing-function:ease-in;animation-timing-function:ease-in}60%{-webkit-transform:perspective(400px) rotateX(10deg);transform:perspective(400px) rotateX(10deg);opacity:1}80%{-webkit-transform:perspective(400px) rotateX(-5deg);transform:perspective(400px) rotateX(-5deg)}to{-webkit-transform:perspective(400px);transform:perspective(400px)}}@keyframes flipInX{0%{-webkit-transform:perspective(400px) rotateX(90deg);transform:perspective(400px) rotateX(90deg);-webkit-animation-timing-function:ease-in;animation-timing-function:ease-in;opacity:0}40%{-webkit-transform:perspective(400px) rotateX(-20deg);transform:perspective(400px) rotateX(-20deg);-webkit-animation-timing-function:ease-in;animation-timing-function:ease-in}60%{-webkit-transform:perspective(400px) rotateX(10deg);transform:perspective(400px) rotateX(10deg);opacity:1}80%{-webkit-transform:perspective(400px) rotateX(-5deg);transform:perspective(400px) rotateX(-5deg)}to{-webkit-transform:perspective(400px);transform:perspective(400px)}}@-webkit-keyframes flipInY{0%{-webkit-transform:perspective(400px) rotateY(90deg);transform:perspective(400px) rotateY(90deg);-webkit-animation-timing-function:ease-in;animation-timing-function:ease-in;opacity:0}40%{-webkit-transform:perspective(400px) rotateY(-20deg);transform:perspective(400px) rotateY(-20deg);-webkit-animation-timing-function:ease-in;animation-timing-function:ease-in}60%{-webkit-transform:perspective(400px) rotateY(10deg);transform:perspective(400px) rotateY(10deg);opacity:1}80%{-webkit-transform:perspective(400px) rotateY(-5deg);transform:perspective(400px) rotateY(-5deg)}to{-webkit-transform:perspective(400px);transform:perspective(400px)}}@keyframes flipInY{0%{-webkit-transform:perspective(400px) rotateY(90deg);transform:perspective(400px) rotateY(90deg);-webkit-animation-timing-function:ease-in;animation-timing-function:ease-in;opacity:0}40%{-webkit-transform:perspective(400px) rotateY(-20deg);transform:perspective(400px) rotateY(-20deg);-webkit-animation-timing-function:ease-in;animation-timing-function:ease-in}60%{-webkit-transform:perspective(400px) rotateY(10deg);transform:perspective(400px) rotateY(10deg);opacity:1}80%{-webkit-transform:perspective(400px) rotateY(-5deg);transform:perspective(400px) rotateY(-5deg)}to{-webkit-transform:perspective(400px);transform:perspective(400px)}}\\n#main-header{line-height:23px;font-weight:500;top:0;background-color:#fff;width:100%;-webkit-box-shadow:0 1px 0 rgba(0,0,0,.1);box-shadow:0 1px 0 rgba(0,0,0,.1);position:relative;z-index:99999}.nav li li{padding:0 20px;margin:0}.et-menu li li a{padding:6px 20px;width:200px}.nav li{position:relative;line-height:1em}.nav li li{position:relative;line-height:2em}.nav li ul{position:absolute;padding:20px 0;z-index:9999;width:240px;background:#fff;visibility:hidden;opacity:0;border-top:3px solid #2ea3f2;box-shadow:0 2px 5px rgba(0,0,0,.1);-moz-box-shadow:0 2px 5px rgba(0,0,0,.1);-webkit-box-shadow:0 2px 5px rgba(0,0,0,.1);-webkit-transform:translateZ(0);text-align:left}.nav li.et-hover>ul{visibility:visible}.nav li.et-touch-hover>ul,.nav li:hover>ul{opacity:1;visibility:visible}.nav li li ul{z-index:1000;top:-23px;left:240px}.nav li.et-reverse-direction-nav li ul{left:auto;right:240px}.nav li:hover{visibility:inherit}.et_mobile_menu li a,.nav li li a{font-size:14px;-webkit-transition:opacity .2s ease-in-out,background-color .2s ease-in-out;transition:opacity .2s ease-in-out,background-color .2s ease-in-out}.et_mobile_menu li a:hover,.nav ul li a:hover{background-color:rgba(0,0,0,.03);opacity:.7}.et-dropdown-removing>ul{display:none}.mega-menu .et-dropdown-removing>ul{display:block}.et-menu .menu-item-has-children>a:first-child:after{font-family:ETmodules;content:\"3\";font-size:16px;position:absolute;right:0;top:0;font-weight:800}.et-menu .menu-item-has-children>a:first-child{padding-right:20px}.et-menu li li.menu-item-has-children>a:first-child:after{right:20px;top:6px}.et-menu-nav li.mega-menu{position:inherit}.et-menu-nav li.mega-menu>ul{padding:30px 20px;position:absolute!important;width:100%;left:0!important}.et-menu-nav li.mega-menu ul li{margin:0;float:left!important;display:block!important;padding:0!important}.et-menu-nav li.mega-menu li>ul{-webkit-animation:none!important;animation:none!important;padding:0;border:none;left:auto;top:auto;width:240px!important;position:relative;box-shadow:none;-webkit-box-shadow:none}.et-menu-nav li.mega-menu li ul{visibility:visible;opacity:1;display:none}.et-menu-nav li.mega-menu.et-hover li ul,.et-menu-nav li.mega-menu:hover li ul{display:block}.et-menu-nav li.mega-menu:hover>ul{opacity:1!important;visibility:visible!important}.et-menu-nav li.mega-menu>ul>li>a:first-child{padding-top:0!important;font-weight:700;border-bottom:1px solid rgba(0,0,0,.03)}.et-menu-nav li.mega-menu>ul>li>a:first-child:hover{background-color:transparent!important}.et-menu-nav li.mega-menu li>a{width:200px!important}.et-menu-nav li.mega-menu.mega-menu-parent li>a,.et-menu-nav li.mega-menu.mega-menu-parent li li{width:100%!important}.et-menu-nav li.mega-menu.mega-menu-parent li>.sub-menu{float:left;width:100%!important}.et-menu-nav li.mega-menu>ul>li{width:25%;margin:0}.et-menu-nav li.mega-menu.mega-menu-parent-3>ul>li{width:33.33%}.et-menu-nav li.mega-menu.mega-menu-parent-2>ul>li{width:50%}.et-menu-nav li.mega-menu.mega-menu-parent-1>ul>li{width:100%}.et_pb_fullwidth_menu li.mega-menu .menu-item-has-children>a:first-child:after,.et_pb_menu li.mega-menu .menu-item-has-children>a:first-child:after{display:none}.et_fullwidth_nav #top-menu li.mega-menu>ul{width:auto;left:30px!important;right:30px!important}.et_mobile_menu{position:absolute;left:0;padding:5%;background:#fff;width:100%;visibility:visible;opacity:1;display:none;z-index:9999;border-top:3px solid #2ea3f2;box-shadow:0 2px 5px rgba(0,0,0,.1);-moz-box-shadow:0 2px 5px rgba(0,0,0,.1);-webkit-box-shadow:0 2px 5px rgba(0,0,0,.1)}#main-header .et_mobile_menu li ul,.et_pb_fullwidth_menu .et_mobile_menu li ul,.et_pb_menu .et_mobile_menu li ul{visibility:visible!important;display:block!important;padding-left:10px}.et_mobile_menu li li{padding-left:5%}.et_mobile_menu li a{border-bottom:1px solid rgba(0,0,0,.03);color:#666;padding:10px 5%;display:block}.et_mobile_menu .menu-item-has-children>a{font-weight:700;background-color:rgba(0,0,0,.03)}.et_mobile_menu li .menu-item-has-children>a{background-color:transparent}.et_mobile_nav_menu{float:right;display:none}.mobile_menu_bar{position:relative;display:block;line-height:0}.mobile_menu_bar:before{content:\"a\";font-size:32px;position:relative;left:0;top:0;cursor:pointer}.et_pb_module .mobile_menu_bar:before{top:2px}.mobile_nav .select_page{display:none}\\n.et_vertical_nav #page-container:after{visibility:hidden;display:block;font-size:0;content:\" \";clear:both;height:0}.et_vertical_nav #page-container{padding-top:0 !important;position:relative}.et_header_style_split.et_vertical_nav #et_top_search{display:block}.et_header_style_split.et_vertical_nav #et-top-navigation{display:block}.et_header_style_split.et_vertical_nav #et-top-navigation{text-align:left}.et_header_style_centered.et_vertical_nav #main-header .container{height:auto}.et_vertical_nav .logo_container{height:auto;position:relative;padding:0}.et_vertical_nav span.logo_helper{display:none}.et_vertical_nav #et_top_search{margin-left:0}.et_vertical_nav.et_header_style_centered .et-search-form input,.et_vertical_nav.et_header_style_centered span.et_close_search_field{top:0}.et_vertical_nav.et_header_style_centered header#main-header.et-fixed-header .logo_container,.et_vertical_nav.et_header_style_centered #main-header .logo_container{height:auto}.et_vertical_nav.et_header_style_centered header#main-header #top-menu>li>a,.et_vertical_nav.et_header_style_centered header#main-header.et-fixed-header #top-menu>li>a{padding-bottom:19px}.et_vertical_nav.et_header_style_split #et-top-navigation,.et_vertical_nav.et_header_style_left #et-top-navigation{padding-top:0}.et_vertical_nav.et_header_style_split #logo{display:block}.et_vertical_nav #top-menu li.mega-menu{position:relative}.et_vertical_nav #top-menu li.mega-menu li>ul{width:100% !important}.et_vertical_nav #top-menu li.mega-menu li>a{width:100% !important}.et_vertical_nav #top-menu li.mega-menu>ul{top:62px;padding:30px 20px;position:absolute !important;width:790px !important;left:0 !important}.et_vertical_nav #top-menu li.mega-menu>ul>li{width:33.333%}.et_vertical_nav #top-menu li.mega-menu.mega-menu-parent-1>ul>li{width:100%}.et_vertical_nav #top-menu li.mega-menu.mega-menu-parent-2>ul>li{width:50%}.et_vertical_nav #top-menu li.mega-menu>ul>li:nth-child(n+4){margin-top:30px}.et_vertical_nav #top-menu li.mega-menu>ul>li:nth-child(3n){clear:right}.et_vertical_nav #top-menu li.mega-menu>ul>li:nth-child(3n+1){clear:left}.et_vertical_nav #top-menu li.mega-menu>ul>li:nth-of-type(4n+1){clear:none}.et_vertical_nav #top-menu li.mega-menu>ul>li:nth-of-type(4n){clear:none}.et_vertical_fixed.admin-bar #page-container #main-header{top:32px}.et_vertical_nav .et_pb_column_3_8 .et_pb_countdown_timer .section p.value,.et_vertical_nav .et_pb_column_1_3 .et_pb_countdown_timer .section p.value,.et_vertical_nav .et_pb_column_2_5 .et_pb_countdown_timer .section p.value,.et_vertical_nav .et_pb_column_1_4 .et_pb_countdown_timer .section p.value,.et_vertical_nav .et_pb_column_1_5 .et_pb_countdown_timer .section p.value,.et_vertical_nav .et_pb_column_1_6 .et_pb_countdown_timer .section p.value,.et_vertical_nav .et_pb_column_3_8 .et_pb_countdown_timer .sep p,.et_vertical_nav .et_pb_column_1_3 .et_pb_countdown_timer .sep p,.et_vertical_nav .et_pb_column_2_5 .et_pb_countdown_timer .sep p,.et_vertical_nav .et_pb_column_1_4 .et_pb_countdown_timer .sep p,.et_vertical_nav .et_pb_column_1_5 .et_pb_countdown_timer .sep p,.et_vertical_nav .et_pb_column_1_6 .et_pb_countdown_timer .sep p{font-size:20px;line-height:20px}.et_vertical_nav #et-top-navigation .et-cart-info{margin-left:0}@-webkit-keyframes fadeInLeft{0%{opacity:0;-webkit-transform:translateX(-100%);transform:translateX(-100%)}100%{opacity:1;-webkit-transform:translateX(0);transform:translateX(0)}}@keyframes fadeInLeft{0%{opacity:0;-webkit-transform:translateX(-100%);transform:translateX(-100%)}100%{opacity:1;-webkit-transform:translateX(0);transform:translateX(0)}}@-webkit-keyframes fadeOutRight{0%{opacity:1;-webkit-transform:translateX(0);transform:translateX(0)}100%{opacity:0;-webkit-transform:translateX(100%);transform:translateX(100%)}}@keyframes fadeOutRight{0%{opacity:1;-webkit-transform:translateX(0);transform:translateX(0)}100%{opacity:0;-webkit-transform:translateX(100%);transform:translateX(100%)}}@-webkit-keyframes fadeOutLeft{0%{opacity:1;-webkit-transform:translateX(0);transform:translateX(0)}100%{opacity:0;-webkit-transform:translateX(-70%);transform:translateX(-70%)}}@keyframes fadeOutLeft{0%{opacity:1;-webkit-transform:translateX(0);transform:translateX(0)}100%{opacity:0;-webkit-transform:translateX(-70%);transform:translateX(-70%)}}@-webkit-keyframes fadeInRight{0%{opacity:0;-webkit-transform:translateX(100%);transform:translateX(100%)}100%{opacity:1;-webkit-transform:translateX(0);transform:translateX(0)}}@keyframes fadeInRight{0%{opacity:0;-webkit-transform:translateX(100%);transform:translateX(100%)}100%{opacity:1;-webkit-transform:translateX(0);transform:translateX(0)}}@media all and (min-width: 1405px){.et_vertical_nav.et_right_sidebar #main-content .et_post_gallery li.et_gallery_item:nth-child(3n+1),.et_vertical_nav.et_left_sidebar #main-content .et_post_gallery li.et_gallery_item:nth-child(3n+1){clear:both !important}.et_vertical_nav.et_right_sidebar #main-content .et_post_gallery li.et_gallery_item:nth-child(2n),.et_vertical_nav.et_left_sidebar #main-content .et_post_gallery li.et_gallery_item:nth-child(2n){margin-right:60px !important}.et_vertical_nav.et_right_sidebar #main-content .et_post_gallery li.et_gallery_item:nth-child(3n),.et_vertical_nav.et_left_sidebar #main-content .et_post_gallery li.et_gallery_item:nth-child(3n){margin-right:0px !important}.et_vertical_nav.et_right_sidebar #main-content .et_post_gallery li.et_gallery_item:nth-child(2n+1),.et_vertical_nav.et_left_sidebar #main-content .et_post_gallery li.et_gallery_item:nth-child(2n+1){clear:none !important}.et_vertical_nav.et_right_sidebar #main-content .et_post_gallery li.et_gallery_item,.et_vertical_nav.et_left_sidebar #main-content .et_post_gallery li.et_gallery_item{width:193px}.et_vertical_nav.et_right_sidebar.woocommerce #main-content div.product div.images,.et_vertical_nav.et_right_sidebar.woocommerce-page #main-content div.product div.images,.et_vertical_nav.et_right_sidebar.woocommerce #content div.product div.images,.et_vertical_nav.et_right_sidebar.woocommerce-page #content div.product div.images,.et_vertical_nav.et_left_sidebar.woocommerce #main-content div.product div.images,.et_vertical_nav.et_left_sidebar.woocommerce-page #main-content div.product div.images,.et_vertical_nav.et_left_sidebar.woocommerce #content div.product div.images,.et_vertical_nav.et_left_sidebar.woocommerce-page #content div.product div.images{width:315px !important}}@media all and (min-width: 1100px) and (max-width: 1405px){.et_vertical_nav.et_right_sidebar.woocommerce #main-content div.product div.images,.et_vertical_nav.et_right_sidebar.woocommerce-page #main-content div.product div.images,.et_vertical_nav.et_right_sidebar.woocommerce #content div.product div.images,.et_vertical_nav.et_right_sidebar.woocommerce-page #content div.product div.images,.et_vertical_nav.et_left_sidebar.woocommerce #main-content div.product div.images,.et_vertical_nav.et_left_sidebar.woocommerce-page #main-content div.product div.images,.et_vertical_nav.et_left_sidebar.woocommerce #content div.product div.images,.et_vertical_nav.et_left_sidebar.woocommerce-page #content div.product div.images{width:250px !important}.et_vertical_nav.archive.et_full_width_page.woocommerce #main-content ul.products li.product:nth-child(3n){margin-right:0 !important}.et_vertical_nav.archive.et_full_width_page.woocommerce #main-content ul.products li.first{clear:none !important}.et_vertical_nav.archive.et_full_width_page.woocommerce #main-content ul.products li.product:nth-child(3n+1){clear:both !important;margin-right:60px !important}}@media all and (min-width: 981px) and (max-width: 1405px){.et_vertical_nav .et_pb_column_4_4 .et_pb_pricing_table{width:33.333%}.et_vertical_nav .et_pb_pricing_2 .et_pb_pricing_table,.et_vertical_nav .et_pb_column_3_4 .et_pb_pricing_table,.et_vertical_nav .et_pb_column_2_3 .et_pb_pricing_table{width:50%}.et_vertical_nav .et_pb_pricing_1 .et_pb_pricing_table,.et_vertical_nav .et_pb_column_1_2 .et_pb_pricing_table,.et_vertical_nav .et_pb_column_3_8 .et_pb_pricing_table,.et_vertical_nav .et_pb_column_1_3 .et_pb_pricing_table,.et_vertical_nav .et_pb_column_1_4 .et_pb_pricing_table{width:100%;margin:0 0 30px}.et_vertical_nav .et_pb_pricing_1 .et_pb_pricing_table:last-child,.et_vertical_nav .et_pb_pricing_1 .et_pb_pricing_table.et-last-child,.et_vertical_nav .et_pb_column_1_2 .et_pb_pricing_table:last-child,.et_vertical_nav .et_pb_column_1_2 .et_pb_pricing_table.et-last-child,.et_vertical_nav .et_pb_column_3_8 .et_pb_pricing_table:last-child,.et_vertical_nav .et_pb_column_3_8 .et_pb_pricing_table.et-last-child,.et_vertical_nav .et_pb_column_1_3 .et_pb_pricing_table:last-child,.et_vertical_nav .et_pb_column_1_3 .et_pb_pricing_table.et-last-child,.et_vertical_nav .et_pb_column_1_4 .et_pb_pricing_table:last-child,.et_vertical_nav .et_pb_column_1_4 .et_pb_pricing_table.et-last-child{margin-bottom:0}.et_vertical_nav .et_pb_column_4_4 .et_pb_pricing_table:nth-child(4n+1),.et_vertical_nav .et_pb_column_3_4 .et_pb_pricing_table:nth-child(3n+1){clear:none}.et_vertical_nav .et_pb_column_4_4 .et_pb_pricing_table:nth-child(3n+1),.et_vertical_nav .et_pb_column_3_4 .et_pb_pricing_table:nth-child(2n+1){clear:both}.et_vertical_nav .et_pb_column_4_4 .et_pb_pricing_table:nth-child(n+4),.et_vertical_nav .et_pb_column_3_4 .et_pb_pricing_table:nth-child(n+3){margin-top:50px}.et_vertical_nav .et_pb_column_4_4 .et_pb_pricing_table.et_pb_featured_table:nth-child(n+4),.et_vertical_nav .et_pb_column_3_4 .et_pb_pricing_table.et_pb_featured_table:nth-child(n+3){margin-top:30px}.et_vertical_nav .et_pb_column_1_4 .et_pb_sum,.et_vertical_nav .et_pb_column_1_3 .et_pb_sum{font-size:40px}.et_vertical_nav .et_pb_column_1_4 .et_pb_pricing_content_top,.et_vertical_nav .et_pb_column_1_3 .et_pb_pricing_content_top{padding-bottom:20px}.et_vertical_nav .et_pb_column_1_4 .et_pb_slider_fullwidth_off .et_pb_slide_description{width:100%}.et_vertical_nav .et_pb_column_1_4 .et_audio_container{padding-bottom:40px}.et_vertical_nav .et_pb_column_3_4 .et_pb_audio_module .mejs-container .mejs-controls div,.et_vertical_nav .et_pb_column_2_3 .et_pb_audio_module .mejs-container .mejs-controls div{position:absolute}.et_vertical_nav .et_pb_column_3_4 .et_pb_audio_module .mejs-container,.et_vertical_nav .et_pb_column_2_3 .et_pb_audio_module .mejs-container{height:80px !important}.et_vertical_nav .et_pb_column_3_4 .et_pb_audio_module .mejs-controls,.et_vertical_nav .et_pb_column_2_3 .et_pb_audio_module .mejs-controls{height:100% !important}.et_vertical_nav .et_pb_column_3_4 .et_pb_audio_module .mejs-button.mejs-playpause-button,.et_vertical_nav .et_pb_column_2_3 .et_pb_audio_module .mejs-button.mejs-playpause-button{top:0px;left:0;z-index:99}.et_vertical_nav .et_pb_column_3_4 .et_pb_audio_module .mejs-time.mejs-currenttime-container.custom,.et_vertical_nav .et_pb_column_2_3 .et_pb_audio_module .mejs-time.mejs-currenttime-container.custom{top:30px;left:7px}.et_vertical_nav .et_pb_column_3_4 .et_pb_audio_module .mejs-button.mejs-volume-button,.et_vertical_nav .et_pb_column_2_3 .et_pb_audio_module .mejs-button.mejs-volume-button{top:26px;right:60px}.et_vertical_nav .et_pb_column_3_4 .et_pb_audio_module a.mejs-horizontal-volume-slider,.et_vertical_nav .et_pb_column_2_3 .et_pb_audio_module a.mejs-horizontal-volume-slider{top:26px;right:0;display:block !important;position:absolute !important}.et_vertical_nav .et_pb_column_3_4 .et_pb_audio_module .mejs-horizontal-volume-total,.et_vertical_nav .et_pb_column_2_3 .et_pb_audio_module .mejs-horizontal-volume-total{position:relative !important;width:100% !important;display:block}.et_vertical_nav .et_pb_column_3_4 .et_pb_audio_module .mejs-controls div.mejs-time-rail,.et_vertical_nav .et_pb_column_2_3 .et_pb_audio_module .mejs-controls div.mejs-time-rail{width:100% !important;padding-left:30px !important}.et_vertical_nav .et_pb_column_3_4 .et_pb_audio_module a.mejs-time-total.mejs-time-slider,.et_vertical_nav .et_pb_column_2_3 .et_pb_audio_module a.mejs-time-total.mejs-time-slider{width:100% !important;position:relative !important;margin-left:0}.et_vertical_nav.archive.et_right_sidebar.woocommerce #main-content ul.products li.product:nth-child(2n),.et_vertical_nav.archive.et_left_sidebar.woocommerce #main-content ul.products li.product:nth-child(2n){margin-right:0px !important}.et_vertical_nav.archive.et_left_sidebar.woocommerce #main-content ul.products li.product:nth-child(2n+1),.et_vertical_nav.archive.et_right_sidebar.woocommerce #main-content ul.products li.product:nth-child(2n+1){clear:both !important;margin-right:60px !important}.et_vertical_nav.archive.et_left_sidebar.woocommerce #main-content ul.products li.product:nth-child(3n+1),.et_vertical_nav.archive.et_right_sidebar.woocommerce #main-content ul.products li.product:nth-child(3n+1){clear:none !important}}@media all and (min-width: 981px){.et_vertical_nav.et_right_sidebar #main-content .et_post_gallery li.et_gallery_item:nth-child(3n+1),.et_vertical_nav.et_left_sidebar #main-content .et_post_gallery li.et_gallery_item:nth-child(3n+1){clear:none}.et_vertical_nav.et_right_sidebar #main-content .et_post_gallery li.et_gallery_item:nth-child(3n),.et_vertical_nav.et_left_sidebar #main-content .et_post_gallery li.et_gallery_item:nth-child(3n){margin-right:60px}.et_vertical_nav.et_right_sidebar #main-content .et_post_gallery li.et_gallery_item:nth-child(2n),.et_vertical_nav.et_left_sidebar #main-content .et_post_gallery li.et_gallery_item:nth-child(2n){margin-right:0px}.et_vertical_nav.et_right_sidebar #main-content .et_post_gallery li.et_gallery_item:nth-child(2n+1),.et_vertical_nav.et_left_sidebar #main-content .et_post_gallery li.et_gallery_item:nth-child(2n+1){clear:both}.et_vertical_nav #et-main-area,.et_vertical_nav #top-header{margin-left:225px !important;position:relative}.et_vertical_nav #top-header{z-index:9999}.et_vertical_nav #page-container #main-header{position:absolute;padding-top:40px;top:0;left:0;width:225px;height:100%;-webkit-box-shadow:0 0 7px rgba(0,0,0,0.1);box-shadow:0 0 7px rgba(0,0,0,0.1)}.et_vertical_nav #main-header .container{width:auto;margin:0 40px}.et_vertical_nav #main-header #top-menu,.et_vertical_nav #main-header #top-menu-nav,.et_vertical_nav #main-header #et_top_search,.et_vertical_nav #main-header #et-top-navigation,.et_vertical_nav #main-header #logo{float:none;-webkit-transition:none;transition:none}.et_vertical_nav #main-header #logo{margin-bottom:28px;padding:0;max-height:none}.et_vertical_nav #main-header #top-menu li{display:block;padding-right:0}.et_vertical_nav #main-header #top-menu li.mega-menu>ul{top:190px;left:185px !important}.et_vertical_nav #main-header #top-menu li ul{top:-32px;left:185px}.et_vertical_nav #main-header #top-menu li ul{border-top:none;border-left-width:3px;border-left-style:solid}.et_vertical_nav #main-header #top-menu li ul ul{border-left-width:0;top:-20px;left:237px}.et_vertical_nav #main-header #top-menu li.mega-menu ul{left:auto;top:-32px}.et_vertical_nav #main-header #top-menu li.mega-menu ul ul{top:auto}.et_vertical_nav #main-header #top-menu>li>a{padding-bottom:19px;margin-right:-40px;padding-right:40px}.et_vertical_nav #main-header #top-menu>li>a:after{right:20px}.et_vertical_nav.et_boxed_layout #page-container #main-header{left:auto;-webkit-transition:none;transition:none}.et_vertical_nav.et_header_style_centered #main-header #top-menu-nav,.et_vertical_nav.et_header_style_split #main-header #top-menu-nav{width:100%}.et_vertical_nav.et_vertical_right #et-main-area,.et_vertical_nav.et_vertical_right #top-header{margin-left:0 !important;margin-right:225px}.et_vertical_nav.et_vertical_right #page-container #main-header{left:auto !important;right:0}.et_vertical_nav.et_vertical_right #main-header #top-menu li.mega-menu>ul{left:auto !important;right:185px !important}.et_vertical_nav.et_vertical_right #main-header #top-menu li ul{border-left:0;border-right-width:3px;border-right-style:solid;left:auto;right:185px}.et_vertical_nav.et_vertical_right #main-header #top-menu li ul ul{border-right-width:0}.et_vertical_nav input.et-search-field{left:0 !important}.et_vertical_nav #et_search_icon:before{top:-3px}.et_vertical_nav #et-top-navigation .et-cart-info{float:none;display:block}.et_vertical_nav .container.et_search_form_container{height:40px !important;position:relative;right:0 !important}.et_vertical_nav .container.et_search_form_container .et-search-form input{font-size:14px !important}.et_vertical_nav .container.et_search_form_container div#et_top_search{height:30px}.et_vertical_nav .et_pb_menu_hidden #top-menu-nav>ul,.et_vertical_nav .et_pb_menu_visible #top-menu-nav>ul,.et_vertical_nav .et_pb_menu_hidden .et-cart-info,.et_vertical_nav .et_pb_menu_visible .et-cart-info{opacity:1 !important;-webkit-animation:none !important;animation:none !important}.et_vertical_nav div#et_top_search{width:100%}.et_vertical_nav .et_pb_menu_hidden #et_top_search{opacity:0;-webkit-animation:fadeOutRight 1s 1 cubic-bezier(0.77, 0, 0.175, 1);animation:fadeOutRight 1s 1 cubic-bezier(0.77, 0, 0.175, 1)}.et_vertical_nav .et_pb_menu_visible #et_top_search{opacity:1;-webkit-animation:fadeInRight 1s 1 cubic-bezier(0.77, 0, 0.175, 1);animation:fadeInRight 1s 1 cubic-bezier(0.77, 0, 0.175, 1)}.et_vertical_nav .container.et_search_form_container.et_pb_search_visible{right:0;opacity:1;-webkit-animation:fadeInLeft 1s 1 cubic-bezier(0.77, 0, 0.175, 1);animation:fadeInLeft 1s 1 cubic-bezier(0.77, 0, 0.175, 1)}.et_vertical_nav .et_pb_search_form_hidden{opacity:0;-webkit-animation:fadeOutLeft 1s 1 cubic-bezier(0.77, 0, 0.175, 1);animation:fadeOutLeft 1s 1 cubic-bezier(0.77, 0, 0.175, 1)}.et_vertical_nav div#et_top_search{height:30px;margin-top:20px}.et_vertical_nav .container.et_search_form_container{margin-top:-45px !important}.et_vertical_nav span.et_close_search_field:after{font-size:16px}.et_vertical_nav span.et_close_search_field{width:13px;height:18px}.et_vertical_nav .et-search-form input{width:90%}.et_vertical_nav .container.et_search_form_container .et-search-form input{text-decoration:none !important;font-style:normal !important}.et_vertical_nav .et_search_form_container input::-moz-placeholder{text-decoration:none !important;font-style:normal !important}.et_vertical_nav .et_search_form_container input::-webkit-input-placeholder{text-decoration:none !important;font-style:normal !important}.et_vertical_nav .et_search_form_container input:-ms-input-placeholder{text-decoration:none !important;font-style:normal !important}.et_vertical_nav .et_search_outer{overflow:visible;position:relative}.et_vertical_nav.et_header_style_centered #main-header .et-search-form{left:0}.et_vertical_nav.et_header_style_centered #et_search_icon:before{left:50%;margin-left:-5px}.et_vertical_nav.et_header_style_centered #main-header #et_top_search{display:block !important;margin:16px auto 0}.et_vertical_nav.et_header_style_split #main-header .container.et_search_form_container{z-index:1}.et_vertical_nav.et_header_style_split #main-header .container.et_search_form_container.et_pb_search_visible{z-index:999}.et_vertical_nav.et_header_style_split #et_search_icon:before{margin-top:0}.et_vertical_nav.et_vertical_fixed #page-container #main-header{position:fixed}.et_vertical_nav.et_vertical_fixed.et_header_style_left #et-top-navigation,.et_vertical_nav.et_vertical_fixed.et_header_style_split #et-top-navigation{padding-top:33px}}@media all and (min-width: 981px) and (max-width: 1100px){.et_vertical_nav.et_right_sidebar #main-content .container:before{right:195px}.et_vertical_nav.et_left_sidebar #main-content .container:before{left:195px}.et_vertical_nav #top-menu li.mega-menu>ul{width:675px !important}.et_vertical_nav .et_pb_column_1_4 .et_pb_number_counter .percent p{font-size:65px;line-height:65px}.et_vertical_nav .et_pb_column_3_4 .mejs-container,.et_vertical_nav .et_pb_column_3_4 .mejs-container .mejs-controls{height:60px !important}.et_vertical_nav .et_pb_column_1_4 .et_pb_number_counter .percent p{font-size:55px;line-height:55px}.et_vertical_nav.et_right_sidebar.woocommerce #main-content div.product div.images,.et_vertical_nav.et_right_sidebar.woocommerce-page #main-content div.product div.images,.et_vertical_nav.et_right_sidebar.woocommerce #content div.product div.images,.et_vertical_nav.et_right_sidebar.woocommerce-page #content div.product div.images,.et_vertical_nav.et_left_sidebar.woocommerce #main-content div.product div.images,.et_vertical_nav.et_left_sidebar.woocommerce-page #main-content div.product div.images,.et_vertical_nav.et_left_sidebar.woocommerce #content div.product div.images,.et_vertical_nav.et_left_sidebar.woocommerce-page #content div.product div.images{width:215px !important}.et_vertical_nav .et_pb_column_1_4 .wp-pagenavi span.pages{width:119px !important;display:block}body.admin-bar.et_vertical_nav #main-header{top:0 !important}}@media all and (max-width: 980px){.et_vertical_nav.et_right_sidebar #left-area,.et_vertical_nav.et_left_sidebar #left-area{width:auto}.et_vertical_nav span.logo_helper{display:inline-block}.et_vertical_nav.et_header_style_left .logo_container{height:100%;position:absolute}.et_vertical_nav.et_header_style_centered #main-header #et_top_search{display:none !important}.et_vertical_nav.et_header_style_split #main-header #et_top_search{display:none !important}.et_vertical_nav #et-top-navigation .et-cart-info{margin-left:-38px}}\\n.footer-widget h4,#main-footer .widget_block h1,#main-footer .widget_block h2,#main-footer .widget_block h3,#main-footer .widget_block h4,#main-footer .widget_block h5,#main-footer .widget_block h6{color:#2EA3F2}.footer-widget li:before{border-color:#2EA3F2}.bottom-nav li.current-menu-item>a{color:#2EA3F2}#main-footer{background-color:#222222}#footer-widgets{padding:6% 0 0}.footer-widget{float:left;color:#fff}.last{margin-right:0}.footer-widget .fwidget:last-child{margin-bottom:0 !important}#footer-widgets .footer-widget li{padding-left:14px;position:relative}#footer-widgets .footer-widget li:before{border-radius:3px;border-style:solid;border-width:3px;content:\"\";left:0;position:absolute;top:9px}#footer-widgets .footer-widget a{color:#fff}#footer-widgets .footer-widget li a{color:#fff;text-decoration:none}#footer-widgets .footer-widget li a:hover{color:rgba(255,255,255,0.7)}.footer-widget .widget_adsensewidget ins{min-width:160px}#footer-bottom{background-color:#1f1f1f;background-color:rgba(0,0,0,0.32);padding:15px 0 5px}#footer-bottom a{-webkit-transition:all 0.4s ease-in-out;transition:all 0.4s ease-in-out}#footer-info{text-align:left;color:#666;padding-bottom:10px;float:left}#footer-info a{font-weight:700;color:#666}#footer-info a:hover{opacity:.7}#et-footer-nav{background-color:rgba(255,255,255,0.05)}.bottom-nav{padding:15px 0}.bottom-nav li{font-weight:600;display:inline-block;font-size:14px;padding-right:22px}.bottom-nav a{color:#bbb;-webkit-transition:all 0.4s ease-in-out;transition:all 0.4s ease-in-out}.bottom-nav a:hover{opacity:.7}@media all and (max-width: 980px){.footer-widget:nth-child(n){width:46.25% !important;margin:0 7.5% 7.5% 0 !important}.et_pb_footer_columns1 .footer-widget{width:100% !important;margin:0 7.5% 7.5% 0 !important}#footer-widgets .footer-widget .fwidget{margin-bottom:16.21%}.et_pb_gutters1 .footer-widget:nth-child(n){width:50% !important;margin:0 !important}.et_pb_gutters1 #footer-widgets .footer-widget .fwidget{margin-bottom:0}#footer-widgets{padding:8% 0}#footer-widgets .footer-widget:nth-child(2n){margin-right:0 !important}#footer-widgets .footer-widget:nth-last-child(-n+2){margin-bottom:0 !important}.bottom-nav{text-align:center}#footer-info{float:none;text-align:center}}@media all and (max-width: 767px){#footer-widgets .footer-widget,.et_pb_gutters1 #footer-widgets .footer-widget{width:100% !important;margin-right:0 !important}#footer-widgets .footer-widget:nth-child(n),#footer-widgets .footer-widget .fwidget{margin-bottom:9.5% !important}.et_pb_gutters1 #footer-widgets .footer-widget:nth-child(n),.et_pb_gutters1 #footer-widgets .footer-widget .fwidget{margin-bottom:0 !important}#footer-widgets{padding:10% 0}#footer-widgets .footer-widget .fwidget:last-child{margin-bottom:0 !important}#footer-widgets .footer-widget:last-child{margin-bottom:0 !important}}@media all and (max-width: 479px){#footer-widgets .footer-widget:nth-child(n),.footer-widget .fwidget{margin-bottom:11.5% !important}#footer-widgets .footer-widget.last{margin-bottom:0 !important}.et_pb_gutters1 #footer-widgets .footer-widget:nth-child(n),.et_pb_gutters1 #footer-widgets .footer-widget .fwidget{margin-bottom:0 !important}#footer-widgets{padding:12% 0}}\\n@media all and (min-width: 981px){.et_pb_gutters3 .footer-widget{margin-right:5.5%;margin-bottom:5.5%}.et_pb_gutters3 .footer-widget:last-child{margin-right:0}.et_pb_gutters3.et_pb_footer_columns6 .footer-widget{width:12.083%}.et_pb_gutters3.et_pb_footer_columns6 .footer-widget .fwidget{margin-bottom:45.517%}.et_pb_gutters3.et_pb_footer_columns5 .footer-widget{width:15.6%}.et_pb_gutters3.et_pb_footer_columns5 .footer-widget .fwidget{margin-bottom:35.256%}.et_pb_gutters3.et_pb_footer_columns4 .footer-widget{width:20.875%}.et_pb_gutters3.et_pb_footer_columns4 .footer-widget .fwidget{margin-bottom:26.347%}.et_pb_gutters3.et_pb_footer_columns3 .footer-widget{width:29.667%}.et_pb_gutters3.et_pb_footer_columns3 .footer-widget .fwidget{margin-bottom:18.539%}.et_pb_gutters3.et_pb_footer_columns2 .footer-widget{width:47.25%}.et_pb_gutters3.et_pb_footer_columns2 .footer-widget .fwidget{margin-bottom:11.64%}.et_pb_gutters3.et_pb_footer_columns1 .footer-widget{width:100%}.et_pb_gutters3.et_pb_footer_columns1 .footer-widget .fwidget{margin-bottom:5.5%}.et_pb_gutters3.et_pb_footer_columns_3_4__1_4 .footer-widget:nth-child(1){width:73.625%;clear:both}.et_pb_gutters3.et_pb_footer_columns_3_4__1_4 .footer-widget:nth-child(1) .fwidget{margin-bottom:7.47%}.et_pb_gutters3.et_pb_footer_columns_3_4__1_4 .footer-widget:nth-child(2){width:20.875%}.et_pb_gutters3.et_pb_footer_columns_3_4__1_4 .footer-widget:nth-child(2) .fwidget{margin-bottom:26.347%}.et_pb_gutters3.et_pb_footer_columns_1_4__3_4 .footer-widget:nth-child(1){width:20.875%;clear:both}.et_pb_gutters3.et_pb_footer_columns_1_4__3_4 .footer-widget:nth-child(1) .fwidget{margin-bottom:26.347%}.et_pb_gutters3.et_pb_footer_columns_1_4__3_4 .footer-widget:nth-child(2){width:73.625%}.et_pb_gutters3.et_pb_footer_columns_1_4__3_4 .footer-widget:nth-child(2) .fwidget{margin-bottom:7.47%}.et_pb_gutters3.et_pb_footer_columns_2_3__1_3 .footer-widget:nth-child(1){width:64.833%}.et_pb_gutters3.et_pb_footer_columns_2_3__1_3 .footer-widget:nth-child(1) .fwidget{margin-bottom:8.483%}.et_pb_gutters3.et_pb_footer_columns_2_3__1_3 .footer-widget:nth-child(2){width:29.667%}.et_pb_gutters3.et_pb_footer_columns_2_3__1_3 .footer-widget:nth-child(2) .fwidget{margin-bottom:18.539%}.et_pb_gutters3.et_pb_footer_columns_1_3__2_3 .footer-widget:nth-child(1){width:29.667%}.et_pb_gutters3.et_pb_footer_columns_1_3__2_3 .footer-widget:nth-child(1) .fwidget{margin-bottom:18.539%}.et_pb_gutters3.et_pb_footer_columns_1_3__2_3 .footer-widget:nth-child(2){width:64.833%}.et_pb_gutters3.et_pb_footer_columns_1_3__2_3 .footer-widget:nth-child(2) .fwidget{margin-bottom:8.483%}.et_pb_gutters3.et_pb_footer_columns_1_4__1_2 .footer-widget:nth-child(-n+2){width:20.875%}.et_pb_gutters3.et_pb_footer_columns_1_4__1_2 .footer-widget:nth-child(-n+2) .fwidget{margin-bottom:26.347%}.et_pb_gutters3.et_pb_footer_columns_1_4__1_2 .footer-widget:nth-child(3){width:47.25%}.et_pb_gutters3.et_pb_footer_columns_1_4__1_2 .footer-widget:nth-child(3) .fwidget{margin-bottom:11.64%}.et_pb_gutters3.et_pb_footer_columns_1_2__1_4 .footer-widget:first-child{width:47.25%}.et_pb_gutters3.et_pb_footer_columns_1_2__1_4 .footer-widget:first-child .fwidget{margin-bottom:11.64%}.et_pb_gutters3.et_pb_footer_columns_1_2__1_4 .footer-widget:nth-child(-n+3):not(:nth-child(1)){width:20.875%}.et_pb_gutters3.et_pb_footer_columns_1_2__1_4 .footer-widget:nth-child(-n+3):not(:nth-child(1)) .fwidget{margin-bottom:26.347%}.et_pb_gutters3.et_pb_footer_columns_1_5__3_5 .footer-widget:nth-child(-n+2){width:15.6%}.et_pb_gutters3.et_pb_footer_columns_1_5__3_5 .footer-widget:nth-child(-n+2) .fwidget{margin-bottom:35.256%}.et_pb_gutters3.et_pb_footer_columns_1_5__3_5 .footer-widget:nth-child(3){width:57.8%}.et_pb_gutters3.et_pb_footer_columns_1_5__3_5 .footer-widget:nth-child(3) .fwidget{margin-bottom:9.516%}.et_pb_gutters3.et_pb_footer_columns_3_5__1_5 .footer-widget:first-child{width:57.8%}.et_pb_gutters3.et_pb_footer_columns_3_5__1_5 .footer-widget:first-child .fwidget{margin-bottom:9.516%}.et_pb_gutters3.et_pb_footer_columns_3_5__1_5 .footer-widget:nth-child(-n+3):not(:nth-child(1)){width:15.6%}.et_pb_gutters3.et_pb_footer_columns_3_5__1_5 .footer-widget:nth-child(-n+3):not(:nth-child(1)) .fwidget{margin-bottom:35.256%}.et_pb_gutters3.et_pb_footer_columns_3_5__2_5 .footer-widget:nth-child(1){width:57.8%}.et_pb_gutters3.et_pb_footer_columns_3_5__2_5 .footer-widget:nth-child(1) .fwidget{margin-bottom:9.516%}.et_pb_gutters3.et_pb_footer_columns_3_5__2_5 .footer-widget:nth-child(2){width:36.7%}.et_pb_gutters3.et_pb_footer_columns_3_5__2_5 .footer-widget:nth-child(2) .fwidget{margin-bottom:14.986%}.et_pb_gutters3.et_pb_footer_columns_2_5__3_5 .footer-widget:nth-child(1){width:36.7%}.et_pb_gutters3.et_pb_footer_columns_2_5__3_5 .footer-widget:nth-child(1) .fwidget{margin-bottom:14.986%}.et_pb_gutters3.et_pb_footer_columns_2_5__3_5 .footer-widget:nth-child(2){width:57.8%}.et_pb_gutters3.et_pb_footer_columns_2_5__3_5 .footer-widget:nth-child(2) .fwidget{margin-bottom:9.516%}.et_pb_gutters3.et_pb_footer_columns_1_2__1_6 .footer-widget:first-child{width:47.25%}.et_pb_gutters3.et_pb_footer_columns_1_2__1_6 .footer-widget:first-child .fwidget{margin-bottom:11.64%}.et_pb_gutters3.et_pb_footer_columns_1_2__1_6 .footer-widget:nth-child(-n+4):not(:nth-child(1)){width:12.083%}.et_pb_gutters3.et_pb_footer_columns_1_2__1_6 .footer-widget:nth-child(-n+4):not(:nth-child(1)) .fwidget{margin-bottom:45.517%}.et_pb_gutters3.et_pb_footer_columns_1_6__1_2 .footer-widget:nth-child(-n+3){width:12.083%}.et_pb_gutters3.et_pb_footer_columns_1_6__1_2 .footer-widget:nth-child(-n+3) .fwidget{margin-bottom:45.517%}.et_pb_gutters3.et_pb_footer_columns_1_6__1_2 .footer-widget:nth-child(4){width:47.25%}.et_pb_gutters3.et_pb_footer_columns_1_6__1_2 .footer-widget:nth-child(4) .fwidget{margin-bottom:11.64%}.et_pb_gutters3.et_pb_footer_columns_1_4_1_2_1_4 .footer-widget:nth-child(-n+3):not(:nth-child(2)){width:20.875%}.et_pb_gutters3.et_pb_footer_columns_1_4_1_2_1_4 .footer-widget:nth-child(-n+3):not(:nth-child(2)) .fwidget{margin-bottom:26.347%}.et_pb_gutters3.et_pb_footer_columns_1_4_1_2_1_4 .footer-widget:nth-child(2){width:47.25%}.et_pb_gutters3.et_pb_footer_columns_1_4_1_2_1_4 .footer-widget:nth-child(2) .fwidget{margin-bottom:11.64%}.et_pb_gutters3.et_pb_footer_columns_1_5_3_5_1_5 .footer-widget:nth-child(-n+3):not(:nth-child(2)){width:15.6%}.et_pb_gutters3.et_pb_footer_columns_1_5_3_5_1_5 .footer-widget:nth-child(-n+3):not(:nth-child(2)) .fwidget{margin-bottom:35.256%}.et_pb_gutters3.et_pb_footer_columns_1_5_3_5_1_5 .footer-widget:nth-child(2){width:57.8%}.et_pb_gutters3.et_pb_footer_columns_1_5_3_5_1_5 .footer-widget:nth-child(2) .fwidget{margin-bottom:9.516%}}\\n.et-social-icons{float:right}.et-social-icons li{display:inline-block;margin-left:20px}.et-social-icon a{display:inline-block;font-size:24px;position:relative;text-align:center;-webkit-transition:color 300ms ease 0s;transition:color 300ms ease 0s;color:#666;text-decoration:none}.et-social-icons a:hover{opacity:0.7;-webkit-transition:all 0.4s ease-in-out;transition:all 0.4s ease-in-out}.et-social-icon span{display:none}.et_duplicate_social_icons{display:none}@media all and (max-width: 980px){.et-social-icons{float:none;text-align:center}}@media all and (max-width: 980px){.et-social-icons{margin:0 0 5px}}\\n.et_pb_widget{float:left;max-width:100%;word-wrap:break-word}.et_pb_widget a{text-decoration:none;color:#666}.et_pb_widget li a:hover{color:#82c0c7}.et_pb_widget ol li,.et_pb_widget ul li{margin-bottom:.5em}.et_pb_widget ol li ol li,.et_pb_widget ul li ul li{margin-left:15px}.et_pb_widget select{width:100%;height:28px;padding:0 5px}.et_pb_widget_area .et_pb_widget a{color:inherit}.et_pb_bg_layout_light .et_pb_widget li a{color:#666}.et_pb_bg_layout_dark .et_pb_widget li a{color:inherit}\\n.widget_search .screen-reader-text,.et_pb_widget .wp-block-search__label{display:none}.widget_search input#s,.widget_search input#searchsubmit,.et_pb_widget .wp-block-search__input,.et_pb_widget .wp-block-search__button{padding:.7em;height:40px !important;margin:0;font-size:14px;line-height:normal !important;border:1px solid #ddd;color:#666}.widget_search #s,.et_pb_widget .wp-block-search__input{width:100%;border-radius:3px}.widget_search #searchform,.et_pb_widget .wp-block-search{position:relative}.widget_search #searchsubmit,.et_pb_widget .wp-block-search__button{background-color:#ddd;-webkit-border-top-right-radius:3px;-webkit-border-bottom-right-radius:3px;-moz-border-radius-topright:3px;-moz-border-radius-bottomright:3px;border-top-right-radius:3px;border-bottom-right-radius:3px;position:absolute;right:0;top:0}#searchsubmit,.et_pb_widget .wp-block-search__button{cursor:pointer}\\n.et_pb_scroll_top.et-pb-icon{text-align:center;background:rgba(0,0,0,0.4);text-decoration:none;position:fixed;z-index:99999;bottom:125px;right:0px;-webkit-border-top-left-radius:5px;-webkit-border-bottom-left-radius:5px;-moz-border-radius-topleft:5px;-moz-border-radius-bottomleft:5px;border-top-left-radius:5px;border-bottom-left-radius:5px;display:none;cursor:pointer;font-size:30px;padding:5px;color:#fff}.et_pb_scroll_top:before{content:\\'2\\'}.et_pb_scroll_top.et-visible{opacity:1;-webkit-animation:fadeInRight 1s 1 cubic-bezier(0.77, 0, 0.175, 1);animation:fadeInRight 1s 1 cubic-bezier(0.77, 0, 0.175, 1)}.et_pb_scroll_top.et-hidden{opacity:0;-webkit-animation:fadeOutRight 1s 1 cubic-bezier(0.77, 0, 0.175, 1);animation:fadeOutRight 1s 1 cubic-bezier(0.77, 0, 0.175, 1)}@-webkit-keyframes fadeOutRight{0%{opacity:1;-webkit-transform:translateX(0);transform:translateX(0)}100%{opacity:0;-webkit-transform:translateX(100%);transform:translateX(100%)}}@keyframes fadeOutRight{0%{opacity:1;-webkit-transform:translateX(0);transform:translateX(0)}100%{opacity:0;-webkit-transform:translateX(100%);transform:translateX(100%)}}@-webkit-keyframes fadeInRight{0%{opacity:0;-webkit-transform:translateX(100%);transform:translateX(100%)}100%{opacity:1;-webkit-transform:translateX(0);transform:translateX(0)}}@keyframes fadeInRight{0%{opacity:0;-webkit-transform:translateX(100%);transform:translateX(100%)}100%{opacity:1;-webkit-transform:translateX(0);transform:translateX(0)}}\\n.et_pb_section{position:relative;background-color:#fff;background-position:50%;background-size:100%;background-size:cover}.et_pb_section--absolute,.et_pb_section--fixed{width:100%}.et_pb_section.et_section_transparent{background-color:transparent}.et_pb_fullwidth_section{padding:0}.et_pb_fullwidth_section>.et_pb_module:not(.et_pb_post_content):not(.et_pb_fullwidth_post_content) .et_pb_row{padding:0!important}.et_pb_inner_shadow{-webkit-box-shadow:inset 0 0 7px rgba(0,0,0,.07);box-shadow:inset 0 0 7px rgba(0,0,0,.07)}.et_pb_bottom_inside_divider,.et_pb_top_inside_divider{display:block;background-repeat-y:no-repeat;height:100%;position:absolute;pointer-events:none;width:100%;left:0;right:0}.et_pb_bottom_inside_divider.et-no-transition,.et_pb_top_inside_divider.et-no-transition{-webkit-transition:none!important;transition:none!important}.et-fb .section_has_divider.et_fb_element_controls_visible--child>.et_pb_bottom_inside_divider,.et-fb .section_has_divider.et_fb_element_controls_visible--child>.et_pb_top_inside_divider{z-index:1}.et_pb_section_video:not(.et_pb_section--with-menu){overflow:hidden;position:relative}.et_pb_column>.et_pb_section_video_bg{z-index:-1}.et_pb_section_video_bg{visibility:visible;position:absolute;top:0;left:0;width:100%;height:100%;overflow:hidden;display:block;pointer-events:none;-webkit-transition:display .3s;transition:display .3s}.et_pb_section_video_bg.et_pb_section_video_bg_hover,.et_pb_section_video_bg.et_pb_section_video_bg_phone,.et_pb_section_video_bg.et_pb_section_video_bg_tablet,.et_pb_section_video_bg.et_pb_section_video_bg_tablet_only{display:none}.et_pb_section_video_bg .mejs-controls,.et_pb_section_video_bg .mejs-overlay-play{display:none!important}.et_pb_section_video_bg embed,.et_pb_section_video_bg iframe,.et_pb_section_video_bg object,.et_pb_section_video_bg video{max-width:none}.et_pb_section_video_bg .mejs-video{left:50%;position:absolute;max-width:none}.et_pb_section_video_bg .mejs-overlay-loading{display:none!important}.et_pb_social_network_link .et_pb_section_video{overflow:visible}.et_pb_section_video_on_hover:hover>.et_pb_section_video_bg{display:none}.et_pb_section_video_on_hover:hover>.et_pb_section_video_bg_hover,.et_pb_section_video_on_hover:hover>.et_pb_section_video_bg_hover_inherit{display:block}@media (min-width:981px){.et_pb_section{padding:4% 0}body.et_pb_pagebuilder_layout.et_pb_show_title .post-password-required .et_pb_section,body:not(.et_pb_pagebuilder_layout) .post-password-required .et_pb_section{padding-top:0}.et_pb_fullwidth_section{padding:0}.et_pb_section_video_bg.et_pb_section_video_bg_desktop_only{display:block}}@media (max-width:980px){.et_pb_section{padding:50px 0}body.et_pb_pagebuilder_layout.et_pb_show_title .post-password-required .et_pb_section,body:not(.et_pb_pagebuilder_layout) .post-password-required .et_pb_section{padding-top:0}.et_pb_fullwidth_section{padding:0}.et_pb_section_video_bg.et_pb_section_video_bg_tablet{display:block}.et_pb_section_video_bg.et_pb_section_video_bg_desktop_only{display:none}}@media (min-width:768px){.et_pb_section_video_bg.et_pb_section_video_bg_desktop_tablet{display:block}}@media (min-width:768px) and (max-width:980px){.et_pb_section_video_bg.et_pb_section_video_bg_tablet_only{display:block}}@media (max-width:767px){.et_pb_section_video_bg.et_pb_section_video_bg_phone{display:block}.et_pb_section_video_bg.et_pb_section_video_bg_desktop_tablet{display:none}}\\n.et_pb_row{width:80%;max-width:1080px;margin:auto;position:relative}body.safari .section_has_divider,body.uiwebview .section_has_divider{-webkit-perspective:2000px;perspective:2000px}.section_has_divider .et_pb_row{z-index:5}.et_pb_row_inner{width:100%;position:relative}.et_pb_row.et_pb_row_empty,.et_pb_row_inner:nth-of-type(n+2).et_pb_row_empty{display:none}.et_pb_row:after,.et_pb_row_inner:after{content:\"\";display:block;clear:both;visibility:hidden;line-height:0;height:0;width:0}.et_pb_row_4col .et-last-child,.et_pb_row_4col .et-last-child-2,.et_pb_row_6col .et-last-child,.et_pb_row_6col .et-last-child-2,.et_pb_row_6col .et-last-child-3{margin-bottom:0}.et_pb_column{float:left;background-size:cover;background-position:50%;position:relative;z-index:2;min-height:1px}.et_pb_column--with-menu{z-index:3}.et_pb_column.et_pb_column_empty{min-height:1px}.et_pb_row .et_pb_column.et-last-child,.et_pb_row .et_pb_column:last-child,.et_pb_row_inner .et_pb_column.et-last-child,.et_pb_row_inner .et_pb_column:last-child{margin-right:0!important}.et_pb_column.et_pb_section_parallax{position:relative}.et_pb_column,.et_pb_row,.et_pb_row_inner{background-size:cover;background-position:50%;background-repeat:no-repeat}@media (min-width:981px){.et_pb_row{padding:2% 0}body.et_pb_pagebuilder_layout.et_pb_show_title .post-password-required .et_pb_row,body:not(.et_pb_pagebuilder_layout) .post-password-required .et_pb_row{padding:0;width:100%}.et_pb_column_3_4 .et_pb_row_inner{padding:3.735% 0}.et_pb_column_2_3 .et_pb_row_inner{padding:4.2415% 0}.et_pb_column_1_2 .et_pb_row_inner,.et_pb_column_3_5 .et_pb_row_inner{padding:5.82% 0}.et_section_specialty>.et_pb_row{padding:0}.et_pb_row_inner{width:100%}.et_pb_column_single{padding:2.855% 0}.et_pb_column_single .et_pb_module.et-first-child,.et_pb_column_single .et_pb_module:first-child{margin-top:0}.et_pb_column_single .et_pb_module.et-last-child,.et_pb_column_single .et_pb_module:last-child{margin-bottom:0}.et_pb_row .et_pb_column.et-last-child,.et_pb_row .et_pb_column:last-child,.et_pb_row_inner .et_pb_column.et-last-child,.et_pb_row_inner .et_pb_column:last-child{margin-right:0!important}.et_pb_row.et_pb_equal_columns,.et_pb_row_inner.et_pb_equal_columns,.et_pb_section.et_pb_equal_columns>.et_pb_row{display:-webkit-box;display:-ms-flexbox;display:flex}.rtl .et_pb_row.et_pb_equal_columns,.rtl .et_pb_row_inner.et_pb_equal_columns,.rtl .et_pb_section.et_pb_equal_columns>.et_pb_row{-webkit-box-orient:horizontal;-webkit-box-direction:reverse;-ms-flex-direction:row-reverse;flex-direction:row-reverse}.et_pb_row.et_pb_equal_columns>.et_pb_column,.et_pb_section.et_pb_equal_columns>.et_pb_row>.et_pb_column{-webkit-box-ordinal-group:2;-ms-flex-order:1;order:1}}@media (max-width:980px){.et_pb_row{max-width:1080px}body.et_pb_pagebuilder_layout.et_pb_show_title .post-password-required .et_pb_row,body:not(.et_pb_pagebuilder_layout) .post-password-required .et_pb_row{padding:0;width:100%}.et_pb_column .et_pb_row_inner,.et_pb_row{padding:30px 0}.et_section_specialty>.et_pb_row{padding:0}.et_pb_column{width:100%;margin-bottom:30px}.et_pb_bottom_divider .et_pb_row:nth-last-child(2) .et_pb_column:last-child,.et_pb_row .et_pb_column.et-last-child,.et_pb_row .et_pb_column:last-child{margin-bottom:0}.et_section_specialty .et_pb_row>.et_pb_column{padding-bottom:0}.et_pb_column.et_pb_column_empty{display:none}.et_pb_row_1-2_1-4_1-4,.et_pb_row_1-2_1-6_1-6_1-6,.et_pb_row_1-4_1-4,.et_pb_row_1-4_1-4_1-2,.et_pb_row_1-5_1-5_3-5,.et_pb_row_1-6_1-6_1-6,.et_pb_row_1-6_1-6_1-6_1-2,.et_pb_row_1-6_1-6_1-6_1-6,.et_pb_row_3-5_1-5_1-5,.et_pb_row_4col,.et_pb_row_5col,.et_pb_row_6col{display:-webkit-box;display:-ms-flexbox;display:flex;-ms-flex-wrap:wrap;flex-wrap:wrap}.et_pb_row_1-4_1-4>.et_pb_column.et_pb_column_1_4,.et_pb_row_1-4_1-4_1-2>.et_pb_column.et_pb_column_1_4,.et_pb_row_4col>.et_pb_column.et_pb_column_1_4{width:47.25%;margin-right:5.5%}.et_pb_row_1-4_1-4>.et_pb_column.et_pb_column_1_4:nth-child(2n),.et_pb_row_1-4_1-4_1-2>.et_pb_column.et_pb_column_1_4:nth-child(2n),.et_pb_row_4col>.et_pb_column.et_pb_column_1_4:nth-child(2n){margin-right:0}.et_pb_row_1-2_1-4_1-4>.et_pb_column.et_pb_column_1_4{width:47.25%;margin-right:5.5%}.et_pb_row_1-2_1-4_1-4>.et_pb_column.et_pb_column_1_2,.et_pb_row_1-2_1-4_1-4>.et_pb_column.et_pb_column_1_4:nth-child(odd){margin-right:0}.et_pb_row_1-2_1-4_1-4 .et_pb_column:nth-last-child(-n+2),.et_pb_row_1-4_1-4 .et_pb_column:nth-last-child(-n+2),.et_pb_row_4col .et_pb_column:nth-last-child(-n+2){margin-bottom:0}.et_pb_row_1-5_1-5_3-5>.et_pb_column.et_pb_column_1_5,.et_pb_row_5col>.et_pb_column.et_pb_column_1_5{width:47.25%;margin-right:5.5%}.et_pb_row_1-5_1-5_3-5>.et_pb_column.et_pb_column_1_5:nth-child(2n),.et_pb_row_5col>.et_pb_column.et_pb_column_1_5:nth-child(2n){margin-right:0}.et_pb_row_3-5_1-5_1-5>.et_pb_column.et_pb_column_1_5{width:47.25%;margin-right:5.5%}.et_pb_row_3-5_1-5_1-5>.et_pb_column.et_pb_column_1_5:nth-child(odd),.et_pb_row_3-5_1-5_1-5>.et_pb_column.et_pb_column_3_5{margin-right:0}.et_pb_row_3-5_1-5_1-5 .et_pb_column:nth-last-child(-n+2),.et_pb_row_5col .et_pb_column:last-child{margin-bottom:0}.et_pb_row_1-6_1-6_1-6_1-2>.et_pb_column.et_pb_column_1_6,.et_pb_row_6col>.et_pb_column.et_pb_column_1_6{width:29.666%;margin-right:5.5%}.et_pb_row_1-6_1-6_1-6_1-2>.et_pb_column.et_pb_column_1_6:nth-child(3n),.et_pb_row_6col>.et_pb_column.et_pb_column_1_6:nth-child(3n){margin-right:0}.et_pb_row_1-2_1-6_1-6_1-6>.et_pb_column.et_pb_column_1_6{width:29.666%;margin-right:5.5%}.et_pb_row_1-2_1-6_1-6_1-6>.et_pb_column.et_pb_column_1_2,.et_pb_row_1-2_1-6_1-6_1-6>.et_pb_column.et_pb_column_1_6:last-child{margin-right:0}.et_pb_row_1-2_1-2 .et_pb_column.et_pb_column_1_2,.et_pb_row_1-2_1-6_1-6_1-6 .et_pb_column:nth-last-child(-n+3),.et_pb_row_6col .et_pb_column:nth-last-child(-n+3){margin-bottom:0}.et_pb_row_1-2_1-2 .et_pb_column.et_pb_column_1_2 .et_pb_column.et_pb_column_1_6{width:29.666%;margin-right:5.5%;margin-bottom:0}.et_pb_row_1-2_1-2 .et_pb_column.et_pb_column_1_2 .et_pb_column.et_pb_column_1_6:last-child{margin-right:0}.et_pb_row_1-6_1-6_1-6_1-6>.et_pb_column.et_pb_column_1_6{width:47.25%;margin-right:5.5%}.et_pb_row_1-6_1-6_1-6_1-6>.et_pb_column.et_pb_column_1_6:nth-child(2n){margin-right:0}.et_pb_row_1-6_1-6_1-6_1-6:nth-last-child(-n+3){margin-bottom:0}}@media (max-width:479px){.et_pb_row .et_pb_column.et_pb_column_1_4,.et_pb_row .et_pb_column.et_pb_column_1_5,.et_pb_row .et_pb_column.et_pb_column_1_6{width:100%;margin:0 0 30px}.et_pb_row .et_pb_column.et_pb_column_1_4.et-last-child,.et_pb_row .et_pb_column.et_pb_column_1_4:last-child,.et_pb_row .et_pb_column.et_pb_column_1_5.et-last-child,.et_pb_row .et_pb_column.et_pb_column_1_5:last-child,.et_pb_row .et_pb_column.et_pb_column_1_6.et-last-child,.et_pb_row .et_pb_column.et_pb_column_1_6:last-child{margin-bottom:0}.et_pb_row_1-2_1-2 .et_pb_column.et_pb_column_1_2 .et_pb_column.et_pb_column_1_6{width:100%;margin:0 0 30px}.et_pb_row_1-2_1-2 .et_pb_column.et_pb_column_1_2 .et_pb_column.et_pb_column_1_6.et-last-child,.et_pb_row_1-2_1-2 .et_pb_column.et_pb_column_1_2 .et_pb_column.et_pb_column_1_6:last-child{margin-bottom:0}.et_pb_column{width:100%!important}}\\n.et_pb_text{word-wrap:break-word}.et_pb_text ol,.et_pb_text ul{padding-bottom:1em}.et_pb_text>:last-child{padding-bottom:0}.et_pb_text_inner{position:relative}\\n.et_pb_space{-webkit-box-sizing:content-box;box-sizing:content-box;height:23px}.et_pb_divider_hidden{margin-bottom:0!important}.et_pb_divider_internal{display:inline-block;width:100%}.et_pb_divider{margin:0 0 30px;position:relative}.et_pb_divider:before{content:\"\";width:100%;height:1px;border-top:1px solid rgba(0,0,0,.1);position:absolute;left:0;top:0;z-index:10}.et_pb_divider:after,.et_pb_space:after{content:\"\";display:table}.et_pb_divider_position_bottom:before{top:auto!important;bottom:0!important}.et_pb_divider_position_center:before{top:50%!important}@media (max-width:980px){.et_pb_divider_position_top_tablet:before{top:0!important;bottom:auto!important}.et_pb_divider_position_bottom_tablet:before{top:auto!important;bottom:0!important}.et_pb_divider_position_center_tablet:before{top:50%!important}.et_pb_space.et-hide-mobile{display:none}}@media (max-width:767px){.et_pb_divider_position_top_phone:before{top:0!important;bottom:auto!important}.et_pb_divider_position_bottom_phone:before{top:auto!important;bottom:0!important}.et_pb_divider_position_center_phone:before{top:50%!important}}.ie .et_pb_divider{overflow:visible}\\n.et_pb_bg_layout_light.et_pb_module.et_pb_button{color:#2ea3f2}.et_pb_module.et_pb_button{display:inline-block;color:inherit}.et_pb_button_module_wrapper.et_pb_button_alignment_left{text-align:left}.et_pb_button_module_wrapper.et_pb_button_alignment_right{text-align:right}.et_pb_button_module_wrapper.et_pb_button_alignment_center{text-align:center}.et_pb_button_module_wrapper>a{display:inline-block}@media (max-width:980px){.et_pb_button_module_wrapper.et_pb_button_alignment_tablet_left{text-align:left}.et_pb_button_module_wrapper.et_pb_button_alignment_tablet_right{text-align:right}.et_pb_button_module_wrapper.et_pb_button_alignment_tablet_center{text-align:center}}@media (max-width:767px){.et_pb_button_module_wrapper.et_pb_button_alignment_phone_left{text-align:left}.et_pb_button_module_wrapper.et_pb_button_alignment_phone_right{text-align:right}.et_pb_button_module_wrapper.et_pb_button_alignment_phone_center{text-align:center}}\\n.et_pb_button[data-icon]:not([data-icon=\"\"]):after{content:attr(data-icon)}@media (max-width:980px){.et_pb_button[data-icon-tablet]:not([data-icon-tablet=\"\"]):after{content:attr(data-icon-tablet)}}@media (max-width:767px){.et_pb_button[data-icon-phone]:not([data-icon-phone=\"\"]):after{content:attr(data-icon-phone)}}\\n</style>\\n<link rel=\\'stylesheet\\' id=\\'addthis_all_pages-css\\' href=\\'https://coloredconventions.org/before-garvey-mcneal-turner/wp-content/plugins/addthis/frontend/build/addthis_wordpress_public.min.css?ver=6.1.1\\' type=\\'text/css\\' media=\\'all\\' />\\n<link rel=\\'stylesheet\\' id=\\'sb_dpb_custom_css-css\\' href=\\'https://coloredconventions.org/before-garvey-mcneal-turner/wp-content/plugins/divi_popup_builder/style.css?ver=6.1.1\\' type=\\'text/css\\' media=\\'all\\' />\\n<link rel=\\'stylesheet\\' id=\\'divi-style-css\\' href=\\'https://coloredconventions.org/before-garvey-mcneal-turner/wp-content/themes/Divi-child/style.css?ver=4.20.2\\' type=\\'text/css\\' media=\\'all\\' />\\n<link rel=\\'stylesheet\\' id=\\'jetpack_css-css\\' href=\\'https://coloredconventions.org/before-garvey-mcneal-turner/wp-content/plugins/jetpack/css/jetpack.css?ver=11.9.1\\' type=\\'text/css\\' media=\\'all\\' />\\n<script type=\\'text/javascript\\' src=\\'https://coloredconventions.org/before-garvey-mcneal-turner/wp-includes/js/jquery/jquery.min.js?ver=3.6.1\\' id=\\'jquery-core-js\\'></script>\\n<script type=\\'text/javascript\\' src=\\'https://coloredconventions.org/before-garvey-mcneal-turner/wp-includes/js/jquery/jquery-migrate.min.js?ver=3.3.2\\' id=\\'jquery-migrate-js\\'></script>\\n<script type=\\'text/javascript\\' id=\\'jquery-js-after\\'>\\njqueryParams.length&&$.each(jqueryParams,function(e,r){if(\"function\"==typeof r){var n=String(r);n.replace(\"$\",\"jQuery\");var a=new Function(\"return \"+n)();$(document).ready(a)}});\\n</script>\\n<script type=\\'text/javascript\\' src=\\'https://coloredconventions.org/before-garvey-mcneal-turner/wp-content/plugins/aw-divi-image-overlay/js/functions.js?ver=6.1.1\\' id=\\'aw_functions-js\\'></script>\\n<script type=\\'text/javascript\\' src=\\'https://s7.addthis.com/js/300/addthis_widget.js?ver=6.1.1#pubid=wp-642a6d0c1ca577b4f72dac132dc72d83\\' id=\\'addthis_widget-js\\'></script>\\n<script type=\\'text/javascript\\' src=\\'https://coloredconventions.org/before-garvey-mcneal-turner/wp-content/plugins/divi_popup_builder/colorbox/jquery.colorbox-min.js?ver=6.1.1\\' id=\\'sb_dpb_colorbox_js-js\\'></script>\\n<link rel=\"https://api.w.org/\" href=\"https://coloredconventions.org/before-garvey-mcneal-turner/wp-json/\" /><link rel=\"alternate\" type=\"application/json\" href=\"https://coloredconventions.org/before-garvey-mcneal-turner/wp-json/wp/v2/pages/2\" /><link rel=\"EditURI\" type=\"application/rsd+xml\" title=\"RSD\" href=\"https://coloredconventions.org/before-garvey-mcneal-turner/xmlrpc.php?rsd\" />\\n<link rel=\"wlwmanifest\" type=\"application/wlwmanifest+xml\" href=\"https://coloredconventions.org/before-garvey-mcneal-turner/wp-includes/wlwmanifest.xml\" />\\n<meta name=\"generator\" content=\"WordPress 6.1.1\" />\\n<link rel=\\'shortlink\\' href=\\'https://coloredconventions.org/before-garvey-mcneal-turner/\\' />\\n<link rel=\"alternate\" type=\"application/json+oembed\" href=\"https://coloredconventions.org/before-garvey-mcneal-turner/wp-json/oembed/1.0/embed?url=https%3A%2F%2Fcoloredconventions.org%2Fbefore-garvey-mcneal-turner%2F\" />\\n<link rel=\"alternate\" type=\"text/xml+oembed\" href=\"https://coloredconventions.org/before-garvey-mcneal-turner/wp-json/oembed/1.0/embed?url=https%3A%2F%2Fcoloredconventions.org%2Fbefore-garvey-mcneal-turner%2F&#038;format=xml\" />\\n\\t<script data-name=\"dbdb-head-js\">\\r\\n\\t \\r\\n\\t</script>\\r\\n<style>\\r\\n.db_title, .db_tagline { \\r\\n    margin-right: 30px;\\r\\n    margin-top: 0px;\\r\\n    line-height: 1em;\\r\\n}\\r\\n.db_title_and_tagline {\\r\\n    display: flex;\\r\\n    align-items: flex-start;\\r\\n}\\r\\n.db_tagline_below_title_on .db_title_and_tagline {\\r\\n    flex-direction: column;\\r\\n}\\r\\n.db_tagline_below_title_on .db_tagline {\\r\\n    margin-top: 8px;\\r\\n}\\r\\n.db_title_and_tagline_valign_middle .db_title_and_tagline {\\r\\n    align-items: center;\\r\\n}\\r\\n.db_title_and_tagline_valign_bottom .db_title_and_tagline {\\r\\n    align-items: flex-end;\\r\\n}\\r\\n.db_title_and_tagline_below_logo_on .db_title_and_tagline {\\r\\n    position: absolute;\\r\\n    bottom: 0px;\\r\\n    left: 0px;\\r\\n    transform: translateY(100%);\\r\\n}\\r\\n</style>\\r\\n    <style>\\r\\n/* Display the team member icons */\\r\\n.db_pb_team_member_website_icon:before{content:\"\\\\e0e3\";}\\r\\n.db_pb_team_member_email_icon:before{content:\"\\\\e010\";}\\r\\n.db_pb_team_member_instagram_icon:before{content:\"\\\\e09a\";}\\r\\n\\r\\n/* Fix email icon hidden by Email Address Encoder plugin */\\r\\nul.et_pb_member_social_links li > span { \\r\\n\\tdisplay: inline-block !important; \\r\\n}\\r\\n</style>\\r\\n<style>\\r\\n@media only screen and (min-width: 981px) {\\r\\n    .et_pb_module.db_inline_form .et_pb_newsletter_fields > p { \\r\\n        flex: auto !important;\\r\\n    }\\r\\n    .et_pb_module.db_inline_form .et_pb_newsletter_fields p.et_pb_newsletter_field {\\r\\n        margin-right: 2%; \\r\\n    }\\r\\n}\\r\\n</style>\\r\\n\\t<style>img#wpstats{display:none}</style>\\n\\t\\t<meta name=\"viewport\" content=\"width=device-width, initial-scale=1.0, maximum-scale=1.0, user-scalable=0\" /><style type=\"text/css\">.broken_link, a.broken_link {\\r\\n\\ttext-decoration: none;\\r\\n}</style><script data-cfasync=\"false\" type=\"text/javascript\">if (window.addthis_product === undefined) { window.addthis_product = \"wpp\"; } if (window.wp_product_version === undefined) { window.wp_product_version = \"wpp-6.2.7\"; } if (window.addthis_share === undefined) { window.addthis_share = {}; } if (window.addthis_config === undefined) { window.addthis_config = {\"data_track_clickback\":true,\"ignore_server_config\":true,\"ui_atversion\":300}; } if (window.addthis_layers === undefined) { window.addthis_layers = {}; } if (window.addthis_layers_tools === undefined) { window.addthis_layers_tools = []; } else {  } if (window.addthis_plugin_info === undefined) { window.addthis_plugin_info = {\"info_status\":\"enabled\",\"cms_name\":\"WordPress\",\"plugin_name\":\"Share Buttons by AddThis\",\"plugin_version\":\"6.2.7\",\"plugin_mode\":\"WordPress\",\"anonymous_profile_id\":\"wp-642a6d0c1ca577b4f72dac132dc72d83\",\"page_info\":{\"template\":\"home\",\"post_type\":\"\"},\"sharing_enabled_on_post_via_metabox\":false}; } \\n                    (function() {\\n                      var first_load_interval_id = setInterval(function () {\\n                        if (typeof window.addthis !== \\'undefined\\') {\\n                          window.clearInterval(first_load_interval_id);\\n                          if (typeof window.addthis_layers !== \\'undefined\\' && Object.getOwnPropertyNames(window.addthis_layers).length > 0) {\\n                            window.addthis.layers(window.addthis_layers);\\n                          }\\n                          if (Array.isArray(window.addthis_layers_tools)) {\\n                            for (i = 0; i < window.addthis_layers_tools.length; i++) {\\n                              window.addthis.layers(window.addthis_layers_tools[i]);\\n                            }\\n                          }\\n                        }\\n                     },1000)\\n                    }());\\n                </script><link rel=\"icon\" href=\"https://i0.wp.com/coloredconventions.org/before-garvey-mcneal-turner/wp-content/uploads/sites/16/2019/11/Favicon.png?fit=32%2C32&#038;ssl=1\" sizes=\"32x32\" />\\n<link rel=\"icon\" href=\"https://i0.wp.com/coloredconventions.org/before-garvey-mcneal-turner/wp-content/uploads/sites/16/2019/11/Favicon.png?fit=192%2C192&#038;ssl=1\" sizes=\"192x192\" />\\n<link rel=\"apple-touch-icon\" href=\"https://i0.wp.com/coloredconventions.org/before-garvey-mcneal-turner/wp-content/uploads/sites/16/2019/11/Favicon.png?fit=180%2C180&#038;ssl=1\" />\\n<meta name=\"msapplication-TileImage\" content=\"https://i0.wp.com/coloredconventions.org/before-garvey-mcneal-turner/wp-content/uploads/sites/16/2019/11/Favicon.png?fit=254%2C254&#038;ssl=1\" />\\n<link rel=\"stylesheet\" id=\"et-divi-customizer-global-cached-inline-styles\" href=\"https://coloredconventions.org/before-garvey-mcneal-turner/wp-content/et-cache/1/16/global/et-divi-customizer-global.min.css?ver=1678837178\" /></head>\\n<body data-rsssl=1 class=\"home page-template-default page page-id-2 dbdb_divi_2_4_up et_pb_button_helper_class et_vertical_nav et_vertical_fixed et_show_nav et_primary_nav_dropdown_animation_fade et_secondary_nav_dropdown_animation_fade et_header_style_left et_pb_footer_columns_3_4__1_4 et_cover_background et_pb_gutter et_pb_gutters3 et_pb_pagebuilder_layout et_no_sidebar et_divi_theme et-db\">\\n\\t<div id=\"page-container\">\\n\\n\\t\\n\\t\\n\\t\\t<header id=\"main-header\" data-height-onload=\"66\">\\n\\t\\t\\t<div class=\"container clearfix et_menu_container\">\\n\\t\\t\\t\\t\\t\\t\\t<div class=\"logo_container\">\\n\\t\\t\\t\\t\\t<span class=\"logo_helper\"></span>\\n\\t\\t\\t\\t\\t<a href=\"https://coloredconventions.org/before-garvey-mcneal-turner/\">\\n\\t\\t\\t\\t\\t\\t<img src=\"/labor/wp-content/uploads/sites/8/2018/06/Social_Square.png\" alt=\"Before Garvey! Henry McNeal Turner and the Fight for Reparations, Emmigration and Black Rights\" id=\"logo\" data-height-percentage=\"100\" />\\n\\t\\t\\t\\t\\t</a>\\n\\t\\t\\t\\t</div>\\n\\t\\t\\t\\t<div id=\"et-top-navigation\" data-height=\"66\" data-fixed-height=\"40\">\\n\\t\\t\\t\\t\\t\\t\\t\\t\\t\\t\\t<nav id=\"top-menu-nav\">\\n\\t\\t\\t\\t\\t\\t<ul id=\"top-menu\" class=\"nav\"><li id=\"menu-item-1694\" class=\"menu-item menu-item-type-post_type menu-item-object-page menu-item-home current-menu-item page_item page-item-2 current_page_item menu-item-1694\"><a href=\"https://coloredconventions.org/before-garvey-mcneal-turner/\" aria-current=\"page\">Home</a></li>\\n<li id=\"menu-item-1693\" class=\"menu-item menu-item-type-post_type menu-item-object-page menu-item-1693\"><a href=\"https://coloredconventions.org/before-garvey-mcneal-turner/introduction/\">Introduction</a></li>\\n<li id=\"menu-item-1700\" class=\"menu-item menu-item-type-post_type menu-item-object-page menu-item-has-children menu-item-1700\"><a href=\"https://coloredconventions.org/before-garvey-mcneal-turner/biography/\">Biography</a>\\n<ul class=\"sub-menu\">\\n\\t<li id=\"menu-item-2725\" class=\"menu-item menu-item-type-post_type menu-item-object-page menu-item-2725\"><a href=\"https://coloredconventions.org/before-garvey-mcneal-turner/biography/black-chaplain/\">Black Chaplain in the Armed Forces</a></li>\\n\\t<li id=\"menu-item-2724\" class=\"menu-item menu-item-type-post_type menu-item-object-page menu-item-2724\"><a href=\"https://coloredconventions.org/before-garvey-mcneal-turner/biography/civil-war-correspondence/\">Civil War Correspondence</a></li>\\n\\t<li id=\"menu-item-2723\" class=\"menu-item menu-item-type-post_type menu-item-object-page menu-item-2723\"><a href=\"https://coloredconventions.org/before-garvey-mcneal-turner/biography/reconstruction-service/\">Reconstruction Service</a></li>\\n</ul>\\n</li>\\n<li id=\"menu-item-2746\" class=\"menu-item menu-item-type-post_type menu-item-object-page menu-item-has-children menu-item-2746\"><a href=\"https://coloredconventions.org/before-garvey-mcneal-turner/ame-church/\">Turner and the AME Church</a>\\n<ul class=\"sub-menu\">\\n\\t<li id=\"menu-item-2744\" class=\"menu-item menu-item-type-post_type menu-item-object-page menu-item-2744\"><a href=\"https://coloredconventions.org/before-garvey-mcneal-turner/ame-church/published-works/\">Published Works</a></li>\\n\\t<li id=\"menu-item-2745\" class=\"menu-item menu-item-type-post_type menu-item-object-page menu-item-2745\"><a href=\"https://coloredconventions.org/before-garvey-mcneal-turner/ame-church/black-theology/\">Bishop Turner and Black Theology</a></li>\\n</ul>\\n</li>\\n<li id=\"menu-item-1744\" class=\"menu-item menu-item-type-post_type menu-item-object-page menu-item-has-children menu-item-1744\"><a href=\"https://coloredconventions.org/before-garvey-mcneal-turner/black-women-preachers/\">Black Women Preachers</a>\\n<ul class=\"sub-menu\">\\n\\t<li id=\"menu-item-3367\" class=\"menu-item menu-item-type-post_type menu-item-object-page menu-item-3367\"><a href=\"https://coloredconventions.org/before-garvey-mcneal-turner/black-women-preachers/amanda-berry-smith/\">Amanda Berry Smith</a></li>\\n\\t<li id=\"menu-item-3368\" class=\"menu-item menu-item-type-post_type menu-item-object-page menu-item-3368\"><a href=\"https://coloredconventions.org/before-garvey-mcneal-turner/black-women-preachers/julia-foote/\">Julia Foote</a></li>\\n\\t<li id=\"menu-item-3366\" class=\"menu-item menu-item-type-post_type menu-item-object-page menu-item-3366\"><a href=\"https://coloredconventions.org/before-garvey-mcneal-turner/black-women-preachers/sarah-hughes-and-black-women-preachers-copy-copy-copy/\">Juliann Jane Tillman</a></li>\\n\\t<li id=\"menu-item-3128\" class=\"menu-item menu-item-type-post_type menu-item-object-page menu-item-3128\"><a href=\"https://coloredconventions.org/before-garvey-mcneal-turner/black-women-preachers/mary-harden/\">Mary Harden</a></li>\\n\\t<li id=\"menu-item-3369\" class=\"menu-item menu-item-type-post_type menu-item-object-page menu-item-3369\"><a href=\"https://coloredconventions.org/before-garvey-mcneal-turner/black-women-preachers/sarah-hughes/\">Sarah (Sallie) Ann Copeland Hughes</a></li>\\n</ul>\\n</li>\\n<li id=\"menu-item-1761\" class=\"menu-item menu-item-type-post_type menu-item-object-page menu-item-1761\"><a href=\"https://coloredconventions.org/before-garvey-mcneal-turner/turners-travels/\">Turner\\xe2\\x80\\x99s Travels</a></li>\\n<li id=\"menu-item-2758\" class=\"menu-item menu-item-type-post_type menu-item-object-page menu-item-has-children menu-item-2758\"><a href=\"https://coloredconventions.org/before-garvey-mcneal-turner/the-conventions/\">Turner and the Conventions</a>\\n<ul class=\"sub-menu\">\\n\\t<li id=\"menu-item-2759\" class=\"menu-item menu-item-type-post_type menu-item-object-page menu-item-2759\"><a href=\"https://coloredconventions.org/before-garvey-mcneal-turner/the-conventions/1893-convention/\">Turner\\xe2\\x80\\x99s Convention, 1893</a></li>\\n\\t<li id=\"menu-item-3315\" class=\"menu-item menu-item-type-post_type menu-item-object-page menu-item-3315\"><a href=\"https://coloredconventions.org/before-garvey-mcneal-turner/the-conventions/news/\">Turner\\xe2\\x80\\x99s Convention in the News</a></li>\\n</ul>\\n</li>\\n<li id=\"menu-item-2771\" class=\"menu-item menu-item-type-post_type menu-item-object-page menu-item-has-children menu-item-2771\"><a href=\"https://coloredconventions.org/before-garvey-mcneal-turner/emigration/\">Emigration</a>\\n<ul class=\"sub-menu\">\\n\\t<li id=\"menu-item-2773\" class=\"menu-item menu-item-type-post_type menu-item-object-page menu-item-2773\"><a href=\"https://coloredconventions.org/before-garvey-mcneal-turner/emigration/back-to-africa/\">Back to Africa!</a></li>\\n\\t<li id=\"menu-item-2772\" class=\"menu-item menu-item-type-post_type menu-item-object-page menu-item-2772\"><a href=\"https://coloredconventions.org/before-garvey-mcneal-turner/emigration/into-africa/\">Into Africa</a></li>\\n</ul>\\n</li>\\n<li id=\"menu-item-1764\" class=\"menu-item menu-item-type-post_type menu-item-object-page menu-item-1764\"><a href=\"https://coloredconventions.org/before-garvey-mcneal-turner/bishop-turner-in-the-press/\">Bishop Turner in the Press</a></li>\\n<li id=\"menu-item-1765\" class=\"menu-item menu-item-type-post_type menu-item-object-page menu-item-1765\"><a href=\"https://coloredconventions.org/before-garvey-mcneal-turner/marcus-garvey/\">Marcus Garvey</a></li>\\n<li id=\"menu-item-2699\" class=\"menu-item menu-item-type-post_type menu-item-object-page menu-item-2699\"><a href=\"https://coloredconventions.org/before-garvey-mcneal-turner/credits/\">Credits</a></li>\\n<li id=\"menu-item-4267\" class=\"menu-item menu-item-type-post_type menu-item-object-page menu-item-has-children menu-item-4267\"><a href=\"https://coloredconventions.org/before-garvey-mcneal-turner/teach/\">Teaching</a>\\n<ul class=\"sub-menu\">\\n\\t<li id=\"menu-item-4269\" class=\"menu-item menu-item-type-post_type menu-item-object-page menu-item-4269\"><a href=\"https://coloredconventions.org/before-garvey-mcneal-turner/teach/k-12/\">K-12</a></li>\\n\\t<li id=\"menu-item-4268\" class=\"menu-item menu-item-type-post_type menu-item-object-page menu-item-4268\"><a href=\"https://coloredconventions.org/before-garvey-mcneal-turner/teach/college-ap/\">Teaching Questions: College/AP Classes</a></li>\\n</ul>\\n</li>\\n<li id=\"menu-item-2690\" class=\"menu-return menu-item menu-item-type-custom menu-item-object-custom menu-item-2690\"><a href=\"https://coloredconventions.org/\">RETURN TO:</a></li>\\n<li id=\"menu-item-2691\" class=\"menu-item menu-item-type-custom menu-item-object-custom menu-item-2691\"><a href=\"/exhibits/\">All Exhibits</a></li>\\n<li id=\"menu-item-2692\" class=\"menu-item menu-item-type-custom menu-item-object-custom menu-item-2692\"><a href=\"https://coloredconventions.org/\">Main Site</a></li>\\n</ul>\\t\\t\\t\\t\\t\\t</nav>\\n\\t\\t\\t\\t\\t\\n\\t\\t\\t\\t\\t\\n\\t\\t\\t\\t\\t\\n\\t\\t\\t\\t\\t\\t\\t\\t\\t\\t<div id=\"et_top_search\">\\n\\t\\t\\t\\t\\t\\t<span id=\"et_search_icon\"></span>\\n\\t\\t\\t\\t\\t</div>\\n\\t\\t\\t\\t\\t\\n\\t\\t\\t\\t\\t<div id=\"et_mobile_nav_menu\">\\n\\t\\t\\t\\t<div class=\"mobile_nav closed\">\\n\\t\\t\\t\\t\\t<span class=\"select_page\">Select Page</span>\\n\\t\\t\\t\\t\\t<span class=\"mobile_menu_bar mobile_menu_bar_toggle\"></span>\\n\\t\\t\\t\\t</div>\\n\\t\\t\\t</div>\\t\\t\\t\\t</div> <!-- #et-top-navigation -->\\n\\t\\t\\t</div> <!-- .container -->\\n\\t\\t\\t<div class=\"et_search_outer\">\\n\\t\\t\\t\\t<div class=\"container et_search_form_container\">\\n\\t\\t\\t\\t\\t<form role=\"search\" method=\"get\" class=\"et-search-form\" action=\"https://coloredconventions.org/before-garvey-mcneal-turner/\">\\n\\t\\t\\t\\t\\t<input type=\"search\" class=\"et-search-field\" placeholder=\"Search &hellip;\" value=\"\" name=\"s\" title=\"Search for:\" />\\t\\t\\t\\t\\t</form>\\n\\t\\t\\t\\t\\t<span class=\"et_close_search_field\"></span>\\n\\t\\t\\t\\t</div>\\n\\t\\t\\t</div>\\n\\t\\t</header> <!-- #main-header -->\\n\\n\\t\\t<div id=\"et-main-area\">\\n\\n<div id=\"main-content\">\\n\\n\\n\\t\\t\\t\\n\\t\\t\\t\\t<article id=\"post-2\" class=\"post-2 page type-page status-publish has-post-thumbnail hentry\">\\n\\n\\t\\t\\t\\t\\n\\t\\t\\t\\t\\t<div class=\"entry-content\">\\n\\t\\t\\t\\t\\t<div class=\"at-above-post-homepage addthis_tool\" data-url=\"https://coloredconventions.org/before-garvey-mcneal-turner/\"></div><div class=\"et-l et-l--post\">\\n\\t\\t\\t<div class=\"et_builder_inner_content et_pb_gutters3\">\\n\\t\\t<div class=\"et_pb_section et_pb_section_0 et_pb_with_background et_section_regular\" >\\n\\t\\t\\t\\t\\n\\t\\t\\t\\t\\n\\t\\t\\t\\t\\n\\t\\t\\t\\t\\n\\t\\t\\t\\t\\n\\t\\t\\t\\t\\n\\t\\t\\t\\t<div class=\"et_pb_row et_pb_row_0 et_pb_row_fullwidth et_pb_equal_columns et_pb_gutters1\">\\n\\t\\t\\t\\t<div class=\"et_pb_column et_pb_column_4_4 et_pb_column_0  et_pb_css_mix_blend_mode_passthrough et-last-child\">\\n\\t\\t\\t\\t\\n\\t\\t\\t\\t\\n\\t\\t\\t\\t\\n\\t\\t\\t\\t\\n\\t\\t\\t\\t<div class=\"et_pb_module et_pb_text et_pb_text_0  et_pb_text_align_left et_pb_bg_layout_dark\">\\n\\t\\t\\t\\t\\n\\t\\t\\t\\t\\n\\t\\t\\t\\t\\n\\t\\t\\t\\t\\n\\t\\t\\t\\t<div class=\"et_pb_text_inner\"><h1 style=\"text-align: center;\">BEFORE GARVEY! HENRY MCNEAL TURNER AND THE FIGHT FOR REPARATIONS, EMIGRATION AND BLACK RIGHTS</h1></div>\\n\\t\\t\\t</div><div class=\"et_pb_module et_pb_divider_0 et_pb_space et_pb_divider_hidden\"><div class=\"et_pb_divider_internal\"></div></div><div class=\"et_pb_module et_pb_text et_pb_text_1  et_pb_text_align_left et_pb_bg_layout_dark\">\\n\\t\\t\\t\\t\\n\\t\\t\\t\\t\\n\\t\\t\\t\\t\\n\\t\\t\\t\\t\\n\\t\\t\\t\\t<div class=\"et_pb_text_inner\"><p style=\"text-align: center;\">This exhibit is based on Professor Andre E. Johnson&#8217;s award-winning article about the role and work of Bishop Henry McNeal Turner in the Colored Conventions movement, focusing on the last convention called by Bishop Turner, the 1893 National Colored Convention in Cincinnati, Ohio.</p></div>\\n\\t\\t\\t</div><div class=\"et_pb_module et_pb_divider_1 et_pb_space et_pb_divider_hidden\"><div class=\"et_pb_divider_internal\"></div></div><div class=\"et_pb_button_module_wrapper et_pb_button_0_wrapper et_pb_button_alignment_center et_pb_module  dbdb-icon-on-right dbdb-icon-on-hover\">\\n\\t\\t\\t\\t<a class=\"et_pb_button et_pb_button_0 et_hover_enabled et_pb_bg_layout_dark\" href=\"/before-garvey-mcneal-turner/introduction/\">Explore</a>\\n\\t\\t\\t</div>\\n\\t\\t\\t</div>\\n\\t\\t\\t\\t\\n\\t\\t\\t\\t\\n\\t\\t\\t\\t\\n\\t\\t\\t\\t\\n\\t\\t\\t</div>\\n\\t\\t\\t\\t\\n\\t\\t\\t\\t\\n\\t\\t\\t</div><div class=\"et_pb_section et_pb_section_1 et_section_regular\" >\\n\\t\\t\\t\\t\\n\\t\\t\\t\\t\\n\\t\\t\\t\\t\\n\\t\\t\\t\\t\\n\\t\\t\\t\\t\\n\\t\\t\\t\\t\\n\\t\\t\\t\\t<div class=\"et_pb_row et_pb_row_1\">\\n\\t\\t\\t\\t<div class=\"et_pb_column et_pb_column_4_4 et_pb_column_1  et_pb_css_mix_blend_mode_passthrough et-last-child\">\\n\\t\\t\\t\\t\\n\\t\\t\\t\\t\\n\\t\\t\\t\\t\\n\\t\\t\\t\\t\\n\\t\\t\\t\\t<div class=\"et_pb_module et_pb_text et_pb_text_2  et_pb_text_align_left et_pb_bg_layout_light\">\\n\\t\\t\\t\\t\\n\\t\\t\\t\\t\\n\\t\\t\\t\\t\\n\\t\\t\\t\\t\\n\\t\\t\\t\\t<div class=\"et_pb_text_inner\"><h3>Credits</h3>\\n<p><strong>Curators:\\xc2\\xa0</strong>Denise Burgher, PhD student in English and Committee Chair, the Colored Conventions Project, and Dr. Andre E. Johnson, Assistant Professor of Communication Studies at the University of Memphis. Created for Dr. P. Gabrielle Foreman&#8217;s History/English 641 class, Spring 2016.</p>\\n<p><strong>Edited by\\xc2\\xa0</strong>Dr. P. Gabrielle Foreman and Sarah Patterson.</p>\\n<p><strong>Acknowledgements:</strong> Samantha de Vera, Simone Austin, Kelli Coles, and Caleb Trotter for further edits, visualization contributions, and technical assistance.</p>\\n<p><b>Special thanks</b> to Gale, a Cengage Company, and Accessible Archives Inc.\\xc2\\xae for granting permission for the use of the materials from <em><a href=\"https://www.gale.com/c/19th-century-us-newspapers\" target=\"blank\" rel=\"noopener noreferrer\">19th Century U.S. Newspaper</a></em> and <a href=\"http://www.accessible-archives.com/collections/african-american-newspapers/\" target=\"blank\" rel=\"noopener noreferrer\"><em>African American Newspapers: The 19th Century</em></a>.</p>\\n<p><b>The Colored Conventions Project</b> works with teaching partners and their students to create digital content on the rich history of Black political organizing in the nineteenth-century. Visit our <a href=\"/teaching\">Teaching Partners page</a> to browse the curriculum and find information on becoming a teaching partner.</p>\\n<p>&nbsp;</p></div>\\n\\t\\t\\t</div>\\n\\t\\t\\t</div>\\n\\t\\t\\t\\t\\n\\t\\t\\t\\t\\n\\t\\t\\t\\t\\n\\t\\t\\t\\t\\n\\t\\t\\t</div>\\n\\t\\t\\t\\t\\n\\t\\t\\t\\t\\n\\t\\t\\t</div>\\t\\t</div>\\n\\t</div>\\n\\t<!-- AddThis Advanced Settings above via filter on the_content --><!-- AddThis Advanced Settings below via filter on the_content --><!-- AddThis Advanced Settings generic via filter on the_content --><!-- AddThis Share Buttons above via filter on the_content --><!-- AddThis Share Buttons below via filter on the_content --><div class=\"at-below-post-homepage addthis_tool\" data-url=\"https://coloredconventions.org/before-garvey-mcneal-turner/\"></div><!-- AddThis Share Buttons generic via filter on the_content -->\\t\\t\\t\\t\\t</div>\\n\\n\\t\\t\\t\\t\\n\\t\\t\\t\\t</article>\\n\\n\\t\\t\\t\\n\\n</div>\\n\\n\\n\\t<span class=\"et_pb_scroll_top et-pb-icon\"></span>\\n\\n\\n\\t\\t\\t<footer id=\"main-footer\">\\n\\t\\t\\t\\t\\n<div class=\"container\">\\n\\t<div id=\"footer-widgets\" class=\"clearfix\">\\n\\t\\t<div class=\"footer-widget\"><div id=\"text-4\" class=\"fwidget et_pb_widget widget_text\">\\t\\t\\t<div class=\"textwidget\"><hr />\\n<h4>Viewing \\xc2\\xbb Before Garvey! Henry McNeal Turner and the Fight for Reparations, Emigration and Black Rights</h4>\\n<div>An exhibit in the collection of the Colored Conventions Project: Bringing 19th-century Black Organizing to Digital Life</div>\\n<div style=\"line-height: 3.0;\"><strong><span style=\"color: #073e70;\"> RETURN to:</span> </strong> <a style=\"color: #ae5303;\" href=\"/exhibits/\" target=\"_blank\" rel=\"noopener\">All Exhibits</a> \\xe2\\x80\\xa2 <a style=\"color: #ae5303;\" href=\"https://coloredconventions.org/\" target=\"_blank\" rel=\"noopener\">Main Site</a> \\xe2\\x80\\xa2 <a style=\"color: #ae5303;\" href=\"https://coloredconventions.org/wp-admin\" target=\"_blank\" rel=\"noopener\">Login </a></div>\\n<p><strong>PAGE CITATION</strong> [citationic]</p>\\n</div>\\n\\t\\t</div></div><div class=\"footer-widget\"><div id=\"text-7\" class=\"fwidget et_pb_widget widget_text\">\\t\\t\\t<div class=\"textwidget\"><hr />\\n<div style=\"font-size: 10px;\"><a style=\"color: #ae5303;\" href=\"http://creativecommons.org/licenses/by-nc-sa/4.0/\" rel=\"license\"><img decoding=\"async\" class=\"alignleft\" src=\"https://i0.wp.com/i.creativecommons.org/l/by-nc-sa/4.0/88x31.png?w=1080&#038;ssl=1\" alt=\"Creative Commons License\" data-recalc-dims=\"1\" /></a>All historical documents and images are in the public domain and are licensed under Creative Commons. Additional material created by the Colored Conventions Project is considered under copyright, but licensed under Creative Commons. This work is licensed under a <a href=\"http://creativecommons.org/licenses/by-nc-sa/4.0/\" rel=\"license\">Creative Commons Attribution-NonCommercial-ShareAlike 4.0 International License</a>.</div>\\n</div>\\n\\t\\t</div></div>\\t</div>\\n</div>\\n\\n\\n\\t\\t\\n\\t\\t\\t\\t<div id=\"footer-bottom\">\\n\\t\\t\\t\\t\\t<div class=\"container clearfix\">\\n\\t\\t\\t\\t\\t\\t\\t\\t\\t</div>\\t<!-- .container -->\\n\\t\\t\\t\\t</div>\\n\\t\\t\\t</footer> <!-- #main-footer -->\\n\\t\\t</div> <!-- #et-main-area -->\\n\\n\\n\\t</div> <!-- #page-container -->\\n\\n\\t<script>\\r\\njQuery(function($){\\r\\n\\tfunction update($gallery) {\\r\\n\\t\\tsetTimeout(\\r\\n\\t\\t\\tfunction($gallery) {\\r\\n\\t\\t\\t\\t$gallery.find(\\'.dbdb-slide-counter-active\\').text($gallery.find(\\'.et-pb-active-slide\\').index()+1);\\r\\n\\t\\t\\t},\\r\\n\\t\\t\\t50,\\r\\n\\t\\t\\t$gallery\\r\\n\\t\\t);\\r\\n\\t}\\r\\n\\tupdate($(\\'.et_pb_gallery\\'));\\r\\n\\t$(document).on(\\'mouseup\\', \\'.et_pb_gallery .et-pb-slider-arrows a, .et_pb_gallery .et-pb-controllers a\\', \\r\\n\\t\\tfunction () {\\r\\n\\t\\t\\tupdate($(this).closest(\\'.et_pb_gallery\\'));\\r\\n\\t\\t}\\r\\n\\t);\\r\\n});\\r\\n</script>\\r\\n<style>\\r\\n.dbdb-slide-counter {\\r\\n\\tposition: absolute;\\r\\n    width: 100%;\\r\\n}\\r\\n.et_pb_gallery {\\r\\n\\toverflow: visible !important;\\r\\n}\\r\\n.et_pb_gallery_items {\\r\\n\\toverflow: hidden;\\r\\n}\\r\\n</style>\\r\\n\\n<script>\\r\\njQuery(function($){\\r\\n    $(\\'.logo_container a\\').attr(\\'href\\',\\'https://coloredconventions.org\\');\\r\\n});\\r\\n</script><link rel=\\'stylesheet\\' id=\\'wp-block-library-css\\' href=\\'https://coloredconventions.org/before-garvey-mcneal-turner/wp-includes/css/dist/block-library/style.min.css?ver=6.1.1\\' type=\\'text/css\\' media=\\'none\\' onload=\"media=\\'all\\'\" />\\n<style id=\\'wp-block-library-inline-css\\' type=\\'text/css\\'>\\n.has-text-align-justify{text-align:justify;}\\n</style>\\n<script type=\\'text/javascript\\' src=\\'https://coloredconventions.org/before-garvey-mcneal-turner/wp-content/plugins/jetpack/_inc/build/photon/photon.min.js?ver=20191001\\' id=\\'jetpack-photon-js\\'></script>\\n<script type=\\'text/javascript\\' id=\\'divi-custom-script-js-extra\\'>\\n/* <![CDATA[ */\\nvar DIVI = {\"item_count\":\"%d Item\",\"items_count\":\"%d Items\"};\\nvar et_builder_utils_params = {\"condition\":{\"diviTheme\":true,\"extraTheme\":false},\"scrollLocations\":[\"app\",\"top\"],\"builderScrollLocations\":{\"desktop\":\"app\",\"tablet\":\"app\",\"phone\":\"app\"},\"onloadScrollLocation\":\"app\",\"builderType\":\"fe\"};\\nvar et_frontend_scripts = {\"builderCssContainerPrefix\":\"#et-boc\",\"builderCssLayoutPrefix\":\"#et-boc .et-l\"};\\nvar et_pb_custom = {\"ajaxurl\":\"https:\\\\/\\\\/coloredconventions.org\\\\/before-garvey-mcneal-turner\\\\/wp-admin\\\\/admin-ajax.php\",\"images_uri\":\"https:\\\\/\\\\/coloredconventions.org\\\\/before-garvey-mcneal-turner\\\\/wp-content\\\\/themes\\\\/Divi\\\\/images\",\"builder_images_uri\":\"https:\\\\/\\\\/coloredconventions.org\\\\/before-garvey-mcneal-turner\\\\/wp-content\\\\/themes\\\\/Divi\\\\/includes\\\\/builder\\\\/images\",\"et_frontend_nonce\":\"c535f9860d\",\"subscription_failed\":\"Please, check the fields below to make sure you entered the correct information.\",\"et_ab_log_nonce\":\"c744640b3e\",\"fill_message\":\"Please, fill in the following fields:\",\"contact_error_message\":\"Please, fix the following errors:\",\"invalid\":\"Invalid email\",\"captcha\":\"Captcha\",\"prev\":\"Prev\",\"previous\":\"Previous\",\"next\":\"Next\",\"wrong_captcha\":\"You entered the wrong number in captcha.\",\"wrong_checkbox\":\"Checkbox\",\"ignore_waypoints\":\"no\",\"is_divi_theme_used\":\"1\",\"widget_search_selector\":\".widget_search\",\"ab_tests\":[],\"is_ab_testing_active\":\"\",\"page_id\":\"2\",\"unique_test_id\":\"\",\"ab_bounce_rate\":\"5\",\"is_cache_plugin_active\":\"yes\",\"is_shortcode_tracking\":\"\",\"tinymce_uri\":\"https:\\\\/\\\\/coloredconventions.org\\\\/before-garvey-mcneal-turner\\\\/wp-content\\\\/themes\\\\/Divi\\\\/includes\\\\/builder\\\\/frontend-builder\\\\/assets\\\\/vendors\",\"accent_color\":\"#7EBEC5\",\"waypoints_options\":[]};\\nvar et_pb_box_shadow_elements = [];\\n/* ]]> */\\n</script>\\n<script type=\\'text/javascript\\' src=\\'https://coloredconventions.org/before-garvey-mcneal-turner/wp-content/themes/Divi/js/scripts.min.js?ver=4.20.2\\' id=\\'divi-custom-script-js\\'></script>\\n<script type=\\'text/javascript\\' src=\\'https://coloredconventions.org/before-garvey-mcneal-turner/wp-content/themes/Divi/core/admin/js/common.js?ver=4.20.2\\' id=\\'et-core-common-js\\'></script>\\n<style id=\"et-builder-module-design-deferred-cached-inline-styles\">div.et_pb_section.et_pb_section_0{background-blend-mode:darken;background-image:url(https://coloredconventions.org/mcneal-turner/wp-content/uploads/sites/16/2018/04/bishop-henry-mcneal-turner_1902_cropped-head-shot_main-page.jpeg)!important}.et_pb_section_0.et_pb_section,.et_pb_section_1.et_pb_section{padding-top:0px;padding-right:0px;padding-bottom:0px;padding-left:0px}.et_pb_row_0{background-color:rgba(2,18,33,0.5)}.et_pb_text_0{font-family:\\'Open Sans\\',Helvetica,Arial,Lucida,sans-serif}.et_pb_text_0 h1{font-family:\\'Oswald\\',Helvetica,Arial,Lucida,sans-serif;font-size:48px;color:#e6ebf0!important;text-shadow:0em 0em 0.3em #596972}.et_pb_divider_0{max-width:25%}.et_pb_text_1{font-family:\\'Open Sans\\',Helvetica,Arial,Lucida,sans-serif;text-shadow:0em 0em 0.3em rgba(0,0,0,0.4);background-image:linear-gradient(180deg,rgba(1,12,22,0.65) 0%,rgba(0,6,11,0.65) 100%);padding-top:30px!important;padding-right:30px!important;padding-bottom:30px!important;padding-left:30px!important;box-shadow:0px 12px 18px -6px #00060b}.et_pb_text_1 h1{font-family:\\'Oswald\\',Helvetica,Arial,Lucida,sans-serif}.et_pb_text_1 h4{font-family:\\'PT Sans\\',Helvetica,Arial,Lucida,sans-serif;font-weight:300;color:#e6ebf0!important;text-shadow:0em 0em 0.3em rgba(0,0,0,0.4)}body #page-container .et_pb_section .et_pb_button_0{color:#e6ebf0!important;border-width:0px!important;font-weight:700!important;background-color:#70073e}body #page-container .et_pb_section .et_pb_button_0:hover{color:#70073e!important;border-radius:0!important;background-image:initial;background-color:#f7f9fa}body #page-container .et_pb_section .et_pb_button_0,body #page-container .et_pb_section .et_pb_button_0:hover{padding:0.3em 1em!important}body #page-container .et_pb_section .et_pb_button_0:before,body #page-container .et_pb_section .et_pb_button_0:after{display:none!important}.et_pb_button_0{transition:color 300ms ease 0ms,background-color 300ms ease 0ms}.et_pb_button_0,.et_pb_button_0:after{transition:all 300ms ease 0ms}.et_pb_row_1.et_pb_row{padding-top:21px!important;padding-right:0px!important;padding-bottom:6px!important;padding-left:0px!important;padding-top:21px;padding-right:0px;padding-bottom:6px;padding-left:0px}.et_pb_text_2.et_pb_text{color:#000509!important}.et_pb_text_2{font-size:14px}.et_pb_column_0{padding-top:5em;padding-right:5em;padding-bottom:5em;padding-left:5em}.et_pb_row_0.et_pb_row,.et_pb_divider_0.et_pb_module{margin-left:auto!important;margin-right:auto!important}@media only screen and (min-width:981px){.et_pb_row_0,body #page-container .et-db #et-boc .et-l .et_pb_row_0.et_pb_row,body.et_pb_pagebuilder_layout.single #page-container #et-boc .et-l .et_pb_row_0.et_pb_row,body.et_pb_pagebuilder_layout.single.et_full_width_page #page-container #et-boc .et-l .et_pb_row_0.et_pb_row{width:100%;max-width:100%}}@media only screen and (max-width:980px){.et_pb_row_0,body #page-container .et-db #et-boc .et-l .et_pb_row_0.et_pb_row,body.et_pb_pagebuilder_layout.single #page-container #et-boc .et-l .et_pb_row_0.et_pb_row,body.et_pb_pagebuilder_layout.single.et_full_width_page #page-container #et-boc .et-l .et_pb_row_0.et_pb_row{width:100%;max-width:100%}}</style>\\t<script src=\\'https://stats.wp.com/e-202313.js\\' defer></script>\\n\\t<script>\\n\\t\\t_stq = window._stq || [];\\n\\t\\t_stq.push([ \\'view\\', {v:\\'ext\\',blog:\\'180434138\\',post:\\'2\\',tz:\\'-4\\',srv:\\'coloredconventions.org\\',j:\\'1:11.9.1\\'} ]);\\n\\t\\t_stq.push([ \\'clickTrackerInit\\', \\'180434138\\', \\'2\\' ]);\\n\\t</script><script type=\"text/javascript\">\\n(function($) {\\n\\n\\tfunction setup_collapsible_submenus() {\\n\\t\\tvar $menu = $(\\'#top-menu\\'),\\n\\t\\ttop_level_link = \\'#top-menu .menu-item-has-children > a\\';\\n\\n\\t\\t// Find the \\'a\\' elements in the #top-menu and iterate over each. \\n\\t\\t$menu.find(\\'a\\').each(function() {\\n\\t\\t\\t// Remove all click events.\\n\\t\\t\\t$(this).off(\\'click\\');\\n\\n\\t\\t\\t// Check if the current HTML element is a top_level_link.\\n\\t\\t\\tif ( $(this).is(top_level_link) ) {\\n\\t\\t\\t\\t// Check if the current HTML element has a parent with the\\n\\t\\t\\t\\t// \\'always-visitable\\' class.\\n\\t\\t\\t\\tif ($(this).parent().hasClass(\\'always-visitable\\')) {\\n\\t\\t\\t\\t\\t// Assign the hover-link class to the parent element. \\n\\t\\t\\t\\t\\t$(\\'<a class=\"hover-link\"></div>\\')\\n\\t\\t\\t\\t\\t// Set the link to target the active element href. \\n\\t\\t\\t\\t\\t.attr(\\'href\\', $(this).attr(\\'href\\'))\\n\\t\\t\\t\\t\\t// Prevent parent event handlers on click.\\n\\t\\t\\t\\t\\t.on(\\'click\\', function(e){ e.stopPropagation(); })\\n\\t\\t\\t\\t\\t// Append to the active element. \\n\\t\\t\\t\\t\\t.appendTo($(this));\\n\\t\\t\\t\\t}\\n\\t\\t\\t\\t\\n\\t\\t\\t\\t// Let the active element href target the \\'#\\' placeholder, allowing the \\n\\t\\t\\t\\t// click event to function like a toggle button. \\n\\t\\t\\t\\t$(this).attr(\\'href\\', \\'#\\');\\n\\t\\t\\t}\\n\\t\\t\\t\\n\\t\\t\\t// Check if the active element has siblings of the \\'sub-menu\\' class. \\n\\t\\t\\tif ( ! $(this).siblings(\\'.sub-menu\\').length ) {\\n\\t\\t\\t\\t// When the active element is clicked, trigger its parent\\'s click event.\\n\\t\\t\\t\\t$(this).on(\\'click\\', function(event) {\\n\\t\\t\\t\\t\\t$(this).parents(\\'.top-menu\\').trigger(\\'click\\');\\n\\t\\t\\t\\t});\\t\\t\\t\\t\\n\\t\\t\\t// If the active element has siblings, toggle its parent\\'s \\'visible\\' \\n\\t\\t\\t// class. \\n\\t\\t\\t} else {\\n\\t\\t\\t\\t$(this).on(\\'click\\', function(event) {\\n\\t\\t\\t\\t\\tevent.preventDefault();\\n\\t\\t\\t\\t\\t$(this).parent().toggleClass(\\'visible\\');\\n\\t\\t\\t\\t});\\n\\t\\t\\t}\\n\\t\\t});\\n\\t}\\n  \\n  // Add the \\'always-visitable\\' class to menu items that have submenus.\\n\\t$(\\'#top-menu li\\').has(\\'ul\\').addClass(\\'always-visitable\\');\\n\\t// Create the collapsible submenus.\\n\\tsetup_collapsible_submenus();\\n\\t// Open the submenu when on the parent page. \\n\\t$(\\'.current-menu-item > a\\').trigger(\\'click\\');\\n\\t// Open the submenu when on a child page.\\n\\t$(\\'.current-menu-parent > a\\').trigger(\\'click\\');\\n})(jQuery);\\n</script>\\n\\n</body>\\n</html>\\n<!-- Dynamic page generated in 0.979 seconds. -->\\n<!-- Cached page generated by WP-Super-Cache on 2023-03-29 01:08:18 -->\\n\\n<!-- super cache -->'\n"
          ]
        }
      ],
      "source": [
        "html = urllib.request.urlopen(anotherurl).read()\n",
        "print(html)"
      ]
    },
    {
      "cell_type": "markdown",
      "metadata": {
        "id": "zi1Cyb-SI1d7"
      },
      "source": [
        "If you are interested in doing text analysis of a webpage, and the only way to ingest the web page is with HTML included, what are things you might need to learn to do to separate the HTML tags from the text? Look at the code above and write a short description of what might need to stay and what might need to be extracted. Should the extracted data be preserved or discarded? "
      ]
    },
    {
      "cell_type": "markdown",
      "source": [
        "## Answer\n",
        "In order to perform a text analysis based on a webpage data (HTML tags), we have to web scraping the page. Some of the Python libraries that can be used are including Beautiful Soup, Scrapy, and Requests-HTML. For example, using the Beautiful Soup library, you can extract the text content of a webpage as follows:\n",
        "\n",
        "\n",
        "```\n",
        "import requests\n",
        "from bs4 import BeautifulSoup\n",
        "\n",
        "# Send a GET request to the webpage\n",
        "response = requests.get('https://www.example.com')\n",
        "\n",
        "# Parse the HTML content using Beautiful Soup\n",
        "soup = BeautifulSoup(response.content, 'html.parser')\n",
        "\n",
        "# Extract the text content of the webpage and discard the HTML tags\n",
        "text = soup.get_text()\n",
        "```\n",
        "\n",
        "In this example, the `requests.get()` function sends a GET request to the specified webpage and returns the HTML content of the page as a response object. The response object's content attribute contains the HTML content of the page.\n",
        "\n",
        "The HTML content is then parsed using the Beautiful Soup library's `BeautifulSoup()` function, which returns a BeautifulSoup object that can be used to extract the text content of the page. The `soup.get_text()` function extracts the text content of the page and discards the HTML tags.\n",
        "\n",
        "When extracting text from a webpage, it's important to consider what data should be preserved or discarded. Typically, you would want to preserve the text content of the webpage while discarding any irrelevant or extraneous information, such as HTML tags, scripts, and stylesheets. However, the specific data that should be preserved or discarded will depend on the goals of the text analysis and the structure of the webpage.\n",
        "\n",
        "\n"
      ],
      "metadata": {
        "id": "7298OpdUxYSw"
      }
    },
    {
      "cell_type": "markdown",
      "metadata": {
        "id": "0iUkeiKmI1d7"
      },
      "source": [
        "# Importing Data by Webscraping with BeautifulSoup\n",
        "If you are interested in scraping data from the open web, BeautifulSoup is a Python pacakge worth exploring in detail. For our purposes here, though, we're going to consider how to use Beautiful Soup to turn \"unstructured\" data into \"structured\" data. As you read through this section, consider Muñoz and Rawson's argument about data cleaning. Is there a need for the data to stay unstructured? What is the value of cleaning? "
      ]
    },
    {
      "cell_type": "markdown",
      "source": [
        "## Answer \n",
        "As mentione, Beautiful Soup is a Python library used for web scraping and parsing HTML and XML documents. It can be used to turn unstructured data, such as the HTML content of a webpage, into structured data, such as a dataset that can be analyzed using data analysis tools. The purpose of data cleaning is to improve the quality and reliability of the data, making it more suitable for analysis.\n",
        "In Muñoz and Rawson's argument about data cleaning, they emphasize the importance of transforming unstructured data into structured data, as this can help to reduce errors, increase consistency, and improve the reliability of the data. They argue that data cleaning is a necessary step in the data analysis process, as it can help to uncover hidden patterns and insights that would not be visible in uncleaned data.\n",
        "\n",
        "\n",
        "\n"
      ],
      "metadata": {
        "id": "IGeSUIOR0qOJ"
      }
    },
    {
      "cell_type": "code",
      "execution_count": null,
      "metadata": {
        "id": "u6TpNC7TI1d7"
      },
      "outputs": [],
      "source": [
        "import requests\n",
        "from bs4 import BeautifulSoup"
      ]
    },
    {
      "cell_type": "code",
      "execution_count": null,
      "metadata": {
        "id": "h80IcFswI1d8",
        "colab": {
          "base_uri": "https://localhost:8080/"
        },
        "outputId": "49b7c931-2b8a-4e87-b7ca-827ddde88f66"
      },
      "outputs": [
        {
          "output_type": "stream",
          "name": "stdout",
          "text": [
            "<!DOCTYPE html>\n",
            "<html lang=\"en\" xmlns:addthis=\"https://www.addthis.com/help/api-spec\" xmlns:fb=\"https://www.facebook.com/2008/fbml\">\n",
            " <head>\n",
            "  <meta charset=\"utf-8\"/>\n",
            "  <meta content=\"IE=edge\" http-equiv=\"X-UA-Compatible\"/>\n",
            "  <link href=\"https://coloredconventions.org/xmlrpc.php\" rel=\"pingback\"/>\n",
            "  <script type=\"text/javascript\">\n",
            "   document.documentElement.className = 'js';\n",
            "  </script>\n",
            "  <link crossorigin=\"\" href=\"https://fonts.gstatic.com\" rel=\"preconnect\"/>\n",
            "  <style id=\"et-builder-googlefonts-cached-inline\">\n",
            "   /* Original: https://fonts.googleapis.com/css?family=Oswald:200,300,regular,500,600,700|Open+Sans:300,regular,500,600,700,800,300italic,italic,500italic,600italic,700italic,800italic&#038;subset=cyrillic,cyrillic-ext,latin,latin-ext,vietnamese,greek,greek-ext,hebrew&#038;display=swap *//* User Agent: Mozilla/5.0 (Unknown; Linux x86_64) AppleWebKit/538.1 (KHTML, like Gecko) Safari/538.1 Daum/4.1 */@font-face {font-family: 'Open Sans';font-style: italic;font-weight: 300;font-stretch: normal;font-display: swap;src: url(https://fonts.gstatic.com/s/opensans/v34/memQYaGs126MiZpBA-UFUIcVXSCEkx2cmqvXlWq8tWZ0Pw86hd0Rk5hkaVc.ttf) format('truetype');}@font-face {font-family: 'Open Sans';font-style: italic;font-weight: 400;font-stretch: normal;font-display: swap;src: url(https://fonts.gstatic.com/s/opensans/v34/memQYaGs126MiZpBA-UFUIcVXSCEkx2cmqvXlWq8tWZ0Pw86hd0Rk8ZkaVc.ttf) format('truetype');}@font-face {font-family: 'Open Sans';font-style: italic;font-weight: 500;font-stretch: normal;font-display: swap;src: url(https://fonts.gstatic.com/s/opensans/v34/memQYaGs126MiZpBA-UFUIcVXSCEkx2cmqvXlWq8tWZ0Pw86hd0Rk_RkaVc.ttf) format('truetype');}@font-face {font-family: 'Open Sans';font-style: italic;font-weight: 600;font-stretch: normal;font-display: swap;src: url(https://fonts.gstatic.com/s/opensans/v34/memQYaGs126MiZpBA-UFUIcVXSCEkx2cmqvXlWq8tWZ0Pw86hd0RkxhjaVc.ttf) format('truetype');}@font-face {font-family: 'Open Sans';font-style: italic;font-weight: 700;font-stretch: normal;font-display: swap;src: url(https://fonts.gstatic.com/s/opensans/v34/memQYaGs126MiZpBA-UFUIcVXSCEkx2cmqvXlWq8tWZ0Pw86hd0RkyFjaVc.ttf) format('truetype');}@font-face {font-family: 'Open Sans';font-style: italic;font-weight: 800;font-stretch: normal;font-display: swap;src: url(https://fonts.gstatic.com/s/opensans/v34/memQYaGs126MiZpBA-UFUIcVXSCEkx2cmqvXlWq8tWZ0Pw86hd0Rk0ZjaVc.ttf) format('truetype');}@font-face {font-family: 'Open Sans';font-style: normal;font-weight: 300;font-stretch: normal;font-display: swap;src: url(https://fonts.gstatic.com/s/opensans/v34/memSYaGs126MiZpBA-UvWbX2vVnXBbObj2OVZyOOSr4dVJWUgsiH0C4n.ttf) format('truetype');}@font-face {font-family: 'Open Sans';font-style: normal;font-weight: 400;font-stretch: normal;font-display: swap;src: url(https://fonts.gstatic.com/s/opensans/v34/memSYaGs126MiZpBA-UvWbX2vVnXBbObj2OVZyOOSr4dVJWUgsjZ0C4n.ttf) format('truetype');}@font-face {font-family: 'Open Sans';font-style: normal;font-weight: 500;font-stretch: normal;font-display: swap;src: url(https://fonts.gstatic.com/s/opensans/v34/memSYaGs126MiZpBA-UvWbX2vVnXBbObj2OVZyOOSr4dVJWUgsjr0C4n.ttf) format('truetype');}@font-face {font-family: 'Open Sans';font-style: normal;font-weight: 600;font-stretch: normal;font-display: swap;src: url(https://fonts.gstatic.com/s/opensans/v34/memSYaGs126MiZpBA-UvWbX2vVnXBbObj2OVZyOOSr4dVJWUgsgH1y4n.ttf) format('truetype');}@font-face {font-family: 'Open Sans';font-style: normal;font-weight: 700;font-stretch: normal;font-display: swap;src: url(https://fonts.gstatic.com/s/opensans/v34/memSYaGs126MiZpBA-UvWbX2vVnXBbObj2OVZyOOSr4dVJWUgsg-1y4n.ttf) format('truetype');}@font-face {font-family: 'Open Sans';font-style: normal;font-weight: 800;font-stretch: normal;font-display: swap;src: url(https://fonts.gstatic.com/s/opensans/v34/memSYaGs126MiZpBA-UvWbX2vVnXBbObj2OVZyOOSr4dVJWUgshZ1y4n.ttf) format('truetype');}@font-face {font-family: 'Oswald';font-style: normal;font-weight: 200;font-display: swap;src: url(https://fonts.gstatic.com/s/oswald/v49/TK3_WkUHHAIjg75cFRf3bXL8LICs13FvgUE.ttf) format('truetype');}@font-face {font-family: 'Oswald';font-style: normal;font-weight: 300;font-display: swap;src: url(https://fonts.gstatic.com/s/oswald/v49/TK3_WkUHHAIjg75cFRf3bXL8LICs169vgUE.ttf) format('truetype');}@font-face {font-family: 'Oswald';font-style: normal;font-weight: 400;font-display: swap;src: url(https://fonts.gstatic.com/s/oswald/v49/TK3_WkUHHAIjg75cFRf3bXL8LICs1_FvgUE.ttf) format('truetype');}@font-face {font-family: 'Oswald';font-style: normal;font-weight: 500;font-display: swap;src: url(https://fonts.gstatic.com/s/oswald/v49/TK3_WkUHHAIjg75cFRf3bXL8LICs18NvgUE.ttf) format('truetype');}@font-face {font-family: 'Oswald';font-style: normal;font-weight: 600;font-display: swap;src: url(https://fonts.gstatic.com/s/oswald/v49/TK3_WkUHHAIjg75cFRf3bXL8LICs1y9ogUE.ttf) format('truetype');}@font-face {font-family: 'Oswald';font-style: normal;font-weight: 700;font-display: swap;src: url(https://fonts.gstatic.com/s/oswald/v49/TK3_WkUHHAIjg75cFRf3bXL8LICs1xZogUE.ttf) format('truetype');}/* User Agent: Mozilla/5.0 (Windows NT 6.1; WOW64; rv:27.0) Gecko/20100101 Firefox/27.0 */@font-face {font-family: 'Open Sans';font-style: italic;font-weight: 300;font-stretch: normal;font-display: swap;src: url(https://fonts.gstatic.com/s/opensans/v34/memQYaGs126MiZpBA-UFUIcVXSCEkx2cmqvXlWq8tWZ0Pw86hd0Rk5hkaVQ.woff) format('woff');}@font-face {font-family: 'Open Sans';font-style: italic;font-weight: 400;font-stretch: normal;font-display: swap;src: url(https://fonts.gstatic.com/s/opensans/v34/memQYaGs126MiZpBA-UFUIcVXSCEkx2cmqvXlWq8tWZ0Pw86hd0Rk8ZkaVQ.woff) format('woff');}@font-face {font-family: 'Open Sans';font-style: italic;font-weight: 500;font-stretch: normal;font-display: swap;src: url(https://fonts.gstatic.com/s/opensans/v34/memQYaGs126MiZpBA-UFUIcVXSCEkx2cmqvXlWq8tWZ0Pw86hd0Rk_RkaVQ.woff) format('woff');}@font-face {font-family: 'Open Sans';font-style: italic;font-weight: 600;font-stretch: normal;font-display: swap;src: url(https://fonts.gstatic.com/s/opensans/v34/memQYaGs126MiZpBA-UFUIcVXSCEkx2cmqvXlWq8tWZ0Pw86hd0RkxhjaVQ.woff) format('woff');}@font-face {font-family: 'Open Sans';font-style: italic;font-weight: 700;font-stretch: normal;font-display: swap;src: url(https://fonts.gstatic.com/s/opensans/v34/memQYaGs126MiZpBA-UFUIcVXSCEkx2cmqvXlWq8tWZ0Pw86hd0RkyFjaVQ.woff) format('woff');}@font-face {font-family: 'Open Sans';font-style: italic;font-weight: 800;font-stretch: normal;font-display: swap;src: url(https://fonts.gstatic.com/s/opensans/v34/memQYaGs126MiZpBA-UFUIcVXSCEkx2cmqvXlWq8tWZ0Pw86hd0Rk0ZjaVQ.woff) format('woff');}@font-face {font-family: 'Open Sans';font-style: normal;font-weight: 300;font-stretch: normal;font-display: swap;src: url(https://fonts.gstatic.com/s/opensans/v34/memSYaGs126MiZpBA-UvWbX2vVnXBbObj2OVZyOOSr4dVJWUgsiH0C4k.woff) format('woff');}@font-face {font-family: 'Open Sans';font-style: normal;font-weight: 400;font-stretch: normal;font-display: swap;src: url(https://fonts.gstatic.com/s/opensans/v34/memSYaGs126MiZpBA-UvWbX2vVnXBbObj2OVZyOOSr4dVJWUgsjZ0C4k.woff) format('woff');}@font-face {font-family: 'Open Sans';font-style: normal;font-weight: 500;font-stretch: normal;font-display: swap;src: url(https://fonts.gstatic.com/s/opensans/v34/memSYaGs126MiZpBA-UvWbX2vVnXBbObj2OVZyOOSr4dVJWUgsjr0C4k.woff) format('woff');}@font-face {font-family: 'Open Sans';font-style: normal;font-weight: 600;font-stretch: normal;font-display: swap;src: url(https://fonts.gstatic.com/s/opensans/v34/memSYaGs126MiZpBA-UvWbX2vVnXBbObj2OVZyOOSr4dVJWUgsgH1y4k.woff) format('woff');}@font-face {font-family: 'Open Sans';font-style: normal;font-weight: 700;font-stretch: normal;font-display: swap;src: url(https://fonts.gstatic.com/s/opensans/v34/memSYaGs126MiZpBA-UvWbX2vVnXBbObj2OVZyOOSr4dVJWUgsg-1y4k.woff) format('woff');}@font-face {font-family: 'Open Sans';font-style: normal;font-weight: 800;font-stretch: normal;font-display: swap;src: url(https://fonts.gstatic.com/s/opensans/v34/memSYaGs126MiZpBA-UvWbX2vVnXBbObj2OVZyOOSr4dVJWUgshZ1y4k.woff) format('woff');}@font-face {font-family: 'Oswald';font-style: normal;font-weight: 200;font-display: swap;src: url(https://fonts.gstatic.com/s/oswald/v49/TK3_WkUHHAIjg75cFRf3bXL8LICs13FvgUI.woff) format('woff');}@font-face {font-family: 'Oswald';font-style: normal;font-weight: 300;font-display: swap;src: url(https://fonts.gstatic.com/s/oswald/v49/TK3_WkUHHAIjg75cFRf3bXL8LICs169vgUI.woff) format('woff');}@font-face {font-family: 'Oswald';font-style: normal;font-weight: 400;font-display: swap;src: url(https://fonts.gstatic.com/s/oswald/v49/TK3_WkUHHAIjg75cFRf3bXL8LICs1_FvgUI.woff) format('woff');}@font-face {font-family: 'Oswald';font-style: normal;font-weight: 500;font-display: swap;src: url(https://fonts.gstatic.com/s/oswald/v49/TK3_WkUHHAIjg75cFRf3bXL8LICs18NvgUI.woff) format('woff');}@font-face {font-family: 'Oswald';font-style: normal;font-weight: 600;font-display: swap;src: url(https://fonts.gstatic.com/s/oswald/v49/TK3_WkUHHAIjg75cFRf3bXL8LICs1y9ogUI.woff) format('woff');}@font-face {font-family: 'Oswald';font-style: normal;font-weight: 700;font-display: swap;src: url(https://fonts.gstatic.com/s/oswald/v49/TK3_WkUHHAIjg75cFRf3bXL8LICs1xZogUI.woff) format('woff');}/* User Agent: Mozilla/5.0 (Windows NT 6.3; rv:39.0) Gecko/20100101 Firefox/39.0 */@font-face {font-family: 'Open Sans';font-style: italic;font-weight: 300;font-stretch: normal;font-display: swap;src: url(https://fonts.gstatic.com/s/opensans/v34/memQYaGs126MiZpBA-UFUIcVXSCEkx2cmqvXlWq8tWZ0Pw86hd0Rk5hkaVI.woff2) format('woff2');}@font-face {font-family: 'Open Sans';font-style: italic;font-weight: 400;font-stretch: normal;font-display: swap;src: url(https://fonts.gstatic.com/s/opensans/v34/memQYaGs126MiZpBA-UFUIcVXSCEkx2cmqvXlWq8tWZ0Pw86hd0Rk8ZkaVI.woff2) format('woff2');}@font-face {font-family: 'Open Sans';font-style: italic;font-weight: 500;font-stretch: normal;font-display: swap;src: url(https://fonts.gstatic.com/s/opensans/v34/memQYaGs126MiZpBA-UFUIcVXSCEkx2cmqvXlWq8tWZ0Pw86hd0Rk_RkaVI.woff2) format('woff2');}@font-face {font-family: 'Open Sans';font-style: italic;font-weight: 600;font-stretch: normal;font-display: swap;src: url(https://fonts.gstatic.com/s/opensans/v34/memQYaGs126MiZpBA-UFUIcVXSCEkx2cmqvXlWq8tWZ0Pw86hd0RkxhjaVI.woff2) format('woff2');}@font-face {font-family: 'Open Sans';font-style: italic;font-weight: 700;font-stretch: normal;font-display: swap;src: url(https://fonts.gstatic.com/s/opensans/v34/memQYaGs126MiZpBA-UFUIcVXSCEkx2cmqvXlWq8tWZ0Pw86hd0RkyFjaVI.woff2) format('woff2');}@font-face {font-family: 'Open Sans';font-style: italic;font-weight: 800;font-stretch: normal;font-display: swap;src: url(https://fonts.gstatic.com/s/opensans/v34/memQYaGs126MiZpBA-UFUIcVXSCEkx2cmqvXlWq8tWZ0Pw86hd0Rk0ZjaVI.woff2) format('woff2');}@font-face {font-family: 'Open Sans';font-style: normal;font-weight: 300;font-stretch: normal;font-display: swap;src: url(https://fonts.gstatic.com/s/opensans/v34/memSYaGs126MiZpBA-UvWbX2vVnXBbObj2OVZyOOSr4dVJWUgsiH0C4i.woff2) format('woff2');}@font-face {font-family: 'Open Sans';font-style: normal;font-weight: 400;font-stretch: normal;font-display: swap;src: url(https://fonts.gstatic.com/s/opensans/v34/memSYaGs126MiZpBA-UvWbX2vVnXBbObj2OVZyOOSr4dVJWUgsjZ0C4i.woff2) format('woff2');}@font-face {font-family: 'Open Sans';font-style: normal;font-weight: 500;font-stretch: normal;font-display: swap;src: url(https://fonts.gstatic.com/s/opensans/v34/memSYaGs126MiZpBA-UvWbX2vVnXBbObj2OVZyOOSr4dVJWUgsjr0C4i.woff2) format('woff2');}@font-face {font-family: 'Open Sans';font-style: normal;font-weight: 600;font-stretch: normal;font-display: swap;src: url(https://fonts.gstatic.com/s/opensans/v34/memSYaGs126MiZpBA-UvWbX2vVnXBbObj2OVZyOOSr4dVJWUgsgH1y4i.woff2) format('woff2');}@font-face {font-family: 'Open Sans';font-style: normal;font-weight: 700;font-stretch: normal;font-display: swap;src: url(https://fonts.gstatic.com/s/opensans/v34/memSYaGs126MiZpBA-UvWbX2vVnXBbObj2OVZyOOSr4dVJWUgsg-1y4i.woff2) format('woff2');}@font-face {font-family: 'Open Sans';font-style: normal;font-weight: 800;font-stretch: normal;font-display: swap;src: url(https://fonts.gstatic.com/s/opensans/v34/memSYaGs126MiZpBA-UvWbX2vVnXBbObj2OVZyOOSr4dVJWUgshZ1y4i.woff2) format('woff2');}@font-face {font-family: 'Oswald';font-style: normal;font-weight: 200;font-display: swap;src: url(https://fonts.gstatic.com/s/oswald/v49/TK3_WkUHHAIjg75cFRf3bXL8LICs13FvgUQ.woff2) format('woff2');}@font-face {font-family: 'Oswald';font-style: normal;font-weight: 300;font-display: swap;src: url(https://fonts.gstatic.com/s/oswald/v49/TK3_WkUHHAIjg75cFRf3bXL8LICs169vgUQ.woff2) format('woff2');}@font-face {font-family: 'Oswald';font-style: normal;font-weight: 400;font-display: swap;src: url(https://fonts.gstatic.com/s/oswald/v49/TK3_WkUHHAIjg75cFRf3bXL8LICs1_FvgUQ.woff2) format('woff2');}@font-face {font-family: 'Oswald';font-style: normal;font-weight: 500;font-display: swap;src: url(https://fonts.gstatic.com/s/oswald/v49/TK3_WkUHHAIjg75cFRf3bXL8LICs18NvgUQ.woff2) format('woff2');}@font-face {font-family: 'Oswald';font-style: normal;font-weight: 600;font-display: swap;src: url(https://fonts.gstatic.com/s/oswald/v49/TK3_WkUHHAIjg75cFRf3bXL8LICs1y9ogUQ.woff2) format('woff2');}@font-face {font-family: 'Oswald';font-style: normal;font-weight: 700;font-display: swap;src: url(https://fonts.gstatic.com/s/oswald/v49/TK3_WkUHHAIjg75cFRf3bXL8LICs1xZogUQ.woff2) format('woff2');}\n",
            "  </style>\n",
            "  <meta content=\"index, follow, max-image-preview:large, max-snippet:-1, max-video-preview:-1\" name=\"robots\"/>\n",
            "  <script type=\"text/javascript\">\n",
            "   let jqueryParams=[],jQuery=function(r){return jqueryParams=[...jqueryParams,r],jQuery},$=function(r){return jqueryParams=[...jqueryParams,r],$};window.jQuery=jQuery,window.$=jQuery;let customHeadScripts=!1;jQuery.fn=jQuery.prototype={},$.fn=jQuery.prototype={},jQuery.noConflict=function(r){if(window.jQuery)return jQuery=window.jQuery,$=window.jQuery,customHeadScripts=!0,jQuery.noConflict},jQuery.ready=function(r){jqueryParams=[...jqueryParams,r]},$.ready=function(r){jqueryParams=[...jqueryParams,r]},jQuery.load=function(r){jqueryParams=[...jqueryParams,r]},$.load=function(r){jqueryParams=[...jqueryParams,r]},jQuery.fn.ready=function(r){jqueryParams=[...jqueryParams,r]},$.fn.ready=function(r){jqueryParams=[...jqueryParams,r]};\n",
            "  </script>\n",
            "  <!-- This site is optimized with the Yoast SEO plugin v20.4 - https://yoast.com/wordpress/plugins/seo/ -->\n",
            "  <title>\n",
            "   Press &amp; Notices - Colored Conventions Project\n",
            "  </title>\n",
            "  <link href=\"https://coloredconventions.org/about/press-notices/\" rel=\"canonical\"/>\n",
            "  <meta content=\"en_US\" property=\"og:locale\"/>\n",
            "  <meta content=\"article\" property=\"og:type\"/>\n",
            "  <meta content=\"Press &amp; Notices - Colored Conventions Project\" property=\"og:title\"/>\n",
            "  <meta content=\"https://coloredconventions.org/about/press-notices/\" property=\"og:url\"/>\n",
            "  <meta content=\"Colored Conventions Project\" property=\"og:site_name\"/>\n",
            "  <meta content=\"2023-02-13T22:49:48+00:00\" property=\"article:modified_time\"/>\n",
            "  <meta content=\"https://coloredconventions.org/wp-content/uploads/2018/03/CCP-Partner-NEH.jpg\" property=\"og:image\"/>\n",
            "  <meta content=\"summary_large_image\" name=\"twitter:card\"/>\n",
            "  <meta content=\"Est. reading time\" name=\"twitter:label1\"/>\n",
            "  <meta content=\"6 minutes\" name=\"twitter:data1\"/>\n",
            "  <script class=\"yoast-schema-graph\" type=\"application/ld+json\">\n",
            "   {\"@context\":\"https://schema.org\",\"@graph\":[{\"@type\":\"WebPage\",\"@id\":\"https://coloredconventions.org/about/press-notices/\",\"url\":\"https://coloredconventions.org/about/press-notices/\",\"name\":\"Press &amp; Notices - Colored Conventions Project\",\"isPartOf\":{\"@id\":\"https://coloredconventions.org/#website\"},\"primaryImageOfPage\":{\"@id\":\"https://coloredconventions.org/about/press-notices/#primaryimage\"},\"image\":{\"@id\":\"https://coloredconventions.org/about/press-notices/#primaryimage\"},\"thumbnailUrl\":\"https://coloredconventions.org/wp-content/uploads/2018/03/CCP-Partner-NEH.jpg\",\"datePublished\":\"2018-05-07T00:46:16+00:00\",\"dateModified\":\"2023-02-13T22:49:48+00:00\",\"breadcrumb\":{\"@id\":\"https://coloredconventions.org/about/press-notices/#breadcrumb\"},\"inLanguage\":\"en\",\"potentialAction\":[{\"@type\":\"ReadAction\",\"target\":[\"https://coloredconventions.org/about/press-notices/\"]}]},{\"@type\":\"ImageObject\",\"inLanguage\":\"en\",\"@id\":\"https://coloredconventions.org/about/press-notices/#primaryimage\",\"url\":\"https://i0.wp.com/coloredconventions.org/wp-content/uploads/2018/03/CCP-Partner-NEH.jpg?fit=300%2C200&ssl=1\",\"contentUrl\":\"https://i0.wp.com/coloredconventions.org/wp-content/uploads/2018/03/CCP-Partner-NEH.jpg?fit=300%2C200&ssl=1\",\"width\":300,\"height\":200,\"caption\":\"NEH Fifty Years Logo\"},{\"@type\":\"BreadcrumbList\",\"@id\":\"https://coloredconventions.org/about/press-notices/#breadcrumb\",\"itemListElement\":[{\"@type\":\"ListItem\",\"position\":1,\"name\":\"Home\",\"item\":\"https://coloredconventions.org/\"},{\"@type\":\"ListItem\",\"position\":2,\"name\":\"About CCP\",\"item\":\"https://coloredconventions.org/about/\"},{\"@type\":\"ListItem\",\"position\":3,\"name\":\"Press &amp; Notices\"}]},{\"@type\":\"WebSite\",\"@id\":\"https://coloredconventions.org/#website\",\"url\":\"https://coloredconventions.org/\",\"name\":\"Colored Conventions Project\",\"description\":\"Bringing Nineteeth-Century Black Organizing to Digital Life\",\"potentialAction\":[{\"@type\":\"SearchAction\",\"target\":{\"@type\":\"EntryPoint\",\"urlTemplate\":\"https://coloredconventions.org/?s={search_term_string}\"},\"query-input\":\"required name=search_term_string\"}],\"inLanguage\":\"en\"}]}\n",
            "  </script>\n",
            "  <!-- / Yoast SEO plugin. -->\n",
            "  <link href=\"//s7.addthis.com\" rel=\"dns-prefetch\"/>\n",
            "  <link href=\"//i0.wp.com\" rel=\"dns-prefetch\"/>\n",
            "  <link href=\"https://coloredconventions.org/feed/\" rel=\"alternate\" title=\"Colored Conventions Project » Feed\" type=\"application/rss+xml\"/>\n",
            "  <link href=\"https://coloredconventions.org/comments/feed/\" rel=\"alternate\" title=\"Colored Conventions Project » Comments Feed\" type=\"application/rss+xml\"/>\n",
            "  <meta content=\"Divi Child Mainsite v.1.0.0\" name=\"generator\"/>\n",
            "  <link href=\"https://coloredconventions.org/wp-content/plugins/popup-by-supsystic/modules/popup/css/frontend.popup.css?ver=1.10.16\" id=\"frontend.popup-css\" media=\"all\" rel=\"stylesheet\" type=\"text/css\"/>\n",
            "  <style id=\"wp-block-library-theme-inline-css\" type=\"text/css\">\n",
            "   .wp-block-audio figcaption{color:#555;font-size:13px;text-align:center}.is-dark-theme .wp-block-audio figcaption{color:hsla(0,0%,100%,.65)}.wp-block-audio{margin:0 0 1em}.wp-block-code{border:1px solid #ccc;border-radius:4px;font-family:Menlo,Consolas,monaco,monospace;padding:.8em 1em}.wp-block-embed figcaption{color:#555;font-size:13px;text-align:center}.is-dark-theme .wp-block-embed figcaption{color:hsla(0,0%,100%,.65)}.wp-block-embed{margin:0 0 1em}.blocks-gallery-caption{color:#555;font-size:13px;text-align:center}.is-dark-theme .blocks-gallery-caption{color:hsla(0,0%,100%,.65)}.wp-block-image figcaption{color:#555;font-size:13px;text-align:center}.is-dark-theme .wp-block-image figcaption{color:hsla(0,0%,100%,.65)}.wp-block-image{margin:0 0 1em}.wp-block-pullquote{border-top:4px solid;border-bottom:4px solid;margin-bottom:1.75em;color:currentColor}.wp-block-pullquote__citation,.wp-block-pullquote cite,.wp-block-pullquote footer{color:currentColor;text-transform:uppercase;font-size:.8125em;font-style:normal}.wp-block-quote{border-left:.25em solid;margin:0 0 1.75em;padding-left:1em}.wp-block-quote cite,.wp-block-quote footer{color:currentColor;font-size:.8125em;position:relative;font-style:normal}.wp-block-quote.has-text-align-right{border-left:none;border-right:.25em solid;padding-left:0;padding-right:1em}.wp-block-quote.has-text-align-center{border:none;padding-left:0}.wp-block-quote.is-large,.wp-block-quote.is-style-large,.wp-block-quote.is-style-plain{border:none}.wp-block-search .wp-block-search__label{font-weight:700}.wp-block-search__button{border:1px solid #ccc;padding:.375em .625em}:where(.wp-block-group.has-background){padding:1.25em 2.375em}.wp-block-separator.has-css-opacity{opacity:.4}.wp-block-separator{border:none;border-bottom:2px solid;margin-left:auto;margin-right:auto}.wp-block-separator.has-alpha-channel-opacity{opacity:1}.wp-block-separator:not(.is-style-wide):not(.is-style-dots){width:100px}.wp-block-separator.has-background:not(.is-style-dots){border-bottom:none;height:1px}.wp-block-separator.has-background:not(.is-style-wide):not(.is-style-dots){height:2px}.wp-block-table{margin:\"0 0 1em 0\"}.wp-block-table thead{border-bottom:3px solid}.wp-block-table tfoot{border-top:3px solid}.wp-block-table td,.wp-block-table th{word-break:normal}.wp-block-table figcaption{color:#555;font-size:13px;text-align:center}.is-dark-theme .wp-block-table figcaption{color:hsla(0,0%,100%,.65)}.wp-block-video figcaption{color:#555;font-size:13px;text-align:center}.is-dark-theme .wp-block-video figcaption{color:hsla(0,0%,100%,.65)}.wp-block-video{margin:0 0 1em}.wp-block-template-part.has-background{padding:1.25em 2.375em;margin-top:0;margin-bottom:0}\n",
            "  </style>\n",
            "  <link href=\"https://coloredconventions.org/wp-includes/js/mediaelement/mediaelementplayer-legacy.min.css?ver=4.2.17\" id=\"mediaelement-css\" media=\"all\" rel=\"stylesheet\" type=\"text/css\"/>\n",
            "  <link href=\"https://coloredconventions.org/wp-includes/js/mediaelement/wp-mediaelement.min.css?ver=6.1.1\" id=\"wp-mediaelement-css\" media=\"all\" rel=\"stylesheet\" type=\"text/css\"/>\n",
            "  <style id=\"global-styles-inline-css\" type=\"text/css\">\n",
            "   body{--wp--preset--color--black: #000000;--wp--preset--color--cyan-bluish-gray: #abb8c3;--wp--preset--color--white: #ffffff;--wp--preset--color--pale-pink: #f78da7;--wp--preset--color--vivid-red: #cf2e2e;--wp--preset--color--luminous-vivid-orange: #ff6900;--wp--preset--color--luminous-vivid-amber: #fcb900;--wp--preset--color--light-green-cyan: #7bdcb5;--wp--preset--color--vivid-green-cyan: #00d084;--wp--preset--color--pale-cyan-blue: #8ed1fc;--wp--preset--color--vivid-cyan-blue: #0693e3;--wp--preset--color--vivid-purple: #9b51e0;--wp--preset--gradient--vivid-cyan-blue-to-vivid-purple: linear-gradient(135deg,rgba(6,147,227,1) 0%,rgb(155,81,224) 100%);--wp--preset--gradient--light-green-cyan-to-vivid-green-cyan: linear-gradient(135deg,rgb(122,220,180) 0%,rgb(0,208,130) 100%);--wp--preset--gradient--luminous-vivid-amber-to-luminous-vivid-orange: linear-gradient(135deg,rgba(252,185,0,1) 0%,rgba(255,105,0,1) 100%);--wp--preset--gradient--luminous-vivid-orange-to-vivid-red: linear-gradient(135deg,rgba(255,105,0,1) 0%,rgb(207,46,46) 100%);--wp--preset--gradient--very-light-gray-to-cyan-bluish-gray: linear-gradient(135deg,rgb(238,238,238) 0%,rgb(169,184,195) 100%);--wp--preset--gradient--cool-to-warm-spectrum: linear-gradient(135deg,rgb(74,234,220) 0%,rgb(151,120,209) 20%,rgb(207,42,186) 40%,rgb(238,44,130) 60%,rgb(251,105,98) 80%,rgb(254,248,76) 100%);--wp--preset--gradient--blush-light-purple: linear-gradient(135deg,rgb(255,206,236) 0%,rgb(152,150,240) 100%);--wp--preset--gradient--blush-bordeaux: linear-gradient(135deg,rgb(254,205,165) 0%,rgb(254,45,45) 50%,rgb(107,0,62) 100%);--wp--preset--gradient--luminous-dusk: linear-gradient(135deg,rgb(255,203,112) 0%,rgb(199,81,192) 50%,rgb(65,88,208) 100%);--wp--preset--gradient--pale-ocean: linear-gradient(135deg,rgb(255,245,203) 0%,rgb(182,227,212) 50%,rgb(51,167,181) 100%);--wp--preset--gradient--electric-grass: linear-gradient(135deg,rgb(202,248,128) 0%,rgb(113,206,126) 100%);--wp--preset--gradient--midnight: linear-gradient(135deg,rgb(2,3,129) 0%,rgb(40,116,252) 100%);--wp--preset--duotone--dark-grayscale: url('#wp-duotone-dark-grayscale');--wp--preset--duotone--grayscale: url('#wp-duotone-grayscale');--wp--preset--duotone--purple-yellow: url('#wp-duotone-purple-yellow');--wp--preset--duotone--blue-red: url('#wp-duotone-blue-red');--wp--preset--duotone--midnight: url('#wp-duotone-midnight');--wp--preset--duotone--magenta-yellow: url('#wp-duotone-magenta-yellow');--wp--preset--duotone--purple-green: url('#wp-duotone-purple-green');--wp--preset--duotone--blue-orange: url('#wp-duotone-blue-orange');--wp--preset--font-size--small: 13px;--wp--preset--font-size--medium: 20px;--wp--preset--font-size--large: 36px;--wp--preset--font-size--x-large: 42px;--wp--preset--spacing--20: 0.44rem;--wp--preset--spacing--30: 0.67rem;--wp--preset--spacing--40: 1rem;--wp--preset--spacing--50: 1.5rem;--wp--preset--spacing--60: 2.25rem;--wp--preset--spacing--70: 3.38rem;--wp--preset--spacing--80: 5.06rem;}body { margin: 0;--wp--style--global--content-size: 823px;--wp--style--global--wide-size: 1080px; }.wp-site-blocks > .alignleft { float: left; margin-right: 2em; }.wp-site-blocks > .alignright { float: right; margin-left: 2em; }.wp-site-blocks > .aligncenter { justify-content: center; margin-left: auto; margin-right: auto; }:where(.is-layout-flex){gap: 0.5em;}body .is-layout-flow > .alignleft{float: left;margin-inline-start: 0;margin-inline-end: 2em;}body .is-layout-flow > .alignright{float: right;margin-inline-start: 2em;margin-inline-end: 0;}body .is-layout-flow > .aligncenter{margin-left: auto !important;margin-right: auto !important;}body .is-layout-constrained > .alignleft{float: left;margin-inline-start: 0;margin-inline-end: 2em;}body .is-layout-constrained > .alignright{float: right;margin-inline-start: 2em;margin-inline-end: 0;}body .is-layout-constrained > .aligncenter{margin-left: auto !important;margin-right: auto !important;}body .is-layout-constrained > :where(:not(.alignleft):not(.alignright):not(.alignfull)){max-width: var(--wp--style--global--content-size);margin-left: auto !important;margin-right: auto !important;}body .is-layout-constrained > .alignwide{max-width: var(--wp--style--global--wide-size);}body .is-layout-flex{display: flex;}body .is-layout-flex{flex-wrap: wrap;align-items: center;}body .is-layout-flex > *{margin: 0;}body{padding-top: 0px;padding-right: 0px;padding-bottom: 0px;padding-left: 0px;}a:where(:not(.wp-element-button)){text-decoration: underline;}.wp-element-button, .wp-block-button__link{background-color: #32373c;border-width: 0;color: #fff;font-family: inherit;font-size: inherit;line-height: inherit;padding: calc(0.667em + 2px) calc(1.333em + 2px);text-decoration: none;}.has-black-color{color: var(--wp--preset--color--black) !important;}.has-cyan-bluish-gray-color{color: var(--wp--preset--color--cyan-bluish-gray) !important;}.has-white-color{color: var(--wp--preset--color--white) !important;}.has-pale-pink-color{color: var(--wp--preset--color--pale-pink) !important;}.has-vivid-red-color{color: var(--wp--preset--color--vivid-red) !important;}.has-luminous-vivid-orange-color{color: var(--wp--preset--color--luminous-vivid-orange) !important;}.has-luminous-vivid-amber-color{color: var(--wp--preset--color--luminous-vivid-amber) !important;}.has-light-green-cyan-color{color: var(--wp--preset--color--light-green-cyan) !important;}.has-vivid-green-cyan-color{color: var(--wp--preset--color--vivid-green-cyan) !important;}.has-pale-cyan-blue-color{color: var(--wp--preset--color--pale-cyan-blue) !important;}.has-vivid-cyan-blue-color{color: var(--wp--preset--color--vivid-cyan-blue) !important;}.has-vivid-purple-color{color: var(--wp--preset--color--vivid-purple) !important;}.has-black-background-color{background-color: var(--wp--preset--color--black) !important;}.has-cyan-bluish-gray-background-color{background-color: var(--wp--preset--color--cyan-bluish-gray) !important;}.has-white-background-color{background-color: var(--wp--preset--color--white) !important;}.has-pale-pink-background-color{background-color: var(--wp--preset--color--pale-pink) !important;}.has-vivid-red-background-color{background-color: var(--wp--preset--color--vivid-red) !important;}.has-luminous-vivid-orange-background-color{background-color: var(--wp--preset--color--luminous-vivid-orange) !important;}.has-luminous-vivid-amber-background-color{background-color: var(--wp--preset--color--luminous-vivid-amber) !important;}.has-light-green-cyan-background-color{background-color: var(--wp--preset--color--light-green-cyan) !important;}.has-vivid-green-cyan-background-color{background-color: var(--wp--preset--color--vivid-green-cyan) !important;}.has-pale-cyan-blue-background-color{background-color: var(--wp--preset--color--pale-cyan-blue) !important;}.has-vivid-cyan-blue-background-color{background-color: var(--wp--preset--color--vivid-cyan-blue) !important;}.has-vivid-purple-background-color{background-color: var(--wp--preset--color--vivid-purple) !important;}.has-black-border-color{border-color: var(--wp--preset--color--black) !important;}.has-cyan-bluish-gray-border-color{border-color: var(--wp--preset--color--cyan-bluish-gray) !important;}.has-white-border-color{border-color: var(--wp--preset--color--white) !important;}.has-pale-pink-border-color{border-color: var(--wp--preset--color--pale-pink) !important;}.has-vivid-red-border-color{border-color: var(--wp--preset--color--vivid-red) !important;}.has-luminous-vivid-orange-border-color{border-color: var(--wp--preset--color--luminous-vivid-orange) !important;}.has-luminous-vivid-amber-border-color{border-color: var(--wp--preset--color--luminous-vivid-amber) !important;}.has-light-green-cyan-border-color{border-color: var(--wp--preset--color--light-green-cyan) !important;}.has-vivid-green-cyan-border-color{border-color: var(--wp--preset--color--vivid-green-cyan) !important;}.has-pale-cyan-blue-border-color{border-color: var(--wp--preset--color--pale-cyan-blue) !important;}.has-vivid-cyan-blue-border-color{border-color: var(--wp--preset--color--vivid-cyan-blue) !important;}.has-vivid-purple-border-color{border-color: var(--wp--preset--color--vivid-purple) !important;}.has-vivid-cyan-blue-to-vivid-purple-gradient-background{background: var(--wp--preset--gradient--vivid-cyan-blue-to-vivid-purple) !important;}.has-light-green-cyan-to-vivid-green-cyan-gradient-background{background: var(--wp--preset--gradient--light-green-cyan-to-vivid-green-cyan) !important;}.has-luminous-vivid-amber-to-luminous-vivid-orange-gradient-background{background: var(--wp--preset--gradient--luminous-vivid-amber-to-luminous-vivid-orange) !important;}.has-luminous-vivid-orange-to-vivid-red-gradient-background{background: var(--wp--preset--gradient--luminous-vivid-orange-to-vivid-red) !important;}.has-very-light-gray-to-cyan-bluish-gray-gradient-background{background: var(--wp--preset--gradient--very-light-gray-to-cyan-bluish-gray) !important;}.has-cool-to-warm-spectrum-gradient-background{background: var(--wp--preset--gradient--cool-to-warm-spectrum) !important;}.has-blush-light-purple-gradient-background{background: var(--wp--preset--gradient--blush-light-purple) !important;}.has-blush-bordeaux-gradient-background{background: var(--wp--preset--gradient--blush-bordeaux) !important;}.has-luminous-dusk-gradient-background{background: var(--wp--preset--gradient--luminous-dusk) !important;}.has-pale-ocean-gradient-background{background: var(--wp--preset--gradient--pale-ocean) !important;}.has-electric-grass-gradient-background{background: var(--wp--preset--gradient--electric-grass) !important;}.has-midnight-gradient-background{background: var(--wp--preset--gradient--midnight) !important;}.has-small-font-size{font-size: var(--wp--preset--font-size--small) !important;}.has-medium-font-size{font-size: var(--wp--preset--font-size--medium) !important;}.has-large-font-size{font-size: var(--wp--preset--font-size--large) !important;}.has-x-large-font-size{font-size: var(--wp--preset--font-size--x-large) !important;}\n",
            ".wp-block-navigation a:where(:not(.wp-element-button)){color: inherit;}\n",
            ":where(.wp-block-columns.is-layout-flex){gap: 2em;}\n",
            ".wp-block-pullquote{font-size: 1.5em;line-height: 1.6;}\n",
            "  </style>\n",
            "  <link href=\"https://coloredconventions.org/wp-content/plugins/aw-divi-image-overlay/css/style.css?ver=6.1.1\" id=\"aw_style-css\" media=\"all\" rel=\"stylesheet\" type=\"text/css\"/>\n",
            "  <style id=\"divi-style-parent-inline-inline-css\" type=\"text/css\">\n",
            "   /*!\n",
            "Theme Name: Divi\n",
            "Theme URI: http://www.elegantthemes.com/gallery/divi/\n",
            "Version: 4.20.2\n",
            "Description: Smart. Flexible. Beautiful. Divi is the most powerful theme in our collection.\n",
            "Author: Elegant Themes\n",
            "Author URI: http://www.elegantthemes.com\n",
            "License: GNU General Public License v2\n",
            "License URI: http://www.gnu.org/licenses/gpl-2.0.html\n",
            "*/\n",
            "\n",
            "a,abbr,acronym,address,applet,b,big,blockquote,body,center,cite,code,dd,del,dfn,div,dl,dt,em,fieldset,font,form,h1,h2,h3,h4,h5,h6,html,i,iframe,img,ins,kbd,label,legend,li,object,ol,p,pre,q,s,samp,small,span,strike,strong,sub,sup,tt,u,ul,var{margin:0;padding:0;border:0;outline:0;font-size:100%;-ms-text-size-adjust:100%;-webkit-text-size-adjust:100%;vertical-align:baseline;background:transparent}body{line-height:1}ol,ul{list-style:none}blockquote,q{quotes:none}blockquote:after,blockquote:before,q:after,q:before{content:\"\";content:none}blockquote{margin:20px 0 30px;border-left:5px solid;padding-left:20px}:focus{outline:0}del{text-decoration:line-through}pre{overflow:auto;padding:10px}figure{margin:0}table{border-collapse:collapse;border-spacing:0}article,aside,footer,header,hgroup,nav,section{display:block}body{font-family:Open Sans,Arial,sans-serif;font-size:14px;color:#666;background-color:#fff;line-height:1.7em;font-weight:500;-webkit-font-smoothing:antialiased;-moz-osx-font-smoothing:grayscale}body.page-template-page-template-blank-php #page-container{padding-top:0!important}body.et_cover_background{background-size:cover!important;background-position:top!important;background-repeat:no-repeat!important;background-attachment:fixed}a{color:#2ea3f2}a,a:hover{text-decoration:none}p{padding-bottom:1em}p:not(.has-background):last-of-type{padding-bottom:0}p.et_normal_padding{padding-bottom:1em}strong{font-weight:700}cite,em,i{font-style:italic}code,pre{font-family:Courier New,monospace;margin-bottom:10px}ins{text-decoration:none}sub,sup{height:0;line-height:1;position:relative;vertical-align:baseline}sup{bottom:.8em}sub{top:.3em}dl{margin:0 0 1.5em}dl dt{font-weight:700}dd{margin-left:1.5em}blockquote p{padding-bottom:0}embed,iframe,object,video{max-width:100%}h1,h2,h3,h4,h5,h6{color:#333;padding-bottom:10px;line-height:1em;font-weight:500}h1 a,h2 a,h3 a,h4 a,h5 a,h6 a{color:inherit}h1{font-size:30px}h2{font-size:26px}h3{font-size:22px}h4{font-size:18px}h5{font-size:16px}h6{font-size:14px}input{-webkit-appearance:none}input[type=checkbox]{-webkit-appearance:checkbox}input[type=radio]{-webkit-appearance:radio}input.text,input.title,input[type=email],input[type=password],input[type=tel],input[type=text],select,textarea{background-color:#fff;border:1px solid #bbb;padding:2px;color:#4e4e4e}input.text:focus,input.title:focus,input[type=text]:focus,select:focus,textarea:focus{border-color:#2d3940;color:#3e3e3e}input.text,input.title,input[type=text],select,textarea{margin:0}textarea{padding:4px}button,input,select,textarea{font-family:inherit}img{max-width:100%;height:auto}.clear{clear:both}br.clear{margin:0;padding:0}.pagination{clear:both}#et_search_icon:hover,.et-social-icon a:hover,.et_password_protected_form .et_submit_button,.form-submit .et_pb_buttontton.alt.disabled,.nav-single a,.posted_in a{color:#2ea3f2}.et-search-form,blockquote{border-color:#2ea3f2}#main-content{background-color:#fff}.container{width:80%;max-width:1080px;margin:auto;position:relative}body:not(.et-tb) #main-content .container,body:not(.et-tb-has-header) #main-content .container{padding-top:58px}.et_full_width_page #main-content .container:before{display:none}.main_title{margin-bottom:20px}.et_password_protected_form .et_submit_button:hover,.form-submit .et_pb_button:hover{background:rgba(0,0,0,.05)}.et_button_icon_visible .et_pb_button{padding-right:2em;padding-left:.7em}.et_button_icon_visible .et_pb_button:after{opacity:1;margin-left:0}.et_button_left .et_pb_button:hover:after{left:.15em}.et_button_left .et_pb_button:after{margin-left:0;left:1em}.et_button_icon_visible.et_button_left .et_pb_button,.et_button_left .et_pb_button:hover,.et_button_left .et_pb_module .et_pb_button:hover{padding-left:2em;padding-right:.7em}.et_button_icon_visible.et_button_left .et_pb_button:after,.et_button_left .et_pb_button:hover:after{left:.15em}.et_password_protected_form .et_submit_button:hover,.form-submit .et_pb_button:hover{padding:.3em 1em}.et_button_no_icon .et_pb_button:after{display:none}.et_button_no_icon.et_button_icon_visible.et_button_left .et_pb_button,.et_button_no_icon.et_button_left .et_pb_button:hover,.et_button_no_icon .et_pb_button,.et_button_no_icon .et_pb_button:hover{padding:.3em 1em!important}.et_button_custom_icon .et_pb_button:after{line-height:1.7em}.et_button_custom_icon.et_button_icon_visible .et_pb_button:after,.et_button_custom_icon .et_pb_button:hover:after{margin-left:.3em}#left-area .post_format-post-format-gallery .wp-block-gallery:first-of-type{padding:0;margin-bottom:-16px}.entry-content table:not(.variations){border:1px solid #eee;margin:0 0 15px;text-align:left;width:100%}.entry-content thead th,.entry-content tr th{color:#555;font-weight:700;padding:9px 24px}.entry-content tr td{border-top:1px solid #eee;padding:6px 24px}#left-area ul,.entry-content ul,.et-l--body ul,.et-l--footer ul,.et-l--header ul{list-style-type:disc;padding:0 0 23px 1em;line-height:26px}#left-area ol,.entry-content ol,.et-l--body ol,.et-l--footer ol,.et-l--header ol{list-style-type:decimal;list-style-position:inside;padding:0 0 23px;line-height:26px}#left-area ul li ul,.entry-content ul li ol{padding:2px 0 2px 20px}#left-area ol li ul,.entry-content ol li ol,.et-l--body ol li ol,.et-l--footer ol li ol,.et-l--header ol li ol{padding:2px 0 2px 35px}#left-area ul.wp-block-gallery{display:-webkit-box;display:-ms-flexbox;display:flex;-ms-flex-wrap:wrap;flex-wrap:wrap;list-style-type:none;padding:0}#left-area ul.products{padding:0!important;line-height:1.7!important;list-style:none!important}.gallery-item a{display:block}.gallery-caption,.gallery-item a{width:90%}#wpadminbar{z-index:100001}#left-area .post-meta{font-size:14px;padding-bottom:15px}#left-area .post-meta a{text-decoration:none;color:#666}#left-area .et_featured_image{padding-bottom:7px}.single .post{padding-bottom:25px}body.single .et_audio_content{margin-bottom:-6px}.nav-single a{text-decoration:none;color:#2ea3f2;font-size:14px;font-weight:400}.nav-previous{float:left}.nav-next{float:right}.et_password_protected_form p input{background-color:#eee;border:none!important;width:100%!important;border-radius:0!important;font-size:14px;color:#999!important;padding:16px!important;-webkit-box-sizing:border-box;box-sizing:border-box}.et_password_protected_form label{display:none}.et_password_protected_form .et_submit_button{font-family:inherit;display:block;float:right;margin:8px auto 0;cursor:pointer}.post-password-required p.nocomments.container{max-width:100%}.post-password-required p.nocomments.container:before{display:none}.aligncenter,div.post .new-post .aligncenter{display:block;margin-left:auto;margin-right:auto}.wp-caption{border:1px solid #ddd;text-align:center;background-color:#f3f3f3;margin-bottom:10px;max-width:96%;padding:8px}.wp-caption.alignleft{margin:0 30px 20px 0}.wp-caption.alignright{margin:0 0 20px 30px}.wp-caption img{margin:0;padding:0;border:0}.wp-caption p.wp-caption-text{font-size:12px;padding:0 4px 5px;margin:0}.alignright{float:right}.alignleft{float:left}img.alignleft{display:inline;float:left;margin-right:15px}img.alignright{display:inline;float:right;margin-left:15px}.page.et_pb_pagebuilder_layout #main-content{background-color:transparent}body #main-content .et_builder_inner_content>h1,body #main-content .et_builder_inner_content>h2,body #main-content .et_builder_inner_content>h3,body #main-content .et_builder_inner_content>h4,body #main-content .et_builder_inner_content>h5,body #main-content .et_builder_inner_content>h6{line-height:1.4em}body #main-content .et_builder_inner_content>p{line-height:1.7em}.wp-block-pullquote{margin:20px 0 30px}.wp-block-pullquote.has-background blockquote{border-left:none}.wp-block-group.has-background{padding:1.5em 1.5em .5em}@media (min-width:981px){#left-area{width:79.125%;padding-bottom:23px}#main-content .container:before{content:\"\";position:absolute;top:0;height:100%;width:1px;background-color:#e2e2e2}.et_full_width_page #left-area,.et_no_sidebar #left-area{float:none;width:100%!important}.et_full_width_page #left-area{padding-bottom:0}.et_no_sidebar #main-content .container:before{display:none}}@media (max-width:980px){#page-container{padding-top:80px}.et-tb #page-container,.et-tb-has-header #page-container{padding-top:0!important}#left-area,#sidebar{width:100%!important}#main-content .container:before{display:none!important}.et_full_width_page .et_gallery_item:nth-child(4n+1){clear:none}}@media print{#page-container{padding-top:0!important}}#wp-admin-bar-et-use-visual-builder a:before{font-family:ETmodules!important;content:\"\\e625\";font-size:30px!important;width:28px;margin-top:-3px;color:#974df3!important}#wp-admin-bar-et-use-visual-builder:hover a:before{color:#fff!important}#wp-admin-bar-et-use-visual-builder:hover a,#wp-admin-bar-et-use-visual-builder a:hover{transition:background-color .5s ease;-webkit-transition:background-color .5s ease;-moz-transition:background-color .5s ease;background-color:#7e3bd0!important;color:#fff!important}* html .clearfix,:first-child+html .clearfix{zoom:1}.iphone .et_pb_section_video_bg video::-webkit-media-controls-start-playback-button{display:none!important;-webkit-appearance:none}.et_mobile_device .et_pb_section_parallax .et_pb_parallax_css{background-attachment:scroll}.et-social-facebook a.icon:before{content:\"\\e093\"}.et-social-twitter a.icon:before{content:\"\\e094\"}.et-social-google-plus a.icon:before{content:\"\\e096\"}.et-social-instagram a.icon:before{content:\"\\e09a\"}.et-social-rss a.icon:before{content:\"\\e09e\"}.ai1ec-single-event:after{content:\" \";display:table;clear:both}.evcal_event_details .evcal_evdata_cell .eventon_details_shading_bot.eventon_details_shading_bot{z-index:3}.wp-block-divi-layout{margin-bottom:1em}*{-webkit-box-sizing:border-box;box-sizing:border-box}#et-info-email:before,#et-info-phone:before,#et_search_icon:before,.comment-reply-link:after,.et-cart-info span:before,.et-pb-arrow-next:before,.et-pb-arrow-prev:before,.et-social-icon a:before,.et_audio_container .mejs-playpause-button button:before,.et_audio_container .mejs-volume-button button:before,.et_overlay:before,.et_password_protected_form .et_submit_button:after,.et_pb_button:after,.et_pb_contact_reset:after,.et_pb_contact_submit:after,.et_pb_font_icon:before,.et_pb_newsletter_button:after,.et_pb_pricing_table_button:after,.et_pb_promo_button:after,.et_pb_testimonial:before,.et_pb_toggle_title:before,.form-submit .et_pb_button:after,.mobile_menu_bar:before,a.et_pb_more_button:after{font-family:ETmodules!important;speak:none;font-style:normal;font-weight:400;-webkit-font-feature-settings:normal;font-feature-settings:normal;font-variant:normal;text-transform:none;line-height:1;-webkit-font-smoothing:antialiased;-moz-osx-font-smoothing:grayscale;text-shadow:0 0;direction:ltr}.et-pb-icon,.et_pb_custom_button_icon.et_pb_button:after,.et_pb_login .et_pb_custom_button_icon.et_pb_button:after,.et_pb_woo_custom_button_icon .button.et_pb_custom_button_icon.et_pb_button:after,.et_pb_woo_custom_button_icon .button.et_pb_custom_button_icon.et_pb_button:hover:after{content:attr(data-icon)}.et-pb-icon{font-family:ETmodules;speak:none;font-weight:400;-webkit-font-feature-settings:normal;font-feature-settings:normal;font-variant:normal;text-transform:none;line-height:1;-webkit-font-smoothing:antialiased;font-size:96px;font-style:normal;display:inline-block;-webkit-box-sizing:border-box;box-sizing:border-box;direction:ltr}#et-ajax-saving{display:none;-webkit-transition:background .3s,-webkit-box-shadow .3s;transition:background .3s,-webkit-box-shadow .3s;transition:background .3s,box-shadow .3s;transition:background .3s,box-shadow .3s,-webkit-box-shadow .3s;-webkit-box-shadow:rgba(0,139,219,.247059) 0 0 60px;box-shadow:0 0 60px rgba(0,139,219,.247059);position:fixed;top:50%;left:50%;width:50px;height:50px;background:#fff;border-radius:50px;margin:-25px 0 0 -25px;z-index:999999;text-align:center}#et-ajax-saving img{margin:9px}.et-safe-mode-indicator,.et-safe-mode-indicator:focus,.et-safe-mode-indicator:hover{-webkit-box-shadow:0 5px 10px rgba(41,196,169,.15);box-shadow:0 5px 10px rgba(41,196,169,.15);background:#29c4a9;color:#fff;font-size:14px;font-weight:600;padding:12px;line-height:16px;border-radius:3px;position:fixed;bottom:30px;right:30px;z-index:999999;text-decoration:none;font-family:Open Sans,sans-serif;-webkit-font-smoothing:antialiased;-moz-osx-font-smoothing:grayscale}.et_pb_button{font-size:20px;font-weight:500;padding:.3em 1em;line-height:1.7em!important;background-color:transparent;background-size:cover;background-position:50%;background-repeat:no-repeat;border:2px solid;border-radius:3px;-webkit-transition-duration:.2s;transition-duration:.2s;-webkit-transition-property:all!important;transition-property:all!important}.et_pb_button,.et_pb_button_inner{position:relative}.et_pb_button:hover,.et_pb_module .et_pb_button:hover{border:2px solid transparent;padding:.3em 2em .3em .7em}.et_pb_button:hover{background-color:hsla(0,0%,100%,.2)}.et_pb_bg_layout_light.et_pb_button:hover,.et_pb_bg_layout_light .et_pb_button:hover{background-color:rgba(0,0,0,.05)}.et_pb_button:after,.et_pb_button:before{font-size:32px;line-height:1em;content:\"\\35\";opacity:0;position:absolute;margin-left:-1em;-webkit-transition:all .2s;transition:all .2s;text-transform:none;-webkit-font-feature-settings:\"kern\" off;font-feature-settings:\"kern\" off;font-variant:none;font-style:normal;font-weight:400;text-shadow:none}.et_pb_button.et_hover_enabled:hover:after,.et_pb_button.et_pb_hovered:hover:after{-webkit-transition:none!important;transition:none!important}.et_pb_button:before{display:none}.et_pb_button:hover:after{opacity:1;margin-left:0}.et_pb_column_1_3 h1,.et_pb_column_1_4 h1,.et_pb_column_1_5 h1,.et_pb_column_1_6 h1,.et_pb_column_2_5 h1{font-size:26px}.et_pb_column_1_3 h2,.et_pb_column_1_4 h2,.et_pb_column_1_5 h2,.et_pb_column_1_6 h2,.et_pb_column_2_5 h2{font-size:23px}.et_pb_column_1_3 h3,.et_pb_column_1_4 h3,.et_pb_column_1_5 h3,.et_pb_column_1_6 h3,.et_pb_column_2_5 h3{font-size:20px}.et_pb_column_1_3 h4,.et_pb_column_1_4 h4,.et_pb_column_1_5 h4,.et_pb_column_1_6 h4,.et_pb_column_2_5 h4{font-size:18px}.et_pb_column_1_3 h5,.et_pb_column_1_4 h5,.et_pb_column_1_5 h5,.et_pb_column_1_6 h5,.et_pb_column_2_5 h5{font-size:16px}.et_pb_column_1_3 h6,.et_pb_column_1_4 h6,.et_pb_column_1_5 h6,.et_pb_column_1_6 h6,.et_pb_column_2_5 h6{font-size:15px}.et_pb_bg_layout_dark,.et_pb_bg_layout_dark h1,.et_pb_bg_layout_dark h2,.et_pb_bg_layout_dark h3,.et_pb_bg_layout_dark h4,.et_pb_bg_layout_dark h5,.et_pb_bg_layout_dark h6{color:#fff!important}.et_pb_module.et_pb_text_align_left{text-align:left}.et_pb_module.et_pb_text_align_center{text-align:center}.et_pb_module.et_pb_text_align_right{text-align:right}.et_pb_module.et_pb_text_align_justified{text-align:justify}.clearfix:after{visibility:hidden;display:block;font-size:0;content:\" \";clear:both;height:0}.et_pb_bg_layout_light .et_pb_more_button{color:#2ea3f2}.et_builder_inner_content{position:relative;z-index:1}header .et_builder_inner_content{z-index:2}.et_pb_css_mix_blend_mode_passthrough{mix-blend-mode:unset!important}.et_pb_image_container{margin:-20px -20px 29px}.et_pb_module_inner{position:relative}.et_hover_enabled_preview{z-index:2}.et_hover_enabled:hover{position:relative;z-index:2}.et_pb_all_tabs,.et_pb_module,.et_pb_posts_nav a,.et_pb_tab,.et_pb_with_background{position:relative;background-size:cover;background-position:50%;background-repeat:no-repeat}.et_pb_background_mask,.et_pb_background_pattern{bottom:0;left:0;position:absolute;right:0;top:0}.et_pb_background_mask{background-size:calc(100% + 2px) calc(100% + 2px);background-repeat:no-repeat;background-position:50%;overflow:hidden}.et_pb_background_pattern{background-position:0 0;background-repeat:repeat}.et_pb_with_border{position:relative;border:0 solid #333}.post-password-required .et_pb_row{padding:0;width:100%}.post-password-required .et_password_protected_form{min-height:0}body.et_pb_pagebuilder_layout.et_pb_show_title .post-password-required .et_password_protected_form h1,body:not(.et_pb_pagebuilder_layout) .post-password-required .et_password_protected_form h1{display:none}.et_pb_no_bg{padding:0!important}.et_overlay.et_pb_inline_icon:before,.et_pb_inline_icon:before{content:attr(data-icon)}.et_pb_more_button{color:inherit;text-shadow:none;text-decoration:none;display:inline-block;margin-top:20px}.et_parallax_bg_wrap{overflow:hidden;position:absolute;top:0;right:0;bottom:0;left:0}.et_parallax_bg{background-repeat:no-repeat;background-position:top;background-size:cover;position:absolute;bottom:0;left:0;width:100%;height:100%;display:block}.et_parallax_bg.et_parallax_bg__hover,.et_parallax_bg.et_parallax_bg_phone,.et_parallax_bg.et_parallax_bg_tablet,.et_parallax_gradient.et_parallax_gradient__hover,.et_parallax_gradient.et_parallax_gradient_phone,.et_parallax_gradient.et_parallax_gradient_tablet,.et_pb_section_parallax_hover:hover .et_parallax_bg:not(.et_parallax_bg__hover),.et_pb_section_parallax_hover:hover .et_parallax_gradient:not(.et_parallax_gradient__hover){display:none}.et_pb_section_parallax_hover:hover .et_parallax_bg.et_parallax_bg__hover,.et_pb_section_parallax_hover:hover .et_parallax_gradient.et_parallax_gradient__hover{display:block}.et_parallax_gradient{bottom:0;display:block;left:0;position:absolute;right:0;top:0}.et_pb_module.et_pb_section_parallax,.et_pb_posts_nav a.et_pb_section_parallax,.et_pb_tab.et_pb_section_parallax{position:relative}.et_pb_section_parallax .et_pb_parallax_css,.et_pb_slides .et_parallax_bg.et_pb_parallax_css{background-attachment:fixed}body.et-bfb .et_pb_section_parallax .et_pb_parallax_css,body.et-bfb .et_pb_slides .et_parallax_bg.et_pb_parallax_css{background-attachment:scroll;bottom:auto}.et_pb_section_parallax.et_pb_column .et_pb_module,.et_pb_section_parallax.et_pb_row .et_pb_column,.et_pb_section_parallax.et_pb_row .et_pb_module{z-index:9;position:relative}.et_pb_more_button:hover:after{opacity:1;margin-left:0}.et_pb_preload .et_pb_section_video_bg,.et_pb_preload>div{visibility:hidden}.et_pb_preload,.et_pb_section.et_pb_section_video.et_pb_preload{position:relative;background:#464646!important}.et_pb_preload:before{content:\"\";position:absolute;top:50%;left:50%;background:url(https://coloredconventions.org/wp-content/themes/Divi/includes/builder/styles/images/preloader.gif) no-repeat;border-radius:32px;width:32px;height:32px;margin:-16px 0 0 -16px}.box-shadow-overlay{position:absolute;top:0;left:0;width:100%;height:100%;z-index:10;pointer-events:none}.et_pb_section>.box-shadow-overlay~.et_pb_row{z-index:11}body.safari .section_has_divider{will-change:transform}.et_pb_row>.box-shadow-overlay{z-index:8}.has-box-shadow-overlay{position:relative}.et_clickable{cursor:pointer}.screen-reader-text{border:0;clip:rect(1px,1px,1px,1px);-webkit-clip-path:inset(50%);clip-path:inset(50%);height:1px;margin:-1px;overflow:hidden;padding:0;position:absolute!important;width:1px;word-wrap:normal!important}.et_multi_view_hidden,.et_multi_view_hidden_image{display:none!important}@keyframes multi-view-image-fade{0%{opacity:0}10%{opacity:.1}20%{opacity:.2}30%{opacity:.3}40%{opacity:.4}50%{opacity:.5}60%{opacity:.6}70%{opacity:.7}80%{opacity:.8}90%{opacity:.9}to{opacity:1}}.et_multi_view_image__loading{visibility:hidden}.et_multi_view_image__loaded{-webkit-animation:multi-view-image-fade .5s;animation:multi-view-image-fade .5s}#et-pb-motion-effects-offset-tracker{visibility:hidden!important;opacity:0;position:absolute;top:0;left:0}.et-pb-before-scroll-animation{opacity:0}header.et-l.et-l--header:after{clear:both;display:block;content:\"\"}.et_pb_module{-webkit-animation-timing-function:linear;animation-timing-function:linear;-webkit-animation-duration:.2s;animation-duration:.2s}@-webkit-keyframes fadeBottom{0%{opacity:0;-webkit-transform:translateY(10%);transform:translateY(10%)}to{opacity:1;-webkit-transform:translateY(0);transform:translateY(0)}}@keyframes fadeBottom{0%{opacity:0;-webkit-transform:translateY(10%);transform:translateY(10%)}to{opacity:1;-webkit-transform:translateY(0);transform:translateY(0)}}@-webkit-keyframes fadeLeft{0%{opacity:0;-webkit-transform:translateX(-10%);transform:translateX(-10%)}to{opacity:1;-webkit-transform:translateX(0);transform:translateX(0)}}@keyframes fadeLeft{0%{opacity:0;-webkit-transform:translateX(-10%);transform:translateX(-10%)}to{opacity:1;-webkit-transform:translateX(0);transform:translateX(0)}}@-webkit-keyframes fadeRight{0%{opacity:0;-webkit-transform:translateX(10%);transform:translateX(10%)}to{opacity:1;-webkit-transform:translateX(0);transform:translateX(0)}}@keyframes fadeRight{0%{opacity:0;-webkit-transform:translateX(10%);transform:translateX(10%)}to{opacity:1;-webkit-transform:translateX(0);transform:translateX(0)}}@-webkit-keyframes fadeTop{0%{opacity:0;-webkit-transform:translateY(-10%);transform:translateY(-10%)}to{opacity:1;-webkit-transform:translateX(0);transform:translateX(0)}}@keyframes fadeTop{0%{opacity:0;-webkit-transform:translateY(-10%);transform:translateY(-10%)}to{opacity:1;-webkit-transform:translateX(0);transform:translateX(0)}}@-webkit-keyframes fadeIn{0%{opacity:0}to{opacity:1}}@keyframes fadeIn{0%{opacity:0}to{opacity:1}}.et-waypoint:not(.et_pb_counters){opacity:0}@media (min-width:981px){.et_pb_section.et_section_specialty div.et_pb_row .et_pb_column .et_pb_column .et_pb_module.et-last-child,.et_pb_section.et_section_specialty div.et_pb_row .et_pb_column .et_pb_column .et_pb_module:last-child,.et_pb_section.et_section_specialty div.et_pb_row .et_pb_column .et_pb_row_inner .et_pb_column .et_pb_module.et-last-child,.et_pb_section.et_section_specialty div.et_pb_row .et_pb_column .et_pb_row_inner .et_pb_column .et_pb_module:last-child,.et_pb_section div.et_pb_row .et_pb_column .et_pb_module.et-last-child,.et_pb_section div.et_pb_row .et_pb_column .et_pb_module:last-child{margin-bottom:0}}@media (max-width:980px){.et_overlay.et_pb_inline_icon_tablet:before,.et_pb_inline_icon_tablet:before{content:attr(data-icon-tablet)}.et_parallax_bg.et_parallax_bg_tablet_exist,.et_parallax_gradient.et_parallax_gradient_tablet_exist{display:none}.et_parallax_bg.et_parallax_bg_tablet,.et_parallax_gradient.et_parallax_gradient_tablet{display:block}.et_pb_column .et_pb_module{margin-bottom:30px}.et_pb_row .et_pb_column .et_pb_module.et-last-child,.et_pb_row .et_pb_column .et_pb_module:last-child,.et_section_specialty .et_pb_row .et_pb_column .et_pb_module.et-last-child,.et_section_specialty .et_pb_row .et_pb_column .et_pb_module:last-child{margin-bottom:0}.et_pb_more_button{display:inline-block!important}.et_pb_bg_layout_light_tablet.et_pb_button,.et_pb_bg_layout_light_tablet.et_pb_module.et_pb_button,.et_pb_bg_layout_light_tablet .et_pb_more_button{color:#2ea3f2}.et_pb_bg_layout_light_tablet .et_pb_forgot_password a{color:#666}.et_pb_bg_layout_light_tablet h1,.et_pb_bg_layout_light_tablet h2,.et_pb_bg_layout_light_tablet h3,.et_pb_bg_layout_light_tablet h4,.et_pb_bg_layout_light_tablet h5,.et_pb_bg_layout_light_tablet h6{color:#333!important}.et_pb_module .et_pb_bg_layout_light_tablet.et_pb_button{color:#2ea3f2!important}.et_pb_bg_layout_light_tablet{color:#666!important}.et_pb_bg_layout_dark_tablet,.et_pb_bg_layout_dark_tablet h1,.et_pb_bg_layout_dark_tablet h2,.et_pb_bg_layout_dark_tablet h3,.et_pb_bg_layout_dark_tablet h4,.et_pb_bg_layout_dark_tablet h5,.et_pb_bg_layout_dark_tablet h6{color:#fff!important}.et_pb_bg_layout_dark_tablet.et_pb_button,.et_pb_bg_layout_dark_tablet.et_pb_module.et_pb_button,.et_pb_bg_layout_dark_tablet .et_pb_more_button{color:inherit}.et_pb_bg_layout_dark_tablet .et_pb_forgot_password a{color:#fff}.et_pb_module.et_pb_text_align_left-tablet{text-align:left}.et_pb_module.et_pb_text_align_center-tablet{text-align:center}.et_pb_module.et_pb_text_align_right-tablet{text-align:right}.et_pb_module.et_pb_text_align_justified-tablet{text-align:justify}}@media (max-width:767px){.et_pb_more_button{display:inline-block!important}.et_overlay.et_pb_inline_icon_phone:before,.et_pb_inline_icon_phone:before{content:attr(data-icon-phone)}.et_parallax_bg.et_parallax_bg_phone_exist,.et_parallax_gradient.et_parallax_gradient_phone_exist{display:none}.et_parallax_bg.et_parallax_bg_phone,.et_parallax_gradient.et_parallax_gradient_phone{display:block}.et-hide-mobile{display:none!important}.et_pb_bg_layout_light_phone.et_pb_button,.et_pb_bg_layout_light_phone.et_pb_module.et_pb_button,.et_pb_bg_layout_light_phone .et_pb_more_button{color:#2ea3f2}.et_pb_bg_layout_light_phone .et_pb_forgot_password a{color:#666}.et_pb_bg_layout_light_phone h1,.et_pb_bg_layout_light_phone h2,.et_pb_bg_layout_light_phone h3,.et_pb_bg_layout_light_phone h4,.et_pb_bg_layout_light_phone h5,.et_pb_bg_layout_light_phone h6{color:#333!important}.et_pb_module .et_pb_bg_layout_light_phone.et_pb_button{color:#2ea3f2!important}.et_pb_bg_layout_light_phone{color:#666!important}.et_pb_bg_layout_dark_phone,.et_pb_bg_layout_dark_phone h1,.et_pb_bg_layout_dark_phone h2,.et_pb_bg_layout_dark_phone h3,.et_pb_bg_layout_dark_phone h4,.et_pb_bg_layout_dark_phone h5,.et_pb_bg_layout_dark_phone h6{color:#fff!important}.et_pb_bg_layout_dark_phone.et_pb_button,.et_pb_bg_layout_dark_phone.et_pb_module.et_pb_button,.et_pb_bg_layout_dark_phone .et_pb_more_button{color:inherit}.et_pb_module .et_pb_bg_layout_dark_phone.et_pb_button{color:#fff!important}.et_pb_bg_layout_dark_phone .et_pb_forgot_password a{color:#fff}.et_pb_module.et_pb_text_align_left-phone{text-align:left}.et_pb_module.et_pb_text_align_center-phone{text-align:center}.et_pb_module.et_pb_text_align_right-phone{text-align:right}.et_pb_module.et_pb_text_align_justified-phone{text-align:justify}}@media (max-width:479px){a.et_pb_more_button{display:block}}@media (min-width:768px) and (max-width:980px){[data-et-multi-view-load-tablet-hidden=true]:not(.et_multi_view_swapped){display:none!important}}@media (max-width:767px){[data-et-multi-view-load-phone-hidden=true]:not(.et_multi_view_swapped){display:none!important}}.et_pb_menu.et_pb_menu--style-inline_centered_logo .et_pb_menu__menu nav ul{-webkit-box-pack:center;-ms-flex-pack:center;justify-content:center}@-webkit-keyframes multi-view-image-fade{0%{-webkit-transform:scale(1);transform:scale(1);opacity:1}50%{-webkit-transform:scale(1.01);transform:scale(1.01);opacity:1}to{-webkit-transform:scale(1);transform:scale(1);opacity:1}}\n",
            "  </style>\n",
            "  <style id=\"divi-dynamic-critical-inline-css\" type=\"text/css\">\n",
            "   @font-face{font-family:ETmodules;font-display:block;src:url(//coloredconventions.org/wp-content/themes/Divi/core/admin/fonts/modules/all/modules.eot);src:url(//coloredconventions.org/wp-content/themes/Divi/core/admin/fonts/modules/all/modules.eot?#iefix) format(\"embedded-opentype\"),url(//coloredconventions.org/wp-content/themes/Divi/core/admin/fonts/modules/all/modules.woff) format(\"woff\"),url(//coloredconventions.org/wp-content/themes/Divi/core/admin/fonts/modules/all/modules.ttf) format(\"truetype\"),url(//coloredconventions.org/wp-content/themes/Divi/core/admin/fonts/modules/all/modules.svg#ETmodules) format(\"svg\");font-weight:400;font-style:normal}\n",
            "@media (min-width:981px){.et_pb_gutters3 .et_pb_column,.et_pb_gutters3.et_pb_row .et_pb_column{margin-right:5.5%}.et_pb_gutters3 .et_pb_column_4_4,.et_pb_gutters3.et_pb_row .et_pb_column_4_4{width:100%}.et_pb_gutters3 .et_pb_column_4_4 .et_pb_module,.et_pb_gutters3.et_pb_row .et_pb_column_4_4 .et_pb_module{margin-bottom:2.75%}.et_pb_gutters3 .et_pb_column_3_4,.et_pb_gutters3.et_pb_row .et_pb_column_3_4{width:73.625%}.et_pb_gutters3 .et_pb_column_3_4 .et_pb_module,.et_pb_gutters3.et_pb_row .et_pb_column_3_4 .et_pb_module{margin-bottom:3.735%}.et_pb_gutters3 .et_pb_column_2_3,.et_pb_gutters3.et_pb_row .et_pb_column_2_3{width:64.833%}.et_pb_gutters3 .et_pb_column_2_3 .et_pb_module,.et_pb_gutters3.et_pb_row .et_pb_column_2_3 .et_pb_module{margin-bottom:4.242%}.et_pb_gutters3 .et_pb_column_3_5,.et_pb_gutters3.et_pb_row .et_pb_column_3_5{width:57.8%}.et_pb_gutters3 .et_pb_column_3_5 .et_pb_module,.et_pb_gutters3.et_pb_row .et_pb_column_3_5 .et_pb_module{margin-bottom:4.758%}.et_pb_gutters3 .et_pb_column_1_2,.et_pb_gutters3.et_pb_row .et_pb_column_1_2{width:47.25%}.et_pb_gutters3 .et_pb_column_1_2 .et_pb_module,.et_pb_gutters3.et_pb_row .et_pb_column_1_2 .et_pb_module{margin-bottom:5.82%}.et_pb_gutters3 .et_pb_column_2_5,.et_pb_gutters3.et_pb_row .et_pb_column_2_5{width:36.7%}.et_pb_gutters3 .et_pb_column_2_5 .et_pb_module,.et_pb_gutters3.et_pb_row .et_pb_column_2_5 .et_pb_module{margin-bottom:7.493%}.et_pb_gutters3 .et_pb_column_1_3,.et_pb_gutters3.et_pb_row .et_pb_column_1_3{width:29.6667%}.et_pb_gutters3 .et_pb_column_1_3 .et_pb_module,.et_pb_gutters3.et_pb_row .et_pb_column_1_3 .et_pb_module{margin-bottom:9.27%}.et_pb_gutters3 .et_pb_column_1_4,.et_pb_gutters3.et_pb_row .et_pb_column_1_4{width:20.875%}.et_pb_gutters3 .et_pb_column_1_4 .et_pb_module,.et_pb_gutters3.et_pb_row .et_pb_column_1_4 .et_pb_module{margin-bottom:13.174%}.et_pb_gutters3 .et_pb_column_1_5,.et_pb_gutters3.et_pb_row .et_pb_column_1_5{width:15.6%}.et_pb_gutters3 .et_pb_column_1_5 .et_pb_module,.et_pb_gutters3.et_pb_row .et_pb_column_1_5 .et_pb_module{margin-bottom:17.628%}.et_pb_gutters3 .et_pb_column_1_6,.et_pb_gutters3.et_pb_row .et_pb_column_1_6{width:12.0833%}.et_pb_gutters3 .et_pb_column_1_6 .et_pb_module,.et_pb_gutters3.et_pb_row .et_pb_column_1_6 .et_pb_module{margin-bottom:22.759%}.et_pb_gutters3 .et_full_width_page.woocommerce-page ul.products li.product{width:20.875%;margin-right:5.5%;margin-bottom:5.5%}.et_pb_gutters3.et_left_sidebar.woocommerce-page #main-content ul.products li.product,.et_pb_gutters3.et_right_sidebar.woocommerce-page #main-content ul.products li.product{width:28.353%;margin-right:7.47%}.et_pb_gutters3.et_left_sidebar.woocommerce-page #main-content ul.products.columns-1 li.product,.et_pb_gutters3.et_right_sidebar.woocommerce-page #main-content ul.products.columns-1 li.product{width:100%;margin-right:0}.et_pb_gutters3.et_left_sidebar.woocommerce-page #main-content ul.products.columns-2 li.product,.et_pb_gutters3.et_right_sidebar.woocommerce-page #main-content ul.products.columns-2 li.product{width:48%;margin-right:4%}.et_pb_gutters3.et_left_sidebar.woocommerce-page #main-content ul.products.columns-2 li:nth-child(2n+2),.et_pb_gutters3.et_right_sidebar.woocommerce-page #main-content ul.products.columns-2 li:nth-child(2n+2){margin-right:0}.et_pb_gutters3.et_left_sidebar.woocommerce-page #main-content ul.products.columns-2 li:nth-child(3n+1),.et_pb_gutters3.et_right_sidebar.woocommerce-page #main-content ul.products.columns-2 li:nth-child(3n+1){clear:none}}\n",
            "@media (min-width:981px){.et_pb_gutter.et_pb_gutters1 #left-area{width:75%}.et_pb_gutter.et_pb_gutters1 #sidebar{width:25%}.et_pb_gutters1.et_right_sidebar #left-area{padding-right:0}.et_pb_gutters1.et_left_sidebar #left-area{padding-left:0}.et_pb_gutter.et_pb_gutters1.et_right_sidebar #main-content .container:before{right:25%!important}.et_pb_gutter.et_pb_gutters1.et_left_sidebar #main-content .container:before{left:25%!important}.et_pb_gutters1 .et_pb_column,.et_pb_gutters1.et_pb_row .et_pb_column{margin-right:0}.et_pb_gutters1 .et_pb_column_4_4,.et_pb_gutters1.et_pb_row .et_pb_column_4_4{width:100%}.et_pb_gutters1 .et_pb_column_4_4 .et_pb_module,.et_pb_gutters1.et_pb_row .et_pb_column_4_4 .et_pb_module{margin-bottom:0}.et_pb_gutters1 .et_pb_column_3_4,.et_pb_gutters1.et_pb_row .et_pb_column_3_4{width:75%}.et_pb_gutters1 .et_pb_column_3_4 .et_pb_module,.et_pb_gutters1.et_pb_row .et_pb_column_3_4 .et_pb_module{margin-bottom:0}.et_pb_gutters1 .et_pb_column_2_3,.et_pb_gutters1.et_pb_row .et_pb_column_2_3{width:66.667%}.et_pb_gutters1 .et_pb_column_2_3 .et_pb_module,.et_pb_gutters1.et_pb_row .et_pb_column_2_3 .et_pb_module{margin-bottom:0}.et_pb_gutters1 .et_pb_column_3_5,.et_pb_gutters1.et_pb_row .et_pb_column_3_5{width:60%}.et_pb_gutters1 .et_pb_column_3_5 .et_pb_module,.et_pb_gutters1.et_pb_row .et_pb_column_3_5 .et_pb_module{margin-bottom:0}.et_pb_gutters1 .et_pb_column_1_2,.et_pb_gutters1.et_pb_row .et_pb_column_1_2{width:50%}.et_pb_gutters1 .et_pb_column_1_2 .et_pb_module,.et_pb_gutters1.et_pb_row .et_pb_column_1_2 .et_pb_module{margin-bottom:0}.et_pb_gutters1 .et_pb_column_2_5,.et_pb_gutters1.et_pb_row .et_pb_column_2_5{width:40%}.et_pb_gutters1 .et_pb_column_2_5 .et_pb_module,.et_pb_gutters1.et_pb_row .et_pb_column_2_5 .et_pb_module{margin-bottom:0}.et_pb_gutters1 .et_pb_column_1_3,.et_pb_gutters1.et_pb_row .et_pb_column_1_3{width:33.3333%}.et_pb_gutters1 .et_pb_column_1_3 .et_pb_module,.et_pb_gutters1.et_pb_row .et_pb_column_1_3 .et_pb_module{margin-bottom:0}.et_pb_gutters1 .et_pb_column_1_4,.et_pb_gutters1.et_pb_row .et_pb_column_1_4{width:25%}.et_pb_gutters1 .et_pb_column_1_4 .et_pb_module,.et_pb_gutters1.et_pb_row .et_pb_column_1_4 .et_pb_module{margin-bottom:0}.et_pb_gutters1 .et_pb_column_1_5,.et_pb_gutters1.et_pb_row .et_pb_column_1_5{width:20%}.et_pb_gutters1 .et_pb_column_1_5 .et_pb_module,.et_pb_gutters1.et_pb_row .et_pb_column_1_5 .et_pb_module{margin-bottom:0}.et_pb_gutters1 .et_pb_column_1_6,.et_pb_gutters1.et_pb_row .et_pb_column_1_6{width:16.6667%}.et_pb_gutters1 .et_pb_column_1_6 .et_pb_module,.et_pb_gutters1.et_pb_row .et_pb_column_1_6 .et_pb_module{margin-bottom:0}.et_pb_gutters1 .et_full_width_page.woocommerce-page ul.products li.product{width:25%;margin-right:0;margin-bottom:0}.et_pb_gutters1.et_left_sidebar.woocommerce-page #main-content ul.products li.product,.et_pb_gutters1.et_right_sidebar.woocommerce-page #main-content ul.products li.product{width:33.333%;margin-right:0}}@media (max-width:980px){.et_pb_gutters1 .et_pb_column,.et_pb_gutters1 .et_pb_column .et_pb_module,.et_pb_gutters1.et_pb_row .et_pb_column,.et_pb_gutters1.et_pb_row .et_pb_column .et_pb_module{margin-bottom:0}.et_pb_gutters1 .et_pb_row_1-2_1-4_1-4>.et_pb_column.et_pb_column_1_4,.et_pb_gutters1 .et_pb_row_1-4_1-4>.et_pb_column.et_pb_column_1_4,.et_pb_gutters1 .et_pb_row_1-4_1-4_1-2>.et_pb_column.et_pb_column_1_4,.et_pb_gutters1 .et_pb_row_1-5_1-5_3-5>.et_pb_column.et_pb_column_1_5,.et_pb_gutters1 .et_pb_row_3-5_1-5_1-5>.et_pb_column.et_pb_column_1_5,.et_pb_gutters1 .et_pb_row_4col>.et_pb_column.et_pb_column_1_4,.et_pb_gutters1 .et_pb_row_5col>.et_pb_column.et_pb_column_1_5,.et_pb_gutters1.et_pb_row_1-2_1-4_1-4>.et_pb_column.et_pb_column_1_4,.et_pb_gutters1.et_pb_row_1-4_1-4>.et_pb_column.et_pb_column_1_4,.et_pb_gutters1.et_pb_row_1-4_1-4_1-2>.et_pb_column.et_pb_column_1_4,.et_pb_gutters1.et_pb_row_1-5_1-5_3-5>.et_pb_column.et_pb_column_1_5,.et_pb_gutters1.et_pb_row_3-5_1-5_1-5>.et_pb_column.et_pb_column_1_5,.et_pb_gutters1.et_pb_row_4col>.et_pb_column.et_pb_column_1_4,.et_pb_gutters1.et_pb_row_5col>.et_pb_column.et_pb_column_1_5{width:50%;margin-right:0}.et_pb_gutters1 .et_pb_row_1-2_1-6_1-6_1-6>.et_pb_column.et_pb_column_1_6,.et_pb_gutters1 .et_pb_row_1-6_1-6_1-6>.et_pb_column.et_pb_column_1_6,.et_pb_gutters1 .et_pb_row_1-6_1-6_1-6_1-2>.et_pb_column.et_pb_column_1_6,.et_pb_gutters1 .et_pb_row_6col>.et_pb_column.et_pb_column_1_6,.et_pb_gutters1.et_pb_row_1-2_1-6_1-6_1-6>.et_pb_column.et_pb_column_1_6,.et_pb_gutters1.et_pb_row_1-6_1-6_1-6>.et_pb_column.et_pb_column_1_6,.et_pb_gutters1.et_pb_row_1-6_1-6_1-6_1-2>.et_pb_column.et_pb_column_1_6,.et_pb_gutters1.et_pb_row_6col>.et_pb_column.et_pb_column_1_6{width:33.333%;margin-right:0}.et_pb_gutters1 .et_pb_row_1-6_1-6_1-6_1-6>.et_pb_column.et_pb_column_1_6,.et_pb_gutters1.et_pb_row_1-6_1-6_1-6_1-6>.et_pb_column.et_pb_column_1_6{width:50%;margin-right:0}}@media (max-width:767px){.et_pb_gutters1 .et_pb_column,.et_pb_gutters1 .et_pb_column .et_pb_module,.et_pb_gutters1.et_pb_row .et_pb_column,.et_pb_gutters1.et_pb_row .et_pb_column .et_pb_module{margin-bottom:0}}@media (max-width:479px){.et_pb_gutters1 .et_pb_column,.et_pb_gutters1.et_pb_row .et_pb_column{margin:0!important}.et_pb_gutters1 .et_pb_column .et_pb_module,.et_pb_gutters1.et_pb_row .et_pb_column .et_pb_module{margin-bottom:0}}\n",
            "#et-secondary-menu li,#top-menu li{word-wrap:break-word}.nav li ul,.et_mobile_menu{border-color:#2EA3F2}.mobile_menu_bar:before,.mobile_menu_bar:after,#top-menu li.current-menu-ancestor>a,#top-menu li.current-menu-item>a{color:#2EA3F2}#main-header{-webkit-transition:background-color 0.4s, color 0.4s, opacity 0.4s ease-in-out, -webkit-transform 0.4s;transition:background-color 0.4s, color 0.4s, opacity 0.4s ease-in-out, -webkit-transform 0.4s;transition:background-color 0.4s, color 0.4s, transform 0.4s, opacity 0.4s ease-in-out;transition:background-color 0.4s, color 0.4s, transform 0.4s, opacity 0.4s ease-in-out, -webkit-transform 0.4s}#main-header.et-disabled-animations *{-webkit-transition-duration:0s !important;transition-duration:0s !important}.container{text-align:left;position:relative}.et_fixed_nav.et_show_nav #page-container{padding-top:80px}.et_fixed_nav.et_show_nav.et-tb #page-container,.et_fixed_nav.et_show_nav.et-tb-has-header #page-container{padding-top:0 !important}.et_fixed_nav.et_show_nav.et_secondary_nav_enabled #page-container{padding-top:111px}.et_fixed_nav.et_show_nav.et_secondary_nav_enabled.et_header_style_centered #page-container{padding-top:177px}.et_fixed_nav.et_show_nav.et_header_style_centered #page-container{padding-top:147px}.et_fixed_nav #main-header{position:fixed}.et-cloud-item-editor #page-container{padding-top:0 !important}.et_header_style_left #et-top-navigation{padding-top:33px}.et_header_style_left #et-top-navigation nav>ul>li>a{padding-bottom:33px}.et_header_style_left .logo_container{position:absolute;height:100%;width:100%}.et_header_style_left #et-top-navigation .mobile_menu_bar{padding-bottom:24px}.et_hide_search_icon #et_top_search{display:none !important}#logo{width:auto;-webkit-transition:all 0.4s ease-in-out;transition:all 0.4s ease-in-out;margin-bottom:0;max-height:54%;display:inline-block;float:none;vertical-align:middle;-webkit-transform:translate3d(0, 0, 0)}.et_pb_svg_logo #logo{height:54%}.logo_container{-webkit-transition:all 0.4s ease-in-out;transition:all 0.4s ease-in-out}span.logo_helper{display:inline-block;height:100%;vertical-align:middle;width:0}.safari .centered-inline-logo-wrap{-webkit-transform:translate3d(0, 0, 0);-webkit-transition:all 0.4s ease-in-out;transition:all 0.4s ease-in-out}#et-define-logo-wrap img{width:100%}.gecko #et-define-logo-wrap.svg-logo{position:relative !important}#top-menu-nav,#top-menu{line-height:0}#et-top-navigation{font-weight:600}.et_fixed_nav #et-top-navigation{-webkit-transition:all 0.4s ease-in-out;transition:all 0.4s ease-in-out}.et-cart-info span:before{content:\"\\e07a\";margin-right:10px;position:relative}nav#top-menu-nav,#top-menu,nav.et-menu-nav,.et-menu{float:left}#top-menu li{display:inline-block;font-size:14px;padding-right:22px}#top-menu>li:last-child{padding-right:0}.et_fullwidth_nav.et_non_fixed_nav.et_header_style_left #top-menu>li:last-child>ul.sub-menu{right:0}#top-menu a{color:rgba(0,0,0,0.6);text-decoration:none;display:block;position:relative;-webkit-transition:opacity 0.4s ease-in-out, background-color 0.4s ease-in-out;transition:opacity 0.4s ease-in-out, background-color 0.4s ease-in-out}#top-menu-nav>ul>li>a:hover{opacity:0.7;-webkit-transition:all 0.4s ease-in-out;transition:all 0.4s ease-in-out}#et_search_icon:before{content:\"\\55\";font-size:17px;left:0;position:absolute;top:-3px}#et_search_icon:hover{cursor:pointer}#et_top_search{float:right;margin:3px 0 0 22px;position:relative;display:block;width:18px}#et_top_search.et_search_opened{position:absolute;width:100%}.et-search-form{top:0;bottom:0;right:0;position:absolute;z-index:1000;width:100%}.et-search-form input{width:90%;border:none;color:#333;position:absolute;top:0;bottom:0;right:30px;margin:auto;background:transparent}.et-search-form .et-search-field::-ms-clear{width:0;height:0;display:none}.et_search_form_container{-webkit-animation:none;animation:none;-o-animation:none}.container.et_search_form_container{position:relative;opacity:0;height:1px}.container.et_search_form_container.et_pb_search_visible{z-index:999;-webkit-animation:fadeInTop 1s 1 cubic-bezier(0.77, 0, 0.175, 1);animation:fadeInTop 1s 1 cubic-bezier(0.77, 0, 0.175, 1)}.et_pb_search_visible.et_pb_no_animation{opacity:1}.et_pb_search_form_hidden{-webkit-animation:fadeOutTop 1s 1 cubic-bezier(0.77, 0, 0.175, 1);animation:fadeOutTop 1s 1 cubic-bezier(0.77, 0, 0.175, 1)}span.et_close_search_field{display:block;width:30px;height:30px;z-index:99999;position:absolute;right:0;cursor:pointer;top:0;bottom:0;margin:auto}span.et_close_search_field:after{font-family:'ETmodules';content:'\\4d';speak:none;font-weight:normal;font-variant:normal;text-transform:none;line-height:1;-webkit-font-smoothing:antialiased;font-size:32px;display:inline-block;-webkit-box-sizing:border-box;box-sizing:border-box}.container.et_menu_container{z-index:99}.container.et_search_form_container.et_pb_search_form_hidden{z-index:1 !important}.et_search_outer{width:100%;overflow:hidden;position:absolute;top:0}.container.et_pb_menu_hidden{z-index:-1}form.et-search-form{background:rgba(0,0,0,0) !important}input[type=\"search\"]::-webkit-search-cancel-button{-webkit-appearance:none}.et-cart-info{color:inherit}#et-top-navigation .et-cart-info{float:left;margin:-2px 0 0 22px;font-size:16px}#et-top-navigation{float:right}#top-menu li li{padding:0 20px;margin:0}#top-menu li li a{padding:6px 20px;width:200px}.nav li.et-touch-hover>ul{opacity:1;visibility:visible}#top-menu .menu-item-has-children>a:first-child:after,#et-secondary-nav .menu-item-has-children>a:first-child:after{font-family:'ETmodules';content:\"3\";font-size:16px;position:absolute;right:0;top:0;font-weight:800}#top-menu .menu-item-has-children>a:first-child,#et-secondary-nav .menu-item-has-children>a:first-child{padding-right:20px}#top-menu li .menu-item-has-children>a:first-child{padding-right:40px}#top-menu li .menu-item-has-children>a:first-child:after{right:20px;top:6px}#top-menu li.mega-menu{position:inherit}#top-menu li.mega-menu>ul{padding:30px 20px;position:absolute !important;width:100%;left:0 !important}#top-menu li.mega-menu ul li{margin:0;float:left !important;display:block !important;padding:0 !important}#top-menu li.mega-menu>ul>li:nth-of-type(4n){clear:right}#top-menu li.mega-menu>ul>li:nth-of-type(4n+1){clear:left}#top-menu li.mega-menu ul li li{width:100%}#top-menu li.mega-menu li>ul{-webkit-animation:none !important;animation:none !important;padding:0px;border:none;left:auto;top:auto;width:90% !important;position:relative;-webkit-box-shadow:none;box-shadow:none}#top-menu li.mega-menu li ul{visibility:visible;opacity:1;display:none}#top-menu li.mega-menu.et-hover li ul{display:block}#top-menu li.mega-menu.et-hover>ul{opacity:1 !important;visibility:visible !important}#top-menu li.mega-menu>ul>li>a{width:90%;padding:0 20px 10px}#top-menu li.mega-menu>ul>li>a:first-child{padding-top:0 !important;font-weight:bold;border-bottom:1px solid rgba(0,0,0,0.03)}#top-menu li.mega-menu>ul>li>a:first-child:hover{background-color:transparent !important}#top-menu li.mega-menu li>a{width:100%}#top-menu li.mega-menu.mega-menu-parent li li,#top-menu li.mega-menu.mega-menu-parent li>a{width:100% !important}#top-menu li.mega-menu.mega-menu-parent li>.sub-menu{float:left;width:100% !important}#top-menu li.mega-menu>ul>li{width:25%;margin:0}#top-menu li.mega-menu.mega-menu-parent-3>ul>li{width:33.33%}#top-menu li.mega-menu.mega-menu-parent-2>ul>li{width:50%}#top-menu li.mega-menu.mega-menu-parent-1>ul>li{width:100%}#top-menu li.mega-menu .menu-item-has-children>a:first-child:after{display:none}#top-menu li.mega-menu>ul>li>ul>li{width:100%;margin:0}#et_mobile_nav_menu{float:right;display:none}.mobile_menu_bar{position:relative;display:block;line-height:0}.mobile_menu_bar:before,.et_toggle_slide_menu:after{content:\"\\61\";font-size:32px;left:0;position:relative;top:0;cursor:pointer}.mobile_nav .select_page{display:none}.et_pb_menu_hidden #top-menu,.et_pb_menu_hidden #et_search_icon:before,.et_pb_menu_hidden .et-cart-info{opacity:0;-webkit-animation:fadeOutBottom 1s 1 cubic-bezier(0.77, 0, 0.175, 1);animation:fadeOutBottom 1s 1 cubic-bezier(0.77, 0, 0.175, 1)}.et_pb_menu_visible #top-menu,.et_pb_menu_visible #et_search_icon:before,.et_pb_menu_visible .et-cart-info{z-index:99;opacity:1;-webkit-animation:fadeInBottom 1s 1 cubic-bezier(0.77, 0, 0.175, 1);animation:fadeInBottom 1s 1 cubic-bezier(0.77, 0, 0.175, 1)}.et_pb_menu_hidden #top-menu,.et_pb_menu_hidden #et_search_icon:before,.et_pb_menu_hidden .mobile_menu_bar{opacity:0;-webkit-animation:fadeOutBottom 1s 1 cubic-bezier(0.77, 0, 0.175, 1);animation:fadeOutBottom 1s 1 cubic-bezier(0.77, 0, 0.175, 1)}.et_pb_menu_visible #top-menu,.et_pb_menu_visible #et_search_icon:before,.et_pb_menu_visible .mobile_menu_bar{z-index:99;opacity:1;-webkit-animation:fadeInBottom 1s 1 cubic-bezier(0.77, 0, 0.175, 1);animation:fadeInBottom 1s 1 cubic-bezier(0.77, 0, 0.175, 1)}.et_pb_no_animation #top-menu,.et_pb_no_animation #et_search_icon:before,.et_pb_no_animation .mobile_menu_bar,.et_pb_no_animation.et_search_form_container{animation:none !important;-o-animation:none !important;-webkit-animation:none !important;-moz-animation:none !important}body.admin-bar.et_fixed_nav #main-header{top:32px}body.et-wp-pre-3_8.admin-bar.et_fixed_nav #main-header{top:28px}body.et_fixed_nav.et_secondary_nav_enabled #main-header{top:30px}body.admin-bar.et_fixed_nav.et_secondary_nav_enabled #main-header{top:63px}@media all and (min-width: 981px){.et_hide_primary_logo #main-header:not(.et-fixed-header) .logo_container,.et_hide_fixed_logo #main-header.et-fixed-header .logo_container{height:0;opacity:0;-webkit-transition:all 0.4s ease-in-out;transition:all 0.4s ease-in-out}.et_hide_primary_logo #main-header:not(.et-fixed-header) .centered-inline-logo-wrap,.et_hide_fixed_logo #main-header.et-fixed-header .centered-inline-logo-wrap{height:0;opacity:0;padding:0}.et-animated-content#page-container{-webkit-transition:margin-top 0.4s ease-in-out;transition:margin-top 0.4s ease-in-out}.et_hide_nav #page-container{-webkit-transition:none;transition:none}.et_fullwidth_nav .et-search-form,.et_fullwidth_nav .et_close_search_field{right:30px}#main-header.et-fixed-header{-webkit-box-shadow:0 0 7px rgba(0,0,0,0.1) !important;box-shadow:0 0 7px rgba(0,0,0,0.1) !important}.et_header_style_left .et-fixed-header #et-top-navigation{padding-top:20px}.et_header_style_left .et-fixed-header #et-top-navigation nav>ul>li>a{padding-bottom:20px}.et_hide_nav.et_fixed_nav #main-header{opacity:0}.et_hide_nav.et_fixed_nav .et-fixed-header#main-header{-webkit-transform:translateY(0px) !important;transform:translateY(0px) !important;opacity:1}.et_hide_nav .centered-inline-logo-wrap,.et_hide_nav.et_fixed_nav #main-header,.et_hide_nav.et_fixed_nav #main-header,.et_hide_nav .centered-inline-logo-wrap{-webkit-transition-duration:.7s;transition-duration:.7s}.et_hide_nav #page-container{padding-top:0 !important}.et_primary_nav_dropdown_animation_fade #et-top-navigation ul li:hover>ul,.et_secondary_nav_dropdown_animation_fade #et-secondary-nav li:hover>ul{-webkit-transition:all .2s ease-in-out;transition:all .2s ease-in-out}.et_primary_nav_dropdown_animation_slide #et-top-navigation ul li:hover>ul,.et_secondary_nav_dropdown_animation_slide #et-secondary-nav li:hover>ul{-webkit-animation:fadeLeft .4s ease-in-out;animation:fadeLeft .4s ease-in-out}.et_primary_nav_dropdown_animation_expand #et-top-navigation ul li:hover>ul,.et_secondary_nav_dropdown_animation_expand #et-secondary-nav li:hover>ul{-webkit-transform-origin:0 0;transform-origin:0 0;-webkit-animation:Grow .4s ease-in-out;animation:Grow .4s ease-in-out;-webkit-backface-visibility:visible !important;backface-visibility:visible !important}.et_primary_nav_dropdown_animation_flip #et-top-navigation ul li ul li:hover>ul,.et_secondary_nav_dropdown_animation_flip #et-secondary-nav ul li:hover>ul{-webkit-animation:flipInX .6s ease-in-out;animation:flipInX .6s ease-in-out;-webkit-backface-visibility:visible !important;backface-visibility:visible !important}.et_primary_nav_dropdown_animation_flip #et-top-navigation ul li:hover>ul,.et_secondary_nav_dropdown_animation_flip #et-secondary-nav li:hover>ul{-webkit-animation:flipInY .6s ease-in-out;animation:flipInY .6s ease-in-out;-webkit-backface-visibility:visible !important;backface-visibility:visible !important}.et_fullwidth_nav #main-header .container{width:100%;max-width:100%;padding-right:32px;padding-left:30px}.et_non_fixed_nav.et_fullwidth_nav.et_header_style_left #main-header .container{padding-left:0}.et_non_fixed_nav.et_fullwidth_nav.et_header_style_left .logo_container{padding-left:30px}}@media all and (max-width: 980px){.et_fixed_nav.et_show_nav.et_secondary_nav_enabled #page-container,.et_fixed_nav.et_show_nav #page-container{padding-top:80px}.et_fixed_nav.et_show_nav.et-tb #page-container,.et_fixed_nav.et_show_nav.et-tb-has-header #page-container{padding-top:0 !important}.et_non_fixed_nav #page-container{padding-top:0}.et_fixed_nav.et_secondary_nav_only_menu.admin-bar #main-header{top:32px !important}.et_hide_mobile_logo #main-header .logo_container{display:none;opacity:0;-webkit-transition:all 0.4s ease-in-out;transition:all 0.4s ease-in-out}#top-menu{display:none}.et_hide_nav.et_fixed_nav #main-header{-webkit-transform:translateY(0px) !important;transform:translateY(0px) !important;opacity:1}#et-top-navigation{margin-right:0;-webkit-transition:none;transition:none}.et_fixed_nav #main-header{position:absolute}.et_header_style_left .et-fixed-header #et-top-navigation,.et_header_style_left #et-top-navigation{padding-top:24px;display:block}.et_fixed_nav #main-header{-webkit-transition:none;transition:none}.et_fixed_nav_temp #main-header{top:0 !important}#logo,.logo_container,#main-header,.container{-webkit-transition:none;transition:none}.et_header_style_left #logo{max-width:50%}#et_top_search{margin:0 35px 0 0;float:left}#et_search_icon:before{top:7px}.et_header_style_left .et-search-form{width:50% !important;max-width:50% !important}#et_mobile_nav_menu{display:block}#et-top-navigation .et-cart-info{margin-top:5px}}@media screen and (max-width: 782px){body.admin-bar.et_fixed_nav #main-header{top:46px}}@media all and (max-width: 767px){#et-top-navigation{margin-right:0}body.admin-bar.et_fixed_nav #main-header{top:46px}}@media all and (max-width: 479px){#et-top-navigation{margin-right:0}}@media print{#top-header,#main-header{position:relative !important;top:auto !important;right:auto !important;bottom:auto !important;left:auto !important}}\n",
            "@-webkit-keyframes fadeOutTop{0%{opacity:1;-webkit-transform:translatey(0);transform:translatey(0)}to{opacity:0;-webkit-transform:translatey(-60%);transform:translatey(-60%)}}@keyframes fadeOutTop{0%{opacity:1;-webkit-transform:translatey(0);transform:translatey(0)}to{opacity:0;-webkit-transform:translatey(-60%);transform:translatey(-60%)}}@-webkit-keyframes fadeInTop{0%{opacity:0;-webkit-transform:translatey(-60%);transform:translatey(-60%)}to{opacity:1;-webkit-transform:translatey(0);transform:translatey(0)}}@keyframes fadeInTop{0%{opacity:0;-webkit-transform:translatey(-60%);transform:translatey(-60%)}to{opacity:1;-webkit-transform:translatey(0);transform:translatey(0)}}@-webkit-keyframes fadeInBottom{0%{opacity:0;-webkit-transform:translatey(60%);transform:translatey(60%)}to{opacity:1;-webkit-transform:translatey(0);transform:translatey(0)}}@keyframes fadeInBottom{0%{opacity:0;-webkit-transform:translatey(60%);transform:translatey(60%)}to{opacity:1;-webkit-transform:translatey(0);transform:translatey(0)}}@-webkit-keyframes fadeOutBottom{0%{opacity:1;-webkit-transform:translatey(0);transform:translatey(0)}to{opacity:0;-webkit-transform:translatey(60%);transform:translatey(60%)}}@keyframes fadeOutBottom{0%{opacity:1;-webkit-transform:translatey(0);transform:translatey(0)}to{opacity:0;-webkit-transform:translatey(60%);transform:translatey(60%)}}@-webkit-keyframes Grow{0%{opacity:0;-webkit-transform:scaleY(.5);transform:scaleY(.5)}to{opacity:1;-webkit-transform:scale(1);transform:scale(1)}}@keyframes Grow{0%{opacity:0;-webkit-transform:scaleY(.5);transform:scaleY(.5)}to{opacity:1;-webkit-transform:scale(1);transform:scale(1)}}/*!\n",
            "\t  * Animate.css - http://daneden.me/animate\n",
            "\t  * Licensed under the MIT license - http://opensource.org/licenses/MIT\n",
            "\t  * Copyright (c) 2015 Daniel Eden\n",
            "\t */@-webkit-keyframes flipInX{0%{-webkit-transform:perspective(400px) rotateX(90deg);transform:perspective(400px) rotateX(90deg);-webkit-animation-timing-function:ease-in;animation-timing-function:ease-in;opacity:0}40%{-webkit-transform:perspective(400px) rotateX(-20deg);transform:perspective(400px) rotateX(-20deg);-webkit-animation-timing-function:ease-in;animation-timing-function:ease-in}60%{-webkit-transform:perspective(400px) rotateX(10deg);transform:perspective(400px) rotateX(10deg);opacity:1}80%{-webkit-transform:perspective(400px) rotateX(-5deg);transform:perspective(400px) rotateX(-5deg)}to{-webkit-transform:perspective(400px);transform:perspective(400px)}}@keyframes flipInX{0%{-webkit-transform:perspective(400px) rotateX(90deg);transform:perspective(400px) rotateX(90deg);-webkit-animation-timing-function:ease-in;animation-timing-function:ease-in;opacity:0}40%{-webkit-transform:perspective(400px) rotateX(-20deg);transform:perspective(400px) rotateX(-20deg);-webkit-animation-timing-function:ease-in;animation-timing-function:ease-in}60%{-webkit-transform:perspective(400px) rotateX(10deg);transform:perspective(400px) rotateX(10deg);opacity:1}80%{-webkit-transform:perspective(400px) rotateX(-5deg);transform:perspective(400px) rotateX(-5deg)}to{-webkit-transform:perspective(400px);transform:perspective(400px)}}@-webkit-keyframes flipInY{0%{-webkit-transform:perspective(400px) rotateY(90deg);transform:perspective(400px) rotateY(90deg);-webkit-animation-timing-function:ease-in;animation-timing-function:ease-in;opacity:0}40%{-webkit-transform:perspective(400px) rotateY(-20deg);transform:perspective(400px) rotateY(-20deg);-webkit-animation-timing-function:ease-in;animation-timing-function:ease-in}60%{-webkit-transform:perspective(400px) rotateY(10deg);transform:perspective(400px) rotateY(10deg);opacity:1}80%{-webkit-transform:perspective(400px) rotateY(-5deg);transform:perspective(400px) rotateY(-5deg)}to{-webkit-transform:perspective(400px);transform:perspective(400px)}}@keyframes flipInY{0%{-webkit-transform:perspective(400px) rotateY(90deg);transform:perspective(400px) rotateY(90deg);-webkit-animation-timing-function:ease-in;animation-timing-function:ease-in;opacity:0}40%{-webkit-transform:perspective(400px) rotateY(-20deg);transform:perspective(400px) rotateY(-20deg);-webkit-animation-timing-function:ease-in;animation-timing-function:ease-in}60%{-webkit-transform:perspective(400px) rotateY(10deg);transform:perspective(400px) rotateY(10deg);opacity:1}80%{-webkit-transform:perspective(400px) rotateY(-5deg);transform:perspective(400px) rotateY(-5deg)}to{-webkit-transform:perspective(400px);transform:perspective(400px)}}\n",
            "#main-header{line-height:23px;font-weight:500;top:0;background-color:#fff;width:100%;-webkit-box-shadow:0 1px 0 rgba(0,0,0,.1);box-shadow:0 1px 0 rgba(0,0,0,.1);position:relative;z-index:99999}.nav li li{padding:0 20px;margin:0}.et-menu li li a{padding:6px 20px;width:200px}.nav li{position:relative;line-height:1em}.nav li li{position:relative;line-height:2em}.nav li ul{position:absolute;padding:20px 0;z-index:9999;width:240px;background:#fff;visibility:hidden;opacity:0;border-top:3px solid #2ea3f2;box-shadow:0 2px 5px rgba(0,0,0,.1);-moz-box-shadow:0 2px 5px rgba(0,0,0,.1);-webkit-box-shadow:0 2px 5px rgba(0,0,0,.1);-webkit-transform:translateZ(0);text-align:left}.nav li.et-hover>ul{visibility:visible}.nav li.et-touch-hover>ul,.nav li:hover>ul{opacity:1;visibility:visible}.nav li li ul{z-index:1000;top:-23px;left:240px}.nav li.et-reverse-direction-nav li ul{left:auto;right:240px}.nav li:hover{visibility:inherit}.et_mobile_menu li a,.nav li li a{font-size:14px;-webkit-transition:opacity .2s ease-in-out,background-color .2s ease-in-out;transition:opacity .2s ease-in-out,background-color .2s ease-in-out}.et_mobile_menu li a:hover,.nav ul li a:hover{background-color:rgba(0,0,0,.03);opacity:.7}.et-dropdown-removing>ul{display:none}.mega-menu .et-dropdown-removing>ul{display:block}.et-menu .menu-item-has-children>a:first-child:after{font-family:ETmodules;content:\"3\";font-size:16px;position:absolute;right:0;top:0;font-weight:800}.et-menu .menu-item-has-children>a:first-child{padding-right:20px}.et-menu li li.menu-item-has-children>a:first-child:after{right:20px;top:6px}.et-menu-nav li.mega-menu{position:inherit}.et-menu-nav li.mega-menu>ul{padding:30px 20px;position:absolute!important;width:100%;left:0!important}.et-menu-nav li.mega-menu ul li{margin:0;float:left!important;display:block!important;padding:0!important}.et-menu-nav li.mega-menu li>ul{-webkit-animation:none!important;animation:none!important;padding:0;border:none;left:auto;top:auto;width:240px!important;position:relative;box-shadow:none;-webkit-box-shadow:none}.et-menu-nav li.mega-menu li ul{visibility:visible;opacity:1;display:none}.et-menu-nav li.mega-menu.et-hover li ul,.et-menu-nav li.mega-menu:hover li ul{display:block}.et-menu-nav li.mega-menu:hover>ul{opacity:1!important;visibility:visible!important}.et-menu-nav li.mega-menu>ul>li>a:first-child{padding-top:0!important;font-weight:700;border-bottom:1px solid rgba(0,0,0,.03)}.et-menu-nav li.mega-menu>ul>li>a:first-child:hover{background-color:transparent!important}.et-menu-nav li.mega-menu li>a{width:200px!important}.et-menu-nav li.mega-menu.mega-menu-parent li>a,.et-menu-nav li.mega-menu.mega-menu-parent li li{width:100%!important}.et-menu-nav li.mega-menu.mega-menu-parent li>.sub-menu{float:left;width:100%!important}.et-menu-nav li.mega-menu>ul>li{width:25%;margin:0}.et-menu-nav li.mega-menu.mega-menu-parent-3>ul>li{width:33.33%}.et-menu-nav li.mega-menu.mega-menu-parent-2>ul>li{width:50%}.et-menu-nav li.mega-menu.mega-menu-parent-1>ul>li{width:100%}.et_pb_fullwidth_menu li.mega-menu .menu-item-has-children>a:first-child:after,.et_pb_menu li.mega-menu .menu-item-has-children>a:first-child:after{display:none}.et_fullwidth_nav #top-menu li.mega-menu>ul{width:auto;left:30px!important;right:30px!important}.et_mobile_menu{position:absolute;left:0;padding:5%;background:#fff;width:100%;visibility:visible;opacity:1;display:none;z-index:9999;border-top:3px solid #2ea3f2;box-shadow:0 2px 5px rgba(0,0,0,.1);-moz-box-shadow:0 2px 5px rgba(0,0,0,.1);-webkit-box-shadow:0 2px 5px rgba(0,0,0,.1)}#main-header .et_mobile_menu li ul,.et_pb_fullwidth_menu .et_mobile_menu li ul,.et_pb_menu .et_mobile_menu li ul{visibility:visible!important;display:block!important;padding-left:10px}.et_mobile_menu li li{padding-left:5%}.et_mobile_menu li a{border-bottom:1px solid rgba(0,0,0,.03);color:#666;padding:10px 5%;display:block}.et_mobile_menu .menu-item-has-children>a{font-weight:700;background-color:rgba(0,0,0,.03)}.et_mobile_menu li .menu-item-has-children>a{background-color:transparent}.et_mobile_nav_menu{float:right;display:none}.mobile_menu_bar{position:relative;display:block;line-height:0}.mobile_menu_bar:before{content:\"a\";font-size:32px;position:relative;left:0;top:0;cursor:pointer}.et_pb_module .mobile_menu_bar:before{top:2px}.mobile_nav .select_page{display:none}\n",
            "#et-secondary-menu li{word-wrap:break-word}#top-header,#et-secondary-nav li ul{background-color:#2EA3F2}#top-header{font-size:12px;line-height:13px;z-index:100000;color:#ffffff}#top-header a,#top-header a{color:#ffffff}#top-header,#et-secondary-nav{-webkit-transition:background-color 0.4s, opacity 0.4s ease-in-out, -webkit-transform 0.4s;transition:background-color 0.4s, opacity 0.4s ease-in-out, -webkit-transform 0.4s;transition:background-color 0.4s, transform 0.4s, opacity 0.4s ease-in-out;transition:background-color 0.4s, transform 0.4s, opacity 0.4s ease-in-out, -webkit-transform 0.4s}#top-header .container{padding-top:.75em;font-weight:600}#top-header,#top-header .container,#top-header #et-info,#top-header .et-social-icon a{line-height:1em}.et_fixed_nav #top-header{top:0;left:0;right:0;position:fixed}#et-info{float:left}#et-info-phone,#et-info-email{position:relative}#et-info-phone:before{content:\"\\e090\";position:relative;top:2px;margin-right:2px}#et-info-phone{margin-right:13px}#et-info-email:before{content:\"\\e076\";margin-right:4px}#top-header .et-social-icons{float:none;display:inline-block}#et-secondary-menu .et-social-icons{margin-right:20px}#top-header .et-social-icons li{margin-left:12px;margin-top:-2px}#top-header .et-social-icon a{font-size:14px}#et-secondary-menu{float:right}#et-info,#et-secondary-menu>ul>li a{padding-bottom:.75em;display:block}#et-secondary-nav,#et-secondary-nav li{display:inline-block}#et-secondary-nav a{-webkit-transition:background-color 0.4s, color 0.4s ease-in-out;transition:background-color 0.4s, color 0.4s ease-in-out}#et-secondary-nav li{margin-right:15px}#et-secondary-nav>li:last-child{margin-right:0}#et-secondary-menu>ul>li>a:hover,#et-info-email:hover{opacity:0.7;-webkit-transition:all 0.4s ease-in-out;transition:all 0.4s ease-in-out}#et-secondary-nav li{position:relative;text-align:right}#et-secondary-nav li ul{position:absolute;right:0;padding:1em 0}#et-secondary-nav li ul ul{right:220px;top:0;margin-top:-1em}#et-secondary-nav li ul li{display:block}#et-secondary-nav li ul{z-index:999999;visibility:hidden;opacity:0;-webkit-box-shadow:0 2px 5px rgba(0,0,0,0.1);box-shadow:0 2px 5px rgba(0,0,0,0.1)}#et-secondary-nav li ul{-webkit-transform:translate3d(0, 0, 0)}#et-secondary-nav li.et-hover>ul{visibility:visible}#et-secondary-nav li>ul{width:220px}#et-secondary-nav li:hover>ul,#et-secondary-nav li.et-touch-hover>ul{opacity:1;visibility:visible}#et-secondary-nav li li{padding:0 2em;margin:0}#et-secondary-nav li li a{padding:1em;width:100%;font-size:12px;line-height:1em;margin-right:0;display:block;-webkit-transition:all 0.2s ease-in-out;transition:all 0.2s ease-in-out}#et-secondary-nav ul li a:hover{background-color:rgba(0,0,0,0.03)}#et-secondary-nav li:hover{visibility:inherit}#top-header .et-cart-info{margin-left:15px}#et-secondary-nav .menu-item-has-children>a:first-child:after{top:0}#et-secondary-nav li .menu-item-has-children>a:first-child:after{top:.67em;right:auto;left:2.3em}body.admin-bar.et_fixed_nav #top-header{top:32px}body.et-wp-pre-3_8.admin-bar.et_fixed_nav #top-header{top:28px}@media all and (min-width: 981px){.et_fullwidth_secondary_nav #top-header .container{width:100%;max-width:100%;padding-right:30px;padding-left:30px}.et_hide_nav.et_fixed_nav #top-header{opacity:0}.et_hide_nav.et_fixed_nav .et-fixed-header#top-header{-webkit-transform:translateY(0px) !important;transform:translateY(0px) !important;opacity:1}.et_hide_nav.et_fixed_nav #top-header,.et_hide_nav.et_fixed_nav #top-header{-webkit-transition-duration:.7s;transition-duration:.7s}}@media all and (max-width: 980px){.et_fixed_nav.et_show_nav.et_secondary_nav_enabled.et-tb #page-container,.et_fixed_nav.et_show_nav.et_secondary_nav_enabled.et-tb-has-header #page-container{padding-top:0 !important}.et_secondary_nav_only_menu #top-header{display:none}#top-header{-webkit-transition:none;transition:none}.et_fixed_nav #top-header{position:absolute}.et_hide_nav.et_fixed_nav #top-header{-webkit-transform:translateY(0px) !important;transform:translateY(0px) !important;opacity:1}#top-header .container{padding-top:0}#et-info{padding-top:0.75em}#et-secondary-nav,#et-secondary-menu{display:none !important}.et_secondary_nav_only_menu #main-header,.et_secondary_nav_only_menu #main-header{top:0 !important}#top-header .et-social-icons{margin-bottom:0}#top-header .et-cart-info{margin-left:0}}@media screen and (max-width: 782px){body.admin-bar.et_fixed_nav #top-header{top:46px}.et_fixed_nav.et_secondary_nav_only_menu.admin-bar #main-header{top:46px !important}body.admin-bar.et_fixed_nav.et_secondary_nav_enabled #main-header{top:80px}}@media all and (max-width: 767px){#et-info .et-social-icons{display:none}#et-secondary-menu .et_duplicate_social_icons{display:inline-block}body.et_fixed_nav.et_secondary_nav_two_panels #main-header{top:58px}#et-info,#et-secondary-menu{text-align:center;display:block;float:none}.et_secondary_nav_two_panels #et-secondary-menu{margin-top:12px}body.admin-bar.et_fixed_nav #top-header{top:46px}body.admin-bar.et_fixed_nav.et_secondary_nav_two_panels #main-header{top:104px}}\n",
            ".footer-widget h4,#main-footer .widget_block h1,#main-footer .widget_block h2,#main-footer .widget_block h3,#main-footer .widget_block h4,#main-footer .widget_block h5,#main-footer .widget_block h6{color:#2EA3F2}.footer-widget li:before{border-color:#2EA3F2}.bottom-nav li.current-menu-item>a{color:#2EA3F2}#main-footer{background-color:#222222}#footer-widgets{padding:6% 0 0}.footer-widget{float:left;color:#fff}.last{margin-right:0}.footer-widget .fwidget:last-child{margin-bottom:0 !important}#footer-widgets .footer-widget li{padding-left:14px;position:relative}#footer-widgets .footer-widget li:before{border-radius:3px;border-style:solid;border-width:3px;content:\"\";left:0;position:absolute;top:9px}#footer-widgets .footer-widget a{color:#fff}#footer-widgets .footer-widget li a{color:#fff;text-decoration:none}#footer-widgets .footer-widget li a:hover{color:rgba(255,255,255,0.7)}.footer-widget .widget_adsensewidget ins{min-width:160px}#footer-bottom{background-color:#1f1f1f;background-color:rgba(0,0,0,0.32);padding:15px 0 5px}#footer-bottom a{-webkit-transition:all 0.4s ease-in-out;transition:all 0.4s ease-in-out}#footer-info{text-align:left;color:#666;padding-bottom:10px;float:left}#footer-info a{font-weight:700;color:#666}#footer-info a:hover{opacity:.7}#et-footer-nav{background-color:rgba(255,255,255,0.05)}.bottom-nav{padding:15px 0}.bottom-nav li{font-weight:600;display:inline-block;font-size:14px;padding-right:22px}.bottom-nav a{color:#bbb;-webkit-transition:all 0.4s ease-in-out;transition:all 0.4s ease-in-out}.bottom-nav a:hover{opacity:.7}@media all and (max-width: 980px){.footer-widget:nth-child(n){width:46.25% !important;margin:0 7.5% 7.5% 0 !important}.et_pb_footer_columns1 .footer-widget{width:100% !important;margin:0 7.5% 7.5% 0 !important}#footer-widgets .footer-widget .fwidget{margin-bottom:16.21%}.et_pb_gutters1 .footer-widget:nth-child(n){width:50% !important;margin:0 !important}.et_pb_gutters1 #footer-widgets .footer-widget .fwidget{margin-bottom:0}#footer-widgets{padding:8% 0}#footer-widgets .footer-widget:nth-child(2n){margin-right:0 !important}#footer-widgets .footer-widget:nth-last-child(-n+2){margin-bottom:0 !important}.bottom-nav{text-align:center}#footer-info{float:none;text-align:center}}@media all and (max-width: 767px){#footer-widgets .footer-widget,.et_pb_gutters1 #footer-widgets .footer-widget{width:100% !important;margin-right:0 !important}#footer-widgets .footer-widget:nth-child(n),#footer-widgets .footer-widget .fwidget{margin-bottom:9.5% !important}.et_pb_gutters1 #footer-widgets .footer-widget:nth-child(n),.et_pb_gutters1 #footer-widgets .footer-widget .fwidget{margin-bottom:0 !important}#footer-widgets{padding:10% 0}#footer-widgets .footer-widget .fwidget:last-child{margin-bottom:0 !important}#footer-widgets .footer-widget:last-child{margin-bottom:0 !important}}@media all and (max-width: 479px){#footer-widgets .footer-widget:nth-child(n),.footer-widget .fwidget{margin-bottom:11.5% !important}#footer-widgets .footer-widget.last{margin-bottom:0 !important}.et_pb_gutters1 #footer-widgets .footer-widget:nth-child(n),.et_pb_gutters1 #footer-widgets .footer-widget .fwidget{margin-bottom:0 !important}#footer-widgets{padding:12% 0}}\n",
            "@media all and (min-width: 981px){.et_pb_gutters3 .footer-widget{margin-right:5.5%;margin-bottom:5.5%}.et_pb_gutters3 .footer-widget:last-child{margin-right:0}.et_pb_gutters3.et_pb_footer_columns6 .footer-widget{width:12.083%}.et_pb_gutters3.et_pb_footer_columns6 .footer-widget .fwidget{margin-bottom:45.517%}.et_pb_gutters3.et_pb_footer_columns5 .footer-widget{width:15.6%}.et_pb_gutters3.et_pb_footer_columns5 .footer-widget .fwidget{margin-bottom:35.256%}.et_pb_gutters3.et_pb_footer_columns4 .footer-widget{width:20.875%}.et_pb_gutters3.et_pb_footer_columns4 .footer-widget .fwidget{margin-bottom:26.347%}.et_pb_gutters3.et_pb_footer_columns3 .footer-widget{width:29.667%}.et_pb_gutters3.et_pb_footer_columns3 .footer-widget .fwidget{margin-bottom:18.539%}.et_pb_gutters3.et_pb_footer_columns2 .footer-widget{width:47.25%}.et_pb_gutters3.et_pb_footer_columns2 .footer-widget .fwidget{margin-bottom:11.64%}.et_pb_gutters3.et_pb_footer_columns1 .footer-widget{width:100%}.et_pb_gutters3.et_pb_footer_columns1 .footer-widget .fwidget{margin-bottom:5.5%}.et_pb_gutters3.et_pb_footer_columns_3_4__1_4 .footer-widget:nth-child(1){width:73.625%;clear:both}.et_pb_gutters3.et_pb_footer_columns_3_4__1_4 .footer-widget:nth-child(1) .fwidget{margin-bottom:7.47%}.et_pb_gutters3.et_pb_footer_columns_3_4__1_4 .footer-widget:nth-child(2){width:20.875%}.et_pb_gutters3.et_pb_footer_columns_3_4__1_4 .footer-widget:nth-child(2) .fwidget{margin-bottom:26.347%}.et_pb_gutters3.et_pb_footer_columns_1_4__3_4 .footer-widget:nth-child(1){width:20.875%;clear:both}.et_pb_gutters3.et_pb_footer_columns_1_4__3_4 .footer-widget:nth-child(1) .fwidget{margin-bottom:26.347%}.et_pb_gutters3.et_pb_footer_columns_1_4__3_4 .footer-widget:nth-child(2){width:73.625%}.et_pb_gutters3.et_pb_footer_columns_1_4__3_4 .footer-widget:nth-child(2) .fwidget{margin-bottom:7.47%}.et_pb_gutters3.et_pb_footer_columns_2_3__1_3 .footer-widget:nth-child(1){width:64.833%}.et_pb_gutters3.et_pb_footer_columns_2_3__1_3 .footer-widget:nth-child(1) .fwidget{margin-bottom:8.483%}.et_pb_gutters3.et_pb_footer_columns_2_3__1_3 .footer-widget:nth-child(2){width:29.667%}.et_pb_gutters3.et_pb_footer_columns_2_3__1_3 .footer-widget:nth-child(2) .fwidget{margin-bottom:18.539%}.et_pb_gutters3.et_pb_footer_columns_1_3__2_3 .footer-widget:nth-child(1){width:29.667%}.et_pb_gutters3.et_pb_footer_columns_1_3__2_3 .footer-widget:nth-child(1) .fwidget{margin-bottom:18.539%}.et_pb_gutters3.et_pb_footer_columns_1_3__2_3 .footer-widget:nth-child(2){width:64.833%}.et_pb_gutters3.et_pb_footer_columns_1_3__2_3 .footer-widget:nth-child(2) .fwidget{margin-bottom:8.483%}.et_pb_gutters3.et_pb_footer_columns_1_4__1_2 .footer-widget:nth-child(-n+2){width:20.875%}.et_pb_gutters3.et_pb_footer_columns_1_4__1_2 .footer-widget:nth-child(-n+2) .fwidget{margin-bottom:26.347%}.et_pb_gutters3.et_pb_footer_columns_1_4__1_2 .footer-widget:nth-child(3){width:47.25%}.et_pb_gutters3.et_pb_footer_columns_1_4__1_2 .footer-widget:nth-child(3) .fwidget{margin-bottom:11.64%}.et_pb_gutters3.et_pb_footer_columns_1_2__1_4 .footer-widget:first-child{width:47.25%}.et_pb_gutters3.et_pb_footer_columns_1_2__1_4 .footer-widget:first-child .fwidget{margin-bottom:11.64%}.et_pb_gutters3.et_pb_footer_columns_1_2__1_4 .footer-widget:nth-child(-n+3):not(:nth-child(1)){width:20.875%}.et_pb_gutters3.et_pb_footer_columns_1_2__1_4 .footer-widget:nth-child(-n+3):not(:nth-child(1)) .fwidget{margin-bottom:26.347%}.et_pb_gutters3.et_pb_footer_columns_1_5__3_5 .footer-widget:nth-child(-n+2){width:15.6%}.et_pb_gutters3.et_pb_footer_columns_1_5__3_5 .footer-widget:nth-child(-n+2) .fwidget{margin-bottom:35.256%}.et_pb_gutters3.et_pb_footer_columns_1_5__3_5 .footer-widget:nth-child(3){width:57.8%}.et_pb_gutters3.et_pb_footer_columns_1_5__3_5 .footer-widget:nth-child(3) .fwidget{margin-bottom:9.516%}.et_pb_gutters3.et_pb_footer_columns_3_5__1_5 .footer-widget:first-child{width:57.8%}.et_pb_gutters3.et_pb_footer_columns_3_5__1_5 .footer-widget:first-child .fwidget{margin-bottom:9.516%}.et_pb_gutters3.et_pb_footer_columns_3_5__1_5 .footer-widget:nth-child(-n+3):not(:nth-child(1)){width:15.6%}.et_pb_gutters3.et_pb_footer_columns_3_5__1_5 .footer-widget:nth-child(-n+3):not(:nth-child(1)) .fwidget{margin-bottom:35.256%}.et_pb_gutters3.et_pb_footer_columns_3_5__2_5 .footer-widget:nth-child(1){width:57.8%}.et_pb_gutters3.et_pb_footer_columns_3_5__2_5 .footer-widget:nth-child(1) .fwidget{margin-bottom:9.516%}.et_pb_gutters3.et_pb_footer_columns_3_5__2_5 .footer-widget:nth-child(2){width:36.7%}.et_pb_gutters3.et_pb_footer_columns_3_5__2_5 .footer-widget:nth-child(2) .fwidget{margin-bottom:14.986%}.et_pb_gutters3.et_pb_footer_columns_2_5__3_5 .footer-widget:nth-child(1){width:36.7%}.et_pb_gutters3.et_pb_footer_columns_2_5__3_5 .footer-widget:nth-child(1) .fwidget{margin-bottom:14.986%}.et_pb_gutters3.et_pb_footer_columns_2_5__3_5 .footer-widget:nth-child(2){width:57.8%}.et_pb_gutters3.et_pb_footer_columns_2_5__3_5 .footer-widget:nth-child(2) .fwidget{margin-bottom:9.516%}.et_pb_gutters3.et_pb_footer_columns_1_2__1_6 .footer-widget:first-child{width:47.25%}.et_pb_gutters3.et_pb_footer_columns_1_2__1_6 .footer-widget:first-child .fwidget{margin-bottom:11.64%}.et_pb_gutters3.et_pb_footer_columns_1_2__1_6 .footer-widget:nth-child(-n+4):not(:nth-child(1)){width:12.083%}.et_pb_gutters3.et_pb_footer_columns_1_2__1_6 .footer-widget:nth-child(-n+4):not(:nth-child(1)) .fwidget{margin-bottom:45.517%}.et_pb_gutters3.et_pb_footer_columns_1_6__1_2 .footer-widget:nth-child(-n+3){width:12.083%}.et_pb_gutters3.et_pb_footer_columns_1_6__1_2 .footer-widget:nth-child(-n+3) .fwidget{margin-bottom:45.517%}.et_pb_gutters3.et_pb_footer_columns_1_6__1_2 .footer-widget:nth-child(4){width:47.25%}.et_pb_gutters3.et_pb_footer_columns_1_6__1_2 .footer-widget:nth-child(4) .fwidget{margin-bottom:11.64%}.et_pb_gutters3.et_pb_footer_columns_1_4_1_2_1_4 .footer-widget:nth-child(-n+3):not(:nth-child(2)){width:20.875%}.et_pb_gutters3.et_pb_footer_columns_1_4_1_2_1_4 .footer-widget:nth-child(-n+3):not(:nth-child(2)) .fwidget{margin-bottom:26.347%}.et_pb_gutters3.et_pb_footer_columns_1_4_1_2_1_4 .footer-widget:nth-child(2){width:47.25%}.et_pb_gutters3.et_pb_footer_columns_1_4_1_2_1_4 .footer-widget:nth-child(2) .fwidget{margin-bottom:11.64%}.et_pb_gutters3.et_pb_footer_columns_1_5_3_5_1_5 .footer-widget:nth-child(-n+3):not(:nth-child(2)){width:15.6%}.et_pb_gutters3.et_pb_footer_columns_1_5_3_5_1_5 .footer-widget:nth-child(-n+3):not(:nth-child(2)) .fwidget{margin-bottom:35.256%}.et_pb_gutters3.et_pb_footer_columns_1_5_3_5_1_5 .footer-widget:nth-child(2){width:57.8%}.et_pb_gutters3.et_pb_footer_columns_1_5_3_5_1_5 .footer-widget:nth-child(2) .fwidget{margin-bottom:9.516%}}\n",
            ".et-social-icons{float:right}.et-social-icons li{display:inline-block;margin-left:20px}.et-social-icon a{display:inline-block;font-size:24px;position:relative;text-align:center;-webkit-transition:color 300ms ease 0s;transition:color 300ms ease 0s;color:#666;text-decoration:none}.et-social-icons a:hover{opacity:0.7;-webkit-transition:all 0.4s ease-in-out;transition:all 0.4s ease-in-out}.et-social-icon span{display:none}.et_duplicate_social_icons{display:none}@media all and (max-width: 980px){.et-social-icons{float:none;text-align:center}}@media all and (max-width: 980px){.et-social-icons{margin:0 0 5px}}\n",
            ".et_pb_widget{float:left;max-width:100%;word-wrap:break-word}.et_pb_widget a{text-decoration:none;color:#666}.et_pb_widget li a:hover{color:#82c0c7}.et_pb_widget ol li,.et_pb_widget ul li{margin-bottom:.5em}.et_pb_widget ol li ol li,.et_pb_widget ul li ul li{margin-left:15px}.et_pb_widget select{width:100%;height:28px;padding:0 5px}.et_pb_widget_area .et_pb_widget a{color:inherit}.et_pb_bg_layout_light .et_pb_widget li a{color:#666}.et_pb_bg_layout_dark .et_pb_widget li a{color:inherit}\n",
            ".widget_search .screen-reader-text,.et_pb_widget .wp-block-search__label{display:none}.widget_search input#s,.widget_search input#searchsubmit,.et_pb_widget .wp-block-search__input,.et_pb_widget .wp-block-search__button{padding:.7em;height:40px !important;margin:0;font-size:14px;line-height:normal !important;border:1px solid #ddd;color:#666}.widget_search #s,.et_pb_widget .wp-block-search__input{width:100%;border-radius:3px}.widget_search #searchform,.et_pb_widget .wp-block-search{position:relative}.widget_search #searchsubmit,.et_pb_widget .wp-block-search__button{background-color:#ddd;-webkit-border-top-right-radius:3px;-webkit-border-bottom-right-radius:3px;-moz-border-radius-topright:3px;-moz-border-radius-bottomright:3px;border-top-right-radius:3px;border-bottom-right-radius:3px;position:absolute;right:0;top:0}#searchsubmit,.et_pb_widget .wp-block-search__button{cursor:pointer}\n",
            ".et_pb_scroll_top.et-pb-icon{text-align:center;background:rgba(0,0,0,0.4);text-decoration:none;position:fixed;z-index:99999;bottom:125px;right:0px;-webkit-border-top-left-radius:5px;-webkit-border-bottom-left-radius:5px;-moz-border-radius-topleft:5px;-moz-border-radius-bottomleft:5px;border-top-left-radius:5px;border-bottom-left-radius:5px;display:none;cursor:pointer;font-size:30px;padding:5px;color:#fff}.et_pb_scroll_top:before{content:'2'}.et_pb_scroll_top.et-visible{opacity:1;-webkit-animation:fadeInRight 1s 1 cubic-bezier(0.77, 0, 0.175, 1);animation:fadeInRight 1s 1 cubic-bezier(0.77, 0, 0.175, 1)}.et_pb_scroll_top.et-hidden{opacity:0;-webkit-animation:fadeOutRight 1s 1 cubic-bezier(0.77, 0, 0.175, 1);animation:fadeOutRight 1s 1 cubic-bezier(0.77, 0, 0.175, 1)}@-webkit-keyframes fadeOutRight{0%{opacity:1;-webkit-transform:translateX(0);transform:translateX(0)}100%{opacity:0;-webkit-transform:translateX(100%);transform:translateX(100%)}}@keyframes fadeOutRight{0%{opacity:1;-webkit-transform:translateX(0);transform:translateX(0)}100%{opacity:0;-webkit-transform:translateX(100%);transform:translateX(100%)}}@-webkit-keyframes fadeInRight{0%{opacity:0;-webkit-transform:translateX(100%);transform:translateX(100%)}100%{opacity:1;-webkit-transform:translateX(0);transform:translateX(0)}}@keyframes fadeInRight{0%{opacity:0;-webkit-transform:translateX(100%);transform:translateX(100%)}100%{opacity:1;-webkit-transform:translateX(0);transform:translateX(0)}}\n",
            ".et_pb_section{position:relative;background-color:#fff;background-position:50%;background-size:100%;background-size:cover}.et_pb_section--absolute,.et_pb_section--fixed{width:100%}.et_pb_section.et_section_transparent{background-color:transparent}.et_pb_fullwidth_section{padding:0}.et_pb_fullwidth_section>.et_pb_module:not(.et_pb_post_content):not(.et_pb_fullwidth_post_content) .et_pb_row{padding:0!important}.et_pb_inner_shadow{-webkit-box-shadow:inset 0 0 7px rgba(0,0,0,.07);box-shadow:inset 0 0 7px rgba(0,0,0,.07)}.et_pb_bottom_inside_divider,.et_pb_top_inside_divider{display:block;background-repeat-y:no-repeat;height:100%;position:absolute;pointer-events:none;width:100%;left:0;right:0}.et_pb_bottom_inside_divider.et-no-transition,.et_pb_top_inside_divider.et-no-transition{-webkit-transition:none!important;transition:none!important}.et-fb .section_has_divider.et_fb_element_controls_visible--child>.et_pb_bottom_inside_divider,.et-fb .section_has_divider.et_fb_element_controls_visible--child>.et_pb_top_inside_divider{z-index:1}.et_pb_section_video:not(.et_pb_section--with-menu){overflow:hidden;position:relative}.et_pb_column>.et_pb_section_video_bg{z-index:-1}.et_pb_section_video_bg{visibility:visible;position:absolute;top:0;left:0;width:100%;height:100%;overflow:hidden;display:block;pointer-events:none;-webkit-transition:display .3s;transition:display .3s}.et_pb_section_video_bg.et_pb_section_video_bg_hover,.et_pb_section_video_bg.et_pb_section_video_bg_phone,.et_pb_section_video_bg.et_pb_section_video_bg_tablet,.et_pb_section_video_bg.et_pb_section_video_bg_tablet_only{display:none}.et_pb_section_video_bg .mejs-controls,.et_pb_section_video_bg .mejs-overlay-play{display:none!important}.et_pb_section_video_bg embed,.et_pb_section_video_bg iframe,.et_pb_section_video_bg object,.et_pb_section_video_bg video{max-width:none}.et_pb_section_video_bg .mejs-video{left:50%;position:absolute;max-width:none}.et_pb_section_video_bg .mejs-overlay-loading{display:none!important}.et_pb_social_network_link .et_pb_section_video{overflow:visible}.et_pb_section_video_on_hover:hover>.et_pb_section_video_bg{display:none}.et_pb_section_video_on_hover:hover>.et_pb_section_video_bg_hover,.et_pb_section_video_on_hover:hover>.et_pb_section_video_bg_hover_inherit{display:block}@media (min-width:981px){.et_pb_section{padding:4% 0}body.et_pb_pagebuilder_layout.et_pb_show_title .post-password-required .et_pb_section,body:not(.et_pb_pagebuilder_layout) .post-password-required .et_pb_section{padding-top:0}.et_pb_fullwidth_section{padding:0}.et_pb_section_video_bg.et_pb_section_video_bg_desktop_only{display:block}}@media (max-width:980px){.et_pb_section{padding:50px 0}body.et_pb_pagebuilder_layout.et_pb_show_title .post-password-required .et_pb_section,body:not(.et_pb_pagebuilder_layout) .post-password-required .et_pb_section{padding-top:0}.et_pb_fullwidth_section{padding:0}.et_pb_section_video_bg.et_pb_section_video_bg_tablet{display:block}.et_pb_section_video_bg.et_pb_section_video_bg_desktop_only{display:none}}@media (min-width:768px){.et_pb_section_video_bg.et_pb_section_video_bg_desktop_tablet{display:block}}@media (min-width:768px) and (max-width:980px){.et_pb_section_video_bg.et_pb_section_video_bg_tablet_only{display:block}}@media (max-width:767px){.et_pb_section_video_bg.et_pb_section_video_bg_phone{display:block}.et_pb_section_video_bg.et_pb_section_video_bg_desktop_tablet{display:none}}\n",
            ".et_pb_row{width:80%;max-width:1080px;margin:auto;position:relative}body.safari .section_has_divider,body.uiwebview .section_has_divider{-webkit-perspective:2000px;perspective:2000px}.section_has_divider .et_pb_row{z-index:5}.et_pb_row_inner{width:100%;position:relative}.et_pb_row.et_pb_row_empty,.et_pb_row_inner:nth-of-type(n+2).et_pb_row_empty{display:none}.et_pb_row:after,.et_pb_row_inner:after{content:\"\";display:block;clear:both;visibility:hidden;line-height:0;height:0;width:0}.et_pb_row_4col .et-last-child,.et_pb_row_4col .et-last-child-2,.et_pb_row_6col .et-last-child,.et_pb_row_6col .et-last-child-2,.et_pb_row_6col .et-last-child-3{margin-bottom:0}.et_pb_column{float:left;background-size:cover;background-position:50%;position:relative;z-index:2;min-height:1px}.et_pb_column--with-menu{z-index:3}.et_pb_column.et_pb_column_empty{min-height:1px}.et_pb_row .et_pb_column.et-last-child,.et_pb_row .et_pb_column:last-child,.et_pb_row_inner .et_pb_column.et-last-child,.et_pb_row_inner .et_pb_column:last-child{margin-right:0!important}.et_pb_column.et_pb_section_parallax{position:relative}.et_pb_column,.et_pb_row,.et_pb_row_inner{background-size:cover;background-position:50%;background-repeat:no-repeat}@media (min-width:981px){.et_pb_row{padding:2% 0}body.et_pb_pagebuilder_layout.et_pb_show_title .post-password-required .et_pb_row,body:not(.et_pb_pagebuilder_layout) .post-password-required .et_pb_row{padding:0;width:100%}.et_pb_column_3_4 .et_pb_row_inner{padding:3.735% 0}.et_pb_column_2_3 .et_pb_row_inner{padding:4.2415% 0}.et_pb_column_1_2 .et_pb_row_inner,.et_pb_column_3_5 .et_pb_row_inner{padding:5.82% 0}.et_section_specialty>.et_pb_row{padding:0}.et_pb_row_inner{width:100%}.et_pb_column_single{padding:2.855% 0}.et_pb_column_single .et_pb_module.et-first-child,.et_pb_column_single .et_pb_module:first-child{margin-top:0}.et_pb_column_single .et_pb_module.et-last-child,.et_pb_column_single .et_pb_module:last-child{margin-bottom:0}.et_pb_row .et_pb_column.et-last-child,.et_pb_row .et_pb_column:last-child,.et_pb_row_inner .et_pb_column.et-last-child,.et_pb_row_inner .et_pb_column:last-child{margin-right:0!important}.et_pb_row.et_pb_equal_columns,.et_pb_row_inner.et_pb_equal_columns,.et_pb_section.et_pb_equal_columns>.et_pb_row{display:-webkit-box;display:-ms-flexbox;display:flex}.rtl .et_pb_row.et_pb_equal_columns,.rtl .et_pb_row_inner.et_pb_equal_columns,.rtl .et_pb_section.et_pb_equal_columns>.et_pb_row{-webkit-box-orient:horizontal;-webkit-box-direction:reverse;-ms-flex-direction:row-reverse;flex-direction:row-reverse}.et_pb_row.et_pb_equal_columns>.et_pb_column,.et_pb_section.et_pb_equal_columns>.et_pb_row>.et_pb_column{-webkit-box-ordinal-group:2;-ms-flex-order:1;order:1}}@media (max-width:980px){.et_pb_row{max-width:1080px}body.et_pb_pagebuilder_layout.et_pb_show_title .post-password-required .et_pb_row,body:not(.et_pb_pagebuilder_layout) .post-password-required .et_pb_row{padding:0;width:100%}.et_pb_column .et_pb_row_inner,.et_pb_row{padding:30px 0}.et_section_specialty>.et_pb_row{padding:0}.et_pb_column{width:100%;margin-bottom:30px}.et_pb_bottom_divider .et_pb_row:nth-last-child(2) .et_pb_column:last-child,.et_pb_row .et_pb_column.et-last-child,.et_pb_row .et_pb_column:last-child{margin-bottom:0}.et_section_specialty .et_pb_row>.et_pb_column{padding-bottom:0}.et_pb_column.et_pb_column_empty{display:none}.et_pb_row_1-2_1-4_1-4,.et_pb_row_1-2_1-6_1-6_1-6,.et_pb_row_1-4_1-4,.et_pb_row_1-4_1-4_1-2,.et_pb_row_1-5_1-5_3-5,.et_pb_row_1-6_1-6_1-6,.et_pb_row_1-6_1-6_1-6_1-2,.et_pb_row_1-6_1-6_1-6_1-6,.et_pb_row_3-5_1-5_1-5,.et_pb_row_4col,.et_pb_row_5col,.et_pb_row_6col{display:-webkit-box;display:-ms-flexbox;display:flex;-ms-flex-wrap:wrap;flex-wrap:wrap}.et_pb_row_1-4_1-4>.et_pb_column.et_pb_column_1_4,.et_pb_row_1-4_1-4_1-2>.et_pb_column.et_pb_column_1_4,.et_pb_row_4col>.et_pb_column.et_pb_column_1_4{width:47.25%;margin-right:5.5%}.et_pb_row_1-4_1-4>.et_pb_column.et_pb_column_1_4:nth-child(2n),.et_pb_row_1-4_1-4_1-2>.et_pb_column.et_pb_column_1_4:nth-child(2n),.et_pb_row_4col>.et_pb_column.et_pb_column_1_4:nth-child(2n){margin-right:0}.et_pb_row_1-2_1-4_1-4>.et_pb_column.et_pb_column_1_4{width:47.25%;margin-right:5.5%}.et_pb_row_1-2_1-4_1-4>.et_pb_column.et_pb_column_1_2,.et_pb_row_1-2_1-4_1-4>.et_pb_column.et_pb_column_1_4:nth-child(odd){margin-right:0}.et_pb_row_1-2_1-4_1-4 .et_pb_column:nth-last-child(-n+2),.et_pb_row_1-4_1-4 .et_pb_column:nth-last-child(-n+2),.et_pb_row_4col .et_pb_column:nth-last-child(-n+2){margin-bottom:0}.et_pb_row_1-5_1-5_3-5>.et_pb_column.et_pb_column_1_5,.et_pb_row_5col>.et_pb_column.et_pb_column_1_5{width:47.25%;margin-right:5.5%}.et_pb_row_1-5_1-5_3-5>.et_pb_column.et_pb_column_1_5:nth-child(2n),.et_pb_row_5col>.et_pb_column.et_pb_column_1_5:nth-child(2n){margin-right:0}.et_pb_row_3-5_1-5_1-5>.et_pb_column.et_pb_column_1_5{width:47.25%;margin-right:5.5%}.et_pb_row_3-5_1-5_1-5>.et_pb_column.et_pb_column_1_5:nth-child(odd),.et_pb_row_3-5_1-5_1-5>.et_pb_column.et_pb_column_3_5{margin-right:0}.et_pb_row_3-5_1-5_1-5 .et_pb_column:nth-last-child(-n+2),.et_pb_row_5col .et_pb_column:last-child{margin-bottom:0}.et_pb_row_1-6_1-6_1-6_1-2>.et_pb_column.et_pb_column_1_6,.et_pb_row_6col>.et_pb_column.et_pb_column_1_6{width:29.666%;margin-right:5.5%}.et_pb_row_1-6_1-6_1-6_1-2>.et_pb_column.et_pb_column_1_6:nth-child(3n),.et_pb_row_6col>.et_pb_column.et_pb_column_1_6:nth-child(3n){margin-right:0}.et_pb_row_1-2_1-6_1-6_1-6>.et_pb_column.et_pb_column_1_6{width:29.666%;margin-right:5.5%}.et_pb_row_1-2_1-6_1-6_1-6>.et_pb_column.et_pb_column_1_2,.et_pb_row_1-2_1-6_1-6_1-6>.et_pb_column.et_pb_column_1_6:last-child{margin-right:0}.et_pb_row_1-2_1-2 .et_pb_column.et_pb_column_1_2,.et_pb_row_1-2_1-6_1-6_1-6 .et_pb_column:nth-last-child(-n+3),.et_pb_row_6col .et_pb_column:nth-last-child(-n+3){margin-bottom:0}.et_pb_row_1-2_1-2 .et_pb_column.et_pb_column_1_2 .et_pb_column.et_pb_column_1_6{width:29.666%;margin-right:5.5%;margin-bottom:0}.et_pb_row_1-2_1-2 .et_pb_column.et_pb_column_1_2 .et_pb_column.et_pb_column_1_6:last-child{margin-right:0}.et_pb_row_1-6_1-6_1-6_1-6>.et_pb_column.et_pb_column_1_6{width:47.25%;margin-right:5.5%}.et_pb_row_1-6_1-6_1-6_1-6>.et_pb_column.et_pb_column_1_6:nth-child(2n){margin-right:0}.et_pb_row_1-6_1-6_1-6_1-6:nth-last-child(-n+3){margin-bottom:0}}@media (max-width:479px){.et_pb_row .et_pb_column.et_pb_column_1_4,.et_pb_row .et_pb_column.et_pb_column_1_5,.et_pb_row .et_pb_column.et_pb_column_1_6{width:100%;margin:0 0 30px}.et_pb_row .et_pb_column.et_pb_column_1_4.et-last-child,.et_pb_row .et_pb_column.et_pb_column_1_4:last-child,.et_pb_row .et_pb_column.et_pb_column_1_5.et-last-child,.et_pb_row .et_pb_column.et_pb_column_1_5:last-child,.et_pb_row .et_pb_column.et_pb_column_1_6.et-last-child,.et_pb_row .et_pb_column.et_pb_column_1_6:last-child{margin-bottom:0}.et_pb_row_1-2_1-2 .et_pb_column.et_pb_column_1_2 .et_pb_column.et_pb_column_1_6{width:100%;margin:0 0 30px}.et_pb_row_1-2_1-2 .et_pb_column.et_pb_column_1_2 .et_pb_column.et_pb_column_1_6.et-last-child,.et_pb_row_1-2_1-2 .et_pb_column.et_pb_column_1_2 .et_pb_column.et_pb_column_1_6:last-child{margin-bottom:0}.et_pb_column{width:100%!important}}\n",
            ".et_pb_space{-webkit-box-sizing:content-box;box-sizing:content-box;height:23px}.et_pb_divider_hidden{margin-bottom:0!important}.et_pb_divider_internal{display:inline-block;width:100%}.et_pb_divider{margin:0 0 30px;position:relative}.et_pb_divider:before{content:\"\";width:100%;height:1px;border-top:1px solid rgba(0,0,0,.1);position:absolute;left:0;top:0;z-index:10}.et_pb_divider:after,.et_pb_space:after{content:\"\";display:table}.et_pb_divider_position_bottom:before{top:auto!important;bottom:0!important}.et_pb_divider_position_center:before{top:50%!important}@media (max-width:980px){.et_pb_divider_position_top_tablet:before{top:0!important;bottom:auto!important}.et_pb_divider_position_bottom_tablet:before{top:auto!important;bottom:0!important}.et_pb_divider_position_center_tablet:before{top:50%!important}.et_pb_space.et-hide-mobile{display:none}}@media (max-width:767px){.et_pb_divider_position_top_phone:before{top:0!important;bottom:auto!important}.et_pb_divider_position_bottom_phone:before{top:auto!important;bottom:0!important}.et_pb_divider_position_center_phone:before{top:50%!important}}.ie .et_pb_divider{overflow:visible}\n",
            ".et_pb_text{word-wrap:break-word}.et_pb_text ol,.et_pb_text ul{padding-bottom:1em}.et_pb_text>:last-child{padding-bottom:0}.et_pb_text_inner{position:relative}\n",
            "ul.et_pb_social_media_follow{list-style-type:none!important;margin:0 0 22px;padding:0}.et_pb_social_media_follow li{display:inline-block;margin-bottom:8px;position:relative}.et_pb_social_media_follow li a{margin-right:8px;display:inline-block;text-decoration:none;text-align:center;position:relative}.et_pb_social_media_follow li a.follow_button{padding:0 12px;margin-top:5px;margin-right:25px;font-size:14px;line-height:1.6em;background:rgba(0,0,0,.1);color:rgba(0,0,0,.5);border-radius:3px;border-width:0;border-style:solid;-webkit-transition:all .3s;transition:all .3s}.et_pb_social_media_follow li.last-child a,.et_pb_social_media_follow li:last-child a{margin-right:0}.et_pb_social_media_follow.has_follow_button li.last-child a.icon,.et_pb_social_media_follow.has_follow_button li:last-child a.icon{margin-right:8px}.et_pb_social_media_follow li a.follow_button:hover{background:rgba(0,0,0,.2);color:rgba(0,0,0,.6)}.et_pb_social_media_follow.et_pb_bg_layout_dark li a.follow_button{background:rgba(0,0,0,.6);color:hsla(0,0%,100%,.8)}.et_pb_social_media_follow.et_pb_bg_layout_dark li a.follow_button:hover{background:rgba(0,0,0,.7);color:#fff}.et_pb_social_media_follow li a.icon{height:32px;width:32px;padding:0;-webkit-box-sizing:content-box;box-sizing:content-box}.et_pb_social_media_follow li a.icon:before{height:32px;width:32px;font-size:16px;line-height:32px;display:block;color:#fff;-webkit-transition:color .3s;transition:color .3s;position:relative;z-index:10}.et_pb_social_media_follow li a.icon:hover:before{color:hsla(0,0%,100%,.7)}.et_pb_social_media_follow li a.icon{border-radius:3px}.et_pb_social_media_follow_network_name{display:none}.et_pb_social_icon a.icon{vertical-align:middle}.et_pb_social_icon a.icon:before{font-family:ETmodules;speak:none;font-style:normal;font-weight:400;font-variant:normal;text-transform:none;line-height:1;-webkit-font-smoothing:antialiased;-moz-osx-font-smoothing:grayscale;text-shadow:0 0;direction:ltr}.et-pb-social-fa-icon a.icon:before{font-family:FontAwesome}.et-social-telegram a.icon:before{content:\"\\F3FE\"}.et-social-amazon a.icon:before{content:\"\\F270\"}.et-social-bandcamp a.icon:before{content:\"\\F2D5\"}.et-social-bitbucket a.icon:before{content:\"\\F171\"}.et-social-behance a.icon:before{content:\"\\F1B4\"}.et-social-buffer a.icon:before{content:\"\\F837\"}.et-social-codepen a.icon:before{content:\"\\F1CB\"}.et-social-deviantart a.icon:before{content:\"\\F1BD\"}.et-social-flipboard a.icon:before{content:\"\\F44D\"}.et-social-foursquare a.icon:before{content:\"\\F180\"}.et-social-github a.icon:before{content:\"\\F09B\"}.et-social-goodreads a.icon:before{content:\"\\F3A9\"}.et-social-google a.icon:before{content:\"\\F1A0\"}.et-social-houzz a.icon:before{content:\"\\F27C\"}.et-social-itunes a.icon:before{content:\"\\F3B5\"}.et-social-last_fm a.icon:before{content:\"\\F202\"}.et-social-line a.icon:before{content:\"\\F3C0\"}.et-social-medium a.icon:before,.et-social-meetup a.icon:before{content:\"\\F3C7\"}.et-social-odnoklassniki a.icon:before{content:\"\\F263\"}.et-social-patreon a.icon:before{content:\"\\F3D9\"}.et-social-periscope a.icon:before{content:\"\\F3DA\"}.et-social-quora a.icon:before{content:\"\\F2C4\"}.et-social-researchgate a.icon:before{content:\"\\F4F8\"}.et-social-reddit a.icon:before{content:\"\\F281\"}.et-social-snapchat a.icon:before{content:\"\\F2AC\"}.et-social-soundcloud a.icon:before{content:\"\\F1BE\"}.et-social-spotify a.icon:before{content:\"\\F1BC\"}.et-social-steam a.icon:before{content:\"\\F3F6\"}.et-social-tripadvisor a.icon:before{content:\"\\F262\"}.et-social-tiktok a.icon:before{content:\"\\E07B\"}.et-social-twitch a.icon:before{content:\"\\F1E8\"}.et-social-vk a.icon:before{content:\"\\F189\"}.et-social-weibo a.icon:before{content:\"\\F18A\"}.et-social-whatsapp a.icon:before{content:\"\\F232\"}.et-social-xing a.icon:before{content:\"\\F168\"}.et-social-yelp a.icon:before{content:\"\\F1E9\"}.et-social-pinterest a.icon:before{content:\"\\E095\"}.et-social-linkedin a.icon:before{content:\"\\E09D\"}.et-social-tumblr a.icon:before{content:\"\\E097\"}.et-social-skype a.icon:before{content:\"\\E0A2\"}.et-social-flikr a.icon:before{content:\"\\E0A6\"}.et-social-myspace a.icon:before{content:\"\\E0A1\"}.et-social-dribbble a.icon:before{content:\"\\E09B\"}.et-social-youtube a.icon:before{content:\"\\E0A3\"}.et-social-vimeo a.icon:before{content:\"\\E09C\"}@media (max-width:980px){.et_pb_bg_layout_light_tablet.et_pb_social_media_follow li a.follow_button{background:rgba(0,0,0,.1);color:rgba(0,0,0,.5)}.et_pb_bg_layout_light_tablet.et_pb_social_media_follow li a.follow_button:hover{background:rgba(0,0,0,.2);color:rgba(0,0,0,.6)}.et_pb_bg_layout_dark_tablet.et_pb_social_media_follow li a.follow_button{background:rgba(0,0,0,.6);color:hsla(0,0%,100%,.8)}.et_pb_bg_layout_dark_tablet.et_pb_social_media_follow li a.follow_button:hover{background:rgba(0,0,0,.7);color:#fff}}@media (max-width:767px){.et_pb_bg_layout_light_phone.et_pb_social_media_follow li a.follow_button{background:rgba(0,0,0,.1);color:rgba(0,0,0,.5)}.et_pb_bg_layout_light_phone.et_pb_social_media_follow li a.follow_button:hover{background:rgba(0,0,0,.2);color:rgba(0,0,0,.6)}.et_pb_bg_layout_dark_phone.et_pb_social_media_follow li a.follow_button{background:rgba(0,0,0,.6);color:hsla(0,0%,100%,.8)}.et_pb_bg_layout_dark_phone.et_pb_social_media_follow li a.follow_button:hover{background:rgba(0,0,0,.7);color:#fff}}.rtl .et_pb_social_media_follow li a{margin-left:8px;margin-right:0}\n",
            "  </style>\n",
            "  <link as=\"style\" href=\"https://coloredconventions.org/wp-content/et-cache/1/1/1485/et-divi-dynamic-1485-late.css?ver=1679965382\" id=\"divi-dynamic-late-css\" media=\"all\" onload=\"this.onload=null;this.rel='stylesheet'\" rel=\"preload\"/>\n",
            "  <link as=\"style\" href=\"https://coloredconventions.org/wp-content/et-cache/1/1/1485/et-divi-dynamic-1485.css?ver=1679965382\" id=\"divi-dynamic-css\" media=\"all\" onload=\"this.onload=null;this.rel='stylesheet'\" rel=\"preload\"/>\n",
            "  <link href=\"https://coloredconventions.org/wp-content/plugins/addthis/frontend/build/addthis_wordpress_public.min.css?ver=6.1.1\" id=\"addthis_all_pages-css\" media=\"all\" rel=\"stylesheet\" type=\"text/css\"/>\n",
            "  <link href=\"https://coloredconventions.org/wp-content/plugins/divi_popup_builder/style.css?ver=6.1.1\" id=\"sb_dpb_custom_css-css\" media=\"all\" rel=\"stylesheet\" type=\"text/css\"/>\n",
            "  <link href=\"https://coloredconventions.org/wp-content/themes/Divi-child-mainsite/style.css?ver=4.20.2\" id=\"child-style-css\" media=\"all\" rel=\"stylesheet\" type=\"text/css\"/>\n",
            "  <link href=\"https://coloredconventions.org/wp-content/themes/Divi-child-mainsite/style.css?ver=4.20.2\" id=\"divi-style-css\" media=\"all\" rel=\"stylesheet\" type=\"text/css\"/>\n",
            "  <link href=\"https://coloredconventions.org/wp-content/plugins/jetpack/css/jetpack.css?ver=11.9.1\" id=\"jetpack_css-css\" media=\"all\" rel=\"stylesheet\" type=\"text/css\"/>\n",
            "  <script id=\"jquery-core-js\" src=\"https://coloredconventions.org/wp-includes/js/jquery/jquery.min.js?ver=3.6.1\" type=\"text/javascript\">\n",
            "  </script>\n",
            "  <script id=\"jquery-migrate-js\" src=\"https://coloredconventions.org/wp-includes/js/jquery/jquery-migrate.min.js?ver=3.3.2\" type=\"text/javascript\">\n",
            "  </script>\n",
            "  <script id=\"jquery-js-after\" type=\"text/javascript\">\n",
            "   jqueryParams.length&&$.each(jqueryParams,function(e,r){if(\"function\"==typeof r){var n=String(r);n.replace(\"$\",\"jQuery\");var a=new Function(\"return \"+n)();$(document).ready(a)}});\n",
            "  </script>\n",
            "  <script id=\"commonPps-js\" src=\"https://coloredconventions.org/wp-content/plugins/popup-by-supsystic/js/common.min.js?ver=1.10.16\" type=\"text/javascript\">\n",
            "  </script>\n",
            "  <script id=\"corePps-js-extra\" type=\"text/javascript\">\n",
            "   /* <![CDATA[ */\n",
            "var PPS_DATA = {\"siteUrl\":\"https:\\/\\/coloredconventions.org\\/\",\"imgPath\":\"https:\\/\\/coloredconventions.org\\/wp-content\\/plugins\\/popup-by-supsystic\\/img\\/\",\"cssPath\":\"https:\\/\\/coloredconventions.org\\/wp-content\\/plugins\\/popup-by-supsystic\\/css\\/\",\"loader\":\"https:\\/\\/coloredconventions.org\\/wp-content\\/plugins\\/popup-by-supsystic\\/img\\/loading.gif\",\"close\":\"https:\\/\\/coloredconventions.org\\/wp-content\\/plugins\\/popup-by-supsystic\\/img\\/cross.gif\",\"ajaxurl\":\"https:\\/\\/coloredconventions.org\\/wp-admin\\/admin-ajax.php\",\"options\":{\"add_love_link\":\"0\",\"disable_autosave\":\"0\",\"love_link_html\":\"<a title=\\\"WordPress PopUp Plugin\\\" style=\\\"color: #26bfc1 !important; font-size: 9px; position: absolute; bottom: 15px; right: 15px;\\\" href=\\\"https:\\/\\/supsystic.com\\/plugins\\/popup-plugin\\/?utm_source=plugin&utm_medium=love_link&utm_campaign=popup\\\" target=\\\"_blank\\\">WordPress PopUp Plugin<\\/a>\"},\"PPS_CODE\":\"pps\",\"jsPath\":\"https:\\/\\/coloredconventions.org\\/wp-content\\/plugins\\/popup-by-supsystic\\/js\\/\"};\n",
            "/* ]]> */\n",
            "  </script>\n",
            "  <script id=\"corePps-js\" src=\"https://coloredconventions.org/wp-content/plugins/popup-by-supsystic/js/core.min.js?ver=1.10.16\" type=\"text/javascript\">\n",
            "  </script>\n",
            "  <script id=\"frontend.popup-js-extra\" type=\"text/javascript\">\n",
            "   /* <![CDATA[ */\n",
            "var ppsPopups = [{\"id\":\"105\",\"label\":\"Two Websites\",\"active\":\"1\",\"original_id\":\"33\",\"params\":{\"main\":{\"show_on\":\"page_load\",\"show_on_page_load_delay\":\"\",\"show_on_click_on_el_delay\":\"0\",\"show_on_scroll_window_delay\":\"0\",\"show_on_scroll_window_perc_scroll\":\"0\",\"show_on_link_follow_delay\":\"0\",\"visit_page_cnt\":\"\",\"close_on\":\"overlay_click\",\"show_pages\":\"not_show_on_pages\",\"show_time_from\":\"12:00am\",\"show_time_to\":\"12:00am\",\"show_date_from\":\"\",\"show_date_to\":\"\",\"show_to\":\"first_time_visit\",\"show_to_first_time_visit_days\":\"30\",\"show_to_until_make_action_days\":\"30\",\"count_times_num\":\"1\",\"count_times_mes\":\"day\",\"hide_for_devices_show\":\"0\",\"hide_for_post_types_show\":\"0\",\"hide_for_post_types\":[\"post\"],\"hide_for_ips_show\":\"0\",\"hide_for_ips\":\"\",\"hide_for_countries_show\":\"0\",\"hide_for_languages_show\":\"0\",\"hide_search_engines_show\":\"0\",\"hide_preg_url_show\":\"0\",\"hide_preg_url\":\"https:\\/\\/coloredconventions.org\\/\",\"hide_for_user_roles_show\":\"0\"},\"tpl\":{\"width\":\"800\",\"width_measure\":\"px\",\"bg_overlay_opacity\":\"0\",\"bg_overlay_type\":\"color\",\"bg_overlay_color\":\"\",\"bg_overlay_img\":\"\",\"bg_overlay_img_pos\":\"stretch\",\"bg_type_0\":\"color\",\"bg_img_0\":\"\",\"bg_color_0\":\"#ffffff\",\"bg_type_1\":\"color\",\"bg_img_1\":\"\",\"bg_color_1\":\"#f7f7f7\",\"reidrect_on_close\":\"\",\"close_btn\":\"circle_big_new_close\",\"layered_pos\":\"\",\"enb_txt_0\":\"1\",\"anim_key\":\"none\",\"anim_close_key\":\"\",\"anim_duration\":1000,\"anim_close_duration\":\"\",\"stat_ga_code\":\"\",\"txt_0\":\"<h2 style=\\\"text-align: center\\\">We have <span style=\\\"color: #51dcde\\\">TWO<\\/span> Colored Convention Websites!<\\/h2><table style=\\\"padding: 5px;text-align: center;font-family: raleway\\\"><tbody><tr><td style=\\\"padding: 10px\\\" width=\\\"20%;\\\"><img src=\\\"https:\\/\\/coloredconventions.org\\/wp-content\\/uploads\\/2019\\/10\\/CCP-2019-Sankofa-with-egg.png\\\" width=\\\"75%;\\\" \\/><\\/td><td style=\\\"padding: 10px\\\" width=\\\"40%\\\"><p><img src=\\\"https:\\/\\/coloredconventions.org\\/wp-content\\/uploads\\/2019\\/11\\/ccp_wordpress-site-snapshot.png\\\" height=\\\"100px;\\\" \\/><\\/p><p>General information, digital exhibits, teaching modules, events, and news at<br \\/><a href=\\\"coloredconventions.org\\\">coloredconventions.org<\\/a><\\/p><\\/td><td style=\\\"padding: 10px\\\" width=\\\"40%\\\"><p><img src=\\\"https:\\/\\/coloredconventions.org\\/wp-content\\/uploads\\/2019\\/11\\/ccp_omeka-site-snapshot.png\\\" height=\\\"100px;\\\" border=\\\"1\\\" \\/><\\/p><p>Collected documents from the Colored Conventions (1830-1890s) at<br \\/><a href=\\\"omeka.coloredconventions.org \\\" target=\\\"blank\\\">omeka.coloredconventions.org<\\/a><\\/p><\\/td><\\/tr><tr><td>\\u00a0<\\/td><td style=\\\"padding: 10px\\\" colspan=\\\"2\\\"><a href=\\\"https:\\/\\/coloredconventions.org\\/about\\/using-two-sites\\/\\\"><button>Learn more<\\/button><\\/a> about using these two sites.<\\/td><\\/tr><\\/tbody><\\/table>\",\"sub_fields\":{\"email\":{\"label\":\"E-Mail\",\"html\":\"text\",\"enb\":true,\"mandatory\":true,\"name\":\"email\"},\"name\":{\"label\":\"Name\",\"html\":\"text\",\"enb\":false,\"name\":\"name\"}},\"reg_fields\":{\"name\":{\"label\":\"Name\",\"html\":\"text\",\"enb\":1,\"name\":\"name\"},\"email\":{\"label\":\"E-Mail\",\"html\":\"text\",\"enb\":true,\"mandatory\":true,\"name\":\"email\"}}},\"opts_attrs\":{\"bg_number\":\"2\",\"txt_block_number\":\"1\"}},\"img_preview\":\"simple-html.jpg\",\"show_on\":\"1\",\"show_to\":\"2\",\"show_pages\":\"3\",\"type_id\":\"5\",\"views\":\"7946\",\"unique_views\":\"7919\",\"actions\":\"0\",\"date_created\":\"2015-01-10 23:59:43\",\"sort_order\":\"0\",\"show_in_admin_area\":\"0\",\"img_preview_url\":\"https:\\/\\/coloredconventions.org\\/wp-content\\/plugins\\/popup-by-supsystic\\/assets\\/popup\\/img\\/preview\\/simple-html.jpg\",\"view_id\":\"105_674337\",\"type\":\"simple_html\",\"rendered_html\":\"<span style=\\\"display: none;\\\" id=\\\"ppsPopupStylesHidden_105_674337\\\">#ppsPopupShell_105_674337 {\\n\\twidth: 800px;\\n  \\tpadding: 15px;\\n  \\tfont-family: 'Helvetica', arial;\\n\\tfont-size: 14px;\\n\\tline-height: 21px;\\n\\tfont-weight: normal;\\n\\tcolor: #000;\\n}\\n#ppsPopupShell_105_674337, #ppsPopupShell_105_674337 * {\\n\\t-webkit-box-sizing: content-box;\\n\\t-moz-box-sizing:    content-box;\\n\\tbox-sizing:         content-box;\\n}\\n#ppsPopupShell_105_674337 p {\\n\\tmargin: 14px 0;\\n}\\n#ppsPopupShell_105_674337 .ppsInnerTblContent {\\n\\theight: 100%;  \\tborder: 8px solid #f7f7f7;  \\tborder-radius: 5px;\\n  \\tpadding: 10px;  \\tbackground-color: #ffffff;}#ppsPopupShell_105_674337 .ppsPopupClose { position:absolute;background-image:url(\\\"https:\\/\\/coloredconventions.org\\/wp-content\\/plugins\\/popup-by-supsystic\\/modules\\/popup\\/img\\/assets\\/close_btns\\/circle_big_new_close.png\\\");background-repeat:no-repeat;top:0;right:0;width:31px;height:31px; }<\\/span><div id=\\\"ppsPopupShell_105_674337\\\" class=\\\"ppsPopupShell ppsPopupListsShell\\\">\\n\\t<a href=\\\"#\\\" class=\\\"ppsPopupClose ppsPopupClose_circle_big_new_close\\\"><\\/a>\\n\\t<div class=\\\"ppsInnerTblContent\\\">\\n\\t\\t<h2 style=\\\"text-align: center\\\">We have <span style=\\\"color: #51dcde\\\">TWO<\\/span> Colored Convention Websites!<\\/h2><table style=\\\"padding: 5px;text-align: center;font-family: raleway\\\"><tbody><tr><td style=\\\"padding: 10px\\\" width=\\\"20%;\\\"><img src=\\\"https:\\/\\/coloredconventions.org\\/wp-content\\/uploads\\/2019\\/10\\/CCP-2019-Sankofa-with-egg.png\\\" width=\\\"75%;\\\" \\/><\\/td><td style=\\\"padding: 10px\\\" width=\\\"40%\\\"><p><img src=\\\"https:\\/\\/coloredconventions.org\\/wp-content\\/uploads\\/2019\\/11\\/ccp_wordpress-site-snapshot.png\\\" height=\\\"100px;\\\" \\/><\\/p><p>General information, digital exhibits, teaching modules, events, and news at<br \\/><a href=\\\"coloredconventions.org\\\">coloredconventions.org<\\/a><\\/p><\\/td><td style=\\\"padding: 10px\\\" width=\\\"40%\\\"><p><img src=\\\"https:\\/\\/coloredconventions.org\\/wp-content\\/uploads\\/2019\\/11\\/ccp_omeka-site-snapshot.png\\\" height=\\\"100px;\\\" border=\\\"1\\\" \\/><\\/p><p>Collected documents from the Colored Conventions (1830-1890s) at<br \\/><a href=\\\"omeka.coloredconventions.org \\\" target=\\\"blank\\\">omeka.coloredconventions.org<\\/a><\\/p><\\/td><\\/tr><tr><td>\\u00a0<\\/td><td style=\\\"padding: 10px\\\" colspan=\\\"2\\\"><a href=\\\"https:\\/\\/coloredconventions.org\\/about\\/using-two-sites\\/\\\"><button>Learn more<\\/button><\\/a> about using these two sites.<\\/td><\\/tr><\\/tbody><\\/table>\\n\\t<\\/div>\\n<\\/div>\",\"connect_hash\":\"6aa4686ac1c61c8ebc5da6d710a1fdfc\"}];\n",
            "/* ]]> */\n",
            "  </script>\n",
            "  <script id=\"frontend.popup-js\" src=\"https://coloredconventions.org/wp-content/plugins/popup-by-supsystic/modules/popup/js/frontend.popup.js?ver=1.10.16\" type=\"text/javascript\">\n",
            "  </script>\n",
            "  <script id=\"aw_functions-js\" src=\"https://coloredconventions.org/wp-content/plugins/aw-divi-image-overlay/js/functions.js?ver=6.1.1\" type=\"text/javascript\">\n",
            "  </script>\n",
            "  <script id=\"sb_dpb_colorbox_js-js\" src=\"https://coloredconventions.org/wp-content/plugins/divi_popup_builder/colorbox/jquery.colorbox-min.js?ver=6.1.1\" type=\"text/javascript\">\n",
            "  </script>\n",
            "  <link href=\"https://coloredconventions.org/wp-json/\" rel=\"https://api.w.org/\"/>\n",
            "  <link href=\"https://coloredconventions.org/wp-json/wp/v2/pages/1485\" rel=\"alternate\" type=\"application/json\"/>\n",
            "  <link href=\"https://coloredconventions.org/xmlrpc.php?rsd\" rel=\"EditURI\" title=\"RSD\" type=\"application/rsd+xml\"/>\n",
            "  <link href=\"https://coloredconventions.org/wp-includes/wlwmanifest.xml\" rel=\"wlwmanifest\" type=\"application/wlwmanifest+xml\"/>\n",
            "  <meta content=\"WordPress 6.1.1\" name=\"generator\"/>\n",
            "  <link href=\"https://coloredconventions.org/?p=1485\" rel=\"shortlink\"/>\n",
            "  <link href=\"https://coloredconventions.org/wp-json/oembed/1.0/embed?url=https%3A%2F%2Fcoloredconventions.org%2Fabout%2Fpress-notices%2F\" rel=\"alternate\" type=\"application/json+oembed\"/>\n",
            "  <link href=\"https://coloredconventions.org/wp-json/oembed/1.0/embed?url=https%3A%2F%2Fcoloredconventions.org%2Fabout%2Fpress-notices%2F&amp;format=xml\" rel=\"alternate\" type=\"text/xml+oembed\"/>\n",
            "  <script data-name=\"dbdb-head-js\">\n",
            "  </script>\n",
            "  <style>\n",
            "   .db_title, .db_tagline { \r\n",
            "    margin-right: 30px;\r\n",
            "    margin-top: 0px;\r\n",
            "    line-height: 1em;\r\n",
            "}\r\n",
            ".db_title_and_tagline {\r\n",
            "    display: flex;\r\n",
            "    align-items: flex-start;\r\n",
            "}\r\n",
            ".db_tagline_below_title_on .db_title_and_tagline {\r\n",
            "    flex-direction: column;\r\n",
            "}\r\n",
            ".db_tagline_below_title_on .db_tagline {\r\n",
            "    margin-top: 8px;\r\n",
            "}\r\n",
            ".db_title_and_tagline_valign_middle .db_title_and_tagline {\r\n",
            "    align-items: center;\r\n",
            "}\r\n",
            ".db_title_and_tagline_valign_bottom .db_title_and_tagline {\r\n",
            "    align-items: flex-end;\r\n",
            "}\r\n",
            ".db_title_and_tagline_below_logo_on .db_title_and_tagline {\r\n",
            "    position: absolute;\r\n",
            "    bottom: 0px;\r\n",
            "    left: 0px;\r\n",
            "    transform: translateY(100%);\r\n",
            "}\n",
            "  </style>\n",
            "  <style>\n",
            "   /* Display the team member icons */\r\n",
            ".db_pb_team_member_website_icon:before{content:\"\\e0e3\";}\r\n",
            ".db_pb_team_member_email_icon:before{content:\"\\e010\";}\r\n",
            ".db_pb_team_member_instagram_icon:before{content:\"\\e09a\";}\r\n",
            "\r\n",
            "/* Fix email icon hidden by Email Address Encoder plugin */\r\n",
            "ul.et_pb_member_social_links li > span { \r\n",
            "\tdisplay: inline-block !important; \r\n",
            "}\n",
            "  </style>\n",
            "  <style>\n",
            "   @media only screen and (min-width: 981px) {\r\n",
            "    .et_pb_module.db_inline_form .et_pb_newsletter_fields > p { \r\n",
            "        flex: auto !important;\r\n",
            "    }\r\n",
            "    .et_pb_module.db_inline_form .et_pb_newsletter_fields p.et_pb_newsletter_field {\r\n",
            "        margin-right: 2%; \r\n",
            "    }\r\n",
            "}\n",
            "  </style>\n",
            "  <!-- GA Google Analytics @ https://m0n.co/ga -->\n",
            "  <script>\n",
            "   (function(i,s,o,g,r,a,m){i['GoogleAnalyticsObject']=r;i[r]=i[r]||function(){\n",
            "\t\t\t(i[r].q=i[r].q||[]).push(arguments)},i[r].l=1*new Date();a=s.createElement(o),\n",
            "\t\t\tm=s.getElementsByTagName(o)[0];a.async=1;a.src=g;m.parentNode.insertBefore(a,m)\n",
            "\t\t\t})(window,document,'script','https://www.google-analytics.com/analytics.js','ga');\n",
            "\t\t\tga('create', 'UA-39452338-1', 'auto');\n",
            "\t\t\tga('require', 'displayfeatures');\n",
            "\t\t\tga('send', 'pageview');\n",
            "  </script>\n",
            "  <style>\n",
            "   img#wpstats{display:none}\n",
            "  </style>\n",
            "  <meta content=\"width=device-width, initial-scale=1.0, maximum-scale=1.0, user-scalable=0\" name=\"viewport\"/>\n",
            "  <link href=\"https://i0.wp.com/coloredconventions.org/wp-content/uploads/2018/06/Favicon.png?fit=32%2C32&amp;ssl=1\" rel=\"icon\" sizes=\"32x32\"/>\n",
            "  <link href=\"https://i0.wp.com/coloredconventions.org/wp-content/uploads/2018/06/Favicon.png?fit=192%2C192&amp;ssl=1\" rel=\"icon\" sizes=\"192x192\"/>\n",
            "  <link href=\"https://i0.wp.com/coloredconventions.org/wp-content/uploads/2018/06/Favicon.png?fit=180%2C180&amp;ssl=1\" rel=\"apple-touch-icon\"/>\n",
            "  <meta content=\"https://i0.wp.com/coloredconventions.org/wp-content/uploads/2018/06/Favicon.png?fit=254%2C254&amp;ssl=1\" name=\"msapplication-TileImage\"/>\n",
            "  <link href=\"https://coloredconventions.org/wp-content/et-cache/1/1/global/et-divi-customizer-global.min.css?ver=1679945373\" id=\"et-divi-customizer-global-cached-inline-styles\" rel=\"stylesheet\"/>\n",
            " </head>\n",
            " <body class=\"page-template-default page page-id-1485 page-child parent-pageid-731 dbdb_divi_2_4_up et_pb_button_helper_class et_fullwidth_nav et_fullwidth_secondary_nav et_fixed_nav et_show_nav et_secondary_nav_enabled et_secondary_nav_only_menu et_primary_nav_dropdown_animation_fade et_secondary_nav_dropdown_animation_fade et_header_style_left et_pb_footer_columns3 et_cover_background et_pb_gutter et_pb_gutters3 et_pb_pagebuilder_layout et_no_sidebar et_divi_theme et-db\" data-rsssl=\"1\">\n",
            "  <svg focusable=\"false\" height=\"0\" role=\"none\" style=\"visibility: hidden; position: absolute; left: -9999px; overflow: hidden;\" viewbox=\"0 0 0 0\" width=\"0\" xmlns=\"http://www.w3.org/2000/svg\">\n",
            "   <defs>\n",
            "    <filter id=\"wp-duotone-dark-grayscale\">\n",
            "     <fecolormatrix color-interpolation-filters=\"sRGB\" type=\"matrix\" values=\" .299 .587 .114 0 0 .299 .587 .114 0 0 .299 .587 .114 0 0 .299 .587 .114 0 0 \">\n",
            "     </fecolormatrix>\n",
            "     <fecomponenttransfer color-interpolation-filters=\"sRGB\">\n",
            "      <fefuncr tablevalues=\"0 0.49803921568627\" type=\"table\">\n",
            "      </fefuncr>\n",
            "      <fefuncg tablevalues=\"0 0.49803921568627\" type=\"table\">\n",
            "      </fefuncg>\n",
            "      <fefuncb tablevalues=\"0 0.49803921568627\" type=\"table\">\n",
            "      </fefuncb>\n",
            "      <fefunca tablevalues=\"1 1\" type=\"table\">\n",
            "      </fefunca>\n",
            "     </fecomponenttransfer>\n",
            "     <fecomposite in2=\"SourceGraphic\" operator=\"in\">\n",
            "     </fecomposite>\n",
            "    </filter>\n",
            "   </defs>\n",
            "  </svg>\n",
            "  <svg focusable=\"false\" height=\"0\" role=\"none\" style=\"visibility: hidden; position: absolute; left: -9999px; overflow: hidden;\" viewbox=\"0 0 0 0\" width=\"0\" xmlns=\"http://www.w3.org/2000/svg\">\n",
            "   <defs>\n",
            "    <filter id=\"wp-duotone-grayscale\">\n",
            "     <fecolormatrix color-interpolation-filters=\"sRGB\" type=\"matrix\" values=\" .299 .587 .114 0 0 .299 .587 .114 0 0 .299 .587 .114 0 0 .299 .587 .114 0 0 \">\n",
            "     </fecolormatrix>\n",
            "     <fecomponenttransfer color-interpolation-filters=\"sRGB\">\n",
            "      <fefuncr tablevalues=\"0 1\" type=\"table\">\n",
            "      </fefuncr>\n",
            "      <fefuncg tablevalues=\"0 1\" type=\"table\">\n",
            "      </fefuncg>\n",
            "      <fefuncb tablevalues=\"0 1\" type=\"table\">\n",
            "      </fefuncb>\n",
            "      <fefunca tablevalues=\"1 1\" type=\"table\">\n",
            "      </fefunca>\n",
            "     </fecomponenttransfer>\n",
            "     <fecomposite in2=\"SourceGraphic\" operator=\"in\">\n",
            "     </fecomposite>\n",
            "    </filter>\n",
            "   </defs>\n",
            "  </svg>\n",
            "  <svg focusable=\"false\" height=\"0\" role=\"none\" style=\"visibility: hidden; position: absolute; left: -9999px; overflow: hidden;\" viewbox=\"0 0 0 0\" width=\"0\" xmlns=\"http://www.w3.org/2000/svg\">\n",
            "   <defs>\n",
            "    <filter id=\"wp-duotone-purple-yellow\">\n",
            "     <fecolormatrix color-interpolation-filters=\"sRGB\" type=\"matrix\" values=\" .299 .587 .114 0 0 .299 .587 .114 0 0 .299 .587 .114 0 0 .299 .587 .114 0 0 \">\n",
            "     </fecolormatrix>\n",
            "     <fecomponenttransfer color-interpolation-filters=\"sRGB\">\n",
            "      <fefuncr tablevalues=\"0.54901960784314 0.98823529411765\" type=\"table\">\n",
            "      </fefuncr>\n",
            "      <fefuncg tablevalues=\"0 1\" type=\"table\">\n",
            "      </fefuncg>\n",
            "      <fefuncb tablevalues=\"0.71764705882353 0.25490196078431\" type=\"table\">\n",
            "      </fefuncb>\n",
            "      <fefunca tablevalues=\"1 1\" type=\"table\">\n",
            "      </fefunca>\n",
            "     </fecomponenttransfer>\n",
            "     <fecomposite in2=\"SourceGraphic\" operator=\"in\">\n",
            "     </fecomposite>\n",
            "    </filter>\n",
            "   </defs>\n",
            "  </svg>\n",
            "  <svg focusable=\"false\" height=\"0\" role=\"none\" style=\"visibility: hidden; position: absolute; left: -9999px; overflow: hidden;\" viewbox=\"0 0 0 0\" width=\"0\" xmlns=\"http://www.w3.org/2000/svg\">\n",
            "   <defs>\n",
            "    <filter id=\"wp-duotone-blue-red\">\n",
            "     <fecolormatrix color-interpolation-filters=\"sRGB\" type=\"matrix\" values=\" .299 .587 .114 0 0 .299 .587 .114 0 0 .299 .587 .114 0 0 .299 .587 .114 0 0 \">\n",
            "     </fecolormatrix>\n",
            "     <fecomponenttransfer color-interpolation-filters=\"sRGB\">\n",
            "      <fefuncr tablevalues=\"0 1\" type=\"table\">\n",
            "      </fefuncr>\n",
            "      <fefuncg tablevalues=\"0 0.27843137254902\" type=\"table\">\n",
            "      </fefuncg>\n",
            "      <fefuncb tablevalues=\"0.5921568627451 0.27843137254902\" type=\"table\">\n",
            "      </fefuncb>\n",
            "      <fefunca tablevalues=\"1 1\" type=\"table\">\n",
            "      </fefunca>\n",
            "     </fecomponenttransfer>\n",
            "     <fecomposite in2=\"SourceGraphic\" operator=\"in\">\n",
            "     </fecomposite>\n",
            "    </filter>\n",
            "   </defs>\n",
            "  </svg>\n",
            "  <svg focusable=\"false\" height=\"0\" role=\"none\" style=\"visibility: hidden; position: absolute; left: -9999px; overflow: hidden;\" viewbox=\"0 0 0 0\" width=\"0\" xmlns=\"http://www.w3.org/2000/svg\">\n",
            "   <defs>\n",
            "    <filter id=\"wp-duotone-midnight\">\n",
            "     <fecolormatrix color-interpolation-filters=\"sRGB\" type=\"matrix\" values=\" .299 .587 .114 0 0 .299 .587 .114 0 0 .299 .587 .114 0 0 .299 .587 .114 0 0 \">\n",
            "     </fecolormatrix>\n",
            "     <fecomponenttransfer color-interpolation-filters=\"sRGB\">\n",
            "      <fefuncr tablevalues=\"0 0\" type=\"table\">\n",
            "      </fefuncr>\n",
            "      <fefuncg tablevalues=\"0 0.64705882352941\" type=\"table\">\n",
            "      </fefuncg>\n",
            "      <fefuncb tablevalues=\"0 1\" type=\"table\">\n",
            "      </fefuncb>\n",
            "      <fefunca tablevalues=\"1 1\" type=\"table\">\n",
            "      </fefunca>\n",
            "     </fecomponenttransfer>\n",
            "     <fecomposite in2=\"SourceGraphic\" operator=\"in\">\n",
            "     </fecomposite>\n",
            "    </filter>\n",
            "   </defs>\n",
            "  </svg>\n",
            "  <svg focusable=\"false\" height=\"0\" role=\"none\" style=\"visibility: hidden; position: absolute; left: -9999px; overflow: hidden;\" viewbox=\"0 0 0 0\" width=\"0\" xmlns=\"http://www.w3.org/2000/svg\">\n",
            "   <defs>\n",
            "    <filter id=\"wp-duotone-magenta-yellow\">\n",
            "     <fecolormatrix color-interpolation-filters=\"sRGB\" type=\"matrix\" values=\" .299 .587 .114 0 0 .299 .587 .114 0 0 .299 .587 .114 0 0 .299 .587 .114 0 0 \">\n",
            "     </fecolormatrix>\n",
            "     <fecomponenttransfer color-interpolation-filters=\"sRGB\">\n",
            "      <fefuncr tablevalues=\"0.78039215686275 1\" type=\"table\">\n",
            "      </fefuncr>\n",
            "      <fefuncg tablevalues=\"0 0.94901960784314\" type=\"table\">\n",
            "      </fefuncg>\n",
            "      <fefuncb tablevalues=\"0.35294117647059 0.47058823529412\" type=\"table\">\n",
            "      </fefuncb>\n",
            "      <fefunca tablevalues=\"1 1\" type=\"table\">\n",
            "      </fefunca>\n",
            "     </fecomponenttransfer>\n",
            "     <fecomposite in2=\"SourceGraphic\" operator=\"in\">\n",
            "     </fecomposite>\n",
            "    </filter>\n",
            "   </defs>\n",
            "  </svg>\n",
            "  <svg focusable=\"false\" height=\"0\" role=\"none\" style=\"visibility: hidden; position: absolute; left: -9999px; overflow: hidden;\" viewbox=\"0 0 0 0\" width=\"0\" xmlns=\"http://www.w3.org/2000/svg\">\n",
            "   <defs>\n",
            "    <filter id=\"wp-duotone-purple-green\">\n",
            "     <fecolormatrix color-interpolation-filters=\"sRGB\" type=\"matrix\" values=\" .299 .587 .114 0 0 .299 .587 .114 0 0 .299 .587 .114 0 0 .299 .587 .114 0 0 \">\n",
            "     </fecolormatrix>\n",
            "     <fecomponenttransfer color-interpolation-filters=\"sRGB\">\n",
            "      <fefuncr tablevalues=\"0.65098039215686 0.40392156862745\" type=\"table\">\n",
            "      </fefuncr>\n",
            "      <fefuncg tablevalues=\"0 1\" type=\"table\">\n",
            "      </fefuncg>\n",
            "      <fefuncb tablevalues=\"0.44705882352941 0.4\" type=\"table\">\n",
            "      </fefuncb>\n",
            "      <fefunca tablevalues=\"1 1\" type=\"table\">\n",
            "      </fefunca>\n",
            "     </fecomponenttransfer>\n",
            "     <fecomposite in2=\"SourceGraphic\" operator=\"in\">\n",
            "     </fecomposite>\n",
            "    </filter>\n",
            "   </defs>\n",
            "  </svg>\n",
            "  <svg focusable=\"false\" height=\"0\" role=\"none\" style=\"visibility: hidden; position: absolute; left: -9999px; overflow: hidden;\" viewbox=\"0 0 0 0\" width=\"0\" xmlns=\"http://www.w3.org/2000/svg\">\n",
            "   <defs>\n",
            "    <filter id=\"wp-duotone-blue-orange\">\n",
            "     <fecolormatrix color-interpolation-filters=\"sRGB\" type=\"matrix\" values=\" .299 .587 .114 0 0 .299 .587 .114 0 0 .299 .587 .114 0 0 .299 .587 .114 0 0 \">\n",
            "     </fecolormatrix>\n",
            "     <fecomponenttransfer color-interpolation-filters=\"sRGB\">\n",
            "      <fefuncr tablevalues=\"0.098039215686275 1\" type=\"table\">\n",
            "      </fefuncr>\n",
            "      <fefuncg tablevalues=\"0 0.66274509803922\" type=\"table\">\n",
            "      </fefuncg>\n",
            "      <fefuncb tablevalues=\"0.84705882352941 0.41960784313725\" type=\"table\">\n",
            "      </fefuncb>\n",
            "      <fefunca tablevalues=\"1 1\" type=\"table\">\n",
            "      </fefunca>\n",
            "     </fecomponenttransfer>\n",
            "     <fecomposite in2=\"SourceGraphic\" operator=\"in\">\n",
            "     </fecomposite>\n",
            "    </filter>\n",
            "   </defs>\n",
            "  </svg>\n",
            "  <div id=\"page-container\">\n",
            "   <div id=\"top-header\">\n",
            "    <div class=\"container clearfix\">\n",
            "     <div id=\"et-secondary-menu\">\n",
            "      <ul class=\"menu\" id=\"et-secondary-nav\">\n",
            "       <li class=\"menu-item menu-item-type-custom menu-item-object-custom menu-item-6547\">\n",
            "        <a href=\"/about/book/\">\n",
            "         THE COLORED CONVENTIONS BOOK   ▶Learn more  ▶Order book\n",
            "        </a>\n",
            "       </li>\n",
            "      </ul>\n",
            "     </div>\n",
            "    </div>\n",
            "   </div>\n",
            "   <header data-height-onload=\"129\" id=\"main-header\">\n",
            "    <div class=\"container clearfix et_menu_container\">\n",
            "     <div class=\"logo_container\">\n",
            "      <span class=\"logo_helper\">\n",
            "      </span>\n",
            "      <a href=\"https://coloredconventions.org/\">\n",
            "       <img alt=\"Colored Conventions Project\" data-height-percentage=\"100\" height=\"117\" id=\"logo\" src=\"/wp-content/uploads/2018/09/CCP-2018-Asset-1@0.5x.png\" width=\"687\"/>\n",
            "      </a>\n",
            "     </div>\n",
            "     <div data-fixed-height=\"93\" data-height=\"129\" id=\"et-top-navigation\">\n",
            "      <nav id=\"top-menu-nav\">\n",
            "       <ul class=\"nav\" id=\"top-menu\">\n",
            "        <li class=\"menu-item menu-item-type-post_type menu-item-object-page menu-item-home menu-item-673\" id=\"menu-item-673\">\n",
            "         <a href=\"https://coloredconventions.org/\">\n",
            "          HOME\n",
            "         </a>\n",
            "        </li>\n",
            "        <li class=\"menu-item menu-item-type-post_type menu-item-object-page menu-item-has-children menu-item-4023\" id=\"menu-item-4023\">\n",
            "         <a href=\"https://coloredconventions.org/about-conventions/\">\n",
            "          CONVENTIONS\n",
            "         </a>\n",
            "         <ul class=\"sub-menu\">\n",
            "          <li class=\"menu-item menu-item-type-post_type menu-item-object-page menu-item-4431\" id=\"menu-item-4431\">\n",
            "           <a href=\"https://coloredconventions.org/about-conventions/\">\n",
            "            About the Conventions\n",
            "           </a>\n",
            "          </li>\n",
            "          <li class=\"menu-item menu-item-type-post_type menu-item-object-page menu-item-4430\" id=\"menu-item-4430\">\n",
            "           <a href=\"https://coloredconventions.org/about-records/\">\n",
            "            Digital Records\n",
            "           </a>\n",
            "          </li>\n",
            "          <li class=\"menu-item menu-item-type-post_type menu-item-object-page menu-item-4693\" id=\"menu-item-4693\">\n",
            "           <a href=\"https://coloredconventions.org/about-conventions/submit-records/\">\n",
            "            Submit Records\n",
            "           </a>\n",
            "          </li>\n",
            "          <li class=\"menu-item menu-item-type-post_type menu-item-object-page menu-item-4766\" id=\"menu-item-4766\">\n",
            "           <a href=\"https://coloredconventions.org/about-records/ccp-corpus/\">\n",
            "            CCP Corpus\n",
            "           </a>\n",
            "          </li>\n",
            "          <li class=\"menu-item menu-item-type-post_type menu-item-object-page menu-item-1833\" id=\"menu-item-1833\">\n",
            "           <a href=\"https://coloredconventions.org/bibliography/\">\n",
            "            Bibliography\n",
            "           </a>\n",
            "          </li>\n",
            "         </ul>\n",
            "        </li>\n",
            "        <li class=\"menu-item menu-item-type-post_type menu-item-object-page menu-item-4069\" id=\"menu-item-4069\">\n",
            "         <a href=\"https://coloredconventions.org/exhibits/\">\n",
            "          EXHIBITS\n",
            "         </a>\n",
            "        </li>\n",
            "        <li class=\"menu-item menu-item-type-post_type menu-item-object-page menu-item-has-children menu-item-734\" id=\"menu-item-734\">\n",
            "         <a href=\"https://coloredconventions.org/teaching/\">\n",
            "          TEACHING\n",
            "         </a>\n",
            "         <ul class=\"sub-menu\">\n",
            "          <li class=\"menu-item menu-item-type-custom menu-item-object-custom menu-item-1845\" id=\"menu-item-1845\">\n",
            "           <a href=\"https://coloredconventions.org/teaching/#teaching-partners\">\n",
            "            North American Teaching Partners\n",
            "           </a>\n",
            "          </li>\n",
            "          <li class=\"menu-item menu-item-type-post_type menu-item-object-page menu-item-8266\" id=\"menu-item-8266\">\n",
            "           <a href=\"https://coloredconventions.org/curriculum/\">\n",
            "            Curriculum\n",
            "           </a>\n",
            "          </li>\n",
            "         </ul>\n",
            "        </li>\n",
            "        <li class=\"menu-item menu-item-type-post_type menu-item-object-page current-menu-ancestor current-menu-parent current_page_parent current_page_ancestor menu-item-has-children menu-item-4432\" id=\"menu-item-4432\">\n",
            "         <a href=\"https://coloredconventions.org/news/\">\n",
            "          NEWS &amp; EVENTS\n",
            "         </a>\n",
            "         <ul class=\"sub-menu\">\n",
            "          <li class=\"menu-item menu-item-type-custom menu-item-object-custom menu-item-8226\" id=\"menu-item-8226\">\n",
            "           <a href=\"https://douglassday.org/\">\n",
            "            Douglass Day\n",
            "           </a>\n",
            "          </li>\n",
            "          <li class=\"menu-item menu-item-type-custom menu-item-object-custom menu-item-8225\" id=\"menu-item-8225\">\n",
            "           <a href=\"https://douglassday.org/\">\n",
            "            Transcribe Mary Ann Shadd Cary Papers\n",
            "           </a>\n",
            "          </li>\n",
            "          <li class=\"menu-item menu-item-type-custom menu-item-object-custom menu-item-8007\" id=\"menu-item-8007\">\n",
            "           <a href=\"https://coloredconventions.org/digblk/symposium-ccp-making-social-movement/\">\n",
            "            Symposium 2022: The Making of a Social Movement\n",
            "           </a>\n",
            "          </li>\n",
            "          <li class=\"menu-item menu-item-type-post_type menu-item-object-post menu-item-8148\" id=\"menu-item-8148\">\n",
            "           <a href=\"https://coloredconventions.org/news/mural-dedication-philadelphia/\">\n",
            "            Mural in Philadelphia\n",
            "           </a>\n",
            "          </li>\n",
            "          <li class=\"menu-item menu-item-type-post_type menu-item-object-page menu-item-4442\" id=\"menu-item-4442\">\n",
            "           <a href=\"https://coloredconventions.org/news/\">\n",
            "            News\n",
            "           </a>\n",
            "          </li>\n",
            "          <li class=\"menu-item menu-item-type-post_type menu-item-object-page current-menu-item page_item page-item-1485 current_page_item menu-item-1518\" id=\"menu-item-1518\">\n",
            "           <a aria-current=\"page\" href=\"https://coloredconventions.org/about/press-notices/\">\n",
            "            Press &amp; Notices\n",
            "           </a>\n",
            "          </li>\n",
            "          <li class=\"menu-item menu-item-type-post_type menu-item-object-page menu-item-1507\" id=\"menu-item-1507\">\n",
            "           <a href=\"https://coloredconventions.org/about/videos/\">\n",
            "            Videos\n",
            "           </a>\n",
            "          </li>\n",
            "         </ul>\n",
            "        </li>\n",
            "        <li class=\"menu-item menu-item-type-post_type menu-item-object-page current-page-ancestor current-page-parent menu-item-has-children menu-item-3326\" id=\"menu-item-3326\">\n",
            "         <a href=\"https://coloredconventions.org/about/\">\n",
            "          ABOUT CCP\n",
            "         </a>\n",
            "         <ul class=\"sub-menu\">\n",
            "          <li class=\"menu-item menu-item-type-post_type menu-item-object-page menu-item-3488\" id=\"menu-item-3488\">\n",
            "           <a href=\"https://coloredconventions.org/about/principles/\">\n",
            "            CCP Principles\n",
            "           </a>\n",
            "          </li>\n",
            "          <li class=\"menu-item menu-item-type-post_type menu-item-object-page menu-item-4225\" id=\"menu-item-4225\">\n",
            "           <a href=\"https://coloredconventions.org/about/team/\">\n",
            "            Team\n",
            "           </a>\n",
            "          </li>\n",
            "          <li class=\"menu-item menu-item-type-post_type menu-item-object-page menu-item-4443\" id=\"menu-item-4443\">\n",
            "           <a href=\"https://coloredconventions.org/about/team/committees/\">\n",
            "            Committees\n",
            "           </a>\n",
            "          </li>\n",
            "          <li class=\"menu-item menu-item-type-post_type menu-item-object-page menu-item-2178\" id=\"menu-item-2178\">\n",
            "           <a href=\"https://coloredconventions.org/about/cv/\">\n",
            "            Project Curriculum Vitae\n",
            "           </a>\n",
            "          </li>\n",
            "          <li class=\"menu-item menu-item-type-post_type menu-item-object-page menu-item-4523\" id=\"menu-item-4523\">\n",
            "           <a href=\"https://coloredconventions.org/about/speakers-agreement/\">\n",
            "            Speaker’s Agreement\n",
            "           </a>\n",
            "          </li>\n",
            "          <li class=\"menu-item menu-item-type-post_type menu-item-object-page menu-item-6394\" id=\"menu-item-6394\">\n",
            "           <a href=\"https://coloredconventions.org/digblk/\">\n",
            "            #DigBlk, Center for Black Digital Research\n",
            "           </a>\n",
            "          </li>\n",
            "          <li class=\"menu-item menu-item-type-post_type menu-item-object-page menu-item-4720\" id=\"menu-item-4720\">\n",
            "           <a href=\"https://coloredconventions.org/about/using-two-sites/\">\n",
            "            How to Use This Site\n",
            "           </a>\n",
            "          </li>\n",
            "          <li class=\"menu-item menu-item-type-post_type menu-item-object-page menu-item-3796\" id=\"menu-item-3796\">\n",
            "           <a href=\"https://coloredconventions.org/contact/\">\n",
            "            Contact Us\n",
            "           </a>\n",
            "          </li>\n",
            "         </ul>\n",
            "        </li>\n",
            "        <li class=\"menu-item menu-item-type-post_type menu-item-object-page menu-item-4400\" id=\"menu-item-4400\">\n",
            "         <a href=\"https://coloredconventions.org/donate/\">\n",
            "          DONATE\n",
            "         </a>\n",
            "        </li>\n",
            "       </ul>\n",
            "      </nav>\n",
            "      <div id=\"et_top_search\">\n",
            "       <span id=\"et_search_icon\">\n",
            "       </span>\n",
            "      </div>\n",
            "      <div id=\"et_mobile_nav_menu\">\n",
            "       <div class=\"mobile_nav closed\">\n",
            "        <span class=\"select_page\">\n",
            "         Select Page\n",
            "        </span>\n",
            "        <span class=\"mobile_menu_bar mobile_menu_bar_toggle\">\n",
            "        </span>\n",
            "       </div>\n",
            "      </div>\n",
            "     </div>\n",
            "     <!-- #et-top-navigation -->\n",
            "    </div>\n",
            "    <!-- .container -->\n",
            "    <div class=\"et_search_outer\">\n",
            "     <div class=\"container et_search_form_container\">\n",
            "      <form action=\"https://coloredconventions.org/\" class=\"et-search-form\" method=\"get\" role=\"search\">\n",
            "       <input class=\"et-search-field\" name=\"s\" placeholder=\"Search …\" title=\"Search for:\" type=\"search\" value=\"\"/>\n",
            "      </form>\n",
            "      <span class=\"et_close_search_field\">\n",
            "      </span>\n",
            "     </div>\n",
            "    </div>\n",
            "   </header>\n",
            "   <!-- #main-header -->\n",
            "   <div id=\"et-main-area\">\n",
            "    <div id=\"main-content\">\n",
            "     <article class=\"post-1485 page type-page status-publish hentry\" id=\"post-1485\">\n",
            "      <div class=\"entry-content\">\n",
            "       <div class=\"at-above-post-page addthis_tool\" data-url=\"https://coloredconventions.org/about/press-notices/\">\n",
            "       </div>\n",
            "       <div class=\"et-l et-l--post\">\n",
            "        <div class=\"et_builder_inner_content et_pb_gutters3\">\n",
            "         <div class=\"et_pb_section et_pb_section_0 et_section_regular section_has_divider et_pb_top_divider\">\n",
            "          <div class=\"et_pb_top_inside_divider et-no-transition\">\n",
            "          </div>\n",
            "          <div class=\"et_pb_row et_pb_row_0 et_pb_row_fullwidth et_pb_equal_columns et_pb_gutters1\">\n",
            "           <div class=\"et_pb_column et_pb_column_4_4 et_pb_column_0 et_pb_css_mix_blend_mode_passthrough et-last-child\">\n",
            "            <div class=\"et_pb_module et_pb_divider_0 et_pb_space et_pb_divider_hidden\">\n",
            "             <div class=\"et_pb_divider_internal\">\n",
            "             </div>\n",
            "            </div>\n",
            "            <div class=\"et_pb_module et_pb_text et_pb_text_0 et_pb_text_align_left et_pb_bg_layout_light\">\n",
            "             <div class=\"et_pb_text_inner\">\n",
            "              <h4>\n",
            "               <strong>\n",
            "                Press &amp; Notices\n",
            "               </strong>\n",
            "              </h4>\n",
            "              <h1>\n",
            "               <strong>\n",
            "                Academic Journals\n",
            "               </strong>\n",
            "              </h1>\n",
            "              <p>\n",
            "               Fagan, Benjamin. “Chronicling White America.”\n",
            "               <a href=\"http://muse.jhu.edu/journals/american_periodicals/v026/26.1.fagan.html\" rel=\"noopener noreferrer\" target=\"_blank\">\n",
            "                <em>\n",
            "                 American Periodicals: A Journal of History &amp; Criticism\n",
            "                </em>\n",
            "               </a>\n",
            "               26, no. 1 (2016): 10–13.\n",
            "              </p>\n",
            "              <p>\n",
            "               Spires, Derrick R.\n",
            "               <a href=\"http://muse.jhu.edu/login?auth=0&amp;type=summary&amp;url=/journals/early_american_literature/v051/51.1.spires.html\" rel=\"noopener noreferrer\" target=\"_blank\">\n",
            "                “The Captive Stage: Performance and the Proslavery Imagination of the Antebellum North by Douglas A. Jones (review).”\n",
            "               </a>\n",
            "               <em>\n",
            "                Early American Literature\n",
            "               </em>\n",
            "               51, no. 1 (2016): 200–205.\n",
            "              </p>\n",
            "              <p>\n",
            "               Eric Gardner. and Joycelyn Moody.\n",
            "               <a href=\"https://muse.jhu.edu/login?auth=0&amp;type=summary&amp;url=/journals/american_periodicals/v025/25.2.gardner01.html\" rel=\"noopener noreferrer\" target=\"_blank\">\n",
            "                “Introduction: Black Periodical Studies.”\n",
            "               </a>\n",
            "               <em>\n",
            "                American Periodicals: A Journal of History, Criticism, and Bibliography\n",
            "               </em>\n",
            "               25.2 (2015): 105-111.\n",
            "               <em>\n",
            "                Project MUSE\n",
            "               </em>\n",
            "               . Web.\n",
            "              </p>\n",
            "              <p>\n",
            "               Joycelyn Moody. and Howard Rambsy II.\n",
            "               <a href=\"https://muse.jhu.edu/article/593047\" rel=\"noopener noreferrer\" target=\"_blank\">\n",
            "                “Guest Editors’ Introduction: African American Print Cultures.”\n",
            "               </a>\n",
            "               <em>\n",
            "                MELUS: Multi-Ethnic Literature of the U.S.\n",
            "               </em>\n",
            "               40.3 (2015): 1-11. Project MUSE. Web.\n",
            "              </p>\n",
            "              <p>\n",
            "               <a href=\"http://common-place.org/article/column/colored-conventions-project/\" rel=\"noopener noreferrer\" target=\"_blank\">\n",
            "                Roundtable: The Colored Conventions Project\n",
            "               </a>\n",
            "               , Fall 2015.\n",
            "              </p>\n",
            "              <p>\n",
            "               <a href=\"http://common-place.org/book/the-colored-conventions-project-and-the-changing-same/\">\n",
            "                The Colored Conventions Project and the Changing Same\n",
            "               </a>\n",
            "               , by P. Gabrielle Foreman\n",
            "              </p>\n",
            "              <p>\n",
            "               <a href=\"http://common-place.org/book/toward-meaning-making-in-the-digital-age-black-women-black-data-and-colored-conventions/\">\n",
            "                Toward Meaning-making in the Digital Age: Black Women, Black Data and Colored Conventions\n",
            "               </a>\n",
            "               , by Sarah Patterson\n",
            "              </p>\n",
            "              <p>\n",
            "               <a href=\"http://common-place.org/book/the-colored-conventions-movement-in-print-and-beyond/\">\n",
            "                The Colored Conventions Movement in Print and Beyond\n",
            "               </a>\n",
            "               , by Curtis Small\n",
            "              </p>\n",
            "              <p>\n",
            "               <a href=\"http://common-place.org/book/convention-minutes-and-unconventional-proceedings/\">\n",
            "                Convention Minutes and Unconventional Proceedings\n",
            "               </a>\n",
            "               , by Jim Casey\n",
            "              </p>\n",
            "              <p>\n",
            "               <a href=\"http://common-place.org/book/liberating-history-reflections-on-rights-rituals-and-the-colored-conventions-project/\">\n",
            "                Liberating History: Reflections on Rights, Rituals and the Colored Conventions Project\n",
            "               </a>\n",
            "               , by Carol A. Rudisell — Selected as\n",
            "               <a href=\"http://digitalhumanitiesnow.org/2016/03/digital-rudisell-of-the-colored-conventions-project-on-copyright-and-doing-digital-black-history/\" rel=\"noopener noreferrer\" target=\"_blank\">\n",
            "                Editors’ Choice\n",
            "               </a>\n",
            "               by Digital Humanities Now\n",
            "              </p>\n",
            "              <p>\n",
            "              </p>\n",
            "             </div>\n",
            "            </div>\n",
            "            <div class=\"et_pb_module et_pb_text et_pb_text_1 et_pb_text_align_left et_pb_bg_layout_light\">\n",
            "             <div class=\"et_pb_text_inner\">\n",
            "              <h1>\n",
            "               <strong>\n",
            "                Press, Academic Blogs and Websites\n",
            "                <br/>\n",
            "               </strong>\n",
            "              </h1>\n",
            "              <p>\n",
            "               CCP team,\n",
            "               <a href=\"https://dmlcentral.net/digitally-improving-historical-knowledge/\" rel=\"noopener noreferrer\" target=\"_blank\" title=\"Digitally Improving Historical Knowledge\">\n",
            "                “Digitally Improving Historical Knowledge,”\n",
            "               </a>\n",
            "               <em>\n",
            "                DML Central.\n",
            "               </em>\n",
            "               Dec 25, 2017.\n",
            "              </p>\n",
            "              <p>\n",
            "               Bond, Sarah E.\n",
            "               <a href=\"https://www.forbes.com/sites/drsarahbond/2017/10/20/how-is-digital-mapping-changing-the-way-we-visualize-racism-and-segregation/\" rel=\"noopener noreferrer\" target=\"_blank\">\n",
            "                “How Is Digital Mapping Changing The Way We Visualize Racism and Segregation?”\n",
            "               </a>\n",
            "               <em>\n",
            "                Forbes\n",
            "               </em>\n",
            "               . Oct. 20, 2017.\n",
            "              </p>\n",
            "              <p>\n",
            "               McGrath, James. “\n",
            "               <a href=\"https://www.brown.edu/academics/public-humanities/news/2017-02/put-it-digital-writing-transcribing-amazing-jobs-frederick-douglass-colored-conventio-0%20\" rel=\"noopener noreferrer\" target=\"_blank\">\n",
            "                Put It In (Digital) Writing: Transcribing The Amazing Jobs of Frederick Douglass with The Colored Conventions Project\n",
            "               </a>\n",
            "               .” Blog of the Center for Public Humanities and Cultural Heritage, Brown University. Feb. 22, 2017.\n",
            "              </p>\n",
            "              <p>\n",
            "               Bies, Jessica. “\n",
            "               <a href=\"http://www.delawareonline.com/story/news/education/2017/02/15/ud-group-celebrates-frederick-douglass-birthday/97948962/\" rel=\"noopener noreferrer\" target=\"_blank\">\n",
            "                UD group celebrates Frederick Douglass’ birthday\n",
            "               </a>\n",
            "               .”\n",
            "               <em>\n",
            "                The News Journal\n",
            "               </em>\n",
            "               (DE), page 18. February 15, 2017.\n",
            "              </p>\n",
            "              <p>\n",
            "               Hong, Albert. “\n",
            "               <a href=\"http://technical.ly/delaware/2016/12/13/colored-conventions-project-mla-award/\" rel=\"noopener noreferrer\" target=\"_blank\">\n",
            "                University of Delaware’s Colored Conventions Project wins an MLA award\n",
            "               </a>\n",
            "               .” Technical.ly Delaware. Dec. 13, 2016.\n",
            "              </p>\n",
            "              <p>\n",
            "               Eric Ruth, Jim Casey, and P. Gabrielle Foreman.\n",
            "               <a href=\"http://www1.udel.edu/udmessenger/vol24no3/digital/vol24no3/index.html#p=20\" rel=\"noopener noreferrer\" target=\"_blank\">\n",
            "                “Black Voices Arise from the Past.”\n",
            "               </a>\n",
            "               <em>\n",
            "                University of Delaware Messenger\n",
            "               </em>\n",
            "               , Vol. 24, No. 3. 1820.\n",
            "              </p>\n",
            "              <p>\n",
            "               Rosinbum, John. “\n",
            "               <a href=\"http://blog.historians.org/2016/12/uncovering-activism-engaging-students-colored-conventions-project/\" rel=\"noopener noreferrer\" target=\"_blank\">\n",
            "                Uncovering Activism and Engaging Students: The Colored Conventions Project.\n",
            "               </a>\n",
            "               ” AHA Today: A Blog of the American Historical Association. Dec. 12, 2016.\n",
            "              </p>\n",
            "              <p>\n",
            "               Coard, Michael. “\n",
            "               <a href=\"http://www.phillytrib.com/commentary/resurrect-philly-s-black-economic-educational-activism/article_27c207d4-c8e0-5f3a-87e9-67ee3cf9dbce.html\" rel=\"noopener noreferrer\" target=\"_blank\">\n",
            "                Resurrect Philly’s 1830 Black economic, educational activism.\n",
            "               </a>\n",
            "               ”\n",
            "               <em>\n",
            "                The Philadelphia Tribune\n",
            "               </em>\n",
            "               . Sept. 17, 2016.\n",
            "              </p>\n",
            "              <p>\n",
            "               Kahn, Eve.\n",
            "               <a href=\"http://www.nytimes.com/2016/08/05/arts/design/colored-conventions-a-rallying-point-for-black-americans-before-the-civil-war.html?_r=0\">\n",
            "                Colored Conventions, a Rallying Point for Black Americans Before the Civil War\n",
            "               </a>\n",
            "               .\n",
            "               <em>\n",
            "                New York Times\n",
            "               </em>\n",
            "               . Aug. 4, 2016.\n",
            "              </p>\n",
            "              <p>\n",
            "               Onion, Rebecca.\n",
            "               <a href=\"http://www.slate.com/blogs/the_vault/2015/12/21/some_neat_new_digital_history_projects_that_were_new_in_2015.html\">\n",
            "                Five More Digital History Projects We Loved in 2015.\n",
            "               </a>\n",
            "               Slate Magazine. Dec. 21, 2015.\n",
            "              </p>\n",
            "              <p>\n",
            "               Ashenfelder, Mike. “\n",
            "               <a href=\"http://blogs.loc.gov/digitalpreservation/2015/09/cultural-institutions-embrace-crowdsourcing/\" rel=\"noopener noreferrer\" target=\"_blank\">\n",
            "                Cultural Institutions Embrace Crowdsourcing\n",
            "               </a>\n",
            "               .” The Signal: Digital Preservation. Library of Congress, 16 Sept. 2015. Web.\n",
            "              </p>\n",
            "              <p>\n",
            "               Singh, Amardeep. “\n",
            "               <a href=\"http://www.electrostani.com/2015/09/the-archive-gap-race-canon-and-digital.html\" rel=\"noopener noreferrer\" target=\"_blank\">\n",
            "                The Archive Gap: Race, the Canon, and the Digital Humanities\n",
            "               </a>\n",
            "               .” Amardeep Singh, &lt;http://www.electrostani.com&gt; 14 Sept. 2015. Web.\n",
            "              </p>\n",
            "              <p>\n",
            "               Hoffman, Anne and Karl Malgiero. “\n",
            "               <a href=\"http://delawarepublic.org/post/history-matters-colored-conventions\">\n",
            "                History Matters: Colored Conventions.\n",
            "               </a>\n",
            "               ”\n",
            "               <em>\n",
            "                History Matters\n",
            "               </em>\n",
            "               . Delaware Public Media, 1 May 2015. Web.\n",
            "              </p>\n",
            "              <p>\n",
            "               “\n",
            "               <a href=\"https://slis.wisc.edu/wp-content/uploads/2016/02/2015_spring_jottings.pdf\" rel=\"noopener noreferrer\" target=\"_blank\">\n",
            "                A Librarian’s Role in the Digital Humanities: The Colored Conventions Project\n",
            "               </a>\n",
            "               ” (featuring project member Carol Rudisell).\n",
            "               <em>\n",
            "                Jottings &amp; Digressions\n",
            "               </em>\n",
            "               . University of Wisconsin School of Library and Information Studies, Spring 2015. Web.\n",
            "              </p>\n",
            "              <p>\n",
            "               Fox, James. “\n",
            "               <a href=\"http://www.thefacultylounge.org/2015/03/black-originalism-part-3-the-syracuse-convention-of-1864.html\" rel=\"noopener noreferrer\" target=\"_blank\">\n",
            "                Black Originalism Part 3: The Syracuse Convention of 1864\n",
            "               </a>\n",
            "               .”\n",
            "               <em>\n",
            "                The Faculty Lounge\n",
            "               </em>\n",
            "               . Publisher, 21 March 2015. Web.\n",
            "              </p>\n",
            "              <p>\n",
            "               Parasnis-Samar, Anjali. “\n",
            "               <a href=\"https://web.archive.org/web/20160428054608/http://infospace.ischool.syr.edu/2015/02/19/crowd-sourced-project-19th-century-colored-conventions/\" rel=\"noopener noreferrer\" target=\"_blank\">\n",
            "                Crowd-Sourced Project: 19th-Century ‘Colored Conventions\n",
            "               </a>\n",
            "               .”\n",
            "               <em>\n",
            "                Information Space\n",
            "               </em>\n",
            "               . School of Information Studies, Syracuse University, 19 Feb 2015. Web.\n",
            "              </p>\n",
            "              <p>\n",
            "               Fagan, Ben. “\n",
            "               <a href=\"http://blackpressresearchcollective.org/2015/01/31/colored-conventions-and-the-early-black-press-by-benjamin-fagan/\" rel=\"noopener noreferrer\" target=\"_blank\">\n",
            "                Colored Conventions and the Early Black Press\n",
            "               </a>\n",
            "               .”\n",
            "               <em>\n",
            "                Black Press Research Collective\n",
            "               </em>\n",
            "               . Black Press Research Collective, 31 January 2015. Web.\n",
            "              </p>\n",
            "              <p>\n",
            "               Gates, Henry Louis Jr. and Lindsay Fulton. “\n",
            "               <a href=\"https://www.theroot.com/i-m-black-but-i-want-to-join-the-dar-help-1790874869\" rel=\"noopener noreferrer\" target=\"_blank\">\n",
            "                I’m Black, but I Want to Join the DAR. Help!\n",
            "               </a>\n",
            "               ”\n",
            "               <em>\n",
            "                The Root\n",
            "               </em>\n",
            "               , 7 March 2014. Web.\n",
            "              </p>\n",
            "             </div>\n",
            "            </div>\n",
            "            <div class=\"et_pb_module et_pb_text et_pb_text_2 et_pb_text_align_left et_pb_bg_layout_light\">\n",
            "             <div class=\"et_pb_text_inner\">\n",
            "              <h1>\n",
            "               <strong>\n",
            "                UDaily\n",
            "                <br/>\n",
            "               </strong>\n",
            "              </h1>\n",
            "              <p>\n",
            "               <a href=\"http://www.udel.edu/udaily/2017/february/frederick-douglass-historical-records-transcription/\" rel=\"noopener noreferrer\" target=\"_blank\">\n",
            "                Celebrating Frederick Douglass\n",
            "               </a>\n",
            "               , Feb. 20 by Ann Manser.\n",
            "              </p>\n",
            "              <p>\n",
            "               <a href=\"http://www.udel.edu/udaily/2016/december/mla-award-colored-conventions-project/\" rel=\"noopener noreferrer\" target=\"_blank\">\n",
            "                UD team working on Colored Conventions Project wins national award\n",
            "               </a>\n",
            "               , Dec. 12, 2016.\n",
            "              </p>\n",
            "              <p>\n",
            "               <a href=\"http://www1.udel.edu/udaily/2016/may/colored-conventions-accessible-archives-051116.html\" rel=\"noopener noreferrer\" target=\"_blank\">\n",
            "                Accessible Archives New agreement will enhance research for Colored Conventions Project\n",
            "               </a>\n",
            "               , May 11, 2016.\n",
            "              </p>\n",
            "              <p>\n",
            "               <a href=\"http://www1.udel.edu/udaily/2016/apr/neh-colored-conventions-041416.html\" rel=\"noopener noreferrer\" target=\"_blank\">\n",
            "                NEH grant awarded to support Colored Conventions Project,\n",
            "               </a>\n",
            "               April 14, 2016.\n",
            "              </p>\n",
            "              <p>\n",
            "               <a href=\"http://www.udel.edu/udaily/2016/sep/library-agreement-090315.html\" rel=\"noopener noreferrer\" target=\"_blank\">\n",
            "                UD Library announces historic agreement with Gale Cengage Learning, Colored Conventions Project\n",
            "               </a>\n",
            "               , Sept 3, 2015.\n",
            "              </p>\n",
            "              <p>\n",
            "               <a href=\"http://www1.udel.edu/udaily/2015/apr/colored-conventions-042015.html\" rel=\"noopener noreferrer\" target=\"_blank\">\n",
            "                ‘Colored Conventions’ symposium\n",
            "               </a>\n",
            "               , April 20, 2015.\n",
            "              </p>\n",
            "              <p>\n",
            "               <a href=\"http://www1.udel.edu/udaily/2015/mar/transcribe-minutes-031015.html\" rel=\"noopener noreferrer\" target=\"_blank\">\n",
            "                ‘Transcribe Minutes’ Colored Conventions Project launches crowd-sourcing initiative\n",
            "               </a>\n",
            "               , March 20, 2015.\n",
            "              </p>\n",
            "             </div>\n",
            "            </div>\n",
            "           </div>\n",
            "          </div>\n",
            "         </div>\n",
            "         <div class=\"et_pb_section et_pb_section_2 et_pb_with_background et_section_regular\">\n",
            "          <div class=\"et_pb_row et_pb_row_1\">\n",
            "           <div class=\"et_pb_column et_pb_column_4_4 et_pb_column_1 et_pb_css_mix_blend_mode_passthrough et-last-child\">\n",
            "            <div class=\"et_pb_module et_pb_image et_pb_image_0\">\n",
            "             <span class=\"et_pb_image_wrap\">\n",
            "              <img alt=\"\" class=\"wp-image-4726\" decoding=\"async\" height=\"196\" sizes=\"(max-width: 1080px) 100vw, 1080px\" src=\"/wp-content/uploads/2019/11/ccp_sankofa_divider-black.png\" srcset=\"https://i0.wp.com/coloredconventions.org/wp-content/uploads/2019/11/ccp_sankofa_divider-black.png?w=2257&amp;ssl=1 2257w, https://i0.wp.com/coloredconventions.org/wp-content/uploads/2019/11/ccp_sankofa_divider-black.png?resize=300%2C26&amp;ssl=1 300w, https://i0.wp.com/coloredconventions.org/wp-content/uploads/2019/11/ccp_sankofa_divider-black.png?resize=1024%2C89&amp;ssl=1 1024w, https://i0.wp.com/coloredconventions.org/wp-content/uploads/2019/11/ccp_sankofa_divider-black.png?resize=768%2C67&amp;ssl=1 768w, https://i0.wp.com/coloredconventions.org/wp-content/uploads/2019/11/ccp_sankofa_divider-black.png?resize=1536%2C133&amp;ssl=1 1536w, https://i0.wp.com/coloredconventions.org/wp-content/uploads/2019/11/ccp_sankofa_divider-black.png?resize=2048%2C178&amp;ssl=1 2048w, https://i0.wp.com/coloredconventions.org/wp-content/uploads/2019/11/ccp_sankofa_divider-black.png?resize=1080%2C94&amp;ssl=1 1080w, https://i0.wp.com/coloredconventions.org/wp-content/uploads/2019/11/ccp_sankofa_divider-black.png?resize=1280%2C111&amp;ssl=1 1280w, https://i0.wp.com/coloredconventions.org/wp-content/uploads/2019/11/ccp_sankofa_divider-black.png?resize=980%2C85&amp;ssl=1 980w, https://i0.wp.com/coloredconventions.org/wp-content/uploads/2019/11/ccp_sankofa_divider-black.png?resize=480%2C42&amp;ssl=1 480w, https://i0.wp.com/coloredconventions.org/wp-content/uploads/2019/11/ccp_sankofa_divider-black.png?w=2160&amp;ssl=1 2160w\" title=\"\" width=\"2257\"/>\n",
            "             </span>\n",
            "            </div>\n",
            "            <div class=\"et_pb_module et_pb_text et_pb_text_3 et_pb_text_align_left et_pb_bg_layout_light\">\n",
            "             <div class=\"et_pb_text_inner\">\n",
            "              <p style=\"text-align: center;\">\n",
            "               The\n",
            "               <a href=\"https://coloredconventions.org/\">\n",
            "                Colored Conventions Project\n",
            "               </a>\n",
            "               ,\n",
            "               <a href=\"https://douglassday.org/\" rel=\"noopener\" target=\"_blank\">\n",
            "                Douglass Day\n",
            "               </a>\n",
            "               and the\n",
            "               <a href=\"https://bwoaproject.org/\" rel=\"noopener\" target=\"_blank\">\n",
            "                Black Women's Organizing Archive\n",
            "               </a>\n",
            "               <br/>\n",
            "               are flagship projects of the\n",
            "               <a href=\"https://digblk.psu.edu/\" rel=\"noopener\" target=\"_blank\">\n",
            "                Center for Black Digital Research, #DigBlk\n",
            "               </a>\n",
            "               , at Penn State University.\n",
            "              </p>\n",
            "             </div>\n",
            "            </div>\n",
            "            <div class=\"et_pb_module et_pb_text et_pb_text_4 et_pb_text_align_left et_pb_bg_layout_light\">\n",
            "             <div class=\"et_pb_text_inner\">\n",
            "              <h3 style=\"text-align: center;\">\n",
            "               The Colored Conventions Project appreciates the support of:\n",
            "              </h3>\n",
            "             </div>\n",
            "            </div>\n",
            "           </div>\n",
            "          </div>\n",
            "          <div class=\"et_pb_row et_pb_row_2\">\n",
            "           <div class=\"et_pb_column et_pb_column_1_5 et_pb_column_2 et_pb_css_mix_blend_mode_passthrough et_pb_column_empty\">\n",
            "           </div>\n",
            "           <div class=\"et_pb_column et_pb_column_1_5 et_pb_column_3 et_pb_css_mix_blend_mode_passthrough\">\n",
            "            <div class=\"et_pb_module et_pb_text et_pb_text_5 et_pb_text_align_left et_pb_bg_layout_light\">\n",
            "             <div class=\"et_pb_text_inner\">\n",
            "              <p>\n",
            "               <img alt=\"\" class=\"alignnone wp-image-6255 size-medium\" data-recalc-dims=\"1\" decoding=\"async\" height=\"97\" src=\"https://i0.wp.com/coloredconventions.org/wp-content/uploads/2020/09/logo_psu.png?resize=300%2C97&amp;ssl=1\" width=\"300\"/>\n",
            "              </p>\n",
            "             </div>\n",
            "            </div>\n",
            "           </div>\n",
            "           <div class=\"et_pb_column et_pb_column_1_5 et_pb_column_4 et_pb_css_mix_blend_mode_passthrough\">\n",
            "            <div class=\"et_pb_module et_pb_text et_pb_text_6 et_pb_text_align_left et_pb_bg_layout_light\">\n",
            "             <div class=\"et_pb_text_inner\">\n",
            "              <p>\n",
            "               <img alt=\"\" class=\"aligncenter wp-image-4096\" data-recalc-dims=\"1\" decoding=\"async\" height=\"50\" sizes=\"(max-width: 205px) 100vw, 205px\" src=\"https://i0.wp.com/coloredconventions.org/wp-content/uploads/2019/09/neh_50_logo.jpg?resize=205%2C50&amp;ssl=1\" srcset=\"https://i0.wp.com/coloredconventions.org/wp-content/uploads/2019/09/neh_50_logo.jpg?resize=300%2C73&amp;ssl=1 300w, https://i0.wp.com/coloredconventions.org/wp-content/uploads/2019/09/neh_50_logo.jpg?resize=768%2C187&amp;ssl=1 768w, https://i0.wp.com/coloredconventions.org/wp-content/uploads/2019/09/neh_50_logo.jpg?resize=1024%2C250&amp;ssl=1 1024w, https://i0.wp.com/coloredconventions.org/wp-content/uploads/2019/09/neh_50_logo.jpg?w=1042&amp;ssl=1 1042w\" width=\"205\"/>\n",
            "              </p>\n",
            "             </div>\n",
            "            </div>\n",
            "           </div>\n",
            "           <div class=\"et_pb_column et_pb_column_1_5 et_pb_column_5 et_pb_css_mix_blend_mode_passthrough\">\n",
            "            <div class=\"et_pb_module et_pb_text et_pb_text_7 et_pb_text_align_left et_pb_bg_layout_light\">\n",
            "             <div class=\"et_pb_text_inner\">\n",
            "              <p>\n",
            "               <img alt=\"\" class=\"aligncenter wp-image-4095\" data-recalc-dims=\"1\" decoding=\"async\" height=\"50\" sizes=\"(max-width: 108px) 100vw, 108px\" src=\"https://i0.wp.com/coloredconventions.org/wp-content/uploads/2019/09/mellon_logo.png?resize=108%2C50&amp;ssl=1\" srcset=\"https://i0.wp.com/coloredconventions.org/wp-content/uploads/2019/09/mellon_logo.png?resize=300%2C139&amp;ssl=1 300w, https://i0.wp.com/coloredconventions.org/wp-content/uploads/2019/09/mellon_logo.png?resize=768%2C356&amp;ssl=1 768w, https://i0.wp.com/coloredconventions.org/wp-content/uploads/2019/09/mellon_logo.png?w=984&amp;ssl=1 984w\" width=\"108\"/>\n",
            "              </p>\n",
            "             </div>\n",
            "            </div>\n",
            "           </div>\n",
            "           <div class=\"et_pb_column et_pb_column_1_5 et_pb_column_6 et_pb_css_mix_blend_mode_passthrough et-last-child et_pb_column_empty\">\n",
            "           </div>\n",
            "          </div>\n",
            "          <div class=\"et_pb_row et_pb_row_3\">\n",
            "           <div class=\"et_pb_column et_pb_column_4_4 et_pb_column_7 et_pb_css_mix_blend_mode_passthrough et-last-child\">\n",
            "            <div class=\"et_pb_module et_pb_text et_pb_text_8 et_pb_text_align_left et_pb_bg_layout_light\">\n",
            "             <div class=\"et_pb_text_inner\">\n",
            "              <p>\n",
            "              </p>\n",
            "              <p style=\"text-align: center;\">\n",
            "               The Colored Conventions Project was launched &amp; cultivated at the University of Delaware from 2012-2020.\n",
            "              </p>\n",
            "             </div>\n",
            "            </div>\n",
            "           </div>\n",
            "          </div>\n",
            "          <div class=\"et_pb_row et_pb_row_4\">\n",
            "           <div class=\"et_pb_column et_pb_column_1_4 et_pb_column_8 et_pb_css_mix_blend_mode_passthrough et_pb_column_empty\">\n",
            "           </div>\n",
            "           <div class=\"et_pb_column et_pb_column_1_2 et_pb_column_9 et_pb_css_mix_blend_mode_passthrough\">\n",
            "            <ul class=\"et_pb_module et_pb_social_media_follow et_pb_social_media_follow_0 clearfix et_pb_text_align_center et_pb_bg_layout_light\">\n",
            "             <li class=\"et_pb_social_media_follow_network_0 et_pb_social_icon et_pb_social_network_link et-social-facebook\">\n",
            "              <a class=\"icon et_pb_with_border\" href=\"https://www.facebook.com/ColoredConventionsProject/\" target=\"_blank\" title=\"Follow on Facebook\">\n",
            "               <span aria-hidden=\"true\" class=\"et_pb_social_media_follow_network_name\">\n",
            "                Follow\n",
            "               </span>\n",
            "              </a>\n",
            "             </li>\n",
            "             <li class=\"et_pb_social_media_follow_network_1 et_pb_social_icon et_pb_social_network_link et-social-twitter\">\n",
            "              <a class=\"icon et_pb_with_border\" href=\"https://twitter.com/CCP_org\" target=\"_blank\" title=\"Follow on Twitter\">\n",
            "               <span aria-hidden=\"true\" class=\"et_pb_social_media_follow_network_name\">\n",
            "                Follow\n",
            "               </span>\n",
            "              </a>\n",
            "             </li>\n",
            "             <li class=\"et_pb_social_media_follow_network_2 et_pb_social_icon et_pb_social_network_link et-social-youtube\">\n",
            "              <a class=\"icon et_pb_with_border\" href=\"https://www.youtube.com/channel/UCrZ2dCB7rELCkSwxf21wLRA\" target=\"_blank\" title=\"Follow on Youtube\">\n",
            "               <span aria-hidden=\"true\" class=\"et_pb_social_media_follow_network_name\">\n",
            "                Follow\n",
            "               </span>\n",
            "              </a>\n",
            "             </li>\n",
            "            </ul>\n",
            "           </div>\n",
            "           <div class=\"et_pb_column et_pb_column_1_4 et_pb_column_10 et_pb_css_mix_blend_mode_passthrough et-last-child et_pb_column_empty\">\n",
            "           </div>\n",
            "          </div>\n",
            "         </div>\n",
            "        </div>\n",
            "       </div>\n",
            "       <!-- AddThis Advanced Settings above via filter on the_content -->\n",
            "       <!-- AddThis Advanced Settings below via filter on the_content -->\n",
            "       <!-- AddThis Advanced Settings generic via filter on the_content -->\n",
            "       <!-- AddThis Share Buttons above via filter on the_content -->\n",
            "       <!-- AddThis Share Buttons below via filter on the_content -->\n",
            "       <div class=\"at-below-post-page addthis_tool\" data-url=\"https://coloredconventions.org/about/press-notices/\">\n",
            "       </div>\n",
            "       <!-- AddThis Share Buttons generic via filter on the_content -->\n",
            "      </div>\n",
            "     </article>\n",
            "    </div>\n",
            "    <span class=\"et_pb_scroll_top et-pb-icon\">\n",
            "    </span>\n",
            "    <footer id=\"main-footer\">\n",
            "     <div id=\"footer-bottom\">\n",
            "      <div class=\"container clearfix\">\n",
            "       <div id=\"footer-info\">\n",
            "        This project has been made possible in part by the National Endowment for the Humanities: Celebrating 50 Years of Excellence.\n",
            "\n",
            "Any views, findings, conclusions, or recommendations expressed by the Colored Conventions Project do not necessarily represent those of the National Endowment for the Humanities.\n",
            "       </div>\n",
            "      </div>\n",
            "     </div>\n",
            "    </footer>\n",
            "   </div>\n",
            "  </div>\n",
            "  <script>\n",
            "   jQuery(function($){\r\n",
            "\tfunction update($gallery) {\r\n",
            "\t\tsetTimeout(\r\n",
            "\t\t\tfunction($gallery) {\r\n",
            "\t\t\t\t$gallery.find('.dbdb-slide-counter-active').text($gallery.find('.et-pb-active-slide').index()+1);\r\n",
            "\t\t\t},\r\n",
            "\t\t\t50,\r\n",
            "\t\t\t$gallery\r\n",
            "\t\t);\r\n",
            "\t}\r\n",
            "\tupdate($('.et_pb_gallery'));\r\n",
            "\t$(document).on('mouseup', '.et_pb_gallery .et-pb-slider-arrows a, .et_pb_gallery .et-pb-controllers a', \r\n",
            "\t\tfunction () {\r\n",
            "\t\t\tupdate($(this).closest('.et_pb_gallery'));\r\n",
            "\t\t}\r\n",
            "\t);\r\n",
            "});\n",
            "  </script>\n",
            "  <style>\n",
            "   .dbdb-slide-counter {\r\n",
            "\tposition: absolute;\r\n",
            "    width: 100%;\r\n",
            "}\r\n",
            ".et_pb_gallery {\r\n",
            "\toverflow: visible !important;\r\n",
            "}\r\n",
            ".et_pb_gallery_items {\r\n",
            "\toverflow: hidden;\r\n",
            "}\n",
            "  </style>\n",
            "  <script type=\"application/javascript\">\n",
            "   (function() {\n",
            "\t\t\t\tvar file     = [\"https:\\/\\/coloredconventions.org\\/wp-content\\/et-cache\\/1\\/1\\/1485\\/et-divi-dynamic-1485-late.css\"];\n",
            "\t\t\t\tvar handle   = document.getElementById('divi-style-parent-inline-inline-css');\n",
            "\t\t\t\tvar location = handle.parentNode;\n",
            "\n",
            "\t\t\t\tif (0===document.querySelectorAll('link[href=\"' + file + '\"]').length) {\n",
            "\t\t\t\t\tvar link  = document.createElement('link');\n",
            "\t\t\t\t\tlink.rel  = 'stylesheet';\n",
            "\t\t\t\t\tlink.id   = 'et-dynamic-late-css';\n",
            "\t\t\t\t\tlink.href = file;\n",
            "\n",
            "\t\t\t\t\tlocation.insertBefore(link, handle.nextSibling);\n",
            "\t\t\t\t}\n",
            "\t\t\t})();\n",
            "  </script>\n",
            "  <link as=\"font\" crossorigin=\"\" href=\"https://coloredconventions.org/wp-content/plugins/divi-booster/core/icons/socicon/fonts/Socicon.woff2?87visu\" rel=\"preload\"/>\n",
            "  <style>\n",
            "   @font-face {\r\n",
            "  font-family: 'Socicon';\r\n",
            "  src:  url('https://coloredconventions.org/wp-content/plugins/divi-booster/core/icons/socicon/fonts/Socicon.eot?87visu');\r\n",
            "  src:  url('https://coloredconventions.org/wp-content/plugins/divi-booster/core/icons/socicon/fonts/Socicon.eot?87visu#iefix') format('embedded-opentype'),\r\n",
            "\turl('https://coloredconventions.org/wp-content/plugins/divi-booster/core/icons/socicon/fonts/Socicon.woff2?87visu') format('woff2'),\r\n",
            "\turl('https://coloredconventions.org/wp-content/plugins/divi-booster/core/icons/socicon/fonts/Socicon.ttf?87visu') format('truetype'),\r\n",
            "\turl('https://coloredconventions.org/wp-content/plugins/divi-booster/core/icons/socicon/fonts/Socicon.woff?87visu') format('woff'),\r\n",
            "\turl('https://coloredconventions.org/wp-content/plugins/divi-booster/core/icons/socicon/fonts/Socicon.svg?87visu#Socicon') format('svg');\r\n",
            "  font-weight: normal;\r\n",
            "  font-style: normal;\r\n",
            "  font-display: block;\r\n",
            "}\n",
            "  </style>\n",
            "  <script data-cfasync=\"false\" type=\"text/javascript\">\n",
            "   if (window.addthis_product === undefined) { window.addthis_product = \"wpp\"; } if (window.wp_product_version === undefined) { window.wp_product_version = \"wpp-6.2.7\"; } if (window.addthis_share === undefined) { window.addthis_share = {\"passthrough\":{\"twitter\":{\"via\":\"CCP_org\"}}}; } if (window.addthis_config === undefined) { window.addthis_config = {\"data_track_clickback\":true,\"ui_atversion\":\"300\"}; } if (window.addthis_plugin_info === undefined) { window.addthis_plugin_info = {\"info_status\":\"enabled\",\"cms_name\":\"WordPress\",\"plugin_name\":\"Share Buttons by AddThis\",\"plugin_version\":\"6.2.7\",\"plugin_mode\":\"AddThis\",\"anonymous_profile_id\":\"wp-33cb2567911ea0fb3d3f12759b186594\",\"page_info\":{\"template\":\"pages\",\"post_type\":\"\"},\"sharing_enabled_on_post_via_metabox\":false}; } \n",
            "                    (function() {\n",
            "                      var first_load_interval_id = setInterval(function () {\n",
            "                        if (typeof window.addthis !== 'undefined') {\n",
            "                          window.clearInterval(first_load_interval_id);\n",
            "                          if (typeof window.addthis_layers !== 'undefined' && Object.getOwnPropertyNames(window.addthis_layers).length > 0) {\n",
            "                            window.addthis.layers(window.addthis_layers);\n",
            "                          }\n",
            "                          if (Array.isArray(window.addthis_layers_tools)) {\n",
            "                            for (i = 0; i < window.addthis_layers_tools.length; i++) {\n",
            "                              window.addthis.layers(window.addthis_layers_tools[i]);\n",
            "                            }\n",
            "                          }\n",
            "                        }\n",
            "                     },1000)\n",
            "                    }());\n",
            "  </script>\n",
            "  <link href=\"https://coloredconventions.org/wp-content/plugins/divi-booster/core/icons/socicon/style.min.css?ver=4.1.6\" id=\"dbdb-icons-socicon-css\" media=\"all\" rel=\"stylesheet\" type=\"text/css\"/>\n",
            "  <link href=\"https://coloredconventions.org/wp-content/plugins/divi-booster/core/icons/divi-booster-icons/icomoon/style.min.css?ver=4.1.6\" id=\"dbdb-icons-divi-booster-icons-css\" media=\"all\" rel=\"stylesheet\" type=\"text/css\"/>\n",
            "  <link href=\"https://coloredconventions.org/wp-includes/css/dist/block-library/style.min.css?ver=6.1.1\" id=\"wp-block-library-css\" media=\"none\" onload=\"media='all'\" rel=\"stylesheet\" type=\"text/css\"/>\n",
            "  <style id=\"wp-block-library-inline-css\" type=\"text/css\">\n",
            "   .has-text-align-justify{text-align:justify;}\n",
            "  </style>\n",
            "  <script id=\"jetpack-photon-js\" src=\"https://coloredconventions.org/wp-content/plugins/jetpack/_inc/build/photon/photon.min.js?ver=20191001\" type=\"text/javascript\">\n",
            "  </script>\n",
            "  <script id=\"divi-custom-script-js-extra\" type=\"text/javascript\">\n",
            "   /* <![CDATA[ */\n",
            "var DIVI = {\"item_count\":\"%d Item\",\"items_count\":\"%d Items\"};\n",
            "var et_builder_utils_params = {\"condition\":{\"diviTheme\":true,\"extraTheme\":false},\"scrollLocations\":[\"app\",\"top\"],\"builderScrollLocations\":{\"desktop\":\"app\",\"tablet\":\"app\",\"phone\":\"app\"},\"onloadScrollLocation\":\"app\",\"builderType\":\"fe\"};\n",
            "var et_frontend_scripts = {\"builderCssContainerPrefix\":\"#et-boc\",\"builderCssLayoutPrefix\":\"#et-boc .et-l\"};\n",
            "var et_pb_custom = {\"ajaxurl\":\"https:\\/\\/coloredconventions.org\\/wp-admin\\/admin-ajax.php\",\"images_uri\":\"https:\\/\\/coloredconventions.org\\/wp-content\\/themes\\/Divi\\/images\",\"builder_images_uri\":\"https:\\/\\/coloredconventions.org\\/wp-content\\/themes\\/Divi\\/includes\\/builder\\/images\",\"et_frontend_nonce\":\"c535f9860d\",\"subscription_failed\":\"Please, check the fields below to make sure you entered the correct information.\",\"et_ab_log_nonce\":\"c744640b3e\",\"fill_message\":\"Please, fill in the following fields:\",\"contact_error_message\":\"Please, fix the following errors:\",\"invalid\":\"Invalid email\",\"captcha\":\"Captcha\",\"prev\":\"Prev\",\"previous\":\"Previous\",\"next\":\"Next\",\"wrong_captcha\":\"You entered the wrong number in captcha.\",\"wrong_checkbox\":\"Checkbox\",\"ignore_waypoints\":\"no\",\"is_divi_theme_used\":\"1\",\"widget_search_selector\":\".widget_search\",\"ab_tests\":[],\"is_ab_testing_active\":\"\",\"page_id\":\"1485\",\"unique_test_id\":\"\",\"ab_bounce_rate\":\"5\",\"is_cache_plugin_active\":\"yes\",\"is_shortcode_tracking\":\"\",\"tinymce_uri\":\"https:\\/\\/coloredconventions.org\\/wp-content\\/themes\\/Divi\\/includes\\/builder\\/frontend-builder\\/assets\\/vendors\",\"accent_color\":\"#b75703\",\"waypoints_options\":[]};\n",
            "var et_pb_box_shadow_elements = [];\n",
            "/* ]]> */\n",
            "  </script>\n",
            "  <script id=\"divi-custom-script-js\" src=\"https://coloredconventions.org/wp-content/themes/Divi/js/scripts.min.js?ver=4.20.2\" type=\"text/javascript\">\n",
            "  </script>\n",
            "  <script id=\"addthis_widget-js\" src=\"https://s7.addthis.com/js/300/addthis_widget.js?ver=6.1.1#pubid=ra-5d829fb0b0fbd5b6\" type=\"text/javascript\">\n",
            "  </script>\n",
            "  <script id=\"et-core-common-js\" src=\"https://coloredconventions.org/wp-content/themes/Divi/core/admin/js/common.js?ver=4.20.2\" type=\"text/javascript\">\n",
            "  </script>\n",
            "  <style id=\"et-builder-module-design-deferred-cached-inline-styles\">\n",
            "   .et_pb_section_0.et_pb_section{padding-top:0px;padding-right:0px;padding-bottom:0px;padding-left:0px}.et_pb_section_0.section_has_divider.et_pb_top_divider .et_pb_top_inside_divider{background-image:url(data:image/svg+xml;base64,PHN2ZyB3aWR0aD0iMTAwJSIgaGVpZ2h0PSI1MHB4IiB2aWV3Qm94PSIwIDAgMTI4MCAxNDAiIHByZXNlcnZlQXNwZWN0UmF0aW89Im5vbmUiIHhtbG5zPSJodHRwOi8vd3d3LnczLm9yZy8yMDAwL3N2ZyI+PGcgZmlsbD0iIzAwMDAwMCI+PHBhdGggZD0iTTAgMHYxNDBoMTI4MEwwIDB6IiBmaWxsLW9wYWNpdHk9Ii41Ii8+PHBhdGggZD0iTTAgNDJ2OThoMTI4MEwwIDQyeiIvPjwvZz48L3N2Zz4=);background-size:100% 50px;top:0;height:50px;z-index:10;transform:scale(-1,-1);background-color:transparent}.et_pb_divider_0{height:65px}.et_pb_text_0 h1,.et_pb_text_1 h1,.et_pb_text_2 h1{font-size:48px}.et_pb_text_0 h2,.et_pb_text_1 h2,.et_pb_text_2 h2{font-size:15px}.et_pb_text_0 h4,.et_pb_text_1 h4,.et_pb_text_2 h4{color:#727f89!important}.et_pb_text_0,.et_pb_text_1,.et_pb_text_2{max-width:80%}.et_pb_section_1.et_pb_section{padding-top:75px;padding-right:0px;padding-bottom:0px;padding-left:0px}.et_pb_section_2.et_pb_section{padding-top:75px;padding-right:0px;padding-bottom:0px;padding-left:0px;background-color:#ffffff!important}.et_pb_row_1.et_pb_row{padding-top:0px!important;padding-right:0px!important;padding-bottom:0px!important;padding-left:0px!important;padding-top:0;padding-right:0px;padding-bottom:0px;padding-left:0px}.et_pb_image_0{padding-bottom:10px;width:75%;text-align:center}.et_pb_row_2.et_pb_row,.et_pb_row_3.et_pb_row{padding-top:0px!important;padding-right:0px!important;padding-bottom:0px!important;padding-left:0px!important;padding-top:0;padding-right:0px;padding-bottom:0;padding-left:0px}.et_pb_row_4.et_pb_row{padding-top:0px!important;padding-right:0px!important;padding-bottom:27px!important;padding-left:0px!important;padding-top:0;padding-right:0px;padding-bottom:27px;padding-left:0px}.et_pb_column_9{background-color:#ffffff}.et_pb_social_media_follow_network_0 a.icon{background-color:#3b5998!important}.et_pb_social_media_follow_network_1 a.icon{background-color:#00aced!important}.et_pb_social_media_follow_network_2 a.icon{background-color:#a82400!important}.et_pb_row_0.et_pb_row{padding-top:0px!important;padding-right:0px!important;padding-bottom:0px!important;padding-left:0px!important;margin-left:auto!important;margin-right:auto!important;padding-top:0;padding-right:0px;padding-bottom:0;padding-left:0px}.et_pb_text_0.et_pb_module,.et_pb_text_1.et_pb_module,.et_pb_text_2.et_pb_module{margin-left:auto!important;margin-right:auto!important}@media only screen and (min-width:981px){.et_pb_row_0,body #page-container .et-db #et-boc .et-l .et_pb_row_0.et_pb_row,body.et_pb_pagebuilder_layout.single #page-container #et-boc .et-l .et_pb_row_0.et_pb_row,body.et_pb_pagebuilder_layout.single.et_full_width_page #page-container #et-boc .et-l .et_pb_row_0.et_pb_row{width:100%;max-width:100%}}@media only screen and (max-width:980px){.et_pb_section_0.et_pb_section{padding-top:50px;padding-right:0px;padding-bottom:50px;padding-left:0px}.et_pb_row_0,body #page-container .et-db #et-boc .et-l .et_pb_row_0.et_pb_row,body.et_pb_pagebuilder_layout.single #page-container #et-boc .et-l .et_pb_row_0.et_pb_row,body.et_pb_pagebuilder_layout.single.et_full_width_page #page-container #et-boc .et-l .et_pb_row_0.et_pb_row{width:100%;max-width:100%}.et_pb_image_0 .et_pb_image_wrap img{width:auto}}@media only screen and (max-width:767px){.et_pb_image_0 .et_pb_image_wrap img{width:auto}}\n",
            "  </style>\n",
            "  <script defer=\"\" src=\"https://stats.wp.com/e-202313.js\">\n",
            "  </script>\n",
            "  <script>\n",
            "   _stq = window._stq || [];\n",
            "\t\t_stq.push([ 'view', {v:'ext',blog:'180539981',post:'1485',tz:'0',srv:'coloredconventions.org',j:'1:11.9.1'} ]);\n",
            "\t\t_stq.push([ 'clickTrackerInit', '180539981', '1485' ]);\n",
            "  </script>\n",
            " </body>\n",
            "</html>\n",
            "<!-- Dynamic page generated in 1.115 seconds. -->\n",
            "\n"
          ]
        }
      ],
      "source": [
        "# Specify url: url\n",
        "url4 = 'http://coloredconventions.org/press#scholarship'\n",
        "\n",
        "# Package the request, send the request and catch the response: r\n",
        "r = requests.get(url4)\n",
        "\n",
        "# Extracts the response as html: html_doc\n",
        "html_doc = r.text\n",
        "\n",
        "# Create a BeautifulSoup object from the HTML: soup\n",
        "soup = BeautifulSoup(html_doc)\n",
        "\n",
        "# Prettify the BeautifulSoup object: pretty_soup\n",
        "pretty_soup = soup.prettify()\n",
        "\n",
        "# Print the response\n",
        "print(pretty_soup)"
      ]
    },
    {
      "cell_type": "markdown",
      "metadata": {
        "id": "ie-mNbfsI1d8"
      },
      "source": [
        "Compare the text imported using the \"webscraping\" method included with BeautifulSoup versus the option of importing the entire file using URLLIB. "
      ]
    },
    {
      "cell_type": "markdown",
      "source": [
        "## Answer\n",
        "The two methods of importing data from a webpage, BeautifulSoup's web scraping method and the URLLIB method, differ in several ways. It method involves parsing the HTML code of a webpage to extract the desired content. It is a more targeted approach  to extract only the specific elements of the webpage that you are interested in. This method requires the use of a third-party library, such as BeautifulSoup, and some knowledge of HTML structure and syntax.\n",
        "\n",
        "BeautifulSoup method requires some knowledge of HTML syntax and structure, as well as the use of a third-party library, which means we can customize the data extraction process to suit your specific needs. The URLLIB method, on the other hand, is simpler and requires less technical expertise, but it's limited in terms of its flexibility."
      ],
      "metadata": {
        "id": "aNz_6aaW1Bk2"
      }
    },
    {
      "cell_type": "markdown",
      "metadata": {
        "id": "9k5U0rkAI1d8"
      },
      "source": [
        "## Cleaning up Webscraped text"
      ]
    },
    {
      "cell_type": "code",
      "execution_count": null,
      "metadata": {
        "id": "Chi4_KhUI1d8",
        "colab": {
          "base_uri": "https://localhost:8080/"
        },
        "outputId": "bc125c81-954e-45ed-ed65-08d281ccd05d"
      },
      "outputs": [
        {
          "output_type": "stream",
          "name": "stdout",
          "text": [
            "<title>Press &amp; Notices - Colored Conventions Project</title>\n"
          ]
        }
      ],
      "source": [
        "# Import packages\n",
        "import requests\n",
        "from bs4 import BeautifulSoup\n",
        "\n",
        "# Specify url: url\n",
        "url5 = 'http://coloredconventions.org/press#scholarship'\n",
        "\n",
        "# Package the request, send the request and catch the response: r\n",
        "r = requests.get(url5)\n",
        "\n",
        "# Extract the response as html: html_doc\n",
        "html_doc = r.text\n",
        "\n",
        "# Create a BeautifulSoup object from the HTML: soup\n",
        "soup = BeautifulSoup(html_doc)\n",
        "\n",
        "# Get the title of Colored Conventions' webpage: ccc_title\n",
        "ccc_title = soup.title\n",
        "\n",
        "# Print the title of Colored Conventions' webpage to the shell\n",
        "print(ccc_title)\n"
      ]
    },
    {
      "cell_type": "code",
      "execution_count": null,
      "metadata": {
        "id": "LRql1zrYI1d8",
        "colab": {
          "base_uri": "https://localhost:8080/"
        },
        "outputId": "a64783a7-cd99-4b7a-c4fa-a37e9f06c247"
      },
      "outputs": [
        {
          "output_type": "stream",
          "name": "stdout",
          "text": [
            "\n",
            "\n",
            "\n",
            "\n",
            "\n",
            "\n",
            "\n",
            "\n",
            "\n",
            "Press & Notices - Colored Conventions Project\n",
            "\n",
            "\n",
            "\n",
            "\n",
            "\n",
            "\n",
            "\n",
            "\n",
            "\n",
            "\n",
            "\n",
            "\n",
            "\n",
            "\n",
            "\n",
            "\n",
            "\n",
            "\n",
            "\n",
            "\n",
            "\n",
            "\n",
            "\n",
            "\n",
            "\n",
            "\n",
            "\n",
            "\n",
            "\n",
            "\n",
            "\n",
            "\n",
            "\n",
            "\n",
            "\n",
            "\n",
            "\n",
            "\n",
            "\n",
            "\n",
            "\n",
            "\n",
            "\n",
            "\n",
            "\n",
            "\n",
            "\n",
            "\n",
            "\n",
            "\n",
            "\n",
            "\n",
            "\n",
            "\n",
            "\n",
            "\n",
            "\n",
            "\n",
            "\n",
            "\n",
            "\n",
            " \n",
            "\n",
            "\n",
            "\n",
            "THE COLORED CONVENTIONS BOOK   ▶Learn more  ▶Order book\n",
            " \n",
            "\n",
            "\n",
            "\n",
            "\n",
            "\n",
            "\n",
            "\n",
            "\n",
            "\n",
            "\n",
            "\n",
            "\n",
            "HOME\n",
            "CONVENTIONS\n",
            "\n",
            "About the Conventions\n",
            "Digital Records\n",
            "Submit Records\n",
            "CCP Corpus\n",
            "Bibliography\n",
            "\n",
            "\n",
            "EXHIBITS\n",
            "TEACHING\n",
            "\n",
            "North American Teaching Partners\n",
            "Curriculum\n",
            "\n",
            "\n",
            "NEWS & EVENTS\n",
            "\n",
            "Douglass Day\n",
            "Transcribe Mary Ann Shadd Cary Papers\n",
            "Symposium 2022: The Making of a Social Movement\n",
            "Mural in Philadelphia\n",
            "News\n",
            "Press & Notices\n",
            "Videos\n",
            "\n",
            "\n",
            "ABOUT CCP\n",
            "\n",
            "CCP Principles\n",
            "Team\n",
            "Committees\n",
            "Project Curriculum Vitae\n",
            "Speaker’s Agreement\n",
            "#DigBlk, Center for Black Digital Research\n",
            "How to Use This Site\n",
            "Contact Us\n",
            "\n",
            "\n",
            "DONATE\n",
            " \n",
            "\n",
            "\n",
            "\n",
            "\n",
            "\n",
            "Select Page\n",
            "\n",
            "\n",
            "  \n",
            " \n",
            "\n",
            "\n",
            "\n",
            " \n",
            "\n",
            "\n",
            "\n",
            " \n",
            "\n",
            "\n",
            "\n",
            "\n",
            "\n",
            "\n",
            "\n",
            "\n",
            "\n",
            "\n",
            "\n",
            "Press & Notices\n",
            "Academic Journals\n",
            "Fagan, Benjamin. “Chronicling White America.” American Periodicals: A Journal of History & Criticism 26, no. 1 (2016): 10–13.\n",
            "Spires, Derrick R. “The Captive Stage: Performance and the Proslavery Imagination of the Antebellum North by Douglas A. Jones (review).” Early American Literature 51, no. 1 (2016): 200–205.\n",
            "Eric Gardner. and Joycelyn Moody. “Introduction: Black Periodical Studies.” American Periodicals: A Journal of History, Criticism, and Bibliography 25.2 (2015): 105-111. Project MUSE. Web.\n",
            "Joycelyn Moody. and Howard Rambsy II. “Guest Editors’ Introduction: African American Print Cultures.”MELUS: Multi-Ethnic Literature of the U.S. 40.3 (2015): 1-11. Project MUSE. Web.\n",
            "Roundtable: The Colored Conventions Project, Fall 2015. \n",
            "The Colored Conventions Project and the Changing Same, by P. Gabrielle Foreman\n",
            "Toward Meaning-making in the Digital Age: Black Women, Black Data and Colored Conventions, by Sarah Patterson\n",
            "The Colored Conventions Movement in Print and Beyond, by Curtis Small\n",
            "Convention Minutes and Unconventional Proceedings, by Jim Casey\n",
            "Liberating History: Reflections on Rights, Rituals and the Colored Conventions Project, by Carol A. Rudisell — Selected as Editors’ Choice by Digital Humanities Now\n",
            " \n",
            "\n",
            "Press, Academic Blogs and Websites\n",
            "\n",
            "CCP team, “Digitally Improving Historical Knowledge,” DML Central. Dec 25, 2017. \n",
            "Bond, Sarah E. “How Is Digital Mapping Changing The Way We Visualize Racism and Segregation?” Forbes. Oct. 20, 2017.  \n",
            "McGrath, James. “Put It In (Digital) Writing: Transcribing The Amazing Jobs of Frederick Douglass with The Colored Conventions Project.” Blog of the Center for Public Humanities and Cultural Heritage, Brown University. Feb. 22, 2017.\n",
            "Bies, Jessica. “UD group celebrates Frederick Douglass’ birthday.” The News Journal (DE), page 18. February 15, 2017.\n",
            "Hong, Albert. “University of Delaware’s Colored Conventions Project wins an MLA award.” Technical.ly Delaware. Dec. 13, 2016. \n",
            "Eric Ruth, Jim Casey, and P. Gabrielle Foreman. “Black Voices Arise from the Past.” University of Delaware Messenger, Vol. 24, No. 3. 1820.\n",
            "Rosinbum, John. “Uncovering Activism and Engaging Students: The Colored Conventions Project.” AHA Today: A Blog of the American Historical Association. Dec. 12, 2016. \n",
            "Coard, Michael. “Resurrect Philly’s 1830 Black economic, educational activism.” The Philadelphia Tribune. Sept. 17, 2016. \n",
            "Kahn, Eve. Colored Conventions, a Rallying Point for Black Americans Before the Civil War. New York Times. Aug. 4, 2016. \n",
            "Onion, Rebecca. Five More Digital History Projects We Loved in 2015. Slate Magazine. Dec. 21, 2015. \n",
            "Ashenfelder, Mike. “Cultural Institutions Embrace Crowdsourcing.” The Signal: Digital Preservation. Library of Congress, 16 Sept. 2015. Web.  \n",
            "Singh, Amardeep. “The Archive Gap: Race, the Canon, and the Digital Humanities.” Amardeep Singh, <http://www.electrostani.com> 14 Sept. 2015. Web.\n",
            "Hoffman, Anne and Karl Malgiero. “History Matters: Colored Conventions.” History Matters. Delaware Public Media, 1 May 2015. Web.\n",
            "“A Librarian’s Role in the Digital Humanities: The Colored Conventions Project” (featuring project member Carol Rudisell). Jottings & Digressions. University of Wisconsin School of Library and Information Studies, Spring 2015. Web.\n",
            "Fox, James. “Black Originalism Part 3: The Syracuse Convention of 1864.” The Faculty Lounge. Publisher, 21 March 2015. Web.\n",
            "Parasnis-Samar, Anjali. “Crowd-Sourced Project: 19th-Century ‘Colored Conventions.” Information Space. School of Information Studies, Syracuse University, 19 Feb 2015. Web.\n",
            "Fagan, Ben. “Colored Conventions and the Early Black Press.” Black Press Research Collective. Black Press Research Collective, 31 January 2015. Web.\n",
            "Gates, Henry Louis Jr. and Lindsay Fulton. “I’m Black, but I Want to Join the DAR. Help!” The Root, 7 March 2014. Web.\n",
            "\n",
            " UDaily\n",
            "\n",
            "Celebrating Frederick Douglass, Feb. 20 by Ann Manser.\n",
            "UD team working on Colored Conventions Project wins national award, Dec. 12, 2016. \n",
            "Accessible Archives New agreement will enhance research for Colored Conventions Project, May 11, 2016.\n",
            "NEH grant awarded to support Colored Conventions Project, April 14, 2016.\n",
            "UD Library announces historic agreement with Gale Cengage Learning, Colored Conventions Project, Sept 3, 2015.\n",
            "‘Colored Conventions’ symposium, April 20, 2015.\n",
            "‘Transcribe Minutes’ Colored Conventions Project launches crowd-sourcing initiative, March 20, 2015.\n",
            "\n",
            "\n",
            "\n",
            "\n",
            "\n",
            "\n",
            "\n",
            "\n",
            "\n",
            "The Colored Conventions Project, Douglass Day and the Black Women's Organizing Archive\n",
            "are flagship projects of the Center for Black Digital Research, #DigBlk, at Penn State University.\n",
            "\n",
            "The Colored Conventions Project appreciates the support of:\n",
            "\n",
            "\n",
            "\n",
            "\n",
            "\n",
            "\n",
            "\n",
            "\n",
            "\n",
            "\n",
            "\n",
            "\n",
            "\n",
            "\n",
            "\n",
            "\n",
            "\n",
            "\n",
            "\n",
            "\n",
            "\n",
            " \n",
            "The Colored Conventions Project was launched & cultivated at the University of Delaware from 2012-2020.\n",
            "\n",
            "\n",
            "\n",
            "\n",
            "\n",
            "\n",
            "FollowFollowFollow\n",
            "\n",
            "\n",
            "\n",
            "\n",
            " \n",
            "\n",
            " \n",
            "\n",
            "\n",
            "\n",
            "\n",
            "\n",
            "\n",
            "This project has been made possible in part by the National Endowment for the Humanities: Celebrating 50 Years of Excellence.\n",
            "\n",
            "Any views, findings, conclusions, or recommendations expressed by the Colored Conventions Project do not necessarily represent those of the National Endowment for the Humanities. \n",
            "\n",
            "\n",
            "\n",
            "\n",
            "\n",
            "\n",
            "\n",
            "\n",
            "\n",
            "\n",
            "\n",
            "\n",
            "\n",
            "\n",
            "\n",
            "\n",
            "\n",
            "\n",
            " \n",
            "\n",
            "\n",
            "\n",
            "\n"
          ]
        }
      ],
      "source": [
        "# Get Colored Conventions' text: ccc_text\n",
        "ccc_text = soup.get_text()\n",
        "\n",
        "# Print CCC's text \n",
        "print(ccc_text)"
      ]
    },
    {
      "cell_type": "code",
      "execution_count": null,
      "metadata": {
        "id": "30cgMgnJI1d8",
        "colab": {
          "base_uri": "https://localhost:8080/"
        },
        "outputId": "b5e7a729-5654-4fbe-d274-d91814ccd777"
      },
      "outputs": [
        {
          "output_type": "stream",
          "name": "stdout",
          "text": [
            "/about/book/\n",
            "https://coloredconventions.org/\n",
            "https://coloredconventions.org/\n",
            "https://coloredconventions.org/about-conventions/\n",
            "https://coloredconventions.org/about-conventions/\n",
            "https://coloredconventions.org/about-records/\n",
            "https://coloredconventions.org/about-conventions/submit-records/\n",
            "https://coloredconventions.org/about-records/ccp-corpus/\n",
            "https://coloredconventions.org/bibliography/\n",
            "https://coloredconventions.org/exhibits/\n",
            "https://coloredconventions.org/teaching/\n",
            "https://coloredconventions.org/teaching/#teaching-partners\n",
            "https://coloredconventions.org/curriculum/\n",
            "https://coloredconventions.org/news/\n",
            "https://douglassday.org/\n",
            "https://douglassday.org/\n",
            "https://coloredconventions.org/digblk/symposium-ccp-making-social-movement/\n",
            "https://coloredconventions.org/news/mural-dedication-philadelphia/\n",
            "https://coloredconventions.org/news/\n",
            "https://coloredconventions.org/about/press-notices/\n",
            "https://coloredconventions.org/about/videos/\n",
            "https://coloredconventions.org/about/\n",
            "https://coloredconventions.org/about/principles/\n",
            "https://coloredconventions.org/about/team/\n",
            "https://coloredconventions.org/about/team/committees/\n",
            "https://coloredconventions.org/about/cv/\n",
            "https://coloredconventions.org/about/speakers-agreement/\n",
            "https://coloredconventions.org/digblk/\n",
            "https://coloredconventions.org/about/using-two-sites/\n",
            "https://coloredconventions.org/contact/\n",
            "https://coloredconventions.org/donate/\n",
            "http://muse.jhu.edu/journals/american_periodicals/v026/26.1.fagan.html\n",
            "http://muse.jhu.edu/login?auth=0&type=summary&url=/journals/early_american_literature/v051/51.1.spires.html\n",
            "https://muse.jhu.edu/login?auth=0&type=summary&url=/journals/american_periodicals/v025/25.2.gardner01.html\n",
            "https://muse.jhu.edu/article/593047\n",
            "http://common-place.org/article/column/colored-conventions-project/\n",
            "http://common-place.org/book/the-colored-conventions-project-and-the-changing-same/\n",
            "http://common-place.org/book/toward-meaning-making-in-the-digital-age-black-women-black-data-and-colored-conventions/\n",
            "http://common-place.org/book/the-colored-conventions-movement-in-print-and-beyond/\n",
            "http://common-place.org/book/convention-minutes-and-unconventional-proceedings/\n",
            "http://common-place.org/book/liberating-history-reflections-on-rights-rituals-and-the-colored-conventions-project/\n",
            "http://digitalhumanitiesnow.org/2016/03/digital-rudisell-of-the-colored-conventions-project-on-copyright-and-doing-digital-black-history/\n",
            "https://dmlcentral.net/digitally-improving-historical-knowledge/\n",
            "https://www.forbes.com/sites/drsarahbond/2017/10/20/how-is-digital-mapping-changing-the-way-we-visualize-racism-and-segregation/\n",
            "https://www.brown.edu/academics/public-humanities/news/2017-02/put-it-digital-writing-transcribing-amazing-jobs-frederick-douglass-colored-conventio-0%20\n",
            "http://www.delawareonline.com/story/news/education/2017/02/15/ud-group-celebrates-frederick-douglass-birthday/97948962/\n",
            "http://technical.ly/delaware/2016/12/13/colored-conventions-project-mla-award/\n",
            "http://www1.udel.edu/udmessenger/vol24no3/digital/vol24no3/index.html#p=20\n",
            "http://blog.historians.org/2016/12/uncovering-activism-engaging-students-colored-conventions-project/\n",
            "http://www.phillytrib.com/commentary/resurrect-philly-s-black-economic-educational-activism/article_27c207d4-c8e0-5f3a-87e9-67ee3cf9dbce.html\n",
            "http://www.nytimes.com/2016/08/05/arts/design/colored-conventions-a-rallying-point-for-black-americans-before-the-civil-war.html?_r=0\n",
            "http://www.slate.com/blogs/the_vault/2015/12/21/some_neat_new_digital_history_projects_that_were_new_in_2015.html\n",
            "http://blogs.loc.gov/digitalpreservation/2015/09/cultural-institutions-embrace-crowdsourcing/\n",
            "http://www.electrostani.com/2015/09/the-archive-gap-race-canon-and-digital.html\n",
            "http://delawarepublic.org/post/history-matters-colored-conventions\n",
            "https://slis.wisc.edu/wp-content/uploads/2016/02/2015_spring_jottings.pdf\n",
            "http://www.thefacultylounge.org/2015/03/black-originalism-part-3-the-syracuse-convention-of-1864.html\n",
            "https://web.archive.org/web/20160428054608/http://infospace.ischool.syr.edu/2015/02/19/crowd-sourced-project-19th-century-colored-conventions/\n",
            "http://blackpressresearchcollective.org/2015/01/31/colored-conventions-and-the-early-black-press-by-benjamin-fagan/\n",
            "https://www.theroot.com/i-m-black-but-i-want-to-join-the-dar-help-1790874869\n",
            "http://www.udel.edu/udaily/2017/february/frederick-douglass-historical-records-transcription/\n",
            "http://www.udel.edu/udaily/2016/december/mla-award-colored-conventions-project/\n",
            "http://www1.udel.edu/udaily/2016/may/colored-conventions-accessible-archives-051116.html\n",
            "http://www1.udel.edu/udaily/2016/apr/neh-colored-conventions-041416.html\n",
            "http://www.udel.edu/udaily/2016/sep/library-agreement-090315.html\n",
            "http://www1.udel.edu/udaily/2015/apr/colored-conventions-042015.html\n",
            "http://www1.udel.edu/udaily/2015/mar/transcribe-minutes-031015.html\n",
            "https://coloredconventions.org/\n",
            "https://douglassday.org/\n",
            "https://bwoaproject.org/\n",
            "https://digblk.psu.edu/\n",
            "https://www.facebook.com/ColoredConventionsProject/\n",
            "https://twitter.com/CCP_org\n",
            "https://www.youtube.com/channel/UCrZ2dCB7rELCkSwxf21wLRA\n"
          ]
        }
      ],
      "source": [
        "# Find all 'a' tags (which define hyperlinks): a_tags\n",
        "a_tags = soup.find_all('a')\n",
        "\n",
        "# Print the URLs to the shell\n",
        "for link in a_tags:\n",
        "    print(link.get('href'))"
      ]
    },
    {
      "cell_type": "markdown",
      "source": [
        "# Questions for reflection"
      ],
      "metadata": {
        "id": "7o2vTt-YKid0"
      }
    },
    {
      "cell_type": "markdown",
      "metadata": {
        "id": "SLcayZQmI1d8"
      },
      "source": [
        "Explain what the value is of importing HTML files using BeautifulSoup. How does this relate to the concerns that Rawson and Muñoz raise in their article? Are there times when you might want to keep the HTML? "
      ]
    },
    {
      "cell_type": "markdown",
      "source": [
        "## Answer\n",
        "\n",
        "BeautifulSoup is a Python library that enables parsing and extracting data from HTML and XML files. It extracts specific elements like tables, paragraphs, or headings from HTML files for further analysis or visualization. The library's value lies in its ability to convert unstructured data into structured formats, such as CSV or JSON files, allowing for easier analysis and visualization. This addresses the concerns highlighted by Rawson and Muñoz, who emphasize the importance of data cleaning and structuring. By leveraging BeautifulSoup to extract data elements from HTML files, unstructured data can be transformed into structured data, resulting in reduced noise, improved accuracy, and increased data reliability."
      ],
      "metadata": {
        "id": "TH0pQLjJKc5C"
      }
    },
    {
      "cell_type": "markdown",
      "source": [
        "Consider Rob Kitchin's criteria of \"good data.\" Would these datasets satisfy his definition of \"good data\"? Why or why not? What kinds of questions could one ask about the Colored Conventions Project using what you've learned here? "
      ],
      "metadata": {
        "id": "kFdXpqJoJnJb"
      }
    },
    {
      "cell_type": "markdown",
      "source": [
        "## Answer\n",
        "\n",
        "Rob Kitchin's criteria for \"good data\" is related to accuracy, reliability, validity, timeliness, and accessibility. The datasets from the Colored Conventions Project are likely to meet these criteria as the project has been developed and maintained with careful curation and structuring. However, the satisfaction of these criteria depends on the specific dataset and its intended use.\n",
        "\n",
        "The Colored Conventions Project offers researchers a valuable resource for studying Black activism in the 19th century. By utilizing the structured data, researchers can explore various aspects, such as how the Black community organized and mobilized for political and social change during that time. Analyzing patterns in the conventions' frequency, location, content, and examining the relationships between participants and organizations, researchers can gain insights into the conventions' impact, effectiveness, and influence on public opinion and policy. Overall, the project enables a wide range of research questions to be addressed, making it an important tool for studying the history and politics of Black activism in the 19th century.\n",
        "\n",
        "\n"
      ],
      "metadata": {
        "id": "6qT2iStJKeYI"
      }
    },
    {
      "cell_type": "code",
      "source": [],
      "metadata": {
        "id": "LCDFX3Yvkcpd"
      },
      "execution_count": null,
      "outputs": []
    }
  ],
  "metadata": {
    "kernelspec": {
      "display_name": "Python 3",
      "language": "python",
      "name": "python3"
    },
    "language_info": {
      "codemirror_mode": {
        "name": "ipython",
        "version": 3
      },
      "file_extension": ".py",
      "mimetype": "text/x-python",
      "name": "python",
      "nbconvert_exporter": "python",
      "pygments_lexer": "ipython3",
      "version": "3.7.3"
    },
    "colab": {
      "provenance": [],
      "include_colab_link": true
    }
  },
  "nbformat": 4,
  "nbformat_minor": 0
}